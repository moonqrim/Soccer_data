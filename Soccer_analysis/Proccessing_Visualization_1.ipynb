{
 "cells": [
  {
   "cell_type": "code",
   "execution_count": null,
   "metadata": {
    "collapsed": true,
    "pycharm": {
     "is_executing": true
    }
   },
   "outputs": [],
   "source": [
    "import json\n",
    "import matplotlib.pyplot as plt\n",
    "import requests\n",
    "import pandas as pd\n",
    "from pandas import json_normalize\n",
    "import plotly\n"
   ]
  },
  {
   "cell_type": "code",
   "execution_count": 458,
   "outputs": [
    {
     "ename": "JSONDecodeError",
     "evalue": "Expecting value: line 1 column 1 (char 0)",
     "output_type": "error",
     "traceback": [
      "\u001B[1;31m---------------------------------------------------------------------------\u001B[0m",
      "\u001B[1;31mJSONDecodeError\u001B[0m                           Traceback (most recent call last)",
      "Cell \u001B[1;32mIn[458], line 3\u001B[0m\n\u001B[0;32m      1\u001B[0m url \u001B[38;5;241m=\u001B[39m \u001B[38;5;124m\"\u001B[39m\u001B[38;5;124mhttps://file.notion.so/f/f/e6d8df69-733e-4793-ae23-13bbf3253b75/56d094a2-79c8-40dd-8693-21874822e3f9/Italy_vs_Czech_Republic.json?id=10107ac4-f3cf-4bf7-8024-189e20bef774&table=block&spaceId=e6d8df69-733e-4793-ae23-13bbf3253b75&expirationTimestamp=1703239200000&signature=dnIgSbK9H3EELnLO-X8znrbLAXahDRhT7CRcOJg6m-M&downloadName=Italy_vs_Czech+Republic.json\u001B[39m\u001B[38;5;124m\"\u001B[39m\n\u001B[1;32m----> 3\u001B[0m data \u001B[38;5;241m=\u001B[39m \u001B[43mjson\u001B[49m\u001B[38;5;241;43m.\u001B[39;49m\u001B[43mloads\u001B[49m\u001B[43m(\u001B[49m\u001B[38;5;28;43mstr\u001B[39;49m\u001B[43m(\u001B[49m\u001B[43mrequests\u001B[49m\u001B[38;5;241;43m.\u001B[39;49m\u001B[43mget\u001B[49m\u001B[43m(\u001B[49m\u001B[43murl\u001B[49m\u001B[43m)\u001B[49m\u001B[38;5;241;43m.\u001B[39;49m\u001B[43mtext\u001B[49m\u001B[43m)\u001B[49m\u001B[43m)\u001B[49m\n\u001B[0;32m      4\u001B[0m data\n",
      "File \u001B[1;32mC:\\anaconda3\\lib\\json\\__init__.py:346\u001B[0m, in \u001B[0;36mloads\u001B[1;34m(s, cls, object_hook, parse_float, parse_int, parse_constant, object_pairs_hook, **kw)\u001B[0m\n\u001B[0;32m    341\u001B[0m     s \u001B[38;5;241m=\u001B[39m s\u001B[38;5;241m.\u001B[39mdecode(detect_encoding(s), \u001B[38;5;124m'\u001B[39m\u001B[38;5;124msurrogatepass\u001B[39m\u001B[38;5;124m'\u001B[39m)\n\u001B[0;32m    343\u001B[0m \u001B[38;5;28;01mif\u001B[39;00m (\u001B[38;5;28mcls\u001B[39m \u001B[38;5;129;01mis\u001B[39;00m \u001B[38;5;28;01mNone\u001B[39;00m \u001B[38;5;129;01mand\u001B[39;00m object_hook \u001B[38;5;129;01mis\u001B[39;00m \u001B[38;5;28;01mNone\u001B[39;00m \u001B[38;5;129;01mand\u001B[39;00m\n\u001B[0;32m    344\u001B[0m         parse_int \u001B[38;5;129;01mis\u001B[39;00m \u001B[38;5;28;01mNone\u001B[39;00m \u001B[38;5;129;01mand\u001B[39;00m parse_float \u001B[38;5;129;01mis\u001B[39;00m \u001B[38;5;28;01mNone\u001B[39;00m \u001B[38;5;129;01mand\u001B[39;00m\n\u001B[0;32m    345\u001B[0m         parse_constant \u001B[38;5;129;01mis\u001B[39;00m \u001B[38;5;28;01mNone\u001B[39;00m \u001B[38;5;129;01mand\u001B[39;00m object_pairs_hook \u001B[38;5;129;01mis\u001B[39;00m \u001B[38;5;28;01mNone\u001B[39;00m \u001B[38;5;129;01mand\u001B[39;00m \u001B[38;5;129;01mnot\u001B[39;00m kw):\n\u001B[1;32m--> 346\u001B[0m     \u001B[38;5;28;01mreturn\u001B[39;00m \u001B[43m_default_decoder\u001B[49m\u001B[38;5;241;43m.\u001B[39;49m\u001B[43mdecode\u001B[49m\u001B[43m(\u001B[49m\u001B[43ms\u001B[49m\u001B[43m)\u001B[49m\n\u001B[0;32m    347\u001B[0m \u001B[38;5;28;01mif\u001B[39;00m \u001B[38;5;28mcls\u001B[39m \u001B[38;5;129;01mis\u001B[39;00m \u001B[38;5;28;01mNone\u001B[39;00m:\n\u001B[0;32m    348\u001B[0m     \u001B[38;5;28mcls\u001B[39m \u001B[38;5;241m=\u001B[39m JSONDecoder\n",
      "File \u001B[1;32mC:\\anaconda3\\lib\\json\\decoder.py:337\u001B[0m, in \u001B[0;36mJSONDecoder.decode\u001B[1;34m(self, s, _w)\u001B[0m\n\u001B[0;32m    332\u001B[0m \u001B[38;5;28;01mdef\u001B[39;00m \u001B[38;5;21mdecode\u001B[39m(\u001B[38;5;28mself\u001B[39m, s, _w\u001B[38;5;241m=\u001B[39mWHITESPACE\u001B[38;5;241m.\u001B[39mmatch):\n\u001B[0;32m    333\u001B[0m \u001B[38;5;250m    \u001B[39m\u001B[38;5;124;03m\"\"\"Return the Python representation of ``s`` (a ``str`` instance\u001B[39;00m\n\u001B[0;32m    334\u001B[0m \u001B[38;5;124;03m    containing a JSON document).\u001B[39;00m\n\u001B[0;32m    335\u001B[0m \n\u001B[0;32m    336\u001B[0m \u001B[38;5;124;03m    \"\"\"\u001B[39;00m\n\u001B[1;32m--> 337\u001B[0m     obj, end \u001B[38;5;241m=\u001B[39m \u001B[38;5;28;43mself\u001B[39;49m\u001B[38;5;241;43m.\u001B[39;49m\u001B[43mraw_decode\u001B[49m\u001B[43m(\u001B[49m\u001B[43ms\u001B[49m\u001B[43m,\u001B[49m\u001B[43m \u001B[49m\u001B[43midx\u001B[49m\u001B[38;5;241;43m=\u001B[39;49m\u001B[43m_w\u001B[49m\u001B[43m(\u001B[49m\u001B[43ms\u001B[49m\u001B[43m,\u001B[49m\u001B[43m \u001B[49m\u001B[38;5;241;43m0\u001B[39;49m\u001B[43m)\u001B[49m\u001B[38;5;241;43m.\u001B[39;49m\u001B[43mend\u001B[49m\u001B[43m(\u001B[49m\u001B[43m)\u001B[49m\u001B[43m)\u001B[49m\n\u001B[0;32m    338\u001B[0m     end \u001B[38;5;241m=\u001B[39m _w(s, end)\u001B[38;5;241m.\u001B[39mend()\n\u001B[0;32m    339\u001B[0m     \u001B[38;5;28;01mif\u001B[39;00m end \u001B[38;5;241m!=\u001B[39m \u001B[38;5;28mlen\u001B[39m(s):\n",
      "File \u001B[1;32mC:\\anaconda3\\lib\\json\\decoder.py:355\u001B[0m, in \u001B[0;36mJSONDecoder.raw_decode\u001B[1;34m(self, s, idx)\u001B[0m\n\u001B[0;32m    353\u001B[0m     obj, end \u001B[38;5;241m=\u001B[39m \u001B[38;5;28mself\u001B[39m\u001B[38;5;241m.\u001B[39mscan_once(s, idx)\n\u001B[0;32m    354\u001B[0m \u001B[38;5;28;01mexcept\u001B[39;00m \u001B[38;5;167;01mStopIteration\u001B[39;00m \u001B[38;5;28;01mas\u001B[39;00m err:\n\u001B[1;32m--> 355\u001B[0m     \u001B[38;5;28;01mraise\u001B[39;00m JSONDecodeError(\u001B[38;5;124m\"\u001B[39m\u001B[38;5;124mExpecting value\u001B[39m\u001B[38;5;124m\"\u001B[39m, s, err\u001B[38;5;241m.\u001B[39mvalue) \u001B[38;5;28;01mfrom\u001B[39;00m \u001B[38;5;28;01mNone\u001B[39;00m\n\u001B[0;32m    356\u001B[0m \u001B[38;5;28;01mreturn\u001B[39;00m obj, end\n",
      "\u001B[1;31mJSONDecodeError\u001B[0m: Expecting value: line 1 column 1 (char 0)"
     ]
    }
   ],
   "source": [
    "url = \"https://file.notion.so/f/f/e6d8df69-733e-4793-ae23-13bbf3253b75/56d094a2-79c8-40dd-8693-21874822e3f9/Italy_vs_Czech_Republic.json?id=10107ac4-f3cf-4bf7-8024-189e20bef774&table=block&spaceId=e6d8df69-733e-4793-ae23-13bbf3253b75&expirationTimestamp=1703239200000&signature=dnIgSbK9H3EELnLO-X8znrbLAXahDRhT7CRcOJg6m-M&downloadName=Italy_vs_Czech+Republic.json\"\n",
    "\n",
    "data = json.loads(str(requests.get(url).text))\n",
    "data # dict"
   ],
   "metadata": {
    "collapsed": false
   }
  },
  {
   "cell_type": "markdown",
   "source": [],
   "metadata": {
    "collapsed": false
   }
  },
  {
   "cell_type": "markdown",
   "source": [
    "* Processing and Adhoc (.json)"
   ],
   "metadata": {
    "collapsed": false
   }
  },
  {
   "cell_type": "code",
   "execution_count": 453,
   "outputs": [
    {
     "ename": "TypeError",
     "evalue": "list indices must be integers or slices, not str",
     "output_type": "error",
     "traceback": [
      "\u001B[1;31m---------------------------------------------------------------------------\u001B[0m",
      "\u001B[1;31mTypeError\u001B[0m                                 Traceback (most recent call last)",
      "Cell \u001B[1;32mIn[453], line 1\u001B[0m\n\u001B[1;32m----> 1\u001B[0m event_data \u001B[38;5;241m=\u001B[39m pd\u001B[38;5;241m.\u001B[39mjson_normalize(\u001B[43mdata\u001B[49m\u001B[43m[\u001B[49m\u001B[38;5;124;43m'\u001B[39;49m\u001B[38;5;124;43mevents\u001B[39;49m\u001B[38;5;124;43m'\u001B[39;49m\u001B[43m]\u001B[49m,\n\u001B[0;32m      2\u001B[0m                                record_path\u001B[38;5;241m=\u001B[39m\u001B[38;5;124m'\u001B[39m\u001B[38;5;124meventTypes\u001B[39m\u001B[38;5;124m'\u001B[39m,\n\u001B[0;32m      3\u001B[0m                                meta \u001B[38;5;241m=\u001B[39m [\u001B[38;5;124m'\u001B[39m\u001B[38;5;124meventId\u001B[39m\u001B[38;5;124m'\u001B[39m, \u001B[38;5;124m'\u001B[39m\u001B[38;5;124meventPeriod\u001B[39m\u001B[38;5;124m'\u001B[39m, \u001B[38;5;124m'\u001B[39m\u001B[38;5;124meventTime\u001B[39m\u001B[38;5;124m'\u001B[39m,\n\u001B[0;32m      4\u001B[0m                                        \u001B[38;5;124m'\u001B[39m\u001B[38;5;124mteamId\u001B[39m\u001B[38;5;124m'\u001B[39m, \u001B[38;5;124m'\u001B[39m\u001B[38;5;124mplayerId\u001B[39m\u001B[38;5;124m'\u001B[39m,\u001B[38;5;124m'\u001B[39m\u001B[38;5;124mx\u001B[39m\u001B[38;5;124m'\u001B[39m,\u001B[38;5;124m'\u001B[39m\u001B[38;5;124my\u001B[39m\u001B[38;5;124m'\u001B[39m],\n\u001B[0;32m      5\u001B[0m                                sep\u001B[38;5;241m=\u001B[39m\u001B[38;5;124m'\u001B[39m\u001B[38;5;124m_\u001B[39m\u001B[38;5;124m'\u001B[39m)\n\u001B[0;32m      7\u001B[0m relative_data \u001B[38;5;241m=\u001B[39m pd\u001B[38;5;241m.\u001B[39mjson_normalize(data[\u001B[38;5;124m'\u001B[39m\u001B[38;5;124mevents\u001B[39m\u001B[38;5;124m'\u001B[39m], sep\u001B[38;5;241m=\u001B[39m\u001B[38;5;124m'\u001B[39m\u001B[38;5;124m_\u001B[39m\u001B[38;5;124m'\u001B[39m)\n\u001B[0;32m      9\u001B[0m event_df \u001B[38;5;241m=\u001B[39m pd\u001B[38;5;241m.\u001B[39mmerge(event_data,\n\u001B[0;32m     10\u001B[0m               relative_data[[\u001B[38;5;124m'\u001B[39m\u001B[38;5;124mrelativeEvent_eventId\u001B[39m\u001B[38;5;124m'\u001B[39m,\u001B[38;5;124m'\u001B[39m\u001B[38;5;124mrelativeEvent_playerId\u001B[39m\u001B[38;5;124m'\u001B[39m,\n\u001B[0;32m     11\u001B[0m                              \u001B[38;5;124m'\u001B[39m\u001B[38;5;124mrelativeEvent_x\u001B[39m\u001B[38;5;124m'\u001B[39m,\u001B[38;5;124m'\u001B[39m\u001B[38;5;124mrelativeEvent_y\u001B[39m\u001B[38;5;124m'\u001B[39m, \u001B[38;5;124m'\u001B[39m\u001B[38;5;124mballPosition_x\u001B[39m\u001B[38;5;124m'\u001B[39m, \u001B[38;5;124m'\u001B[39m\u001B[38;5;124mballPosition_y\u001B[39m\u001B[38;5;124m'\u001B[39m, \u001B[38;5;124m'\u001B[39m\u001B[38;5;124meventId\u001B[39m\u001B[38;5;124m'\u001B[39m]], on\u001B[38;5;241m=\u001B[39m\u001B[38;5;124m'\u001B[39m\u001B[38;5;124meventId\u001B[39m\u001B[38;5;124m'\u001B[39m)\n",
      "\u001B[1;31mTypeError\u001B[0m: list indices must be integers or slices, not str"
     ]
    }
   ],
   "source": [
    "event_data = pd.json_normalize(data['events'],\n",
    "                               record_path='eventTypes',\n",
    "                               meta = ['eventId', 'eventPeriod', 'eventTime',\n",
    "                                       'teamId', 'playerId','x','y'],\n",
    "                               sep='_')\n",
    "\n",
    "relative_data = pd.json_normalize(data['events'], sep='_')\n",
    "\n",
    "event_df = pd.merge(event_data,\n",
    "              relative_data[['relativeEvent_eventId','relativeEvent_playerId',\n",
    "                             'relativeEvent_x','relativeEvent_y', 'ballPosition_x', 'ballPosition_y', 'eventId']], on='eventId')\n",
    "\n",
    "player_data = pd.DataFrame(data['players'])\n",
    "\n",
    "df = pd.merge(event_df,\n",
    "              player_data[['playerId', 'playerName', 'playerLastName']],\n",
    "              on='playerId')\n",
    "\n",
    "\n",
    "df['eventId'] = df['eventId'].astype(int)\n",
    "df['playerId'] = df['playerId'].astype(float)\n",
    "\n",
    "df['time_sec'] = df['eventTime'].apply(lambda x : x / 1000)\n",
    "df['time_min'] = df['time_sec'].apply(lambda  x : x / 60)\n",
    "\n",
    "#df = df.sort_values('eventTime')\n",
    "\n",
    "#df[df['eventId'].isin([41254901, 41254923])]\n",
    "#df.to_csv('base_data.csv')\n",
    "df"
   ],
   "metadata": {
    "collapsed": false
   }
  },
  {
   "cell_type": "code",
   "execution_count": 451,
   "outputs": [
    {
     "data": {
      "text/plain": "          eventType       outcome  cross keyPass assist subEventType bodyPart  \\\n847            Shot     On Target    NaN     NaN    NaN          NaN     Head   \n848   Pass Received           NaN    NaN     NaN    NaN          NaN      NaN   \n7     Pass Received           NaN    NaN     NaN    NaN          NaN      NaN   \n8              Pass    Successful  False   False  False          NaN      NaN   \n1841  Pass Received           NaN    NaN     NaN    NaN          NaN      NaN   \n...             ...           ...    ...     ...    ...          ...      ...   \n2495           Duel  Unsuccessful    NaN     NaN    NaN       Ground      NaN   \n1208           Pass    Successful  False   False  False          NaN      NaN   \n1209  Pass Received           NaN    NaN     NaN    NaN          NaN      NaN   \n2612           Pass  Unsuccessful  False   False  False          NaN      NaN   \n1230        Offside           NaN    NaN     NaN    NaN          NaN      NaN   \n\n           xG eventTypes   eventId  ... relativeEvent_eventId  \\\n847   0.03817        NaN  41255000  ...                   NaN   \n848       NaN        NaN  41255000  ...                   NaN   \n7         NaN        NaN  41255121  ...                   NaN   \n8         NaN        NaN  41255124  ...            41255125.0   \n1841      NaN        NaN  41255125  ...            41255126.0   \n...       ...        ...       ...  ...                   ...   \n2495      NaN        NaN  41270707  ...                   NaN   \n1208      NaN        NaN  41270804  ...            41270805.0   \n1209      NaN        NaN  41270804  ...            41270805.0   \n2612      NaN        NaN  41274737  ...            41274738.0   \n1230      NaN        NaN  41274738  ...                   NaN   \n\n     relativeEvent_playerId relativeEvent_x  relativeEvent_y ballPosition_x  \\\n847                     NaN             NaN              NaN       0.753242   \n848                     NaN             NaN              NaN       0.753242   \n7                       NaN             NaN              NaN            NaN   \n8                  210328.0        0.223296         0.960923            NaN   \n1841                    NaN        0.595015         0.948034            NaN   \n...                     ...             ...              ...            ...   \n2495                    NaN             NaN              NaN            NaN   \n1208               210304.0        0.052075         0.897536            NaN   \n1209               210304.0        0.052075         0.897536            NaN   \n2612               210311.0        0.782386         0.907664            NaN   \n1230                    NaN             NaN              NaN            NaN   \n\n     ballPosition_y  playerName  playerLastName  time_sec   time_min  \n847        0.284144       Lukas        Masopust    95.382   1.589700  \n848        0.284144       Lukas        Masopust    95.382   1.589700  \n7               NaN     Antonin           Barak   174.179   2.902983  \n8               NaN     Antonin           Barak   176.242   2.937367  \n1841            NaN       Jakub          Jankto   176.932   2.948867  \n...             ...         ...             ...       ...        ...  \n2495            NaN     Emerson                  4676.913  77.948550  \n1208            NaN      Nicolo         Barella  4710.027  78.500450  \n1209            NaN      Nicolo         Barella  4710.027  78.500450  \n2612            NaN     Giacomo       Raspadori  5499.266  91.654433  \n1230            NaN      Nicolo         Barella  5499.266  91.654433  \n\n[86 rows x 26 columns]",
      "text/html": "<div>\n<style scoped>\n    .dataframe tbody tr th:only-of-type {\n        vertical-align: middle;\n    }\n\n    .dataframe tbody tr th {\n        vertical-align: top;\n    }\n\n    .dataframe thead th {\n        text-align: right;\n    }\n</style>\n<table border=\"1\" class=\"dataframe\">\n  <thead>\n    <tr style=\"text-align: right;\">\n      <th></th>\n      <th>eventType</th>\n      <th>outcome</th>\n      <th>cross</th>\n      <th>keyPass</th>\n      <th>assist</th>\n      <th>subEventType</th>\n      <th>bodyPart</th>\n      <th>xG</th>\n      <th>eventTypes</th>\n      <th>eventId</th>\n      <th>...</th>\n      <th>relativeEvent_eventId</th>\n      <th>relativeEvent_playerId</th>\n      <th>relativeEvent_x</th>\n      <th>relativeEvent_y</th>\n      <th>ballPosition_x</th>\n      <th>ballPosition_y</th>\n      <th>playerName</th>\n      <th>playerLastName</th>\n      <th>time_sec</th>\n      <th>time_min</th>\n    </tr>\n  </thead>\n  <tbody>\n    <tr>\n      <th>847</th>\n      <td>Shot</td>\n      <td>On Target</td>\n      <td>NaN</td>\n      <td>NaN</td>\n      <td>NaN</td>\n      <td>NaN</td>\n      <td>Head</td>\n      <td>0.03817</td>\n      <td>NaN</td>\n      <td>41255000</td>\n      <td>...</td>\n      <td>NaN</td>\n      <td>NaN</td>\n      <td>NaN</td>\n      <td>NaN</td>\n      <td>0.753242</td>\n      <td>0.284144</td>\n      <td>Lukas</td>\n      <td>Masopust</td>\n      <td>95.382</td>\n      <td>1.589700</td>\n    </tr>\n    <tr>\n      <th>848</th>\n      <td>Pass Received</td>\n      <td>NaN</td>\n      <td>NaN</td>\n      <td>NaN</td>\n      <td>NaN</td>\n      <td>NaN</td>\n      <td>NaN</td>\n      <td>NaN</td>\n      <td>NaN</td>\n      <td>41255000</td>\n      <td>...</td>\n      <td>NaN</td>\n      <td>NaN</td>\n      <td>NaN</td>\n      <td>NaN</td>\n      <td>0.753242</td>\n      <td>0.284144</td>\n      <td>Lukas</td>\n      <td>Masopust</td>\n      <td>95.382</td>\n      <td>1.589700</td>\n    </tr>\n    <tr>\n      <th>7</th>\n      <td>Pass Received</td>\n      <td>NaN</td>\n      <td>NaN</td>\n      <td>NaN</td>\n      <td>NaN</td>\n      <td>NaN</td>\n      <td>NaN</td>\n      <td>NaN</td>\n      <td>NaN</td>\n      <td>41255121</td>\n      <td>...</td>\n      <td>NaN</td>\n      <td>NaN</td>\n      <td>NaN</td>\n      <td>NaN</td>\n      <td>NaN</td>\n      <td>NaN</td>\n      <td>Antonin</td>\n      <td>Barak</td>\n      <td>174.179</td>\n      <td>2.902983</td>\n    </tr>\n    <tr>\n      <th>8</th>\n      <td>Pass</td>\n      <td>Successful</td>\n      <td>False</td>\n      <td>False</td>\n      <td>False</td>\n      <td>NaN</td>\n      <td>NaN</td>\n      <td>NaN</td>\n      <td>NaN</td>\n      <td>41255124</td>\n      <td>...</td>\n      <td>41255125.0</td>\n      <td>210328.0</td>\n      <td>0.223296</td>\n      <td>0.960923</td>\n      <td>NaN</td>\n      <td>NaN</td>\n      <td>Antonin</td>\n      <td>Barak</td>\n      <td>176.242</td>\n      <td>2.937367</td>\n    </tr>\n    <tr>\n      <th>1841</th>\n      <td>Pass Received</td>\n      <td>NaN</td>\n      <td>NaN</td>\n      <td>NaN</td>\n      <td>NaN</td>\n      <td>NaN</td>\n      <td>NaN</td>\n      <td>NaN</td>\n      <td>NaN</td>\n      <td>41255125</td>\n      <td>...</td>\n      <td>41255126.0</td>\n      <td>NaN</td>\n      <td>0.595015</td>\n      <td>0.948034</td>\n      <td>NaN</td>\n      <td>NaN</td>\n      <td>Jakub</td>\n      <td>Jankto</td>\n      <td>176.932</td>\n      <td>2.948867</td>\n    </tr>\n    <tr>\n      <th>...</th>\n      <td>...</td>\n      <td>...</td>\n      <td>...</td>\n      <td>...</td>\n      <td>...</td>\n      <td>...</td>\n      <td>...</td>\n      <td>...</td>\n      <td>...</td>\n      <td>...</td>\n      <td>...</td>\n      <td>...</td>\n      <td>...</td>\n      <td>...</td>\n      <td>...</td>\n      <td>...</td>\n      <td>...</td>\n      <td>...</td>\n      <td>...</td>\n      <td>...</td>\n      <td>...</td>\n    </tr>\n    <tr>\n      <th>2495</th>\n      <td>Duel</td>\n      <td>Unsuccessful</td>\n      <td>NaN</td>\n      <td>NaN</td>\n      <td>NaN</td>\n      <td>Ground</td>\n      <td>NaN</td>\n      <td>NaN</td>\n      <td>NaN</td>\n      <td>41270707</td>\n      <td>...</td>\n      <td>NaN</td>\n      <td>NaN</td>\n      <td>NaN</td>\n      <td>NaN</td>\n      <td>NaN</td>\n      <td>NaN</td>\n      <td>Emerson</td>\n      <td></td>\n      <td>4676.913</td>\n      <td>77.948550</td>\n    </tr>\n    <tr>\n      <th>1208</th>\n      <td>Pass</td>\n      <td>Successful</td>\n      <td>False</td>\n      <td>False</td>\n      <td>False</td>\n      <td>NaN</td>\n      <td>NaN</td>\n      <td>NaN</td>\n      <td>NaN</td>\n      <td>41270804</td>\n      <td>...</td>\n      <td>41270805.0</td>\n      <td>210304.0</td>\n      <td>0.052075</td>\n      <td>0.897536</td>\n      <td>NaN</td>\n      <td>NaN</td>\n      <td>Nicolo</td>\n      <td>Barella</td>\n      <td>4710.027</td>\n      <td>78.500450</td>\n    </tr>\n    <tr>\n      <th>1209</th>\n      <td>Pass Received</td>\n      <td>NaN</td>\n      <td>NaN</td>\n      <td>NaN</td>\n      <td>NaN</td>\n      <td>NaN</td>\n      <td>NaN</td>\n      <td>NaN</td>\n      <td>NaN</td>\n      <td>41270804</td>\n      <td>...</td>\n      <td>41270805.0</td>\n      <td>210304.0</td>\n      <td>0.052075</td>\n      <td>0.897536</td>\n      <td>NaN</td>\n      <td>NaN</td>\n      <td>Nicolo</td>\n      <td>Barella</td>\n      <td>4710.027</td>\n      <td>78.500450</td>\n    </tr>\n    <tr>\n      <th>2612</th>\n      <td>Pass</td>\n      <td>Unsuccessful</td>\n      <td>False</td>\n      <td>False</td>\n      <td>False</td>\n      <td>NaN</td>\n      <td>NaN</td>\n      <td>NaN</td>\n      <td>NaN</td>\n      <td>41274737</td>\n      <td>...</td>\n      <td>41274738.0</td>\n      <td>210311.0</td>\n      <td>0.782386</td>\n      <td>0.907664</td>\n      <td>NaN</td>\n      <td>NaN</td>\n      <td>Giacomo</td>\n      <td>Raspadori</td>\n      <td>5499.266</td>\n      <td>91.654433</td>\n    </tr>\n    <tr>\n      <th>1230</th>\n      <td>Offside</td>\n      <td>NaN</td>\n      <td>NaN</td>\n      <td>NaN</td>\n      <td>NaN</td>\n      <td>NaN</td>\n      <td>NaN</td>\n      <td>NaN</td>\n      <td>NaN</td>\n      <td>41274738</td>\n      <td>...</td>\n      <td>NaN</td>\n      <td>NaN</td>\n      <td>NaN</td>\n      <td>NaN</td>\n      <td>NaN</td>\n      <td>NaN</td>\n      <td>Nicolo</td>\n      <td>Barella</td>\n      <td>5499.266</td>\n      <td>91.654433</td>\n    </tr>\n  </tbody>\n</table>\n<p>86 rows × 26 columns</p>\n</div>"
     },
     "execution_count": 451,
     "metadata": {},
     "output_type": "execute_result"
    }
   ],
   "source": [
    "# 패널티 에어리어 내 이벤트\n",
    "in_p_area = df[\n",
    "    ( (df['x'] * 68) >= 13.84) &\n",
    "    ( (df['x'] * 68) <= 54.16) &\n",
    "    ( (df['y'] * 105) >= 88.85)\n",
    "]\n",
    "\n",
    "in_p_area = in_p_area.sort_values('eventId')\n",
    "in_p_area"
   ],
   "metadata": {
    "collapsed": false
   }
  },
  {
   "cell_type": "code",
   "execution_count": 20,
   "outputs": [
    {
     "data": {
      "text/plain": "       eventId teamId_x eventPeriod_x startTime  endTime  eventType  \\\n0     41254878    10758    FIRST_HALF       996     6185       Pass   \n2     41254880    10758    FIRST_HALF       996     6185       Pass   \n4     41254883    10758    FIRST_HALF       996     6185       Pass   \n5     41254884    10758    FIRST_HALF       996     6185       Pass   \n7     41254911    10757    FIRST_HALF      8061    13394       Pass   \n...        ...      ...           ...       ...      ...        ...   \n2573  41274737    10757   SECOND_HALF   5489212  5499266       Pass   \n2574  41274738    10757   SECOND_HALF   5489212  5499266    Offside   \n2575  41263436    10758   SECOND_HALF   5515158  5527000       Pass   \n2576  41263436    10758   SECOND_HALF   5515158  5527000  Set Piece   \n2578  41263439    10758   SECOND_HALF   5515158  5527000       Pass   \n\n           outcome  cross keyPass assist  ... relativeEvent_eventId  \\\n0       Successful  False   False  False  ...            41254879.0   \n2       Successful  False   False  False  ...            41254881.0   \n4       Successful  False   False  False  ...            41254884.0   \n5     Unsuccessful  False   False  False  ...            41254885.0   \n7       Successful  False   False  False  ...            41254912.0   \n...            ...    ...     ...    ...  ...                   ...   \n2573  Unsuccessful  False   False  False  ...            41274738.0   \n2574           NaN    NaN     NaN    NaN  ...                   NaN   \n2575    Successful  False   False  False  ...            41263437.0   \n2576           NaN    NaN     NaN    NaN  ...            41263437.0   \n2578    Successful  False   False  False  ...            41263440.0   \n\n     relativeEvent_playerId  relativeEvent_x relativeEvent_y ballPosition_x  \\\n0                  210329.0         0.492469        0.403253            NaN   \n2                  210331.0         0.749408        0.300976            NaN   \n4                  210330.0         0.942876        0.415118            NaN   \n5                       NaN         0.637419        0.647984            NaN   \n7                  210305.0         0.322532        0.516785            NaN   \n...                     ...              ...             ...            ...   \n2573               210311.0         0.782386        0.907664            NaN   \n2574                    NaN              NaN             NaN            NaN   \n2575               210332.0         0.652713        0.183212            NaN   \n2576               210332.0         0.652713        0.183212            NaN   \n2578               210327.0         0.833744        0.284891            NaN   \n\n     ballPosition_y playerName  playerLastName  time_sec   time_min  \n0               NaN    Antonin           Barak     0.996   0.016600  \n2               NaN   Vladimir          Darida     2.716   0.045267  \n4               NaN     Ondrej        Celustka     4.892   0.081533  \n5               NaN   Vladimir          Coufal     6.185   0.103083  \n7               NaN   Leonardo         Bonucci     7.959   0.132650  \n...             ...        ...             ...       ...        ...  \n2573            NaN    Giacomo       Raspadori  5499.266  91.654433  \n2574            NaN     Nicolo         Barella  5499.266  91.654433  \n2575            NaN       Jiri        Pavlenka  5515.158  91.919300  \n2576            NaN       Jiri        Pavlenka  5515.158  91.919300  \n2578            NaN      Jakub          Brabec  5517.817  91.963617  \n\n[1634 rows x 30 columns]",
      "text/html": "<div>\n<style scoped>\n    .dataframe tbody tr th:only-of-type {\n        vertical-align: middle;\n    }\n\n    .dataframe tbody tr th {\n        vertical-align: top;\n    }\n\n    .dataframe thead th {\n        text-align: right;\n    }\n</style>\n<table border=\"1\" class=\"dataframe\">\n  <thead>\n    <tr style=\"text-align: right;\">\n      <th></th>\n      <th>eventId</th>\n      <th>teamId_x</th>\n      <th>eventPeriod_x</th>\n      <th>startTime</th>\n      <th>endTime</th>\n      <th>eventType</th>\n      <th>outcome</th>\n      <th>cross</th>\n      <th>keyPass</th>\n      <th>assist</th>\n      <th>...</th>\n      <th>relativeEvent_eventId</th>\n      <th>relativeEvent_playerId</th>\n      <th>relativeEvent_x</th>\n      <th>relativeEvent_y</th>\n      <th>ballPosition_x</th>\n      <th>ballPosition_y</th>\n      <th>playerName</th>\n      <th>playerLastName</th>\n      <th>time_sec</th>\n      <th>time_min</th>\n    </tr>\n  </thead>\n  <tbody>\n    <tr>\n      <th>0</th>\n      <td>41254878</td>\n      <td>10758</td>\n      <td>FIRST_HALF</td>\n      <td>996</td>\n      <td>6185</td>\n      <td>Pass</td>\n      <td>Successful</td>\n      <td>False</td>\n      <td>False</td>\n      <td>False</td>\n      <td>...</td>\n      <td>41254879.0</td>\n      <td>210329.0</td>\n      <td>0.492469</td>\n      <td>0.403253</td>\n      <td>NaN</td>\n      <td>NaN</td>\n      <td>Antonin</td>\n      <td>Barak</td>\n      <td>0.996</td>\n      <td>0.016600</td>\n    </tr>\n    <tr>\n      <th>2</th>\n      <td>41254880</td>\n      <td>10758</td>\n      <td>FIRST_HALF</td>\n      <td>996</td>\n      <td>6185</td>\n      <td>Pass</td>\n      <td>Successful</td>\n      <td>False</td>\n      <td>False</td>\n      <td>False</td>\n      <td>...</td>\n      <td>41254881.0</td>\n      <td>210331.0</td>\n      <td>0.749408</td>\n      <td>0.300976</td>\n      <td>NaN</td>\n      <td>NaN</td>\n      <td>Vladimir</td>\n      <td>Darida</td>\n      <td>2.716</td>\n      <td>0.045267</td>\n    </tr>\n    <tr>\n      <th>4</th>\n      <td>41254883</td>\n      <td>10758</td>\n      <td>FIRST_HALF</td>\n      <td>996</td>\n      <td>6185</td>\n      <td>Pass</td>\n      <td>Successful</td>\n      <td>False</td>\n      <td>False</td>\n      <td>False</td>\n      <td>...</td>\n      <td>41254884.0</td>\n      <td>210330.0</td>\n      <td>0.942876</td>\n      <td>0.415118</td>\n      <td>NaN</td>\n      <td>NaN</td>\n      <td>Ondrej</td>\n      <td>Celustka</td>\n      <td>4.892</td>\n      <td>0.081533</td>\n    </tr>\n    <tr>\n      <th>5</th>\n      <td>41254884</td>\n      <td>10758</td>\n      <td>FIRST_HALF</td>\n      <td>996</td>\n      <td>6185</td>\n      <td>Pass</td>\n      <td>Unsuccessful</td>\n      <td>False</td>\n      <td>False</td>\n      <td>False</td>\n      <td>...</td>\n      <td>41254885.0</td>\n      <td>NaN</td>\n      <td>0.637419</td>\n      <td>0.647984</td>\n      <td>NaN</td>\n      <td>NaN</td>\n      <td>Vladimir</td>\n      <td>Coufal</td>\n      <td>6.185</td>\n      <td>0.103083</td>\n    </tr>\n    <tr>\n      <th>7</th>\n      <td>41254911</td>\n      <td>10757</td>\n      <td>FIRST_HALF</td>\n      <td>8061</td>\n      <td>13394</td>\n      <td>Pass</td>\n      <td>Successful</td>\n      <td>False</td>\n      <td>False</td>\n      <td>False</td>\n      <td>...</td>\n      <td>41254912.0</td>\n      <td>210305.0</td>\n      <td>0.322532</td>\n      <td>0.516785</td>\n      <td>NaN</td>\n      <td>NaN</td>\n      <td>Leonardo</td>\n      <td>Bonucci</td>\n      <td>7.959</td>\n      <td>0.132650</td>\n    </tr>\n    <tr>\n      <th>...</th>\n      <td>...</td>\n      <td>...</td>\n      <td>...</td>\n      <td>...</td>\n      <td>...</td>\n      <td>...</td>\n      <td>...</td>\n      <td>...</td>\n      <td>...</td>\n      <td>...</td>\n      <td>...</td>\n      <td>...</td>\n      <td>...</td>\n      <td>...</td>\n      <td>...</td>\n      <td>...</td>\n      <td>...</td>\n      <td>...</td>\n      <td>...</td>\n      <td>...</td>\n      <td>...</td>\n    </tr>\n    <tr>\n      <th>2573</th>\n      <td>41274737</td>\n      <td>10757</td>\n      <td>SECOND_HALF</td>\n      <td>5489212</td>\n      <td>5499266</td>\n      <td>Pass</td>\n      <td>Unsuccessful</td>\n      <td>False</td>\n      <td>False</td>\n      <td>False</td>\n      <td>...</td>\n      <td>41274738.0</td>\n      <td>210311.0</td>\n      <td>0.782386</td>\n      <td>0.907664</td>\n      <td>NaN</td>\n      <td>NaN</td>\n      <td>Giacomo</td>\n      <td>Raspadori</td>\n      <td>5499.266</td>\n      <td>91.654433</td>\n    </tr>\n    <tr>\n      <th>2574</th>\n      <td>41274738</td>\n      <td>10757</td>\n      <td>SECOND_HALF</td>\n      <td>5489212</td>\n      <td>5499266</td>\n      <td>Offside</td>\n      <td>NaN</td>\n      <td>NaN</td>\n      <td>NaN</td>\n      <td>NaN</td>\n      <td>...</td>\n      <td>NaN</td>\n      <td>NaN</td>\n      <td>NaN</td>\n      <td>NaN</td>\n      <td>NaN</td>\n      <td>NaN</td>\n      <td>Nicolo</td>\n      <td>Barella</td>\n      <td>5499.266</td>\n      <td>91.654433</td>\n    </tr>\n    <tr>\n      <th>2575</th>\n      <td>41263436</td>\n      <td>10758</td>\n      <td>SECOND_HALF</td>\n      <td>5515158</td>\n      <td>5527000</td>\n      <td>Pass</td>\n      <td>Successful</td>\n      <td>False</td>\n      <td>False</td>\n      <td>False</td>\n      <td>...</td>\n      <td>41263437.0</td>\n      <td>210332.0</td>\n      <td>0.652713</td>\n      <td>0.183212</td>\n      <td>NaN</td>\n      <td>NaN</td>\n      <td>Jiri</td>\n      <td>Pavlenka</td>\n      <td>5515.158</td>\n      <td>91.919300</td>\n    </tr>\n    <tr>\n      <th>2576</th>\n      <td>41263436</td>\n      <td>10758</td>\n      <td>SECOND_HALF</td>\n      <td>5515158</td>\n      <td>5527000</td>\n      <td>Set Piece</td>\n      <td>NaN</td>\n      <td>NaN</td>\n      <td>NaN</td>\n      <td>NaN</td>\n      <td>...</td>\n      <td>41263437.0</td>\n      <td>210332.0</td>\n      <td>0.652713</td>\n      <td>0.183212</td>\n      <td>NaN</td>\n      <td>NaN</td>\n      <td>Jiri</td>\n      <td>Pavlenka</td>\n      <td>5515.158</td>\n      <td>91.919300</td>\n    </tr>\n    <tr>\n      <th>2578</th>\n      <td>41263439</td>\n      <td>10758</td>\n      <td>SECOND_HALF</td>\n      <td>5515158</td>\n      <td>5527000</td>\n      <td>Pass</td>\n      <td>Successful</td>\n      <td>False</td>\n      <td>False</td>\n      <td>False</td>\n      <td>...</td>\n      <td>41263440.0</td>\n      <td>210327.0</td>\n      <td>0.833744</td>\n      <td>0.284891</td>\n      <td>NaN</td>\n      <td>NaN</td>\n      <td>Jakub</td>\n      <td>Brabec</td>\n      <td>5517.817</td>\n      <td>91.963617</td>\n    </tr>\n  </tbody>\n</table>\n<p>1634 rows × 30 columns</p>\n</div>"
     },
     "execution_count": 20,
     "metadata": {},
     "output_type": "execute_result"
    }
   ],
   "source": [
    "events_seq_data = pd.json_normalize(\n",
    "                             data['sequences'],\n",
    "                             record_path='eventIds',\n",
    "                             meta=['teamId', 'eventPeriod','startTime','endTime'],\n",
    "                             sep='_'\n",
    ")\n",
    "\n",
    "events_seq_data = events_seq_data.dropna(subset=['teamId'])\n",
    "\n",
    "events_seq_data = events_seq_data.rename(columns={events_seq_data.columns[0]: 'eventId'})\n",
    "\n",
    "events_seq_data = pd.merge(events_seq_data, df, on='eventId', how='left')\n",
    "events_seq_data = events_seq_data.dropna(subset=['eventType'])\n",
    "events_seq_data = events_seq_data[events_seq_data['eventType'] != 'Pass Received']\n",
    "\n",
    "#events_seq_data.to_csv('events of sequence.csv')\n",
    "events_seq_data"
   ],
   "metadata": {
    "collapsed": false
   }
  },
  {
   "cell_type": "code",
   "execution_count": 116,
   "outputs": [
    {
     "data": {
      "text/plain": "      teamId  eventPeriod  startTime  endTime  \\\n0    10758.0   FIRST_HALF        996     6185   \n1        NaN   FIRST_HALF       6185     8061   \n2    10757.0   FIRST_HALF       8061    13394   \n3        NaN   FIRST_HALF      13394    14770   \n4    10758.0   FIRST_HALF      14770    23031   \n..       ...          ...        ...      ...   \n460      NaN  SECOND_HALF    5473473  5480504   \n461  10758.0  SECOND_HALF    5480504  5485959   \n462      NaN  SECOND_HALF    5485959  5489212   \n463  10757.0  SECOND_HALF    5489212  5499266   \n464  10758.0  SECOND_HALF    5515158  5527000   \n\n                                              eventIds  start_sec   end_sec  \\\n0    [41254878, 41254879, 41254880, 41254881, 41254...      0.996     6.185   \n1                                 [41254884, 41254911]      6.185     8.061   \n2    [41254911, 41254912, 41254913, 41254914, 41254...      8.061    13.394   \n3                                 [41254889, 41254891]     13.394    14.770   \n4    [41254891, 41254892, 41254893, 41254894, 41254...     14.770    23.031   \n..                                                 ...        ...       ...   \n460                               [41274673, 41263418]   5473.473  5480.504   \n461                               [41263418, 41263423]   5480.504  5485.959   \n462                               [41263423, 41274695]   5485.959  5489.212   \n463  [41274695, 41274696, 41274709, 41274710, 41274...   5489.212  5499.266   \n464  [41263436, 41263437, 41263439, 41263440, 41263...   5515.158  5527.000   \n\n     start_min    end_min  seq_time  length  \n0     0.016600   0.103083     5.189       6  \n1     0.103083   0.134350     1.876       2  \n2     0.134350   0.223233     5.333       6  \n3     0.223233   0.246167     1.376       2  \n4     0.246167   0.383850     8.261       9  \n..         ...        ...       ...     ...  \n460  91.224550  91.341733     7.031       2  \n461  91.341733  91.432650     5.455       2  \n462  91.432650  91.486867     3.253       2  \n463  91.486867  91.654433    10.054       6  \n464  91.919300  92.116667    11.842       5  \n\n[412 rows x 11 columns]",
      "text/html": "<div>\n<style scoped>\n    .dataframe tbody tr th:only-of-type {\n        vertical-align: middle;\n    }\n\n    .dataframe tbody tr th {\n        vertical-align: top;\n    }\n\n    .dataframe thead th {\n        text-align: right;\n    }\n</style>\n<table border=\"1\" class=\"dataframe\">\n  <thead>\n    <tr style=\"text-align: right;\">\n      <th></th>\n      <th>teamId</th>\n      <th>eventPeriod</th>\n      <th>startTime</th>\n      <th>endTime</th>\n      <th>eventIds</th>\n      <th>start_sec</th>\n      <th>end_sec</th>\n      <th>start_min</th>\n      <th>end_min</th>\n      <th>seq_time</th>\n      <th>length</th>\n    </tr>\n  </thead>\n  <tbody>\n    <tr>\n      <th>0</th>\n      <td>10758.0</td>\n      <td>FIRST_HALF</td>\n      <td>996</td>\n      <td>6185</td>\n      <td>[41254878, 41254879, 41254880, 41254881, 41254...</td>\n      <td>0.996</td>\n      <td>6.185</td>\n      <td>0.016600</td>\n      <td>0.103083</td>\n      <td>5.189</td>\n      <td>6</td>\n    </tr>\n    <tr>\n      <th>1</th>\n      <td>NaN</td>\n      <td>FIRST_HALF</td>\n      <td>6185</td>\n      <td>8061</td>\n      <td>[41254884, 41254911]</td>\n      <td>6.185</td>\n      <td>8.061</td>\n      <td>0.103083</td>\n      <td>0.134350</td>\n      <td>1.876</td>\n      <td>2</td>\n    </tr>\n    <tr>\n      <th>2</th>\n      <td>10757.0</td>\n      <td>FIRST_HALF</td>\n      <td>8061</td>\n      <td>13394</td>\n      <td>[41254911, 41254912, 41254913, 41254914, 41254...</td>\n      <td>8.061</td>\n      <td>13.394</td>\n      <td>0.134350</td>\n      <td>0.223233</td>\n      <td>5.333</td>\n      <td>6</td>\n    </tr>\n    <tr>\n      <th>3</th>\n      <td>NaN</td>\n      <td>FIRST_HALF</td>\n      <td>13394</td>\n      <td>14770</td>\n      <td>[41254889, 41254891]</td>\n      <td>13.394</td>\n      <td>14.770</td>\n      <td>0.223233</td>\n      <td>0.246167</td>\n      <td>1.376</td>\n      <td>2</td>\n    </tr>\n    <tr>\n      <th>4</th>\n      <td>10758.0</td>\n      <td>FIRST_HALF</td>\n      <td>14770</td>\n      <td>23031</td>\n      <td>[41254891, 41254892, 41254893, 41254894, 41254...</td>\n      <td>14.770</td>\n      <td>23.031</td>\n      <td>0.246167</td>\n      <td>0.383850</td>\n      <td>8.261</td>\n      <td>9</td>\n    </tr>\n    <tr>\n      <th>...</th>\n      <td>...</td>\n      <td>...</td>\n      <td>...</td>\n      <td>...</td>\n      <td>...</td>\n      <td>...</td>\n      <td>...</td>\n      <td>...</td>\n      <td>...</td>\n      <td>...</td>\n      <td>...</td>\n    </tr>\n    <tr>\n      <th>460</th>\n      <td>NaN</td>\n      <td>SECOND_HALF</td>\n      <td>5473473</td>\n      <td>5480504</td>\n      <td>[41274673, 41263418]</td>\n      <td>5473.473</td>\n      <td>5480.504</td>\n      <td>91.224550</td>\n      <td>91.341733</td>\n      <td>7.031</td>\n      <td>2</td>\n    </tr>\n    <tr>\n      <th>461</th>\n      <td>10758.0</td>\n      <td>SECOND_HALF</td>\n      <td>5480504</td>\n      <td>5485959</td>\n      <td>[41263418, 41263423]</td>\n      <td>5480.504</td>\n      <td>5485.959</td>\n      <td>91.341733</td>\n      <td>91.432650</td>\n      <td>5.455</td>\n      <td>2</td>\n    </tr>\n    <tr>\n      <th>462</th>\n      <td>NaN</td>\n      <td>SECOND_HALF</td>\n      <td>5485959</td>\n      <td>5489212</td>\n      <td>[41263423, 41274695]</td>\n      <td>5485.959</td>\n      <td>5489.212</td>\n      <td>91.432650</td>\n      <td>91.486867</td>\n      <td>3.253</td>\n      <td>2</td>\n    </tr>\n    <tr>\n      <th>463</th>\n      <td>10757.0</td>\n      <td>SECOND_HALF</td>\n      <td>5489212</td>\n      <td>5499266</td>\n      <td>[41274695, 41274696, 41274709, 41274710, 41274...</td>\n      <td>5489.212</td>\n      <td>5499.266</td>\n      <td>91.486867</td>\n      <td>91.654433</td>\n      <td>10.054</td>\n      <td>6</td>\n    </tr>\n    <tr>\n      <th>464</th>\n      <td>10758.0</td>\n      <td>SECOND_HALF</td>\n      <td>5515158</td>\n      <td>5527000</td>\n      <td>[41263436, 41263437, 41263439, 41263440, 41263...</td>\n      <td>5515.158</td>\n      <td>5527.000</td>\n      <td>91.919300</td>\n      <td>92.116667</td>\n      <td>11.842</td>\n      <td>5</td>\n    </tr>\n  </tbody>\n</table>\n<p>412 rows × 11 columns</p>\n</div>"
     },
     "execution_count": 116,
     "metadata": {},
     "output_type": "execute_result"
    }
   ],
   "source": [
    "\n",
    "seq_data = pd.json_normalize(data['sequences'])\n",
    "\n",
    "def name(x):\n",
    "    if x == 10757 or x==10757.0:\n",
    "        x = 'Italy'\n",
    "    elif x == 10758 or x==10758.0:\n",
    "        x = 'Czech Republic'\n",
    "    else:\n",
    "        x = 'duel'\n",
    "    return x\n",
    "\n",
    "seq_data['start_sec'] = seq_data['startTime'].apply(lambda x : x / 1000)\n",
    "seq_data['end_sec'] = seq_data['endTime'].apply(lambda x : x / 1000)\n",
    "seq_data['start_min'] = seq_data['start_sec'].apply(lambda x : x / 60)\n",
    "seq_data['end_min'] = seq_data['end_sec'].apply(lambda x : x / 60)\n",
    "seq_data['seq_time'] = seq_data['end_sec'] - seq_data['start_sec']\n",
    "seq_data['length'] = seq_data['eventIds'].apply(lambda x : len(x))\n",
    "seq_data = seq_data[seq_data['length'] > 1]\n",
    "#seq_data = seq_data.dropna(subset=['teamId'])\n",
    "\n",
    "#seq_data.to_csv('squence.csv')\n",
    "seq_data"
   ],
   "metadata": {
    "collapsed": false
   }
  },
  {
   "cell_type": "code",
   "execution_count": 431,
   "outputs": [
    {
     "data": {
      "text/plain": "     eventType     outcome cross keyPass assist subEventType    bodyPart  \\\n28        Shot     Blocked   NaN     NaN    NaN          NaN   Left Foot   \n513       Shot  Off Target   NaN     NaN    NaN          NaN   Left Foot   \n526       Shot        Goal   NaN     NaN    NaN          NaN  Right Foot   \n531       Shot  Off Target   NaN     NaN    NaN          NaN        Head   \n639       Shot     Blocked   NaN     NaN    NaN          NaN  Right Foot   \n710       Shot     Blocked   NaN     NaN    NaN          NaN  Right Foot   \n715       Shot     Blocked   NaN     NaN    NaN          NaN  Right Foot   \n744       Shot  Off Target   NaN     NaN    NaN          NaN   Left Foot   \n775       Shot   On Target   NaN     NaN    NaN          NaN  Right Foot   \n788       Shot     Blocked   NaN     NaN    NaN          NaN  Right Foot   \n795       Shot        Goal   NaN     NaN    NaN          NaN  Right Foot   \n847       Shot   On Target   NaN     NaN    NaN          NaN        Head   \n957       Shot  Off Target   NaN     NaN    NaN          NaN  Right Foot   \n997       Shot     Blocked   NaN     NaN    NaN          NaN        Head   \n1004      Shot      Missed   NaN     NaN    NaN          NaN   Left Foot   \n1161      Shot        Goal   NaN     NaN    NaN          NaN  Right Foot   \n1359      Shot      Missed   NaN     NaN    NaN          NaN  Right Foot   \n1759      Shot     Blocked   NaN     NaN    NaN          NaN  Right Foot   \n1793      Shot      Missed   NaN     NaN    NaN          NaN   Left Foot   \n1970      Shot      Missed   NaN     NaN    NaN          NaN        Head   \n1990      Shot  Off Target   NaN     NaN    NaN          NaN   Left Foot   \n2196      Shot   On Target   NaN     NaN    NaN          NaN   Left Foot   \n2225      Shot        Goal   NaN     NaN    NaN          NaN   Left Foot   \n2403      Shot     Blocked   NaN     NaN    NaN          NaN  Right Foot   \n2588      Shot   On Target   NaN     NaN    NaN          NaN  Right Foot   \n\n            xG eventTypes   eventId  ... relativeEvent_eventId  \\\n28    0.047201        NaN  41256231  ...                   NaN   \n513   0.113645        NaN  41255652  ...                   NaN   \n526   0.178856        NaN  41256639  ...                   NaN   \n531   0.138732        NaN  41257820  ...                   NaN   \n639   0.047360        NaN  41258785  ...                   NaN   \n710   0.041133        NaN  41256786  ...                   NaN   \n715   0.110462        NaN  41257882  ...                   NaN   \n744   0.119914        NaN  41258873  ...                   NaN   \n775   0.048513        NaN  41266790  ...                   NaN   \n788   0.052877        NaN  41267161  ...                   NaN   \n795   0.130768        NaN  41269066  ...                   NaN   \n847   0.038170        NaN  41255000  ...                   NaN   \n957   0.055959        NaN  41260553  ...                   NaN   \n997   0.061743        NaN  41255336  ...                   NaN   \n1004  0.032695        NaN  41255876  ...                   NaN   \n1161  0.085072        NaN  41259237  ...                   NaN   \n1359  0.051225        NaN  41256095  ...                   NaN   \n1759  0.053202        NaN  41255379  ...                   NaN   \n1793  0.099499        NaN  41258975  ...                   NaN   \n1970  0.092988        NaN  41264410  ...                   NaN   \n1990  0.103381        NaN  41267213  ...                   NaN   \n2196  0.088086        NaN  41263831  ...                   NaN   \n2225  0.309946        NaN  41270211  ...                   NaN   \n2403  0.085066        NaN  41263399  ...                   NaN   \n2588  0.038923        NaN  41270772  ...                   NaN   \n\n     relativeEvent_playerId relativeEvent_x  relativeEvent_y ballPosition_x  \\\n28                      NaN             NaN              NaN            NaN   \n513                     NaN             NaN              NaN      -0.072193   \n526                     NaN             NaN              NaN       0.153008   \n531                     NaN             NaN              NaN      -0.281307   \n639                     NaN             NaN              NaN            NaN   \n710                     NaN             NaN              NaN            NaN   \n715                     NaN             NaN              NaN            NaN   \n744                     NaN             NaN              NaN      -0.056107   \n775                     NaN             NaN              NaN       0.451207   \n788                     NaN             NaN              NaN            NaN   \n795                     NaN             NaN              NaN       0.773240   \n847                     NaN             NaN              NaN       0.753242   \n957                     NaN             NaN              NaN      -0.371093   \n997                     NaN             NaN              NaN            NaN   \n1004                    NaN             NaN              NaN            NaN   \n1161                    NaN             NaN              NaN       0.070281   \n1359                    NaN             NaN              NaN            NaN   \n1759                    NaN             NaN              NaN            NaN   \n1793                    NaN             NaN              NaN            NaN   \n1970                    NaN             NaN              NaN            NaN   \n1990                    NaN             NaN              NaN       1.114790   \n2196                    NaN             NaN              NaN       0.952699   \n2225                    NaN             NaN              NaN       0.885464   \n2403                    NaN             NaN              NaN            NaN   \n2588                    NaN             NaN              NaN       0.895222   \n\n     ballPosition_y  playerName  playerLastName  time_sec   time_min  \n28              NaN     Antonin           Barak  1293.131  21.552183  \n513        1.545010        Ciro        Immobile   533.232   8.887200  \n526        0.172248        Ciro        Immobile  1338.448  22.307467  \n531        0.172248        Ciro        Immobile  1637.988  27.299800  \n639             NaN    Leonardo      Spinazzola  2286.023  38.100383  \n710             NaN     Lorenzo         Insigne  1430.908  23.848467  \n715             NaN     Lorenzo         Insigne  1696.642  28.277367  \n744        0.172248     Lorenzo         Insigne  2325.650  38.760833  \n775        0.764720     Lorenzo         Insigne  3210.074  53.501233  \n788             NaN     Lorenzo         Insigne  3436.217  57.270283  \n795        0.116370     Lorenzo         Insigne  3913.677  65.227950  \n847        0.284144       Lukas        Masopust    95.382   1.589700  \n957        0.135142        Alex            Kral  3680.730  61.345500  \n997             NaN     Michael        Krmencik   378.408   6.306800  \n1004            NaN     Michael        Krmencik   941.241  15.687350  \n1161       0.130491      Nicolo         Barella  2504.550  41.742500  \n1359            NaN      Manuel       Locatelli   902.262  15.037700  \n1759            NaN         Jan           Boril   420.066   7.001100  \n1793            NaN         Jan           Boril  2757.832  45.963867  \n1970            NaN     Giorgio       Chiellini  3021.156  50.352600  \n1990       0.930964     Giorgio       Chiellini  3478.992  57.983200  \n2196       0.083514    Domenico         Berardi  2993.171  49.886183  \n2225       0.216117    Domenico         Berardi  4369.775  72.829583  \n2403            NaN        Petr          Sevcik  5455.285  90.921417  \n2588       0.620642    Federico          Chiesa  4715.888  78.598133  \n\n[25 rows x 26 columns]",
      "text/html": "<div>\n<style scoped>\n    .dataframe tbody tr th:only-of-type {\n        vertical-align: middle;\n    }\n\n    .dataframe tbody tr th {\n        vertical-align: top;\n    }\n\n    .dataframe thead th {\n        text-align: right;\n    }\n</style>\n<table border=\"1\" class=\"dataframe\">\n  <thead>\n    <tr style=\"text-align: right;\">\n      <th></th>\n      <th>eventType</th>\n      <th>outcome</th>\n      <th>cross</th>\n      <th>keyPass</th>\n      <th>assist</th>\n      <th>subEventType</th>\n      <th>bodyPart</th>\n      <th>xG</th>\n      <th>eventTypes</th>\n      <th>eventId</th>\n      <th>...</th>\n      <th>relativeEvent_eventId</th>\n      <th>relativeEvent_playerId</th>\n      <th>relativeEvent_x</th>\n      <th>relativeEvent_y</th>\n      <th>ballPosition_x</th>\n      <th>ballPosition_y</th>\n      <th>playerName</th>\n      <th>playerLastName</th>\n      <th>time_sec</th>\n      <th>time_min</th>\n    </tr>\n  </thead>\n  <tbody>\n    <tr>\n      <th>28</th>\n      <td>Shot</td>\n      <td>Blocked</td>\n      <td>NaN</td>\n      <td>NaN</td>\n      <td>NaN</td>\n      <td>NaN</td>\n      <td>Left Foot</td>\n      <td>0.047201</td>\n      <td>NaN</td>\n      <td>41256231</td>\n      <td>...</td>\n      <td>NaN</td>\n      <td>NaN</td>\n      <td>NaN</td>\n      <td>NaN</td>\n      <td>NaN</td>\n      <td>NaN</td>\n      <td>Antonin</td>\n      <td>Barak</td>\n      <td>1293.131</td>\n      <td>21.552183</td>\n    </tr>\n    <tr>\n      <th>513</th>\n      <td>Shot</td>\n      <td>Off Target</td>\n      <td>NaN</td>\n      <td>NaN</td>\n      <td>NaN</td>\n      <td>NaN</td>\n      <td>Left Foot</td>\n      <td>0.113645</td>\n      <td>NaN</td>\n      <td>41255652</td>\n      <td>...</td>\n      <td>NaN</td>\n      <td>NaN</td>\n      <td>NaN</td>\n      <td>NaN</td>\n      <td>-0.072193</td>\n      <td>1.545010</td>\n      <td>Ciro</td>\n      <td>Immobile</td>\n      <td>533.232</td>\n      <td>8.887200</td>\n    </tr>\n    <tr>\n      <th>526</th>\n      <td>Shot</td>\n      <td>Goal</td>\n      <td>NaN</td>\n      <td>NaN</td>\n      <td>NaN</td>\n      <td>NaN</td>\n      <td>Right Foot</td>\n      <td>0.178856</td>\n      <td>NaN</td>\n      <td>41256639</td>\n      <td>...</td>\n      <td>NaN</td>\n      <td>NaN</td>\n      <td>NaN</td>\n      <td>NaN</td>\n      <td>0.153008</td>\n      <td>0.172248</td>\n      <td>Ciro</td>\n      <td>Immobile</td>\n      <td>1338.448</td>\n      <td>22.307467</td>\n    </tr>\n    <tr>\n      <th>531</th>\n      <td>Shot</td>\n      <td>Off Target</td>\n      <td>NaN</td>\n      <td>NaN</td>\n      <td>NaN</td>\n      <td>NaN</td>\n      <td>Head</td>\n      <td>0.138732</td>\n      <td>NaN</td>\n      <td>41257820</td>\n      <td>...</td>\n      <td>NaN</td>\n      <td>NaN</td>\n      <td>NaN</td>\n      <td>NaN</td>\n      <td>-0.281307</td>\n      <td>0.172248</td>\n      <td>Ciro</td>\n      <td>Immobile</td>\n      <td>1637.988</td>\n      <td>27.299800</td>\n    </tr>\n    <tr>\n      <th>639</th>\n      <td>Shot</td>\n      <td>Blocked</td>\n      <td>NaN</td>\n      <td>NaN</td>\n      <td>NaN</td>\n      <td>NaN</td>\n      <td>Right Foot</td>\n      <td>0.047360</td>\n      <td>NaN</td>\n      <td>41258785</td>\n      <td>...</td>\n      <td>NaN</td>\n      <td>NaN</td>\n      <td>NaN</td>\n      <td>NaN</td>\n      <td>NaN</td>\n      <td>NaN</td>\n      <td>Leonardo</td>\n      <td>Spinazzola</td>\n      <td>2286.023</td>\n      <td>38.100383</td>\n    </tr>\n    <tr>\n      <th>710</th>\n      <td>Shot</td>\n      <td>Blocked</td>\n      <td>NaN</td>\n      <td>NaN</td>\n      <td>NaN</td>\n      <td>NaN</td>\n      <td>Right Foot</td>\n      <td>0.041133</td>\n      <td>NaN</td>\n      <td>41256786</td>\n      <td>...</td>\n      <td>NaN</td>\n      <td>NaN</td>\n      <td>NaN</td>\n      <td>NaN</td>\n      <td>NaN</td>\n      <td>NaN</td>\n      <td>Lorenzo</td>\n      <td>Insigne</td>\n      <td>1430.908</td>\n      <td>23.848467</td>\n    </tr>\n    <tr>\n      <th>715</th>\n      <td>Shot</td>\n      <td>Blocked</td>\n      <td>NaN</td>\n      <td>NaN</td>\n      <td>NaN</td>\n      <td>NaN</td>\n      <td>Right Foot</td>\n      <td>0.110462</td>\n      <td>NaN</td>\n      <td>41257882</td>\n      <td>...</td>\n      <td>NaN</td>\n      <td>NaN</td>\n      <td>NaN</td>\n      <td>NaN</td>\n      <td>NaN</td>\n      <td>NaN</td>\n      <td>Lorenzo</td>\n      <td>Insigne</td>\n      <td>1696.642</td>\n      <td>28.277367</td>\n    </tr>\n    <tr>\n      <th>744</th>\n      <td>Shot</td>\n      <td>Off Target</td>\n      <td>NaN</td>\n      <td>NaN</td>\n      <td>NaN</td>\n      <td>NaN</td>\n      <td>Left Foot</td>\n      <td>0.119914</td>\n      <td>NaN</td>\n      <td>41258873</td>\n      <td>...</td>\n      <td>NaN</td>\n      <td>NaN</td>\n      <td>NaN</td>\n      <td>NaN</td>\n      <td>-0.056107</td>\n      <td>0.172248</td>\n      <td>Lorenzo</td>\n      <td>Insigne</td>\n      <td>2325.650</td>\n      <td>38.760833</td>\n    </tr>\n    <tr>\n      <th>775</th>\n      <td>Shot</td>\n      <td>On Target</td>\n      <td>NaN</td>\n      <td>NaN</td>\n      <td>NaN</td>\n      <td>NaN</td>\n      <td>Right Foot</td>\n      <td>0.048513</td>\n      <td>NaN</td>\n      <td>41266790</td>\n      <td>...</td>\n      <td>NaN</td>\n      <td>NaN</td>\n      <td>NaN</td>\n      <td>NaN</td>\n      <td>0.451207</td>\n      <td>0.764720</td>\n      <td>Lorenzo</td>\n      <td>Insigne</td>\n      <td>3210.074</td>\n      <td>53.501233</td>\n    </tr>\n    <tr>\n      <th>788</th>\n      <td>Shot</td>\n      <td>Blocked</td>\n      <td>NaN</td>\n      <td>NaN</td>\n      <td>NaN</td>\n      <td>NaN</td>\n      <td>Right Foot</td>\n      <td>0.052877</td>\n      <td>NaN</td>\n      <td>41267161</td>\n      <td>...</td>\n      <td>NaN</td>\n      <td>NaN</td>\n      <td>NaN</td>\n      <td>NaN</td>\n      <td>NaN</td>\n      <td>NaN</td>\n      <td>Lorenzo</td>\n      <td>Insigne</td>\n      <td>3436.217</td>\n      <td>57.270283</td>\n    </tr>\n    <tr>\n      <th>795</th>\n      <td>Shot</td>\n      <td>Goal</td>\n      <td>NaN</td>\n      <td>NaN</td>\n      <td>NaN</td>\n      <td>NaN</td>\n      <td>Right Foot</td>\n      <td>0.130768</td>\n      <td>NaN</td>\n      <td>41269066</td>\n      <td>...</td>\n      <td>NaN</td>\n      <td>NaN</td>\n      <td>NaN</td>\n      <td>NaN</td>\n      <td>0.773240</td>\n      <td>0.116370</td>\n      <td>Lorenzo</td>\n      <td>Insigne</td>\n      <td>3913.677</td>\n      <td>65.227950</td>\n    </tr>\n    <tr>\n      <th>847</th>\n      <td>Shot</td>\n      <td>On Target</td>\n      <td>NaN</td>\n      <td>NaN</td>\n      <td>NaN</td>\n      <td>NaN</td>\n      <td>Head</td>\n      <td>0.038170</td>\n      <td>NaN</td>\n      <td>41255000</td>\n      <td>...</td>\n      <td>NaN</td>\n      <td>NaN</td>\n      <td>NaN</td>\n      <td>NaN</td>\n      <td>0.753242</td>\n      <td>0.284144</td>\n      <td>Lukas</td>\n      <td>Masopust</td>\n      <td>95.382</td>\n      <td>1.589700</td>\n    </tr>\n    <tr>\n      <th>957</th>\n      <td>Shot</td>\n      <td>Off Target</td>\n      <td>NaN</td>\n      <td>NaN</td>\n      <td>NaN</td>\n      <td>NaN</td>\n      <td>Right Foot</td>\n      <td>0.055959</td>\n      <td>NaN</td>\n      <td>41260553</td>\n      <td>...</td>\n      <td>NaN</td>\n      <td>NaN</td>\n      <td>NaN</td>\n      <td>NaN</td>\n      <td>-0.371093</td>\n      <td>0.135142</td>\n      <td>Alex</td>\n      <td>Kral</td>\n      <td>3680.730</td>\n      <td>61.345500</td>\n    </tr>\n    <tr>\n      <th>997</th>\n      <td>Shot</td>\n      <td>Blocked</td>\n      <td>NaN</td>\n      <td>NaN</td>\n      <td>NaN</td>\n      <td>NaN</td>\n      <td>Head</td>\n      <td>0.061743</td>\n      <td>NaN</td>\n      <td>41255336</td>\n      <td>...</td>\n      <td>NaN</td>\n      <td>NaN</td>\n      <td>NaN</td>\n      <td>NaN</td>\n      <td>NaN</td>\n      <td>NaN</td>\n      <td>Michael</td>\n      <td>Krmencik</td>\n      <td>378.408</td>\n      <td>6.306800</td>\n    </tr>\n    <tr>\n      <th>1004</th>\n      <td>Shot</td>\n      <td>Missed</td>\n      <td>NaN</td>\n      <td>NaN</td>\n      <td>NaN</td>\n      <td>NaN</td>\n      <td>Left Foot</td>\n      <td>0.032695</td>\n      <td>NaN</td>\n      <td>41255876</td>\n      <td>...</td>\n      <td>NaN</td>\n      <td>NaN</td>\n      <td>NaN</td>\n      <td>NaN</td>\n      <td>NaN</td>\n      <td>NaN</td>\n      <td>Michael</td>\n      <td>Krmencik</td>\n      <td>941.241</td>\n      <td>15.687350</td>\n    </tr>\n    <tr>\n      <th>1161</th>\n      <td>Shot</td>\n      <td>Goal</td>\n      <td>NaN</td>\n      <td>NaN</td>\n      <td>NaN</td>\n      <td>NaN</td>\n      <td>Right Foot</td>\n      <td>0.085072</td>\n      <td>NaN</td>\n      <td>41259237</td>\n      <td>...</td>\n      <td>NaN</td>\n      <td>NaN</td>\n      <td>NaN</td>\n      <td>NaN</td>\n      <td>0.070281</td>\n      <td>0.130491</td>\n      <td>Nicolo</td>\n      <td>Barella</td>\n      <td>2504.550</td>\n      <td>41.742500</td>\n    </tr>\n    <tr>\n      <th>1359</th>\n      <td>Shot</td>\n      <td>Missed</td>\n      <td>NaN</td>\n      <td>NaN</td>\n      <td>NaN</td>\n      <td>NaN</td>\n      <td>Right Foot</td>\n      <td>0.051225</td>\n      <td>NaN</td>\n      <td>41256095</td>\n      <td>...</td>\n      <td>NaN</td>\n      <td>NaN</td>\n      <td>NaN</td>\n      <td>NaN</td>\n      <td>NaN</td>\n      <td>NaN</td>\n      <td>Manuel</td>\n      <td>Locatelli</td>\n      <td>902.262</td>\n      <td>15.037700</td>\n    </tr>\n    <tr>\n      <th>1759</th>\n      <td>Shot</td>\n      <td>Blocked</td>\n      <td>NaN</td>\n      <td>NaN</td>\n      <td>NaN</td>\n      <td>NaN</td>\n      <td>Right Foot</td>\n      <td>0.053202</td>\n      <td>NaN</td>\n      <td>41255379</td>\n      <td>...</td>\n      <td>NaN</td>\n      <td>NaN</td>\n      <td>NaN</td>\n      <td>NaN</td>\n      <td>NaN</td>\n      <td>NaN</td>\n      <td>Jan</td>\n      <td>Boril</td>\n      <td>420.066</td>\n      <td>7.001100</td>\n    </tr>\n    <tr>\n      <th>1793</th>\n      <td>Shot</td>\n      <td>Missed</td>\n      <td>NaN</td>\n      <td>NaN</td>\n      <td>NaN</td>\n      <td>NaN</td>\n      <td>Left Foot</td>\n      <td>0.099499</td>\n      <td>NaN</td>\n      <td>41258975</td>\n      <td>...</td>\n      <td>NaN</td>\n      <td>NaN</td>\n      <td>NaN</td>\n      <td>NaN</td>\n      <td>NaN</td>\n      <td>NaN</td>\n      <td>Jan</td>\n      <td>Boril</td>\n      <td>2757.832</td>\n      <td>45.963867</td>\n    </tr>\n    <tr>\n      <th>1970</th>\n      <td>Shot</td>\n      <td>Missed</td>\n      <td>NaN</td>\n      <td>NaN</td>\n      <td>NaN</td>\n      <td>NaN</td>\n      <td>Head</td>\n      <td>0.092988</td>\n      <td>NaN</td>\n      <td>41264410</td>\n      <td>...</td>\n      <td>NaN</td>\n      <td>NaN</td>\n      <td>NaN</td>\n      <td>NaN</td>\n      <td>NaN</td>\n      <td>NaN</td>\n      <td>Giorgio</td>\n      <td>Chiellini</td>\n      <td>3021.156</td>\n      <td>50.352600</td>\n    </tr>\n    <tr>\n      <th>1990</th>\n      <td>Shot</td>\n      <td>Off Target</td>\n      <td>NaN</td>\n      <td>NaN</td>\n      <td>NaN</td>\n      <td>NaN</td>\n      <td>Left Foot</td>\n      <td>0.103381</td>\n      <td>NaN</td>\n      <td>41267213</td>\n      <td>...</td>\n      <td>NaN</td>\n      <td>NaN</td>\n      <td>NaN</td>\n      <td>NaN</td>\n      <td>1.114790</td>\n      <td>0.930964</td>\n      <td>Giorgio</td>\n      <td>Chiellini</td>\n      <td>3478.992</td>\n      <td>57.983200</td>\n    </tr>\n    <tr>\n      <th>2196</th>\n      <td>Shot</td>\n      <td>On Target</td>\n      <td>NaN</td>\n      <td>NaN</td>\n      <td>NaN</td>\n      <td>NaN</td>\n      <td>Left Foot</td>\n      <td>0.088086</td>\n      <td>NaN</td>\n      <td>41263831</td>\n      <td>...</td>\n      <td>NaN</td>\n      <td>NaN</td>\n      <td>NaN</td>\n      <td>NaN</td>\n      <td>0.952699</td>\n      <td>0.083514</td>\n      <td>Domenico</td>\n      <td>Berardi</td>\n      <td>2993.171</td>\n      <td>49.886183</td>\n    </tr>\n    <tr>\n      <th>2225</th>\n      <td>Shot</td>\n      <td>Goal</td>\n      <td>NaN</td>\n      <td>NaN</td>\n      <td>NaN</td>\n      <td>NaN</td>\n      <td>Left Foot</td>\n      <td>0.309946</td>\n      <td>NaN</td>\n      <td>41270211</td>\n      <td>...</td>\n      <td>NaN</td>\n      <td>NaN</td>\n      <td>NaN</td>\n      <td>NaN</td>\n      <td>0.885464</td>\n      <td>0.216117</td>\n      <td>Domenico</td>\n      <td>Berardi</td>\n      <td>4369.775</td>\n      <td>72.829583</td>\n    </tr>\n    <tr>\n      <th>2403</th>\n      <td>Shot</td>\n      <td>Blocked</td>\n      <td>NaN</td>\n      <td>NaN</td>\n      <td>NaN</td>\n      <td>NaN</td>\n      <td>Right Foot</td>\n      <td>0.085066</td>\n      <td>NaN</td>\n      <td>41263399</td>\n      <td>...</td>\n      <td>NaN</td>\n      <td>NaN</td>\n      <td>NaN</td>\n      <td>NaN</td>\n      <td>NaN</td>\n      <td>NaN</td>\n      <td>Petr</td>\n      <td>Sevcik</td>\n      <td>5455.285</td>\n      <td>90.921417</td>\n    </tr>\n    <tr>\n      <th>2588</th>\n      <td>Shot</td>\n      <td>On Target</td>\n      <td>NaN</td>\n      <td>NaN</td>\n      <td>NaN</td>\n      <td>NaN</td>\n      <td>Right Foot</td>\n      <td>0.038923</td>\n      <td>NaN</td>\n      <td>41270772</td>\n      <td>...</td>\n      <td>NaN</td>\n      <td>NaN</td>\n      <td>NaN</td>\n      <td>NaN</td>\n      <td>0.895222</td>\n      <td>0.620642</td>\n      <td>Federico</td>\n      <td>Chiesa</td>\n      <td>4715.888</td>\n      <td>78.598133</td>\n    </tr>\n  </tbody>\n</table>\n<p>25 rows × 26 columns</p>\n</div>"
     },
     "execution_count": 431,
     "metadata": {},
     "output_type": "execute_result"
    }
   ],
   "source": [
    "shot = df[df['eventType'] == 'Shot']\n",
    "shot_seq = []\n",
    "\n",
    "for idx, rec in seq_data.iterrows():\n",
    "    if rec['eventIds'][-1] in shot['eventId'].tolist():\n",
    "        shot_seq.append(rec)\n",
    "\n",
    "shot_seq = pd.DataFrame(shot_seq)\n",
    "shot"
   ],
   "metadata": {
    "collapsed": false
   }
  },
  {
   "cell_type": "markdown",
   "source": [
    "* Visualizion and Data Targeting"
   ],
   "metadata": {
    "collapsed": false
   }
  },
  {
   "cell_type": "code",
   "execution_count": 438,
   "outputs": [
    {
     "name": "stderr",
     "output_type": "stream",
     "text": [
      "C:\\Users\\문규림\\AppData\\Local\\Temp\\ipykernel_25120\\3414023194.py:6: SettingWithCopyWarning:\n",
      "\n",
      "\n",
      "A value is trying to be set on a copy of a slice from a DataFrame.\n",
      "Try using .loc[row_indexer,col_indexer] = value instead\n",
      "\n",
      "See the caveats in the documentation: https://pandas.pydata.org/pandas-docs/stable/user_guide/indexing.html#returning-a-view-versus-a-copy\n",
      "\n",
      "C:\\Users\\문규림\\AppData\\Local\\Temp\\ipykernel_25120\\3414023194.py:7: SettingWithCopyWarning:\n",
      "\n",
      "\n",
      "A value is trying to be set on a copy of a slice from a DataFrame.\n",
      "Try using .loc[row_indexer,col_indexer] = value instead\n",
      "\n",
      "See the caveats in the documentation: https://pandas.pydata.org/pandas-docs/stable/user_guide/indexing.html#returning-a-view-versus-a-copy\n",
      "\n",
      "C:\\Users\\문규림\\AppData\\Local\\Temp\\ipykernel_25120\\3414023194.py:10: SettingWithCopyWarning:\n",
      "\n",
      "\n",
      "A value is trying to be set on a copy of a slice from a DataFrame.\n",
      "Try using .loc[row_indexer,col_indexer] = value instead\n",
      "\n",
      "See the caveats in the documentation: https://pandas.pydata.org/pandas-docs/stable/user_guide/indexing.html#returning-a-view-versus-a-copy\n",
      "\n"
     ]
    },
    {
     "data": {
      "text/plain": "<matplotlib.collections.PathCollection at 0x12d1b5323a0>"
     },
     "execution_count": 438,
     "metadata": {},
     "output_type": "execute_result"
    },
    {
     "data": {
      "text/plain": "<Figure size 640x480 with 1 Axes>",
      "image/png": "[encoded data removed]"
     },
     "metadata": {},
     "output_type": "display_data"
    }
   ],
   "source": [
    "# shot map\n",
    "\n",
    "from mplsoccer import Pitch, VerticalPitch\n",
    "import plotly.express as px\n",
    "\n",
    "shot['real_x'] = shot['x'] * 68\n",
    "shot['real_y'] = shot['y'] * 105\n",
    "\n",
    "outcome_mapping = {'Blocked': 'grey', 'Off Target': 'grey', 'Goal': 'red', 'On Target': 'grey', 'Missed': 'grey'}\n",
    "shot['outcome_sep'] = shot['outcome'].map(outcome_mapping)\n",
    "\n",
    "\n",
    "it_shot = shot[shot['teamId']==10757]\n",
    "cz_shot = shot[shot['teamId']==10758]\n",
    "\n",
    "pitch = VerticalPitch(half=True, pitch_type='uefa')\n",
    "\n",
    "fig, ax = pitch.draw()\n",
    "\n",
    "\n",
    "ax.scatter(cz_shot['real_x'], cz_shot['real_y'],c=cz_shot['outcome_sep'])\n",
    "\n",
    "#plt.savefig('czech_shot_map.png')\n",
    "#plt.show()\n"
   ],
   "metadata": {
    "collapsed": false
   }
  },
  {
   "cell_type": "code",
   "execution_count": 446,
   "outputs": [
    {
     "data": {
      "text/plain": "<Figure size 640x480 with 1 Axes>",
      "image/png": "[encoded data removed]"
     },
     "metadata": {},
     "output_type": "display_data"
    }
   ],
   "source": [
    "# xG map\n",
    "\n",
    "pitch = VerticalPitch(half=True, pitch_type='uefa')\n",
    "\n",
    "fig, ax = pitch.draw()\n",
    "\n",
    "ax.scatter(\n",
    "    cz_shot['real_x'], cz_shot['real_y'],\n",
    "    c=cz_shot['outcome_sep'], s=cz_shot['xG']*500\n",
    ")\n",
    "\n",
    "#plt.savefig('czech_xg.png')\n",
    "#plt.show()"
   ],
   "metadata": {
    "collapsed": false
   }
  },
  {
   "cell_type": "code",
   "execution_count": 407,
   "outputs": [
    {
     "data": {
      "text/plain": "teamId  10757  10758\ncross               \nFalse     654    385\nTrue       17     18",
      "text/html": "<div>\n<style scoped>\n    .dataframe tbody tr th:only-of-type {\n        vertical-align: middle;\n    }\n\n    .dataframe tbody tr th {\n        vertical-align: top;\n    }\n\n    .dataframe thead th {\n        text-align: right;\n    }\n</style>\n<table border=\"1\" class=\"dataframe\">\n  <thead>\n    <tr style=\"text-align: right;\">\n      <th>teamId</th>\n      <th>10757</th>\n      <th>10758</th>\n    </tr>\n    <tr>\n      <th>cross</th>\n      <th></th>\n      <th></th>\n    </tr>\n  </thead>\n  <tbody>\n    <tr>\n      <th>False</th>\n      <td>654</td>\n      <td>385</td>\n    </tr>\n    <tr>\n      <th>True</th>\n      <td>17</td>\n      <td>18</td>\n    </tr>\n  </tbody>\n</table>\n</div>"
     },
     "execution_count": 407,
     "metadata": {},
     "output_type": "execute_result"
    }
   ],
   "source": [
    "# match info.\n",
    "\n",
    "#df.pivot_table(values='eventId',index='eventType',columns='teamId',aggfunc='count')\n",
    "df.pivot_table(values='eventType',index='cross',columns='teamId',aggfunc='count')"
   ],
   "metadata": {
    "collapsed": false
   }
  },
  {
   "cell_type": "code",
   "execution_count": 373,
   "outputs": [
    {
     "data": {
      "text/plain": "Empty DataFrame\nColumns: []\nIndex: [0, 1, 12, 11, 8, 10, 18, 14, 15, 16, 17, 19, 7, 5, 4, 2, 6]",
      "text/html": "<div>\n<style scoped>\n    .dataframe tbody tr th:only-of-type {\n        vertical-align: middle;\n    }\n\n    .dataframe tbody tr th {\n        vertical-align: top;\n    }\n\n    .dataframe thead th {\n        text-align: right;\n    }\n</style>\n<table border=\"1\" class=\"dataframe\">\n  <thead>\n    <tr style=\"text-align: right;\">\n      <th></th>\n    </tr>\n  </thead>\n  <tbody>\n    <tr>\n      <th>0</th>\n    </tr>\n    <tr>\n      <th>1</th>\n    </tr>\n    <tr>\n      <th>12</th>\n    </tr>\n    <tr>\n      <th>11</th>\n    </tr>\n    <tr>\n      <th>8</th>\n    </tr>\n    <tr>\n      <th>10</th>\n    </tr>\n    <tr>\n      <th>18</th>\n    </tr>\n    <tr>\n      <th>14</th>\n    </tr>\n    <tr>\n      <th>15</th>\n    </tr>\n    <tr>\n      <th>16</th>\n    </tr>\n    <tr>\n      <th>17</th>\n    </tr>\n    <tr>\n      <th>19</th>\n    </tr>\n    <tr>\n      <th>7</th>\n    </tr>\n    <tr>\n      <th>5</th>\n    </tr>\n    <tr>\n      <th>4</th>\n    </tr>\n    <tr>\n      <th>2</th>\n    </tr>\n    <tr>\n      <th>6</th>\n    </tr>\n  </tbody>\n</table>\n</div>"
     },
     "execution_count": 373,
     "metadata": {},
     "output_type": "execute_result"
    }
   ],
   "source": [
    "#seq_data.groupby(\"teamId\")[\"length\"].count()\n",
    "#seq_data.groupby('teamId')['length'].mean()\n",
    "#seq_data.groupby('teamId')['length'].max()\n",
    "#seq_data.groupby('teamId')['seq_time'].mean()\n",
    "\n",
    "goals = df[df['outcome'] == 'Goal']\n",
    "goal_seq = []\n",
    "\n",
    "for idx, rec in seq_data.iterrows():\n",
    "    if rec['eventIds'][-1] in goals['eventId'].tolist():\n",
    "        goal_seq.append(rec)\n",
    "\n",
    "# 17\n",
    "goal_seq = pd.DataFrame(goal_seq)\n",
    "goal_exp = goal_seq.explode('eventIds')\n",
    "goal_exp = goal_exp.rename(columns={'eventIds': 'eventId'})\n",
    "goal_seq_merge = pd.merge(goal_exp, df,\n",
    "                          on='eventId')\n",
    "\n",
    "time = 0\n",
    "remove = []\n",
    "for idx, rec in goal_seq_merge.iterrows():\n",
    "    if rec['time_sec'] == time:\n",
    "        remove.append(idx)\n",
    "    time = rec['time_sec']\n",
    "goal_seq_merge.drop(remove, inplace=True)\n",
    "\n",
    "goal_seq_t = goal_seq_merge[['start_sec','end_sec','seq_time', 'eventId', 'eventTime',\n",
    "                             'length','eventType','outcome','cross','keyPass',\n",
    "                             'assist','xG','bodyPart','x','y','playerName','playerLastName']]\n",
    "\n",
    "goal_seq_t = goal_seq_t.sort_values('seq_time')\n",
    "#goal_seq_t.to_csv('goals sequence.csv')\n"
   ],
   "metadata": {
    "collapsed": false
   }
  },
  {
   "cell_type": "markdown",
   "source": [],
   "metadata": {
    "collapsed": false
   }
  },
  {
   "cell_type": "code",
   "execution_count": 411,
   "outputs": [
    {
     "data": {
      "text/plain": "<Figure size 640x480 with 1 Axes>",
      "image/png": "[encoded data removed]"
     },
     "metadata": {},
     "output_type": "display_data"
    }
   ],
   "source": [
    "import matplotlib.pyplot as plt\n",
    "from mplsoccer import Pitch, VerticalPitch\n",
    "\n",
    "pass_map = df[df['eventType'] == 'Pass']\n",
    "pass_map = pass_map[['teamId', 'playerId', 'eventId', 'x', 'y', 'eventType', 'outcome', 'keyPass', 'assist']]\n",
    "pass_map['real_x'] = pass_map['x'] * 68\n",
    "pass_map['real_y'] = pass_map['y'] * 105\n",
    "\n",
    "# main, sub\n",
    "pitch = VerticalPitch(pitch_type='uefa',  # example plotting a tracab pitch\n",
    "                      pitch_length=105, pitch_width=68,\n",
    "                      axis=True, label=True,\n",
    "                      pitch_color='white', line_color='black',\n",
    "                      line_alpha=0.7, goal_alpha=0.5, linewidth=1)\n",
    "\n",
    "fig, ax = pitch.draw()\n",
    "\n",
    "it_pass_suc = pass_map[(pass_map['teamId'] == 10757) & (pass_map['outcome'] == 'Successful')]\n",
    "it_pass_fail = pass_map[(pass_map['teamId'] == 10757) & (pass_map['outcome'] == 'Unsuccessful')]\n",
    "cz_pass_suc = pass_map[(pass_map['teamId'] == 10758) & (pass_map['outcome'] == 'Successful')]\n",
    "cz_pass_fail = pass_map[(pass_map['teamId'] == 10758) & (pass_map['outcome'] == 'Unsuccessful')]\n",
    "\n",
    "ax.scatter(it_pass_suc['real_x'], it_pass_suc['real_y'], color='g', cmap='viridis', alpha=0.5)\n",
    "ax.scatter(it_pass_fail['real_x'], it_pass_fail['real_y'], color='r', cmap='viridis', alpha=0.5)\n",
    "\n",
    "plt.savefig('italy_pass map.png')\n",
    "plt.show()"
   ],
   "metadata": {
    "collapsed": false
   }
  },
  {
   "cell_type": "code",
   "execution_count": 412,
   "outputs": [
    {
     "data": {
      "text/plain": "<Figure size 640x480 with 1 Axes>",
      "image/png": "[encoded data removed]"
     },
     "metadata": {},
     "output_type": "display_data"
    }
   ],
   "source": [
    "pitch = VerticalPitch(pitch_type='uefa',\n",
    "                      pitch_length=105, pitch_width=68,\n",
    "                      axis=True, label=True,\n",
    "                      pitch_color='white', line_color='black',\n",
    "                      line_alpha=0.7, goal_alpha=0.5, linewidth=1)\n",
    "\n",
    "fig, ax = pitch.draw()\n",
    "\n",
    "plt.scatter(cz_pass_suc['real_x'], cz_pass_suc['real_y'], color='g', cmap='viridis', alpha=0.5)\n",
    "plt.scatter(cz_pass_fail['real_x'], cz_pass_fail['real_y'], color='r', cmap='viridis', alpha=0.5)\n",
    "\n",
    "plt.savefig('czech_pass map.png')\n",
    "\n",
    "plt.show()"
   ],
   "metadata": {
    "collapsed": false
   }
  },
  {
   "cell_type": "code",
   "execution_count": 409,
   "outputs": [
    {
     "name": "stdout",
     "output_type": "stream",
     "text": [
      "이탈리아 공격지역 패스 성공 :50\n",
      "이탈리아 공격지역 패스 실패 :21\n",
      "이탈리아 미들지역 패스 성공 :361\n",
      "이탈리아 미들지역 패스 실패 :45\n",
      "이탈리아 수비지역 패스 성공 :175\n",
      "이탈리아 수비지역 패스 실패 :19\n",
      "===================================\n",
      "체코 공격지역 패스 성공 :49\n",
      "체코 공격지역 패스 실패 :21\n",
      "체코 미들지역 패스 성공 :156\n",
      "체코 미들지역 패스 실패 :34\n",
      "체코 수비지역 패스 성공 :104\n",
      "체코 수비지역 패스 실패 :39\n"
     ]
    }
   ],
   "source": [
    "def location_by_pass_cnt(data, loc): # attack / middle / defence\n",
    "    if loc == 'attack':\n",
    "        data = data[data['real_y'] >= 75]\n",
    "        return len(data['eventType'])\n",
    "    elif loc == 'middle':\n",
    "        data = data[(data['real_y'] >= 35) & (data['real_y'] < 75)]\n",
    "        return len(data['eventType'])\n",
    "    else:\n",
    "        data = data[data['real_y'] < 35]\n",
    "        return len(data['eventType'])\n",
    "\n",
    "\n",
    "print(f'이탈리아 공격지역 패스 성공 :{location_by_pass_cnt(it_pass_suc,\"attack\")}')\n",
    "print(f\"이탈리아 공격지역 패스 실패 :{location_by_pass_cnt(it_pass_fail, 'attack')}\")\n",
    "\n",
    "print(f'이탈리아 미들지역 패스 성공 :{location_by_pass_cnt(it_pass_suc,\"middle\")}')\n",
    "print(f\"이탈리아 미들지역 패스 실패 :{location_by_pass_cnt(it_pass_fail, 'middle')}\")\n",
    "\n",
    "print(f'이탈리아 수비지역 패스 성공 :{location_by_pass_cnt(it_pass_suc,\"defence\")}')\n",
    "print(f\"이탈리아 수비지역 패스 실패 :{location_by_pass_cnt(it_pass_fail, 'defence')}\")\n",
    "\n",
    "print('===================================')\n",
    "\n",
    "print(f'체코 공격지역 패스 성공 :{location_by_pass_cnt(cz_pass_suc,\"attack\")}')\n",
    "print(f\"체코 공격지역 패스 실패 :{location_by_pass_cnt(cz_pass_fail, 'attack')}\")\n",
    "\n",
    "print(f'체코 미들지역 패스 성공 :{location_by_pass_cnt(cz_pass_suc,\"middle\")}')\n",
    "print(f\"체코 미들지역 패스 실패 :{location_by_pass_cnt(cz_pass_fail, 'middle')}\")\n",
    "\n",
    "print(f'체코 수비지역 패스 성공 :{location_by_pass_cnt(cz_pass_suc,\"defence\")}')\n",
    "print(f\"체코 수비지역 패스 실패 :{location_by_pass_cnt(cz_pass_fail, 'defence')}\")"
   ],
   "metadata": {
    "collapsed": false
   }
  },
  {
   "cell_type": "markdown",
   "source": [],
   "metadata": {
    "collapsed": false
   }
  },
  {
   "cell_type": "code",
   "execution_count": 142,
   "outputs": [
    {
     "data": {
      "text/plain": "      teamId  eventPeriod  startTime  endTime  \\\n0    10758.0   FIRST_HALF        996     6185   \n2    10757.0   FIRST_HALF       8061    13394   \n4    10758.0   FIRST_HALF      14770    23031   \n6    10757.0   FIRST_HALF      24445    32967   \n8    10758.0   FIRST_HALF      35638    43500   \n..       ...          ...        ...      ...   \n457  10758.0  SECOND_HALF    5447114  5455285   \n459  10758.0  SECOND_HALF    5470032  5473473   \n461  10758.0  SECOND_HALF    5480504  5485959   \n463  10757.0  SECOND_HALF    5489212  5499266   \n464  10758.0  SECOND_HALF    5515158  5527000   \n\n                                              eventIds  start_sec   end_sec  \\\n0    [41254878, 41254879, 41254880, 41254881, 41254...      0.996     6.185   \n2    [41254911, 41254912, 41254913, 41254914, 41254...      8.061    13.394   \n4    [41254891, 41254892, 41254893, 41254894, 41254...     14.770    23.031   \n6    [41254923, 41254936, 41254937, 41254943, 41254...     24.445    32.967   \n8    [41254916, 41254920, 41254921, 41254922, 41254...     35.638    43.500   \n..                                                 ...        ...       ...   \n457           [41263402, 41263393, 41263394, 41263399]   5447.114  5455.285   \n459           [41263408, 41263409, 41263410, 41274673]   5470.032  5473.473   \n461                               [41263418, 41263423]   5480.504  5485.959   \n463  [41274695, 41274696, 41274709, 41274710, 41274...   5489.212  5499.266   \n464  [41263436, 41263437, 41263439, 41263440, 41263...   5515.158  5527.000   \n\n     start_min    end_min  seq_time  length        teamName  by-team_len  \n0     0.016600   0.103083     5.189       6  Czech Republic           14  \n2     0.134350   0.223233     5.333       6           Italy           11  \n4     0.246167   0.383850     8.261       9  Czech Republic            8  \n6     0.407417   0.549450     8.522       7           Italy            3  \n8     0.593967   0.725000     7.862       7  Czech Republic            9  \n..         ...        ...       ...     ...             ...          ...  \n457  90.785233  90.921417     8.171       4  Czech Republic           18  \n459  91.167200  91.224550     3.441       4  Czech Republic           18  \n461  91.341733  91.432650     5.455       2  Czech Republic           16  \n463  91.486867  91.654433    10.054       6           Italy           11  \n464  91.919300  92.116667    11.842       5  Czech Republic           13  \n\n[243 rows x 13 columns]",
      "text/html": "<div>\n<style scoped>\n    .dataframe tbody tr th:only-of-type {\n        vertical-align: middle;\n    }\n\n    .dataframe tbody tr th {\n        vertical-align: top;\n    }\n\n    .dataframe thead th {\n        text-align: right;\n    }\n</style>\n<table border=\"1\" class=\"dataframe\">\n  <thead>\n    <tr style=\"text-align: right;\">\n      <th></th>\n      <th>teamId</th>\n      <th>eventPeriod</th>\n      <th>startTime</th>\n      <th>endTime</th>\n      <th>eventIds</th>\n      <th>start_sec</th>\n      <th>end_sec</th>\n      <th>start_min</th>\n      <th>end_min</th>\n      <th>seq_time</th>\n      <th>length</th>\n      <th>teamName</th>\n      <th>by-team_len</th>\n    </tr>\n  </thead>\n  <tbody>\n    <tr>\n      <th>0</th>\n      <td>10758.0</td>\n      <td>FIRST_HALF</td>\n      <td>996</td>\n      <td>6185</td>\n      <td>[41254878, 41254879, 41254880, 41254881, 41254...</td>\n      <td>0.996</td>\n      <td>6.185</td>\n      <td>0.016600</td>\n      <td>0.103083</td>\n      <td>5.189</td>\n      <td>6</td>\n      <td>Czech Republic</td>\n      <td>14</td>\n    </tr>\n    <tr>\n      <th>2</th>\n      <td>10757.0</td>\n      <td>FIRST_HALF</td>\n      <td>8061</td>\n      <td>13394</td>\n      <td>[41254911, 41254912, 41254913, 41254914, 41254...</td>\n      <td>8.061</td>\n      <td>13.394</td>\n      <td>0.134350</td>\n      <td>0.223233</td>\n      <td>5.333</td>\n      <td>6</td>\n      <td>Italy</td>\n      <td>11</td>\n    </tr>\n    <tr>\n      <th>4</th>\n      <td>10758.0</td>\n      <td>FIRST_HALF</td>\n      <td>14770</td>\n      <td>23031</td>\n      <td>[41254891, 41254892, 41254893, 41254894, 41254...</td>\n      <td>14.770</td>\n      <td>23.031</td>\n      <td>0.246167</td>\n      <td>0.383850</td>\n      <td>8.261</td>\n      <td>9</td>\n      <td>Czech Republic</td>\n      <td>8</td>\n    </tr>\n    <tr>\n      <th>6</th>\n      <td>10757.0</td>\n      <td>FIRST_HALF</td>\n      <td>24445</td>\n      <td>32967</td>\n      <td>[41254923, 41254936, 41254937, 41254943, 41254...</td>\n      <td>24.445</td>\n      <td>32.967</td>\n      <td>0.407417</td>\n      <td>0.549450</td>\n      <td>8.522</td>\n      <td>7</td>\n      <td>Italy</td>\n      <td>3</td>\n    </tr>\n    <tr>\n      <th>8</th>\n      <td>10758.0</td>\n      <td>FIRST_HALF</td>\n      <td>35638</td>\n      <td>43500</td>\n      <td>[41254916, 41254920, 41254921, 41254922, 41254...</td>\n      <td>35.638</td>\n      <td>43.500</td>\n      <td>0.593967</td>\n      <td>0.725000</td>\n      <td>7.862</td>\n      <td>7</td>\n      <td>Czech Republic</td>\n      <td>9</td>\n    </tr>\n    <tr>\n      <th>...</th>\n      <td>...</td>\n      <td>...</td>\n      <td>...</td>\n      <td>...</td>\n      <td>...</td>\n      <td>...</td>\n      <td>...</td>\n      <td>...</td>\n      <td>...</td>\n      <td>...</td>\n      <td>...</td>\n      <td>...</td>\n      <td>...</td>\n    </tr>\n    <tr>\n      <th>457</th>\n      <td>10758.0</td>\n      <td>SECOND_HALF</td>\n      <td>5447114</td>\n      <td>5455285</td>\n      <td>[41263402, 41263393, 41263394, 41263399]</td>\n      <td>5447.114</td>\n      <td>5455.285</td>\n      <td>90.785233</td>\n      <td>90.921417</td>\n      <td>8.171</td>\n      <td>4</td>\n      <td>Czech Republic</td>\n      <td>18</td>\n    </tr>\n    <tr>\n      <th>459</th>\n      <td>10758.0</td>\n      <td>SECOND_HALF</td>\n      <td>5470032</td>\n      <td>5473473</td>\n      <td>[41263408, 41263409, 41263410, 41274673]</td>\n      <td>5470.032</td>\n      <td>5473.473</td>\n      <td>91.167200</td>\n      <td>91.224550</td>\n      <td>3.441</td>\n      <td>4</td>\n      <td>Czech Republic</td>\n      <td>18</td>\n    </tr>\n    <tr>\n      <th>461</th>\n      <td>10758.0</td>\n      <td>SECOND_HALF</td>\n      <td>5480504</td>\n      <td>5485959</td>\n      <td>[41263418, 41263423]</td>\n      <td>5480.504</td>\n      <td>5485.959</td>\n      <td>91.341733</td>\n      <td>91.432650</td>\n      <td>5.455</td>\n      <td>2</td>\n      <td>Czech Republic</td>\n      <td>16</td>\n    </tr>\n    <tr>\n      <th>463</th>\n      <td>10757.0</td>\n      <td>SECOND_HALF</td>\n      <td>5489212</td>\n      <td>5499266</td>\n      <td>[41274695, 41274696, 41274709, 41274710, 41274...</td>\n      <td>5489.212</td>\n      <td>5499.266</td>\n      <td>91.486867</td>\n      <td>91.654433</td>\n      <td>10.054</td>\n      <td>6</td>\n      <td>Italy</td>\n      <td>11</td>\n    </tr>\n    <tr>\n      <th>464</th>\n      <td>10758.0</td>\n      <td>SECOND_HALF</td>\n      <td>5515158</td>\n      <td>5527000</td>\n      <td>[41263436, 41263437, 41263439, 41263440, 41263...</td>\n      <td>5515.158</td>\n      <td>5527.000</td>\n      <td>91.919300</td>\n      <td>92.116667</td>\n      <td>11.842</td>\n      <td>5</td>\n      <td>Czech Republic</td>\n      <td>13</td>\n    </tr>\n  </tbody>\n</table>\n<p>243 rows × 13 columns</p>\n</div>"
     },
     "execution_count": 142,
     "metadata": {},
     "output_type": "execute_result"
    }
   ],
   "source": [
    "import seaborn as sns\n",
    "import plotly.express as px\n",
    "seq_data['teamName'] = seq_data['teamId'].apply(name)\n",
    "\n",
    "seq_data['by-team_len'] = seq_data.groupby(['length', 'teamName'])['length'].transform('count')\n",
    "seq_data = seq_data[seq_data['teamName']!='duel']\n",
    "seq_data"
   ],
   "metadata": {
    "collapsed": false
   }
  },
  {
   "cell_type": "code",
   "execution_count": 0,
   "outputs": [],
   "source": [
    "# sequence len compare\n",
    "\n",
    "seq_df = seq_data[['teamName','length','by-team_len']]\n",
    "seq_df = seq_df.sort_values('length', ascending=False).drop_duplicates().reset_index(drop=True)\n",
    "\n",
    "# 16, 5\n",
    "\n",
    "\n",
    "fig = px.bar(\n",
    "    seq_df, x='length', y='by-team_len',color='teamName',\n",
    "    labels={'length': 'Sequence Length', 'by-team_len': 'Count'},\n",
    ")\n",
    "\n",
    "fig.update_layout(\n",
    "                xaxis=dict(showgrid=False), yaxis=dict(showgrid=False),\n",
    "                plot_bgcolor='white', paper_bgcolor='white',\n",
    "                font = dict(color='black'),\n",
    "                    )\n",
    "\n",
    "fig.show()"
   ],
   "metadata": {
    "collapsed": false
   }
  },
  {
   "cell_type": "code",
   "execution_count": 177,
   "outputs": [
    {
     "data": {
      "application/vnd.plotly.v1+json": {
       "data": [
        {
         "alignmentgroup": "True",
         "hovertemplate": "teamName=Italy<br>Sequence Length=%{x}<br>Count=%{y}<extra></extra>",
         "legendgroup": "Italy",
         "marker": {
          "color": "#636efa",
          "pattern": {
           "shape": ""
          }
         },
         "name": "Italy",
         "offsetgroup": "Italy",
         "orientation": "v",
         "showlegend": true,
         "textposition": "auto",
         "x": [
          66,
          59,
          36,
          35,
          32,
          30,
          27,
          26,
          25,
          23,
          21,
          20,
          19,
          18,
          17,
          16,
          14,
          13,
          12,
          11,
          10,
          9,
          8,
          7,
          6,
          5,
          4,
          3,
          2
         ],
         "xaxis": "x",
         "y": [
          1,
          1,
          1,
          1,
          1,
          1,
          1,
          2,
          1,
          3,
          1,
          2,
          2,
          1,
          3,
          3,
          6,
          3,
          6,
          6,
          3,
          4,
          5,
          3,
          11,
          11,
          16,
          10,
          16
         ],
         "yaxis": "y",
         "type": "bar"
        },
        {
         "alignmentgroup": "True",
         "hovertemplate": "teamName=Czech Republic<br>Sequence Length=%{x}<br>Count=%{y}<extra></extra>",
         "legendgroup": "Czech Republic",
         "marker": {
          "color": "#EF553B",
          "pattern": {
           "shape": ""
          }
         },
         "name": "Czech Republic",
         "offsetgroup": "Czech Republic",
         "orientation": "v",
         "showlegend": true,
         "textposition": "auto",
         "x": [
          35,
          29,
          28,
          21,
          20,
          17,
          15,
          14,
          13,
          12,
          11,
          10,
          9,
          8,
          7,
          6,
          5,
          4,
          3,
          2
         ],
         "xaxis": "x",
         "y": [
          1,
          1,
          1,
          1,
          1,
          1,
          3,
          2,
          1,
          1,
          1,
          4,
          8,
          4,
          9,
          14,
          13,
          18,
          18,
          16
         ],
         "yaxis": "y",
         "type": "bar"
        }
       ],
       "layout": {
        "template": {
         "data": {
          "histogram2dcontour": [
           {
            "type": "histogram2dcontour",
            "colorbar": {
             "outlinewidth": 0,
             "ticks": ""
            },
            "colorscale": [
             [
              0.0,
              "#0d0887"
             ],
             [
              0.1111111111111111,
              "#46039f"
             ],
             [
              0.2222222222222222,
              "#7201a8"
             ],
             [
              0.3333333333333333,
              "#9c179e"
             ],
             [
              0.4444444444444444,
              "#bd3786"
             ],
             [
              0.5555555555555556,
              "#d8576b"
             ],
             [
              0.6666666666666666,
              "#ed7953"
             ],
             [
              0.7777777777777778,
              "#fb9f3a"
             ],
             [
              0.8888888888888888,
              "#fdca26"
             ],
             [
              1.0,
              "#f0f921"
             ]
            ]
           }
          ],
          "choropleth": [
           {
            "type": "choropleth",
            "colorbar": {
             "outlinewidth": 0,
             "ticks": ""
            }
           }
          ],
          "histogram2d": [
           {
            "type": "histogram2d",
            "colorbar": {
             "outlinewidth": 0,
             "ticks": ""
            },
            "colorscale": [
             [
              0.0,
              "#0d0887"
             ],
             [
              0.1111111111111111,
              "#46039f"
             ],
             [
              0.2222222222222222,
              "#7201a8"
             ],
             [
              0.3333333333333333,
              "#9c179e"
             ],
             [
              0.4444444444444444,
              "#bd3786"
             ],
             [
              0.5555555555555556,
              "#d8576b"
             ],
             [
              0.6666666666666666,
              "#ed7953"
             ],
             [
              0.7777777777777778,
              "#fb9f3a"
             ],
             [
              0.8888888888888888,
              "#fdca26"
             ],
             [
              1.0,
              "#f0f921"
             ]
            ]
           }
          ],
          "heatmap": [
           {
            "type": "heatmap",
            "colorbar": {
             "outlinewidth": 0,
             "ticks": ""
            },
            "colorscale": [
             [
              0.0,
              "#0d0887"
             ],
             [
              0.1111111111111111,
              "#46039f"
             ],
             [
              0.2222222222222222,
              "#7201a8"
             ],
             [
              0.3333333333333333,
              "#9c179e"
             ],
             [
              0.4444444444444444,
              "#bd3786"
             ],
             [
              0.5555555555555556,
              "#d8576b"
             ],
             [
              0.6666666666666666,
              "#ed7953"
             ],
             [
              0.7777777777777778,
              "#fb9f3a"
             ],
             [
              0.8888888888888888,
              "#fdca26"
             ],
             [
              1.0,
              "#f0f921"
             ]
            ]
           }
          ],
          "heatmapgl": [
           {
            "type": "heatmapgl",
            "colorbar": {
             "outlinewidth": 0,
             "ticks": ""
            },
            "colorscale": [
             [
              0.0,
              "#0d0887"
             ],
             [
              0.1111111111111111,
              "#46039f"
             ],
             [
              0.2222222222222222,
              "#7201a8"
             ],
             [
              0.3333333333333333,
              "#9c179e"
             ],
             [
              0.4444444444444444,
              "#bd3786"
             ],
             [
              0.5555555555555556,
              "#d8576b"
             ],
             [
              0.6666666666666666,
              "#ed7953"
             ],
             [
              0.7777777777777778,
              "#fb9f3a"
             ],
             [
              0.8888888888888888,
              "#fdca26"
             ],
             [
              1.0,
              "#f0f921"
             ]
            ]
           }
          ],
          "contourcarpet": [
           {
            "type": "contourcarpet",
            "colorbar": {
             "outlinewidth": 0,
             "ticks": ""
            }
           }
          ],
          "contour": [
           {
            "type": "contour",
            "colorbar": {
             "outlinewidth": 0,
             "ticks": ""
            },
            "colorscale": [
             [
              0.0,
              "#0d0887"
             ],
             [
              0.1111111111111111,
              "#46039f"
             ],
             [
              0.2222222222222222,
              "#7201a8"
             ],
             [
              0.3333333333333333,
              "#9c179e"
             ],
             [
              0.4444444444444444,
              "#bd3786"
             ],
             [
              0.5555555555555556,
              "#d8576b"
             ],
             [
              0.6666666666666666,
              "#ed7953"
             ],
             [
              0.7777777777777778,
              "#fb9f3a"
             ],
             [
              0.8888888888888888,
              "#fdca26"
             ],
             [
              1.0,
              "#f0f921"
             ]
            ]
           }
          ],
          "surface": [
           {
            "type": "surface",
            "colorbar": {
             "outlinewidth": 0,
             "ticks": ""
            },
            "colorscale": [
             [
              0.0,
              "#0d0887"
             ],
             [
              0.1111111111111111,
              "#46039f"
             ],
             [
              0.2222222222222222,
              "#7201a8"
             ],
             [
              0.3333333333333333,
              "#9c179e"
             ],
             [
              0.4444444444444444,
              "#bd3786"
             ],
             [
              0.5555555555555556,
              "#d8576b"
             ],
             [
              0.6666666666666666,
              "#ed7953"
             ],
             [
              0.7777777777777778,
              "#fb9f3a"
             ],
             [
              0.8888888888888888,
              "#fdca26"
             ],
             [
              1.0,
              "#f0f921"
             ]
            ]
           }
          ],
          "mesh3d": [
           {
            "type": "mesh3d",
            "colorbar": {
             "outlinewidth": 0,
             "ticks": ""
            }
           }
          ],
          "scatter": [
           {
            "marker": {
             "line": {
              "color": "#283442"
             }
            },
            "type": "scatter"
           }
          ],
          "parcoords": [
           {
            "type": "parcoords",
            "line": {
             "colorbar": {
              "outlinewidth": 0,
              "ticks": ""
             }
            }
           }
          ],
          "scatterpolargl": [
           {
            "type": "scatterpolargl",
            "marker": {
             "colorbar": {
              "outlinewidth": 0,
              "ticks": ""
             }
            }
           }
          ],
          "bar": [
           {
            "error_x": {
             "color": "#f2f5fa"
            },
            "error_y": {
             "color": "#f2f5fa"
            },
            "marker": {
             "line": {
              "color": "rgb(17,17,17)",
              "width": 0.5
             },
             "pattern": {
              "fillmode": "overlay",
              "size": 10,
              "solidity": 0.2
             }
            },
            "type": "bar"
           }
          ],
          "scattergeo": [
           {
            "type": "scattergeo",
            "marker": {
             "colorbar": {
              "outlinewidth": 0,
              "ticks": ""
             }
            }
           }
          ],
          "scatterpolar": [
           {
            "type": "scatterpolar",
            "marker": {
             "colorbar": {
              "outlinewidth": 0,
              "ticks": ""
             }
            }
           }
          ],
          "histogram": [
           {
            "marker": {
             "pattern": {
              "fillmode": "overlay",
              "size": 10,
              "solidity": 0.2
             }
            },
            "type": "histogram"
           }
          ],
          "scattergl": [
           {
            "marker": {
             "line": {
              "color": "#283442"
             }
            },
            "type": "scattergl"
           }
          ],
          "scatter3d": [
           {
            "type": "scatter3d",
            "line": {
             "colorbar": {
              "outlinewidth": 0,
              "ticks": ""
             }
            },
            "marker": {
             "colorbar": {
              "outlinewidth": 0,
              "ticks": ""
             }
            }
           }
          ],
          "scattermapbox": [
           {
            "type": "scattermapbox",
            "marker": {
             "colorbar": {
              "outlinewidth": 0,
              "ticks": ""
             }
            }
           }
          ],
          "scatterternary": [
           {
            "type": "scatterternary",
            "marker": {
             "colorbar": {
              "outlinewidth": 0,
              "ticks": ""
             }
            }
           }
          ],
          "scattercarpet": [
           {
            "type": "scattercarpet",
            "marker": {
             "colorbar": {
              "outlinewidth": 0,
              "ticks": ""
             }
            }
           }
          ],
          "carpet": [
           {
            "aaxis": {
             "endlinecolor": "#A2B1C6",
             "gridcolor": "#506784",
             "linecolor": "#506784",
             "minorgridcolor": "#506784",
             "startlinecolor": "#A2B1C6"
            },
            "baxis": {
             "endlinecolor": "#A2B1C6",
             "gridcolor": "#506784",
             "linecolor": "#506784",
             "minorgridcolor": "#506784",
             "startlinecolor": "#A2B1C6"
            },
            "type": "carpet"
           }
          ],
          "table": [
           {
            "cells": {
             "fill": {
              "color": "#506784"
             },
             "line": {
              "color": "rgb(17,17,17)"
             }
            },
            "header": {
             "fill": {
              "color": "#2a3f5f"
             },
             "line": {
              "color": "rgb(17,17,17)"
             }
            },
            "type": "table"
           }
          ],
          "barpolar": [
           {
            "marker": {
             "line": {
              "color": "rgb(17,17,17)",
              "width": 0.5
             },
             "pattern": {
              "fillmode": "overlay",
              "size": 10,
              "solidity": 0.2
             }
            },
            "type": "barpolar"
           }
          ],
          "pie": [
           {
            "automargin": true,
            "type": "pie"
           }
          ]
         },
         "layout": {
          "autotypenumbers": "strict",
          "colorway": [
           "#636efa",
           "#EF553B",
           "#00cc96",
           "#ab63fa",
           "#FFA15A",
           "#19d3f3",
           "#FF6692",
           "#B6E880",
           "#FF97FF",
           "#FECB52"
          ],
          "font": {
           "color": "#f2f5fa"
          },
          "hovermode": "closest",
          "hoverlabel": {
           "align": "left"
          },
          "paper_bgcolor": "rgb(17,17,17)",
          "plot_bgcolor": "rgb(17,17,17)",
          "polar": {
           "bgcolor": "rgb(17,17,17)",
           "angularaxis": {
            "gridcolor": "#506784",
            "linecolor": "#506784",
            "ticks": ""
           },
           "radialaxis": {
            "gridcolor": "#506784",
            "linecolor": "#506784",
            "ticks": ""
           }
          },
          "ternary": {
           "bgcolor": "rgb(17,17,17)",
           "aaxis": {
            "gridcolor": "#506784",
            "linecolor": "#506784",
            "ticks": ""
           },
           "baxis": {
            "gridcolor": "#506784",
            "linecolor": "#506784",
            "ticks": ""
           },
           "caxis": {
            "gridcolor": "#506784",
            "linecolor": "#506784",
            "ticks": ""
           }
          },
          "coloraxis": {
           "colorbar": {
            "outlinewidth": 0,
            "ticks": ""
           }
          },
          "colorscale": {
           "sequential": [
            [
             0.0,
             "#0d0887"
            ],
            [
             0.1111111111111111,
             "#46039f"
            ],
            [
             0.2222222222222222,
             "#7201a8"
            ],
            [
             0.3333333333333333,
             "#9c179e"
            ],
            [
             0.4444444444444444,
             "#bd3786"
            ],
            [
             0.5555555555555556,
             "#d8576b"
            ],
            [
             0.6666666666666666,
             "#ed7953"
            ],
            [
             0.7777777777777778,
             "#fb9f3a"
            ],
            [
             0.8888888888888888,
             "#fdca26"
            ],
            [
             1.0,
             "#f0f921"
            ]
           ],
           "sequentialminus": [
            [
             0.0,
             "#0d0887"
            ],
            [
             0.1111111111111111,
             "#46039f"
            ],
            [
             0.2222222222222222,
             "#7201a8"
            ],
            [
             0.3333333333333333,
             "#9c179e"
            ],
            [
             0.4444444444444444,
             "#bd3786"
            ],
            [
             0.5555555555555556,
             "#d8576b"
            ],
            [
             0.6666666666666666,
             "#ed7953"
            ],
            [
             0.7777777777777778,
             "#fb9f3a"
            ],
            [
             0.8888888888888888,
             "#fdca26"
            ],
            [
             1.0,
             "#f0f921"
            ]
           ],
           "diverging": [
            [
             0,
             "#8e0152"
            ],
            [
             0.1,
             "#c51b7d"
            ],
            [
             0.2,
             "#de77ae"
            ],
            [
             0.3,
             "#f1b6da"
            ],
            [
             0.4,
             "#fde0ef"
            ],
            [
             0.5,
             "#f7f7f7"
            ],
            [
             0.6,
             "#e6f5d0"
            ],
            [
             0.7,
             "#b8e186"
            ],
            [
             0.8,
             "#7fbc41"
            ],
            [
             0.9,
             "#4d9221"
            ],
            [
             1,
             "#276419"
            ]
           ]
          },
          "xaxis": {
           "gridcolor": "#283442",
           "linecolor": "#506784",
           "ticks": "",
           "title": {
            "standoff": 15
           },
           "zerolinecolor": "#283442",
           "automargin": true,
           "zerolinewidth": 2
          },
          "yaxis": {
           "gridcolor": "#283442",
           "linecolor": "#506784",
           "ticks": "",
           "title": {
            "standoff": 15
           },
           "zerolinecolor": "#283442",
           "automargin": true,
           "zerolinewidth": 2
          },
          "scene": {
           "xaxis": {
            "backgroundcolor": "rgb(17,17,17)",
            "gridcolor": "#506784",
            "linecolor": "#506784",
            "showbackground": true,
            "ticks": "",
            "zerolinecolor": "#C8D4E3",
            "gridwidth": 2
           },
           "yaxis": {
            "backgroundcolor": "rgb(17,17,17)",
            "gridcolor": "#506784",
            "linecolor": "#506784",
            "showbackground": true,
            "ticks": "",
            "zerolinecolor": "#C8D4E3",
            "gridwidth": 2
           },
           "zaxis": {
            "backgroundcolor": "rgb(17,17,17)",
            "gridcolor": "#506784",
            "linecolor": "#506784",
            "showbackground": true,
            "ticks": "",
            "zerolinecolor": "#C8D4E3",
            "gridwidth": 2
           }
          },
          "shapedefaults": {
           "line": {
            "color": "#f2f5fa"
           }
          },
          "annotationdefaults": {
           "arrowcolor": "#f2f5fa",
           "arrowhead": 0,
           "arrowwidth": 1
          },
          "geo": {
           "bgcolor": "rgb(17,17,17)",
           "landcolor": "rgb(17,17,17)",
           "subunitcolor": "#506784",
           "showland": true,
           "showlakes": true,
           "lakecolor": "rgb(17,17,17)"
          },
          "title": {
           "x": 0.05
          },
          "updatemenudefaults": {
           "bgcolor": "#506784",
           "borderwidth": 0
          },
          "sliderdefaults": {
           "bgcolor": "#C8D4E3",
           "borderwidth": 1,
           "bordercolor": "rgb(17,17,17)",
           "tickwidth": 0
          },
          "mapbox": {
           "style": "dark"
          }
         }
        },
        "xaxis": {
         "anchor": "y",
         "domain": [
          0.0,
          1.0
         ],
         "title": {
          "text": "Sequence Length"
         },
         "showgrid": false
        },
        "yaxis": {
         "anchor": "x",
         "domain": [
          0.0,
          1.0
         ],
         "title": {
          "text": "Count"
         },
         "showgrid": false
        },
        "legend": {
         "title": {
          "text": "teamName"
         },
         "tracegroupgap": 0
        },
        "margin": {
         "t": 60
        },
        "barmode": "relative",
        "font": {
         "color": "black"
        },
        "plot_bgcolor": "white",
        "paper_bgcolor": "white"
       },
       "config": {
        "plotlyServerURL": "https://plot.ly"
       }
      },
      "text/html": "<div>                            <div id=\"4b38f70f-9817-4b42-8f6d-da8ac9bbd892\" class=\"plotly-graph-div\" style=\"height:525px; width:100%;\"></div>            <script type=\"text/javascript\">                require([\"plotly\"], function(Plotly) {                    window.PLOTLYENV=window.PLOTLYENV || {};                                    if (document.getElementById(\"4b38f70f-9817-4b42-8f6d-da8ac9bbd892\")) {                    Plotly.newPlot(                        \"4b38f70f-9817-4b42-8f6d-da8ac9bbd892\",                        [{\"alignmentgroup\":\"True\",\"hovertemplate\":\"teamName=Italy<br>Sequence Length=%{x}<br>Count=%{y}<extra></extra>\",\"legendgroup\":\"Italy\",\"marker\":{\"color\":\"#636efa\",\"pattern\":{\"shape\":\"\"}},\"name\":\"Italy\",\"offsetgroup\":\"Italy\",\"orientation\":\"v\",\"showlegend\":true,\"textposition\":\"auto\",\"x\":[66,59,36,35,32,30,27,26,25,23,21,20,19,18,17,16,14,13,12,11,10,9,8,7,6,5,4,3,2],\"xaxis\":\"x\",\"y\":[1,1,1,1,1,1,1,2,1,3,1,2,2,1,3,3,6,3,6,6,3,4,5,3,11,11,16,10,16],\"yaxis\":\"y\",\"type\":\"bar\"},{\"alignmentgroup\":\"True\",\"hovertemplate\":\"teamName=Czech Republic<br>Sequence Length=%{x}<br>Count=%{y}<extra></extra>\",\"legendgroup\":\"Czech Republic\",\"marker\":{\"color\":\"#EF553B\",\"pattern\":{\"shape\":\"\"}},\"name\":\"Czech Republic\",\"offsetgroup\":\"Czech Republic\",\"orientation\":\"v\",\"showlegend\":true,\"textposition\":\"auto\",\"x\":[35,29,28,21,20,17,15,14,13,12,11,10,9,8,7,6,5,4,3,2],\"xaxis\":\"x\",\"y\":[1,1,1,1,1,1,3,2,1,1,1,4,8,4,9,14,13,18,18,16],\"yaxis\":\"y\",\"type\":\"bar\"}],                        {\"template\":{\"data\":{\"histogram2dcontour\":[{\"type\":\"histogram2dcontour\",\"colorbar\":{\"outlinewidth\":0,\"ticks\":\"\"},\"colorscale\":[[0.0,\"#0d0887\"],[0.1111111111111111,\"#46039f\"],[0.2222222222222222,\"#7201a8\"],[0.3333333333333333,\"#9c179e\"],[0.4444444444444444,\"#bd3786\"],[0.5555555555555556,\"#d8576b\"],[0.6666666666666666,\"#ed7953\"],[0.7777777777777778,\"#fb9f3a\"],[0.8888888888888888,\"#fdca26\"],[1.0,\"#f0f921\"]]}],\"choropleth\":[{\"type\":\"choropleth\",\"colorbar\":{\"outlinewidth\":0,\"ticks\":\"\"}}],\"histogram2d\":[{\"type\":\"histogram2d\",\"colorbar\":{\"outlinewidth\":0,\"ticks\":\"\"},\"colorscale\":[[0.0,\"#0d0887\"],[0.1111111111111111,\"#46039f\"],[0.2222222222222222,\"#7201a8\"],[0.3333333333333333,\"#9c179e\"],[0.4444444444444444,\"#bd3786\"],[0.5555555555555556,\"#d8576b\"],[0.6666666666666666,\"#ed7953\"],[0.7777777777777778,\"#fb9f3a\"],[0.8888888888888888,\"#fdca26\"],[1.0,\"#f0f921\"]]}],\"heatmap\":[{\"type\":\"heatmap\",\"colorbar\":{\"outlinewidth\":0,\"ticks\":\"\"},\"colorscale\":[[0.0,\"#0d0887\"],[0.1111111111111111,\"#46039f\"],[0.2222222222222222,\"#7201a8\"],[0.3333333333333333,\"#9c179e\"],[0.4444444444444444,\"#bd3786\"],[0.5555555555555556,\"#d8576b\"],[0.6666666666666666,\"#ed7953\"],[0.7777777777777778,\"#fb9f3a\"],[0.8888888888888888,\"#fdca26\"],[1.0,\"#f0f921\"]]}],\"heatmapgl\":[{\"type\":\"heatmapgl\",\"colorbar\":{\"outlinewidth\":0,\"ticks\":\"\"},\"colorscale\":[[0.0,\"#0d0887\"],[0.1111111111111111,\"#46039f\"],[0.2222222222222222,\"#7201a8\"],[0.3333333333333333,\"#9c179e\"],[0.4444444444444444,\"#bd3786\"],[0.5555555555555556,\"#d8576b\"],[0.6666666666666666,\"#ed7953\"],[0.7777777777777778,\"#fb9f3a\"],[0.8888888888888888,\"#fdca26\"],[1.0,\"#f0f921\"]]}],\"contourcarpet\":[{\"type\":\"contourcarpet\",\"colorbar\":{\"outlinewidth\":0,\"ticks\":\"\"}}],\"contour\":[{\"type\":\"contour\",\"colorbar\":{\"outlinewidth\":0,\"ticks\":\"\"},\"colorscale\":[[0.0,\"#0d0887\"],[0.1111111111111111,\"#46039f\"],[0.2222222222222222,\"#7201a8\"],[0.3333333333333333,\"#9c179e\"],[0.4444444444444444,\"#bd3786\"],[0.5555555555555556,\"#d8576b\"],[0.6666666666666666,\"#ed7953\"],[0.7777777777777778,\"#fb9f3a\"],[0.8888888888888888,\"#fdca26\"],[1.0,\"#f0f921\"]]}],\"surface\":[{\"type\":\"surface\",\"colorbar\":{\"outlinewidth\":0,\"ticks\":\"\"},\"colorscale\":[[0.0,\"#0d0887\"],[0.1111111111111111,\"#46039f\"],[0.2222222222222222,\"#7201a8\"],[0.3333333333333333,\"#9c179e\"],[0.4444444444444444,\"#bd3786\"],[0.5555555555555556,\"#d8576b\"],[0.6666666666666666,\"#ed7953\"],[0.7777777777777778,\"#fb9f3a\"],[0.8888888888888888,\"#fdca26\"],[1.0,\"#f0f921\"]]}],\"mesh3d\":[{\"type\":\"mesh3d\",\"colorbar\":{\"outlinewidth\":0,\"ticks\":\"\"}}],\"scatter\":[{\"marker\":{\"line\":{\"color\":\"#283442\"}},\"type\":\"scatter\"}],\"parcoords\":[{\"type\":\"parcoords\",\"line\":{\"colorbar\":{\"outlinewidth\":0,\"ticks\":\"\"}}}],\"scatterpolargl\":[{\"type\":\"scatterpolargl\",\"marker\":{\"colorbar\":{\"outlinewidth\":0,\"ticks\":\"\"}}}],\"bar\":[{\"error_x\":{\"color\":\"#f2f5fa\"},\"error_y\":{\"color\":\"#f2f5fa\"},\"marker\":{\"line\":{\"color\":\"rgb(17,17,17)\",\"width\":0.5},\"pattern\":{\"fillmode\":\"overlay\",\"size\":10,\"solidity\":0.2}},\"type\":\"bar\"}],\"scattergeo\":[{\"type\":\"scattergeo\",\"marker\":{\"colorbar\":{\"outlinewidth\":0,\"ticks\":\"\"}}}],\"scatterpolar\":[{\"type\":\"scatterpolar\",\"marker\":{\"colorbar\":{\"outlinewidth\":0,\"ticks\":\"\"}}}],\"histogram\":[{\"marker\":{\"pattern\":{\"fillmode\":\"overlay\",\"size\":10,\"solidity\":0.2}},\"type\":\"histogram\"}],\"scattergl\":[{\"marker\":{\"line\":{\"color\":\"#283442\"}},\"type\":\"scattergl\"}],\"scatter3d\":[{\"type\":\"scatter3d\",\"line\":{\"colorbar\":{\"outlinewidth\":0,\"ticks\":\"\"}},\"marker\":{\"colorbar\":{\"outlinewidth\":0,\"ticks\":\"\"}}}],\"scattermapbox\":[{\"type\":\"scattermapbox\",\"marker\":{\"colorbar\":{\"outlinewidth\":0,\"ticks\":\"\"}}}],\"scatterternary\":[{\"type\":\"scatterternary\",\"marker\":{\"colorbar\":{\"outlinewidth\":0,\"ticks\":\"\"}}}],\"scattercarpet\":[{\"type\":\"scattercarpet\",\"marker\":{\"colorbar\":{\"outlinewidth\":0,\"ticks\":\"\"}}}],\"carpet\":[{\"aaxis\":{\"endlinecolor\":\"#A2B1C6\",\"gridcolor\":\"#506784\",\"linecolor\":\"#506784\",\"minorgridcolor\":\"#506784\",\"startlinecolor\":\"#A2B1C6\"},\"baxis\":{\"endlinecolor\":\"#A2B1C6\",\"gridcolor\":\"#506784\",\"linecolor\":\"#506784\",\"minorgridcolor\":\"#506784\",\"startlinecolor\":\"#A2B1C6\"},\"type\":\"carpet\"}],\"table\":[{\"cells\":{\"fill\":{\"color\":\"#506784\"},\"line\":{\"color\":\"rgb(17,17,17)\"}},\"header\":{\"fill\":{\"color\":\"#2a3f5f\"},\"line\":{\"color\":\"rgb(17,17,17)\"}},\"type\":\"table\"}],\"barpolar\":[{\"marker\":{\"line\":{\"color\":\"rgb(17,17,17)\",\"width\":0.5},\"pattern\":{\"fillmode\":\"overlay\",\"size\":10,\"solidity\":0.2}},\"type\":\"barpolar\"}],\"pie\":[{\"automargin\":true,\"type\":\"pie\"}]},\"layout\":{\"autotypenumbers\":\"strict\",\"colorway\":[\"#636efa\",\"#EF553B\",\"#00cc96\",\"#ab63fa\",\"#FFA15A\",\"#19d3f3\",\"#FF6692\",\"#B6E880\",\"#FF97FF\",\"#FECB52\"],\"font\":{\"color\":\"#f2f5fa\"},\"hovermode\":\"closest\",\"hoverlabel\":{\"align\":\"left\"},\"paper_bgcolor\":\"rgb(17,17,17)\",\"plot_bgcolor\":\"rgb(17,17,17)\",\"polar\":{\"bgcolor\":\"rgb(17,17,17)\",\"angularaxis\":{\"gridcolor\":\"#506784\",\"linecolor\":\"#506784\",\"ticks\":\"\"},\"radialaxis\":{\"gridcolor\":\"#506784\",\"linecolor\":\"#506784\",\"ticks\":\"\"}},\"ternary\":{\"bgcolor\":\"rgb(17,17,17)\",\"aaxis\":{\"gridcolor\":\"#506784\",\"linecolor\":\"#506784\",\"ticks\":\"\"},\"baxis\":{\"gridcolor\":\"#506784\",\"linecolor\":\"#506784\",\"ticks\":\"\"},\"caxis\":{\"gridcolor\":\"#506784\",\"linecolor\":\"#506784\",\"ticks\":\"\"}},\"coloraxis\":{\"colorbar\":{\"outlinewidth\":0,\"ticks\":\"\"}},\"colorscale\":{\"sequential\":[[0.0,\"#0d0887\"],[0.1111111111111111,\"#46039f\"],[0.2222222222222222,\"#7201a8\"],[0.3333333333333333,\"#9c179e\"],[0.4444444444444444,\"#bd3786\"],[0.5555555555555556,\"#d8576b\"],[0.6666666666666666,\"#ed7953\"],[0.7777777777777778,\"#fb9f3a\"],[0.8888888888888888,\"#fdca26\"],[1.0,\"#f0f921\"]],\"sequentialminus\":[[0.0,\"#0d0887\"],[0.1111111111111111,\"#46039f\"],[0.2222222222222222,\"#7201a8\"],[0.3333333333333333,\"#9c179e\"],[0.4444444444444444,\"#bd3786\"],[0.5555555555555556,\"#d8576b\"],[0.6666666666666666,\"#ed7953\"],[0.7777777777777778,\"#fb9f3a\"],[0.8888888888888888,\"#fdca26\"],[1.0,\"#f0f921\"]],\"diverging\":[[0,\"#8e0152\"],[0.1,\"#c51b7d\"],[0.2,\"#de77ae\"],[0.3,\"#f1b6da\"],[0.4,\"#fde0ef\"],[0.5,\"#f7f7f7\"],[0.6,\"#e6f5d0\"],[0.7,\"#b8e186\"],[0.8,\"#7fbc41\"],[0.9,\"#4d9221\"],[1,\"#276419\"]]},\"xaxis\":{\"gridcolor\":\"#283442\",\"linecolor\":\"#506784\",\"ticks\":\"\",\"title\":{\"standoff\":15},\"zerolinecolor\":\"#283442\",\"automargin\":true,\"zerolinewidth\":2},\"yaxis\":{\"gridcolor\":\"#283442\",\"linecolor\":\"#506784\",\"ticks\":\"\",\"title\":{\"standoff\":15},\"zerolinecolor\":\"#283442\",\"automargin\":true,\"zerolinewidth\":2},\"scene\":{\"xaxis\":{\"backgroundcolor\":\"rgb(17,17,17)\",\"gridcolor\":\"#506784\",\"linecolor\":\"#506784\",\"showbackground\":true,\"ticks\":\"\",\"zerolinecolor\":\"#C8D4E3\",\"gridwidth\":2},\"yaxis\":{\"backgroundcolor\":\"rgb(17,17,17)\",\"gridcolor\":\"#506784\",\"linecolor\":\"#506784\",\"showbackground\":true,\"ticks\":\"\",\"zerolinecolor\":\"#C8D4E3\",\"gridwidth\":2},\"zaxis\":{\"backgroundcolor\":\"rgb(17,17,17)\",\"gridcolor\":\"#506784\",\"linecolor\":\"#506784\",\"showbackground\":true,\"ticks\":\"\",\"zerolinecolor\":\"#C8D4E3\",\"gridwidth\":2}},\"shapedefaults\":{\"line\":{\"color\":\"#f2f5fa\"}},\"annotationdefaults\":{\"arrowcolor\":\"#f2f5fa\",\"arrowhead\":0,\"arrowwidth\":1},\"geo\":{\"bgcolor\":\"rgb(17,17,17)\",\"landcolor\":\"rgb(17,17,17)\",\"subunitcolor\":\"#506784\",\"showland\":true,\"showlakes\":true,\"lakecolor\":\"rgb(17,17,17)\"},\"title\":{\"x\":0.05},\"updatemenudefaults\":{\"bgcolor\":\"#506784\",\"borderwidth\":0},\"sliderdefaults\":{\"bgcolor\":\"#C8D4E3\",\"borderwidth\":1,\"bordercolor\":\"rgb(17,17,17)\",\"tickwidth\":0},\"mapbox\":{\"style\":\"dark\"}}},\"xaxis\":{\"anchor\":\"y\",\"domain\":[0.0,1.0],\"title\":{\"text\":\"Sequence Length\"},\"showgrid\":false},\"yaxis\":{\"anchor\":\"x\",\"domain\":[0.0,1.0],\"title\":{\"text\":\"Count\"},\"showgrid\":false},\"legend\":{\"title\":{\"text\":\"teamName\"},\"tracegroupgap\":0},\"margin\":{\"t\":60},\"barmode\":\"relative\",\"font\":{\"color\":\"black\"},\"plot_bgcolor\":\"white\",\"paper_bgcolor\":\"white\"},                        {\"responsive\": true}                    ).then(function(){\n                            \nvar gd = document.getElementById('4b38f70f-9817-4b42-8f6d-da8ac9bbd892');\nvar x = new MutationObserver(function (mutations, observer) {{\n        var display = window.getComputedStyle(gd).display;\n        if (!display || display === 'none') {{\n            console.log([gd, 'removed!']);\n            Plotly.purge(gd);\n            observer.disconnect();\n        }}\n}});\n\n// Listen for the removal of the full notebook cells\nvar notebookContainer = gd.closest('#notebook-container');\nif (notebookContainer) {{\n    x.observe(notebookContainer, {childList: true});\n}}\n\n// Listen for the clearing of the current output cell\nvar outputEl = gd.closest('.output');\nif (outputEl) {{\n    x.observe(outputEl, {childList: true});\n}}\n\n                        })                };                });            </script>        </div>"
     },
     "metadata": {},
     "output_type": "display_data"
    },
    {
     "data": {
      "application/vnd.plotly.v1+json": {
       "data": [
        {
         "domain": {
          "x": [
           0.0,
           1.0
          ],
          "y": [
           0.0,
           1.0
          ]
         },
         "hole": 0.5,
         "hovertemplate": "label=%{label}<br>value=%{value}<extra></extra>",
         "labels": [
          "Italy",
          "Czech Republic"
         ],
         "legendgroup": "",
         "name": "",
         "showlegend": true,
         "values": [
          16,
          5
         ],
         "type": "pie"
        }
       ],
       "layout": {
        "template": {
         "data": {
          "histogram2dcontour": [
           {
            "type": "histogram2dcontour",
            "colorbar": {
             "outlinewidth": 0,
             "ticks": ""
            },
            "colorscale": [
             [
              0.0,
              "#0d0887"
             ],
             [
              0.1111111111111111,
              "#46039f"
             ],
             [
              0.2222222222222222,
              "#7201a8"
             ],
             [
              0.3333333333333333,
              "#9c179e"
             ],
             [
              0.4444444444444444,
              "#bd3786"
             ],
             [
              0.5555555555555556,
              "#d8576b"
             ],
             [
              0.6666666666666666,
              "#ed7953"
             ],
             [
              0.7777777777777778,
              "#fb9f3a"
             ],
             [
              0.8888888888888888,
              "#fdca26"
             ],
             [
              1.0,
              "#f0f921"
             ]
            ]
           }
          ],
          "choropleth": [
           {
            "type": "choropleth",
            "colorbar": {
             "outlinewidth": 0,
             "ticks": ""
            }
           }
          ],
          "histogram2d": [
           {
            "type": "histogram2d",
            "colorbar": {
             "outlinewidth": 0,
             "ticks": ""
            },
            "colorscale": [
             [
              0.0,
              "#0d0887"
             ],
             [
              0.1111111111111111,
              "#46039f"
             ],
             [
              0.2222222222222222,
              "#7201a8"
             ],
             [
              0.3333333333333333,
              "#9c179e"
             ],
             [
              0.4444444444444444,
              "#bd3786"
             ],
             [
              0.5555555555555556,
              "#d8576b"
             ],
             [
              0.6666666666666666,
              "#ed7953"
             ],
             [
              0.7777777777777778,
              "#fb9f3a"
             ],
             [
              0.8888888888888888,
              "#fdca26"
             ],
             [
              1.0,
              "#f0f921"
             ]
            ]
           }
          ],
          "heatmap": [
           {
            "type": "heatmap",
            "colorbar": {
             "outlinewidth": 0,
             "ticks": ""
            },
            "colorscale": [
             [
              0.0,
              "#0d0887"
             ],
             [
              0.1111111111111111,
              "#46039f"
             ],
             [
              0.2222222222222222,
              "#7201a8"
             ],
             [
              0.3333333333333333,
              "#9c179e"
             ],
             [
              0.4444444444444444,
              "#bd3786"
             ],
             [
              0.5555555555555556,
              "#d8576b"
             ],
             [
              0.6666666666666666,
              "#ed7953"
             ],
             [
              0.7777777777777778,
              "#fb9f3a"
             ],
             [
              0.8888888888888888,
              "#fdca26"
             ],
             [
              1.0,
              "#f0f921"
             ]
            ]
           }
          ],
          "heatmapgl": [
           {
            "type": "heatmapgl",
            "colorbar": {
             "outlinewidth": 0,
             "ticks": ""
            },
            "colorscale": [
             [
              0.0,
              "#0d0887"
             ],
             [
              0.1111111111111111,
              "#46039f"
             ],
             [
              0.2222222222222222,
              "#7201a8"
             ],
             [
              0.3333333333333333,
              "#9c179e"
             ],
             [
              0.4444444444444444,
              "#bd3786"
             ],
             [
              0.5555555555555556,
              "#d8576b"
             ],
             [
              0.6666666666666666,
              "#ed7953"
             ],
             [
              0.7777777777777778,
              "#fb9f3a"
             ],
             [
              0.8888888888888888,
              "#fdca26"
             ],
             [
              1.0,
              "#f0f921"
             ]
            ]
           }
          ],
          "contourcarpet": [
           {
            "type": "contourcarpet",
            "colorbar": {
             "outlinewidth": 0,
             "ticks": ""
            }
           }
          ],
          "contour": [
           {
            "type": "contour",
            "colorbar": {
             "outlinewidth": 0,
             "ticks": ""
            },
            "colorscale": [
             [
              0.0,
              "#0d0887"
             ],
             [
              0.1111111111111111,
              "#46039f"
             ],
             [
              0.2222222222222222,
              "#7201a8"
             ],
             [
              0.3333333333333333,
              "#9c179e"
             ],
             [
              0.4444444444444444,
              "#bd3786"
             ],
             [
              0.5555555555555556,
              "#d8576b"
             ],
             [
              0.6666666666666666,
              "#ed7953"
             ],
             [
              0.7777777777777778,
              "#fb9f3a"
             ],
             [
              0.8888888888888888,
              "#fdca26"
             ],
             [
              1.0,
              "#f0f921"
             ]
            ]
           }
          ],
          "surface": [
           {
            "type": "surface",
            "colorbar": {
             "outlinewidth": 0,
             "ticks": ""
            },
            "colorscale": [
             [
              0.0,
              "#0d0887"
             ],
             [
              0.1111111111111111,
              "#46039f"
             ],
             [
              0.2222222222222222,
              "#7201a8"
             ],
             [
              0.3333333333333333,
              "#9c179e"
             ],
             [
              0.4444444444444444,
              "#bd3786"
             ],
             [
              0.5555555555555556,
              "#d8576b"
             ],
             [
              0.6666666666666666,
              "#ed7953"
             ],
             [
              0.7777777777777778,
              "#fb9f3a"
             ],
             [
              0.8888888888888888,
              "#fdca26"
             ],
             [
              1.0,
              "#f0f921"
             ]
            ]
           }
          ],
          "mesh3d": [
           {
            "type": "mesh3d",
            "colorbar": {
             "outlinewidth": 0,
             "ticks": ""
            }
           }
          ],
          "scatter": [
           {
            "marker": {
             "line": {
              "color": "#283442"
             }
            },
            "type": "scatter"
           }
          ],
          "parcoords": [
           {
            "type": "parcoords",
            "line": {
             "colorbar": {
              "outlinewidth": 0,
              "ticks": ""
             }
            }
           }
          ],
          "scatterpolargl": [
           {
            "type": "scatterpolargl",
            "marker": {
             "colorbar": {
              "outlinewidth": 0,
              "ticks": ""
             }
            }
           }
          ],
          "bar": [
           {
            "error_x": {
             "color": "#f2f5fa"
            },
            "error_y": {
             "color": "#f2f5fa"
            },
            "marker": {
             "line": {
              "color": "rgb(17,17,17)",
              "width": 0.5
             },
             "pattern": {
              "fillmode": "overlay",
              "size": 10,
              "solidity": 0.2
             }
            },
            "type": "bar"
           }
          ],
          "scattergeo": [
           {
            "type": "scattergeo",
            "marker": {
             "colorbar": {
              "outlinewidth": 0,
              "ticks": ""
             }
            }
           }
          ],
          "scatterpolar": [
           {
            "type": "scatterpolar",
            "marker": {
             "colorbar": {
              "outlinewidth": 0,
              "ticks": ""
             }
            }
           }
          ],
          "histogram": [
           {
            "marker": {
             "pattern": {
              "fillmode": "overlay",
              "size": 10,
              "solidity": 0.2
             }
            },
            "type": "histogram"
           }
          ],
          "scattergl": [
           {
            "marker": {
             "line": {
              "color": "#283442"
             }
            },
            "type": "scattergl"
           }
          ],
          "scatter3d": [
           {
            "type": "scatter3d",
            "line": {
             "colorbar": {
              "outlinewidth": 0,
              "ticks": ""
             }
            },
            "marker": {
             "colorbar": {
              "outlinewidth": 0,
              "ticks": ""
             }
            }
           }
          ],
          "scattermapbox": [
           {
            "type": "scattermapbox",
            "marker": {
             "colorbar": {
              "outlinewidth": 0,
              "ticks": ""
             }
            }
           }
          ],
          "scatterternary": [
           {
            "type": "scatterternary",
            "marker": {
             "colorbar": {
              "outlinewidth": 0,
              "ticks": ""
             }
            }
           }
          ],
          "scattercarpet": [
           {
            "type": "scattercarpet",
            "marker": {
             "colorbar": {
              "outlinewidth": 0,
              "ticks": ""
             }
            }
           }
          ],
          "carpet": [
           {
            "aaxis": {
             "endlinecolor": "#A2B1C6",
             "gridcolor": "#506784",
             "linecolor": "#506784",
             "minorgridcolor": "#506784",
             "startlinecolor": "#A2B1C6"
            },
            "baxis": {
             "endlinecolor": "#A2B1C6",
             "gridcolor": "#506784",
             "linecolor": "#506784",
             "minorgridcolor": "#506784",
             "startlinecolor": "#A2B1C6"
            },
            "type": "carpet"
           }
          ],
          "table": [
           {
            "cells": {
             "fill": {
              "color": "#506784"
             },
             "line": {
              "color": "rgb(17,17,17)"
             }
            },
            "header": {
             "fill": {
              "color": "#2a3f5f"
             },
             "line": {
              "color": "rgb(17,17,17)"
             }
            },
            "type": "table"
           }
          ],
          "barpolar": [
           {
            "marker": {
             "line": {
              "color": "rgb(17,17,17)",
              "width": 0.5
             },
             "pattern": {
              "fillmode": "overlay",
              "size": 10,
              "solidity": 0.2
             }
            },
            "type": "barpolar"
           }
          ],
          "pie": [
           {
            "automargin": true,
            "type": "pie"
           }
          ]
         },
         "layout": {
          "autotypenumbers": "strict",
          "colorway": [
           "#636efa",
           "#EF553B",
           "#00cc96",
           "#ab63fa",
           "#FFA15A",
           "#19d3f3",
           "#FF6692",
           "#B6E880",
           "#FF97FF",
           "#FECB52"
          ],
          "font": {
           "color": "#f2f5fa"
          },
          "hovermode": "closest",
          "hoverlabel": {
           "align": "left"
          },
          "paper_bgcolor": "rgb(17,17,17)",
          "plot_bgcolor": "rgb(17,17,17)",
          "polar": {
           "bgcolor": "rgb(17,17,17)",
           "angularaxis": {
            "gridcolor": "#506784",
            "linecolor": "#506784",
            "ticks": ""
           },
           "radialaxis": {
            "gridcolor": "#506784",
            "linecolor": "#506784",
            "ticks": ""
           }
          },
          "ternary": {
           "bgcolor": "rgb(17,17,17)",
           "aaxis": {
            "gridcolor": "#506784",
            "linecolor": "#506784",
            "ticks": ""
           },
           "baxis": {
            "gridcolor": "#506784",
            "linecolor": "#506784",
            "ticks": ""
           },
           "caxis": {
            "gridcolor": "#506784",
            "linecolor": "#506784",
            "ticks": ""
           }
          },
          "coloraxis": {
           "colorbar": {
            "outlinewidth": 0,
            "ticks": ""
           }
          },
          "colorscale": {
           "sequential": [
            [
             0.0,
             "#0d0887"
            ],
            [
             0.1111111111111111,
             "#46039f"
            ],
            [
             0.2222222222222222,
             "#7201a8"
            ],
            [
             0.3333333333333333,
             "#9c179e"
            ],
            [
             0.4444444444444444,
             "#bd3786"
            ],
            [
             0.5555555555555556,
             "#d8576b"
            ],
            [
             0.6666666666666666,
             "#ed7953"
            ],
            [
             0.7777777777777778,
             "#fb9f3a"
            ],
            [
             0.8888888888888888,
             "#fdca26"
            ],
            [
             1.0,
             "#f0f921"
            ]
           ],
           "sequentialminus": [
            [
             0.0,
             "#0d0887"
            ],
            [
             0.1111111111111111,
             "#46039f"
            ],
            [
             0.2222222222222222,
             "#7201a8"
            ],
            [
             0.3333333333333333,
             "#9c179e"
            ],
            [
             0.4444444444444444,
             "#bd3786"
            ],
            [
             0.5555555555555556,
             "#d8576b"
            ],
            [
             0.6666666666666666,
             "#ed7953"
            ],
            [
             0.7777777777777778,
             "#fb9f3a"
            ],
            [
             0.8888888888888888,
             "#fdca26"
            ],
            [
             1.0,
             "#f0f921"
            ]
           ],
           "diverging": [
            [
             0,
             "#8e0152"
            ],
            [
             0.1,
             "#c51b7d"
            ],
            [
             0.2,
             "#de77ae"
            ],
            [
             0.3,
             "#f1b6da"
            ],
            [
             0.4,
             "#fde0ef"
            ],
            [
             0.5,
             "#f7f7f7"
            ],
            [
             0.6,
             "#e6f5d0"
            ],
            [
             0.7,
             "#b8e186"
            ],
            [
             0.8,
             "#7fbc41"
            ],
            [
             0.9,
             "#4d9221"
            ],
            [
             1,
             "#276419"
            ]
           ]
          },
          "xaxis": {
           "gridcolor": "#283442",
           "linecolor": "#506784",
           "ticks": "",
           "title": {
            "standoff": 15
           },
           "zerolinecolor": "#283442",
           "automargin": true,
           "zerolinewidth": 2
          },
          "yaxis": {
           "gridcolor": "#283442",
           "linecolor": "#506784",
           "ticks": "",
           "title": {
            "standoff": 15
           },
           "zerolinecolor": "#283442",
           "automargin": true,
           "zerolinewidth": 2
          },
          "scene": {
           "xaxis": {
            "backgroundcolor": "rgb(17,17,17)",
            "gridcolor": "#506784",
            "linecolor": "#506784",
            "showbackground": true,
            "ticks": "",
            "zerolinecolor": "#C8D4E3",
            "gridwidth": 2
           },
           "yaxis": {
            "backgroundcolor": "rgb(17,17,17)",
            "gridcolor": "#506784",
            "linecolor": "#506784",
            "showbackground": true,
            "ticks": "",
            "zerolinecolor": "#C8D4E3",
            "gridwidth": 2
           },
           "zaxis": {
            "backgroundcolor": "rgb(17,17,17)",
            "gridcolor": "#506784",
            "linecolor": "#506784",
            "showbackground": true,
            "ticks": "",
            "zerolinecolor": "#C8D4E3",
            "gridwidth": 2
           }
          },
          "shapedefaults": {
           "line": {
            "color": "#f2f5fa"
           }
          },
          "annotationdefaults": {
           "arrowcolor": "#f2f5fa",
           "arrowhead": 0,
           "arrowwidth": 1
          },
          "geo": {
           "bgcolor": "rgb(17,17,17)",
           "landcolor": "rgb(17,17,17)",
           "subunitcolor": "#506784",
           "showland": true,
           "showlakes": true,
           "lakecolor": "rgb(17,17,17)"
          },
          "title": {
           "x": 0.05
          },
          "updatemenudefaults": {
           "bgcolor": "#506784",
           "borderwidth": 0
          },
          "sliderdefaults": {
           "bgcolor": "#C8D4E3",
           "borderwidth": 1,
           "bordercolor": "rgb(17,17,17)",
           "tickwidth": 0
          },
          "mapbox": {
           "style": "dark"
          }
         }
        },
        "legend": {
         "tracegroupgap": 0
        },
        "margin": {
         "t": 60
        },
        "font": {
         "color": "black"
        },
        "plot_bgcolor": "white",
        "paper_bgcolor": "white"
       },
       "config": {
        "plotlyServerURL": "https://plot.ly"
       }
      },
      "text/html": "<div>                            <div id=\"a65329d3-9129-454d-b600-1311235a92db\" class=\"plotly-graph-div\" style=\"height:525px; width:100%;\"></div>            <script type=\"text/javascript\">                require([\"plotly\"], function(Plotly) {                    window.PLOTLYENV=window.PLOTLYENV || {};                                    if (document.getElementById(\"a65329d3-9129-454d-b600-1311235a92db\")) {                    Plotly.newPlot(                        \"a65329d3-9129-454d-b600-1311235a92db\",                        [{\"domain\":{\"x\":[0.0,1.0],\"y\":[0.0,1.0]},\"hole\":0.5,\"hovertemplate\":\"label=%{label}<br>value=%{value}<extra></extra>\",\"labels\":[\"Italy\",\"Czech Republic\"],\"legendgroup\":\"\",\"name\":\"\",\"showlegend\":true,\"values\":[16,5],\"type\":\"pie\"}],                        {\"template\":{\"data\":{\"histogram2dcontour\":[{\"type\":\"histogram2dcontour\",\"colorbar\":{\"outlinewidth\":0,\"ticks\":\"\"},\"colorscale\":[[0.0,\"#0d0887\"],[0.1111111111111111,\"#46039f\"],[0.2222222222222222,\"#7201a8\"],[0.3333333333333333,\"#9c179e\"],[0.4444444444444444,\"#bd3786\"],[0.5555555555555556,\"#d8576b\"],[0.6666666666666666,\"#ed7953\"],[0.7777777777777778,\"#fb9f3a\"],[0.8888888888888888,\"#fdca26\"],[1.0,\"#f0f921\"]]}],\"choropleth\":[{\"type\":\"choropleth\",\"colorbar\":{\"outlinewidth\":0,\"ticks\":\"\"}}],\"histogram2d\":[{\"type\":\"histogram2d\",\"colorbar\":{\"outlinewidth\":0,\"ticks\":\"\"},\"colorscale\":[[0.0,\"#0d0887\"],[0.1111111111111111,\"#46039f\"],[0.2222222222222222,\"#7201a8\"],[0.3333333333333333,\"#9c179e\"],[0.4444444444444444,\"#bd3786\"],[0.5555555555555556,\"#d8576b\"],[0.6666666666666666,\"#ed7953\"],[0.7777777777777778,\"#fb9f3a\"],[0.8888888888888888,\"#fdca26\"],[1.0,\"#f0f921\"]]}],\"heatmap\":[{\"type\":\"heatmap\",\"colorbar\":{\"outlinewidth\":0,\"ticks\":\"\"},\"colorscale\":[[0.0,\"#0d0887\"],[0.1111111111111111,\"#46039f\"],[0.2222222222222222,\"#7201a8\"],[0.3333333333333333,\"#9c179e\"],[0.4444444444444444,\"#bd3786\"],[0.5555555555555556,\"#d8576b\"],[0.6666666666666666,\"#ed7953\"],[0.7777777777777778,\"#fb9f3a\"],[0.8888888888888888,\"#fdca26\"],[1.0,\"#f0f921\"]]}],\"heatmapgl\":[{\"type\":\"heatmapgl\",\"colorbar\":{\"outlinewidth\":0,\"ticks\":\"\"},\"colorscale\":[[0.0,\"#0d0887\"],[0.1111111111111111,\"#46039f\"],[0.2222222222222222,\"#7201a8\"],[0.3333333333333333,\"#9c179e\"],[0.4444444444444444,\"#bd3786\"],[0.5555555555555556,\"#d8576b\"],[0.6666666666666666,\"#ed7953\"],[0.7777777777777778,\"#fb9f3a\"],[0.8888888888888888,\"#fdca26\"],[1.0,\"#f0f921\"]]}],\"contourcarpet\":[{\"type\":\"contourcarpet\",\"colorbar\":{\"outlinewidth\":0,\"ticks\":\"\"}}],\"contour\":[{\"type\":\"contour\",\"colorbar\":{\"outlinewidth\":0,\"ticks\":\"\"},\"colorscale\":[[0.0,\"#0d0887\"],[0.1111111111111111,\"#46039f\"],[0.2222222222222222,\"#7201a8\"],[0.3333333333333333,\"#9c179e\"],[0.4444444444444444,\"#bd3786\"],[0.5555555555555556,\"#d8576b\"],[0.6666666666666666,\"#ed7953\"],[0.7777777777777778,\"#fb9f3a\"],[0.8888888888888888,\"#fdca26\"],[1.0,\"#f0f921\"]]}],\"surface\":[{\"type\":\"surface\",\"colorbar\":{\"outlinewidth\":0,\"ticks\":\"\"},\"colorscale\":[[0.0,\"#0d0887\"],[0.1111111111111111,\"#46039f\"],[0.2222222222222222,\"#7201a8\"],[0.3333333333333333,\"#9c179e\"],[0.4444444444444444,\"#bd3786\"],[0.5555555555555556,\"#d8576b\"],[0.6666666666666666,\"#ed7953\"],[0.7777777777777778,\"#fb9f3a\"],[0.8888888888888888,\"#fdca26\"],[1.0,\"#f0f921\"]]}],\"mesh3d\":[{\"type\":\"mesh3d\",\"colorbar\":{\"outlinewidth\":0,\"ticks\":\"\"}}],\"scatter\":[{\"marker\":{\"line\":{\"color\":\"#283442\"}},\"type\":\"scatter\"}],\"parcoords\":[{\"type\":\"parcoords\",\"line\":{\"colorbar\":{\"outlinewidth\":0,\"ticks\":\"\"}}}],\"scatterpolargl\":[{\"type\":\"scatterpolargl\",\"marker\":{\"colorbar\":{\"outlinewidth\":0,\"ticks\":\"\"}}}],\"bar\":[{\"error_x\":{\"color\":\"#f2f5fa\"},\"error_y\":{\"color\":\"#f2f5fa\"},\"marker\":{\"line\":{\"color\":\"rgb(17,17,17)\",\"width\":0.5},\"pattern\":{\"fillmode\":\"overlay\",\"size\":10,\"solidity\":0.2}},\"type\":\"bar\"}],\"scattergeo\":[{\"type\":\"scattergeo\",\"marker\":{\"colorbar\":{\"outlinewidth\":0,\"ticks\":\"\"}}}],\"scatterpolar\":[{\"type\":\"scatterpolar\",\"marker\":{\"colorbar\":{\"outlinewidth\":0,\"ticks\":\"\"}}}],\"histogram\":[{\"marker\":{\"pattern\":{\"fillmode\":\"overlay\",\"size\":10,\"solidity\":0.2}},\"type\":\"histogram\"}],\"scattergl\":[{\"marker\":{\"line\":{\"color\":\"#283442\"}},\"type\":\"scattergl\"}],\"scatter3d\":[{\"type\":\"scatter3d\",\"line\":{\"colorbar\":{\"outlinewidth\":0,\"ticks\":\"\"}},\"marker\":{\"colorbar\":{\"outlinewidth\":0,\"ticks\":\"\"}}}],\"scattermapbox\":[{\"type\":\"scattermapbox\",\"marker\":{\"colorbar\":{\"outlinewidth\":0,\"ticks\":\"\"}}}],\"scatterternary\":[{\"type\":\"scatterternary\",\"marker\":{\"colorbar\":{\"outlinewidth\":0,\"ticks\":\"\"}}}],\"scattercarpet\":[{\"type\":\"scattercarpet\",\"marker\":{\"colorbar\":{\"outlinewidth\":0,\"ticks\":\"\"}}}],\"carpet\":[{\"aaxis\":{\"endlinecolor\":\"#A2B1C6\",\"gridcolor\":\"#506784\",\"linecolor\":\"#506784\",\"minorgridcolor\":\"#506784\",\"startlinecolor\":\"#A2B1C6\"},\"baxis\":{\"endlinecolor\":\"#A2B1C6\",\"gridcolor\":\"#506784\",\"linecolor\":\"#506784\",\"minorgridcolor\":\"#506784\",\"startlinecolor\":\"#A2B1C6\"},\"type\":\"carpet\"}],\"table\":[{\"cells\":{\"fill\":{\"color\":\"#506784\"},\"line\":{\"color\":\"rgb(17,17,17)\"}},\"header\":{\"fill\":{\"color\":\"#2a3f5f\"},\"line\":{\"color\":\"rgb(17,17,17)\"}},\"type\":\"table\"}],\"barpolar\":[{\"marker\":{\"line\":{\"color\":\"rgb(17,17,17)\",\"width\":0.5},\"pattern\":{\"fillmode\":\"overlay\",\"size\":10,\"solidity\":0.2}},\"type\":\"barpolar\"}],\"pie\":[{\"automargin\":true,\"type\":\"pie\"}]},\"layout\":{\"autotypenumbers\":\"strict\",\"colorway\":[\"#636efa\",\"#EF553B\",\"#00cc96\",\"#ab63fa\",\"#FFA15A\",\"#19d3f3\",\"#FF6692\",\"#B6E880\",\"#FF97FF\",\"#FECB52\"],\"font\":{\"color\":\"#f2f5fa\"},\"hovermode\":\"closest\",\"hoverlabel\":{\"align\":\"left\"},\"paper_bgcolor\":\"rgb(17,17,17)\",\"plot_bgcolor\":\"rgb(17,17,17)\",\"polar\":{\"bgcolor\":\"rgb(17,17,17)\",\"angularaxis\":{\"gridcolor\":\"#506784\",\"linecolor\":\"#506784\",\"ticks\":\"\"},\"radialaxis\":{\"gridcolor\":\"#506784\",\"linecolor\":\"#506784\",\"ticks\":\"\"}},\"ternary\":{\"bgcolor\":\"rgb(17,17,17)\",\"aaxis\":{\"gridcolor\":\"#506784\",\"linecolor\":\"#506784\",\"ticks\":\"\"},\"baxis\":{\"gridcolor\":\"#506784\",\"linecolor\":\"#506784\",\"ticks\":\"\"},\"caxis\":{\"gridcolor\":\"#506784\",\"linecolor\":\"#506784\",\"ticks\":\"\"}},\"coloraxis\":{\"colorbar\":{\"outlinewidth\":0,\"ticks\":\"\"}},\"colorscale\":{\"sequential\":[[0.0,\"#0d0887\"],[0.1111111111111111,\"#46039f\"],[0.2222222222222222,\"#7201a8\"],[0.3333333333333333,\"#9c179e\"],[0.4444444444444444,\"#bd3786\"],[0.5555555555555556,\"#d8576b\"],[0.6666666666666666,\"#ed7953\"],[0.7777777777777778,\"#fb9f3a\"],[0.8888888888888888,\"#fdca26\"],[1.0,\"#f0f921\"]],\"sequentialminus\":[[0.0,\"#0d0887\"],[0.1111111111111111,\"#46039f\"],[0.2222222222222222,\"#7201a8\"],[0.3333333333333333,\"#9c179e\"],[0.4444444444444444,\"#bd3786\"],[0.5555555555555556,\"#d8576b\"],[0.6666666666666666,\"#ed7953\"],[0.7777777777777778,\"#fb9f3a\"],[0.8888888888888888,\"#fdca26\"],[1.0,\"#f0f921\"]],\"diverging\":[[0,\"#8e0152\"],[0.1,\"#c51b7d\"],[0.2,\"#de77ae\"],[0.3,\"#f1b6da\"],[0.4,\"#fde0ef\"],[0.5,\"#f7f7f7\"],[0.6,\"#e6f5d0\"],[0.7,\"#b8e186\"],[0.8,\"#7fbc41\"],[0.9,\"#4d9221\"],[1,\"#276419\"]]},\"xaxis\":{\"gridcolor\":\"#283442\",\"linecolor\":\"#506784\",\"ticks\":\"\",\"title\":{\"standoff\":15},\"zerolinecolor\":\"#283442\",\"automargin\":true,\"zerolinewidth\":2},\"yaxis\":{\"gridcolor\":\"#283442\",\"linecolor\":\"#506784\",\"ticks\":\"\",\"title\":{\"standoff\":15},\"zerolinecolor\":\"#283442\",\"automargin\":true,\"zerolinewidth\":2},\"scene\":{\"xaxis\":{\"backgroundcolor\":\"rgb(17,17,17)\",\"gridcolor\":\"#506784\",\"linecolor\":\"#506784\",\"showbackground\":true,\"ticks\":\"\",\"zerolinecolor\":\"#C8D4E3\",\"gridwidth\":2},\"yaxis\":{\"backgroundcolor\":\"rgb(17,17,17)\",\"gridcolor\":\"#506784\",\"linecolor\":\"#506784\",\"showbackground\":true,\"ticks\":\"\",\"zerolinecolor\":\"#C8D4E3\",\"gridwidth\":2},\"zaxis\":{\"backgroundcolor\":\"rgb(17,17,17)\",\"gridcolor\":\"#506784\",\"linecolor\":\"#506784\",\"showbackground\":true,\"ticks\":\"\",\"zerolinecolor\":\"#C8D4E3\",\"gridwidth\":2}},\"shapedefaults\":{\"line\":{\"color\":\"#f2f5fa\"}},\"annotationdefaults\":{\"arrowcolor\":\"#f2f5fa\",\"arrowhead\":0,\"arrowwidth\":1},\"geo\":{\"bgcolor\":\"rgb(17,17,17)\",\"landcolor\":\"rgb(17,17,17)\",\"subunitcolor\":\"#506784\",\"showland\":true,\"showlakes\":true,\"lakecolor\":\"rgb(17,17,17)\"},\"title\":{\"x\":0.05},\"updatemenudefaults\":{\"bgcolor\":\"#506784\",\"borderwidth\":0},\"sliderdefaults\":{\"bgcolor\":\"#C8D4E3\",\"borderwidth\":1,\"bordercolor\":\"rgb(17,17,17)\",\"tickwidth\":0},\"mapbox\":{\"style\":\"dark\"}}},\"legend\":{\"tracegroupgap\":0},\"margin\":{\"t\":60},\"font\":{\"color\":\"black\"},\"plot_bgcolor\":\"white\",\"paper_bgcolor\":\"white\"},                        {\"responsive\": true}                    ).then(function(){\n                            \nvar gd = document.getElementById('a65329d3-9129-454d-b600-1311235a92db');\nvar x = new MutationObserver(function (mutations, observer) {{\n        var display = window.getComputedStyle(gd).display;\n        if (!display || display === 'none') {{\n            console.log([gd, 'removed!']);\n            Plotly.purge(gd);\n            observer.disconnect();\n        }}\n}});\n\n// Listen for the removal of the full notebook cells\nvar notebookContainer = gd.closest('#notebook-container');\nif (notebookContainer) {{\n    x.observe(notebookContainer, {childList: true});\n}}\n\n// Listen for the clearing of the current output cell\nvar outputEl = gd.closest('.output');\nif (outputEl) {{\n    x.observe(outputEl, {childList: true});\n}}\n\n                        })                };                });            </script>        </div>"
     },
     "metadata": {},
     "output_type": "display_data"
    }
   ],
   "source": [
    "\n",
    "data = {'Italy': [16], 'Czech Republic': [5]}\n",
    "dd = pd.DataFrame(data)\n",
    "\n",
    "# 도넛 차트 그리기\n",
    "fig = px.pie(dd, names=dd.columns,values=[16,5], hole=0.5)\n",
    "\n",
    "# 레이아웃 설정\n",
    "fig.update_layout(\n",
    "    plot_bgcolor='white',\n",
    "    paper_bgcolor='white',\n",
    "    font=dict(color='black'),\n",
    ")\n",
    "\n",
    "fig.show()"
   ],
   "metadata": {
    "collapsed": false
   }
  },
  {
   "cell_type": "code",
   "execution_count": 410,
   "outputs": [
    {
     "data": {
      "text/plain": "<Figure size 640x480 with 1 Axes>",
      "image/png": "[encoded data removed]"
     },
     "metadata": {},
     "output_type": "display_data"
    }
   ],
   "source": [
    "from mplsoccer import Pitch, VerticalPitch\n",
    "\n",
    "goal_seq_t['real_x'] = goal_seq_t['y'].apply(lambda x: x * 105)\n",
    "goal_seq_t['real_y'] = goal_seq_t['x'].apply(lambda x : x * 68)\n",
    "\n",
    "goal_seq_t = goal_seq_t.sort_values(by='eventTime')\n",
    "#plt.figure(facecolor='white')\n",
    "\n",
    "\n",
    "pitch = Pitch(pitch_type='uefa',  # example plotting a tracab pitch\n",
    "              pitch_length=105, pitch_width=68,\n",
    "              axis=True, label=True,\n",
    "              pitch_color='white', line_color='black',\n",
    "                      line_alpha=0.7, goal_alpha=0.5, linewidth=1)  # showing axis labels is optional\n",
    "\n",
    "fig, ax = pitch.draw()\n",
    "\n",
    "time = None\n",
    "\n",
    "for idx, ev in goal_seq_t.iterrows():\n",
    "    if ev['outcome'] == 'Goal':\n",
    "        ax.scatter(ev['real_x'], ev['real_y'], marker='o',color='green',s=40)\n",
    "    else:\n",
    "        ax.scatter(ev['real_x'], ev['real_y'], marker='o',\n",
    "                    color='white',edgecolors='black',s=40)\n",
    "\n",
    "    if time is not None and ev['start_sec'] == time:\n",
    "        ax.plot([prev_x, ev['real_x']], [prev_y, ev['real_y']],\n",
    "                 linestyle='-',color='blue', label=f'Point {idx}')\n",
    "\n",
    "    prev_x, prev_y = ev['real_x'], ev['real_y']\n",
    "    time = ev['start_sec']\n",
    "\n",
    "'''plt.xlim(0, 105)\n",
    "plt.ylim(0, 68)\n",
    "plt.gca().set_aspect('equal', adjustable='box')\n",
    "plt.gca().set_facecolor('white')'''\n",
    "plt.savefig('italy_goal_sequence.png')\n",
    "\n",
    "plt.show()"
   ],
   "metadata": {
    "collapsed": false
   }
  },
  {
   "cell_type": "code",
   "execution_count": 75,
   "outputs": [
    {
     "data": {
      "text/plain": "outcome  teamId  playerId  playerName playerLastName  Successful  \\\n8         10757  210309.0    Leonardo        Bonucci        82.0   \n0         10757  210301.0      Manuel      Locatelli        65.0   \n5         10757  210306.0  Alessandro       Florenzi        57.0   \n25        10758  210332.0       Jakub         Brabec        54.0   \n3         10757  210304.0     Lorenzo        Insigne        50.0   \n7         10757  210308.0     Giorgio      Chiellini        46.0   \n2         10757  210303.0    Jorginho                       43.0   \n6         10757  210307.0   Gianluigi     Donnarumma        42.0   \n10        10757  210311.0      Nicolo        Barella        42.0   \n23        10758  210330.0    Vladimir         Coufal        34.0   \n1         10757  210302.0    Leonardo     Spinazzola        33.0   \n20        10758  210327.0        Alex           Kral        31.0   \n16        10757  210323.0   Francesco         Acerbi        25.0   \n26        10758  210333.0         Jan          Boril        25.0   \n17        10758  210324.0        Jiri       Pavlenka        25.0   \n13        10757  210317.0     Emerson                       25.0   \n22        10758  210329.0    Vladimir         Darida        24.0   \n9         10757  210310.0    Domenico        Berardi        23.0   \n4         10757  210305.0        Ciro       Immobile        21.0   \n30        10758  210338.0       Tomas         Soucek        21.0   \n14        10757  210319.0       Bryan      Cristante        21.0   \n27        10758  210334.0     Antonin          Barak        19.0   \n24        10758  210331.0      Ondrej       Celustka        14.0   \n21        10758  210328.0       Jakub         Jankto        14.0   \n28        10758  210335.0       David           Zima        12.0   \n18        10758  210325.0       Lukas       Masopust        11.0   \n33        10758  210341.0      Michal        Sadilek         8.0   \n32        10758  210340.0      Patrik         Schick         7.0   \n31        10758  210339.0        Petr         Sevcik         6.0   \n11        10757  210312.0      Rafael          Toloi         5.0   \n15        10757  210320.0    Federico         Chiesa         4.0   \n19        10758  210326.0     Michael       Krmencik         3.0   \n12        10757  210314.0     Giacomo      Raspadori         2.0   \n29        10758  210336.0       Matej          Vydra         1.0   \n\noutcome  Unsuccessful    accuracy        teamName                  name  \n8                11.0   88.172043           Italy      Leonardo Bonucci  \n0                 9.0   87.837838           Italy      Manuel Locatelli  \n5                 9.0   86.363636           Italy   Alessandro Florenzi  \n25                8.0   87.096774  Czech Republic          Jakub Brabec  \n3                12.0   80.645161           Italy       Lorenzo Insigne  \n7                 5.0   90.196078           Italy     Giorgio Chiellini  \n2                 4.0   91.489362           Italy             Jorginho   \n6                 1.0   97.674419           Italy  Gianluigi Donnarumma  \n10                6.0   87.500000           Italy        Nicolo Barella  \n23                9.0   79.069767  Czech Republic       Vladimir Coufal  \n1                 3.0   91.666667           Italy   Leonardo Spinazzola  \n20                5.0   86.111111  Czech Republic             Alex Kral  \n16                3.0   89.285714           Italy      Francesco Acerbi  \n26               12.0   67.567568  Czech Republic             Jan Boril  \n17               11.0   69.444444  Czech Republic         Jiri Pavlenka  \n13                3.0   89.285714           Italy              Emerson   \n22               11.0   68.571429  Czech Republic       Vladimir Darida  \n9                 7.0   76.666667           Italy      Domenico Berardi  \n4                 8.0   72.413793           Italy         Ciro Immobile  \n30                2.0   91.304348  Czech Republic          Tomas Soucek  \n14                1.0   95.454545           Italy       Bryan Cristante  \n27                3.0   86.363636  Czech Republic         Antonin Barak  \n24                1.0   93.333333  Czech Republic       Ondrej Celustka  \n21                6.0   70.000000  Czech Republic          Jakub Jankto  \n28                7.0   63.157895  Czech Republic            David Zima  \n18                8.0   57.894737  Czech Republic        Lukas Masopust  \n33                3.0   72.727273  Czech Republic        Michal Sadilek  \n32                1.0   87.500000  Czech Republic         Patrik Schick  \n31                4.0   60.000000  Czech Republic           Petr Sevcik  \n11                0.0  100.000000           Italy          Rafael Toloi  \n15                1.0   80.000000           Italy       Federico Chiesa  \n19                1.0   75.000000  Czech Republic      Michael Krmencik  \n12                2.0   50.000000           Italy     Giacomo Raspadori  \n29                2.0   33.333333  Czech Republic           Matej Vydra  ",
      "text/html": "<div>\n<style scoped>\n    .dataframe tbody tr th:only-of-type {\n        vertical-align: middle;\n    }\n\n    .dataframe tbody tr th {\n        vertical-align: top;\n    }\n\n    .dataframe thead th {\n        text-align: right;\n    }\n</style>\n<table border=\"1\" class=\"dataframe\">\n  <thead>\n    <tr style=\"text-align: right;\">\n      <th>outcome</th>\n      <th>teamId</th>\n      <th>playerId</th>\n      <th>playerName</th>\n      <th>playerLastName</th>\n      <th>Successful</th>\n      <th>Unsuccessful</th>\n      <th>accuracy</th>\n      <th>teamName</th>\n      <th>name</th>\n    </tr>\n  </thead>\n  <tbody>\n    <tr>\n      <th>8</th>\n      <td>10757</td>\n      <td>210309.0</td>\n      <td>Leonardo</td>\n      <td>Bonucci</td>\n      <td>82.0</td>\n      <td>11.0</td>\n      <td>88.172043</td>\n      <td>Italy</td>\n      <td>Leonardo Bonucci</td>\n    </tr>\n    <tr>\n      <th>0</th>\n      <td>10757</td>\n      <td>210301.0</td>\n      <td>Manuel</td>\n      <td>Locatelli</td>\n      <td>65.0</td>\n      <td>9.0</td>\n      <td>87.837838</td>\n      <td>Italy</td>\n      <td>Manuel Locatelli</td>\n    </tr>\n    <tr>\n      <th>5</th>\n      <td>10757</td>\n      <td>210306.0</td>\n      <td>Alessandro</td>\n      <td>Florenzi</td>\n      <td>57.0</td>\n      <td>9.0</td>\n      <td>86.363636</td>\n      <td>Italy</td>\n      <td>Alessandro Florenzi</td>\n    </tr>\n    <tr>\n      <th>25</th>\n      <td>10758</td>\n      <td>210332.0</td>\n      <td>Jakub</td>\n      <td>Brabec</td>\n      <td>54.0</td>\n      <td>8.0</td>\n      <td>87.096774</td>\n      <td>Czech Republic</td>\n      <td>Jakub Brabec</td>\n    </tr>\n    <tr>\n      <th>3</th>\n      <td>10757</td>\n      <td>210304.0</td>\n      <td>Lorenzo</td>\n      <td>Insigne</td>\n      <td>50.0</td>\n      <td>12.0</td>\n      <td>80.645161</td>\n      <td>Italy</td>\n      <td>Lorenzo Insigne</td>\n    </tr>\n    <tr>\n      <th>7</th>\n      <td>10757</td>\n      <td>210308.0</td>\n      <td>Giorgio</td>\n      <td>Chiellini</td>\n      <td>46.0</td>\n      <td>5.0</td>\n      <td>90.196078</td>\n      <td>Italy</td>\n      <td>Giorgio Chiellini</td>\n    </tr>\n    <tr>\n      <th>2</th>\n      <td>10757</td>\n      <td>210303.0</td>\n      <td>Jorginho</td>\n      <td></td>\n      <td>43.0</td>\n      <td>4.0</td>\n      <td>91.489362</td>\n      <td>Italy</td>\n      <td>Jorginho</td>\n    </tr>\n    <tr>\n      <th>6</th>\n      <td>10757</td>\n      <td>210307.0</td>\n      <td>Gianluigi</td>\n      <td>Donnarumma</td>\n      <td>42.0</td>\n      <td>1.0</td>\n      <td>97.674419</td>\n      <td>Italy</td>\n      <td>Gianluigi Donnarumma</td>\n    </tr>\n    <tr>\n      <th>10</th>\n      <td>10757</td>\n      <td>210311.0</td>\n      <td>Nicolo</td>\n      <td>Barella</td>\n      <td>42.0</td>\n      <td>6.0</td>\n      <td>87.500000</td>\n      <td>Italy</td>\n      <td>Nicolo Barella</td>\n    </tr>\n    <tr>\n      <th>23</th>\n      <td>10758</td>\n      <td>210330.0</td>\n      <td>Vladimir</td>\n      <td>Coufal</td>\n      <td>34.0</td>\n      <td>9.0</td>\n      <td>79.069767</td>\n      <td>Czech Republic</td>\n      <td>Vladimir Coufal</td>\n    </tr>\n    <tr>\n      <th>1</th>\n      <td>10757</td>\n      <td>210302.0</td>\n      <td>Leonardo</td>\n      <td>Spinazzola</td>\n      <td>33.0</td>\n      <td>3.0</td>\n      <td>91.666667</td>\n      <td>Italy</td>\n      <td>Leonardo Spinazzola</td>\n    </tr>\n    <tr>\n      <th>20</th>\n      <td>10758</td>\n      <td>210327.0</td>\n      <td>Alex</td>\n      <td>Kral</td>\n      <td>31.0</td>\n      <td>5.0</td>\n      <td>86.111111</td>\n      <td>Czech Republic</td>\n      <td>Alex Kral</td>\n    </tr>\n    <tr>\n      <th>16</th>\n      <td>10757</td>\n      <td>210323.0</td>\n      <td>Francesco</td>\n      <td>Acerbi</td>\n      <td>25.0</td>\n      <td>3.0</td>\n      <td>89.285714</td>\n      <td>Italy</td>\n      <td>Francesco Acerbi</td>\n    </tr>\n    <tr>\n      <th>26</th>\n      <td>10758</td>\n      <td>210333.0</td>\n      <td>Jan</td>\n      <td>Boril</td>\n      <td>25.0</td>\n      <td>12.0</td>\n      <td>67.567568</td>\n      <td>Czech Republic</td>\n      <td>Jan Boril</td>\n    </tr>\n    <tr>\n      <th>17</th>\n      <td>10758</td>\n      <td>210324.0</td>\n      <td>Jiri</td>\n      <td>Pavlenka</td>\n      <td>25.0</td>\n      <td>11.0</td>\n      <td>69.444444</td>\n      <td>Czech Republic</td>\n      <td>Jiri Pavlenka</td>\n    </tr>\n    <tr>\n      <th>13</th>\n      <td>10757</td>\n      <td>210317.0</td>\n      <td>Emerson</td>\n      <td></td>\n      <td>25.0</td>\n      <td>3.0</td>\n      <td>89.285714</td>\n      <td>Italy</td>\n      <td>Emerson</td>\n    </tr>\n    <tr>\n      <th>22</th>\n      <td>10758</td>\n      <td>210329.0</td>\n      <td>Vladimir</td>\n      <td>Darida</td>\n      <td>24.0</td>\n      <td>11.0</td>\n      <td>68.571429</td>\n      <td>Czech Republic</td>\n      <td>Vladimir Darida</td>\n    </tr>\n    <tr>\n      <th>9</th>\n      <td>10757</td>\n      <td>210310.0</td>\n      <td>Domenico</td>\n      <td>Berardi</td>\n      <td>23.0</td>\n      <td>7.0</td>\n      <td>76.666667</td>\n      <td>Italy</td>\n      <td>Domenico Berardi</td>\n    </tr>\n    <tr>\n      <th>4</th>\n      <td>10757</td>\n      <td>210305.0</td>\n      <td>Ciro</td>\n      <td>Immobile</td>\n      <td>21.0</td>\n      <td>8.0</td>\n      <td>72.413793</td>\n      <td>Italy</td>\n      <td>Ciro Immobile</td>\n    </tr>\n    <tr>\n      <th>30</th>\n      <td>10758</td>\n      <td>210338.0</td>\n      <td>Tomas</td>\n      <td>Soucek</td>\n      <td>21.0</td>\n      <td>2.0</td>\n      <td>91.304348</td>\n      <td>Czech Republic</td>\n      <td>Tomas Soucek</td>\n    </tr>\n    <tr>\n      <th>14</th>\n      <td>10757</td>\n      <td>210319.0</td>\n      <td>Bryan</td>\n      <td>Cristante</td>\n      <td>21.0</td>\n      <td>1.0</td>\n      <td>95.454545</td>\n      <td>Italy</td>\n      <td>Bryan Cristante</td>\n    </tr>\n    <tr>\n      <th>27</th>\n      <td>10758</td>\n      <td>210334.0</td>\n      <td>Antonin</td>\n      <td>Barak</td>\n      <td>19.0</td>\n      <td>3.0</td>\n      <td>86.363636</td>\n      <td>Czech Republic</td>\n      <td>Antonin Barak</td>\n    </tr>\n    <tr>\n      <th>24</th>\n      <td>10758</td>\n      <td>210331.0</td>\n      <td>Ondrej</td>\n      <td>Celustka</td>\n      <td>14.0</td>\n      <td>1.0</td>\n      <td>93.333333</td>\n      <td>Czech Republic</td>\n      <td>Ondrej Celustka</td>\n    </tr>\n    <tr>\n      <th>21</th>\n      <td>10758</td>\n      <td>210328.0</td>\n      <td>Jakub</td>\n      <td>Jankto</td>\n      <td>14.0</td>\n      <td>6.0</td>\n      <td>70.000000</td>\n      <td>Czech Republic</td>\n      <td>Jakub Jankto</td>\n    </tr>\n    <tr>\n      <th>28</th>\n      <td>10758</td>\n      <td>210335.0</td>\n      <td>David</td>\n      <td>Zima</td>\n      <td>12.0</td>\n      <td>7.0</td>\n      <td>63.157895</td>\n      <td>Czech Republic</td>\n      <td>David Zima</td>\n    </tr>\n    <tr>\n      <th>18</th>\n      <td>10758</td>\n      <td>210325.0</td>\n      <td>Lukas</td>\n      <td>Masopust</td>\n      <td>11.0</td>\n      <td>8.0</td>\n      <td>57.894737</td>\n      <td>Czech Republic</td>\n      <td>Lukas Masopust</td>\n    </tr>\n    <tr>\n      <th>33</th>\n      <td>10758</td>\n      <td>210341.0</td>\n      <td>Michal</td>\n      <td>Sadilek</td>\n      <td>8.0</td>\n      <td>3.0</td>\n      <td>72.727273</td>\n      <td>Czech Republic</td>\n      <td>Michal Sadilek</td>\n    </tr>\n    <tr>\n      <th>32</th>\n      <td>10758</td>\n      <td>210340.0</td>\n      <td>Patrik</td>\n      <td>Schick</td>\n      <td>7.0</td>\n      <td>1.0</td>\n      <td>87.500000</td>\n      <td>Czech Republic</td>\n      <td>Patrik Schick</td>\n    </tr>\n    <tr>\n      <th>31</th>\n      <td>10758</td>\n      <td>210339.0</td>\n      <td>Petr</td>\n      <td>Sevcik</td>\n      <td>6.0</td>\n      <td>4.0</td>\n      <td>60.000000</td>\n      <td>Czech Republic</td>\n      <td>Petr Sevcik</td>\n    </tr>\n    <tr>\n      <th>11</th>\n      <td>10757</td>\n      <td>210312.0</td>\n      <td>Rafael</td>\n      <td>Toloi</td>\n      <td>5.0</td>\n      <td>0.0</td>\n      <td>100.000000</td>\n      <td>Italy</td>\n      <td>Rafael Toloi</td>\n    </tr>\n    <tr>\n      <th>15</th>\n      <td>10757</td>\n      <td>210320.0</td>\n      <td>Federico</td>\n      <td>Chiesa</td>\n      <td>4.0</td>\n      <td>1.0</td>\n      <td>80.000000</td>\n      <td>Italy</td>\n      <td>Federico Chiesa</td>\n    </tr>\n    <tr>\n      <th>19</th>\n      <td>10758</td>\n      <td>210326.0</td>\n      <td>Michael</td>\n      <td>Krmencik</td>\n      <td>3.0</td>\n      <td>1.0</td>\n      <td>75.000000</td>\n      <td>Czech Republic</td>\n      <td>Michael Krmencik</td>\n    </tr>\n    <tr>\n      <th>12</th>\n      <td>10757</td>\n      <td>210314.0</td>\n      <td>Giacomo</td>\n      <td>Raspadori</td>\n      <td>2.0</td>\n      <td>2.0</td>\n      <td>50.000000</td>\n      <td>Italy</td>\n      <td>Giacomo Raspadori</td>\n    </tr>\n    <tr>\n      <th>29</th>\n      <td>10758</td>\n      <td>210336.0</td>\n      <td>Matej</td>\n      <td>Vydra</td>\n      <td>1.0</td>\n      <td>2.0</td>\n      <td>33.333333</td>\n      <td>Czech Republic</td>\n      <td>Matej Vydra</td>\n    </tr>\n  </tbody>\n</table>\n</div>"
     },
     "execution_count": 75,
     "metadata": {},
     "output_type": "execute_result"
    }
   ],
   "source": [
    "import plotly.express as px\n",
    "\n",
    "pass_per_p = df[df['eventType'] == 'Pass'].groupby(\n",
    "    ['teamId','playerName','playerLastName','playerId','eventType','outcome']).size().reset_index(name='pass_cnt') # to df\n",
    "\n",
    "pass_stats = pass_per_p[pass_per_p['eventType'] == 'Pass'].groupby(\n",
    "    ['teamId','playerId', 'playerName','playerLastName', 'outcome'])['pass_cnt'].sum().unstack().fillna(0)\n",
    "\n",
    "pass_stats['accuracy'] = (pass_stats['Successful'] / (pass_stats['Successful'] + pass_stats['Unsuccessful'])) * 100\n",
    "\n",
    "pass_stats_reset = pass_stats.reset_index()\n",
    "def name(x):\n",
    "    if x == 10757 or x==10757.0:\n",
    "        x = 'Italy'\n",
    "    else:\n",
    "        x = 'Czech Republic'\n",
    "    return x\n",
    "\n",
    "pass_stats_reset['teamName'] = pass_stats_reset['teamId'].apply(name)\n",
    "pass_stats_reset['name'] = pass_stats_reset['playerName'] + ' ' + pass_stats_reset['playerLastName']\n",
    "pass_stats_reset = pass_stats_reset.sort_values(by='Successful', ascending=False)\n",
    "\n",
    "pass_stats_reset"
   ],
   "metadata": {
    "collapsed": false
   }
  },
  {
   "cell_type": "code",
   "execution_count": 81,
   "outputs": [
    {
     "data": {
      "application/vnd.plotly.v1+json": {
       "data": [
        {
         "hovertemplate": "teamName=Italy<br>Successful pass=%{x}<br>Pass Accuracy (%)=%{y}<extra></extra>",
         "legendgroup": "Italy",
         "marker": {
          "color": "#636efa",
          "symbol": "circle"
         },
         "mode": "markers",
         "name": "Italy",
         "orientation": "v",
         "showlegend": true,
         "x": [
          82.0,
          65.0,
          57.0,
          50.0,
          46.0,
          43.0,
          42.0,
          42.0,
          33.0,
          25.0,
          25.0,
          23.0,
          21.0,
          21.0,
          5.0,
          4.0,
          2.0
         ],
         "xaxis": "x",
         "y": [
          88.17204301075269,
          87.83783783783784,
          86.36363636363636,
          80.64516129032258,
          90.19607843137256,
          91.48936170212765,
          97.67441860465115,
          87.5,
          91.66666666666666,
          89.28571428571429,
          89.28571428571429,
          76.66666666666667,
          72.41379310344827,
          95.45454545454545,
          100.0,
          80.0,
          50.0
         ],
         "yaxis": "y",
         "type": "scatter"
        },
        {
         "hovertemplate": "teamName=Czech Republic<br>Successful pass=%{x}<br>Pass Accuracy (%)=%{y}<extra></extra>",
         "legendgroup": "Czech Republic",
         "marker": {
          "color": "#EF553B",
          "symbol": "circle"
         },
         "mode": "markers",
         "name": "Czech Republic",
         "orientation": "v",
         "showlegend": true,
         "x": [
          54.0,
          34.0,
          31.0,
          25.0,
          25.0,
          24.0,
          21.0,
          19.0,
          14.0,
          14.0,
          12.0,
          11.0,
          8.0,
          7.0,
          6.0,
          3.0,
          1.0
         ],
         "xaxis": "x",
         "y": [
          87.09677419354838,
          79.06976744186046,
          86.11111111111111,
          67.56756756756756,
          69.44444444444444,
          68.57142857142857,
          91.30434782608695,
          86.36363636363636,
          93.33333333333333,
          70.0,
          63.1578947368421,
          57.89473684210527,
          72.72727272727273,
          87.5,
          60.0,
          75.0,
          33.33333333333333
         ],
         "yaxis": "y",
         "type": "scatter"
        }
       ],
       "layout": {
        "template": {
         "data": {
          "histogram2dcontour": [
           {
            "type": "histogram2dcontour",
            "colorbar": {
             "outlinewidth": 0,
             "ticks": ""
            },
            "colorscale": [
             [
              0.0,
              "#0d0887"
             ],
             [
              0.1111111111111111,
              "#46039f"
             ],
             [
              0.2222222222222222,
              "#7201a8"
             ],
             [
              0.3333333333333333,
              "#9c179e"
             ],
             [
              0.4444444444444444,
              "#bd3786"
             ],
             [
              0.5555555555555556,
              "#d8576b"
             ],
             [
              0.6666666666666666,
              "#ed7953"
             ],
             [
              0.7777777777777778,
              "#fb9f3a"
             ],
             [
              0.8888888888888888,
              "#fdca26"
             ],
             [
              1.0,
              "#f0f921"
             ]
            ]
           }
          ],
          "choropleth": [
           {
            "type": "choropleth",
            "colorbar": {
             "outlinewidth": 0,
             "ticks": ""
            }
           }
          ],
          "histogram2d": [
           {
            "type": "histogram2d",
            "colorbar": {
             "outlinewidth": 0,
             "ticks": ""
            },
            "colorscale": [
             [
              0.0,
              "#0d0887"
             ],
             [
              0.1111111111111111,
              "#46039f"
             ],
             [
              0.2222222222222222,
              "#7201a8"
             ],
             [
              0.3333333333333333,
              "#9c179e"
             ],
             [
              0.4444444444444444,
              "#bd3786"
             ],
             [
              0.5555555555555556,
              "#d8576b"
             ],
             [
              0.6666666666666666,
              "#ed7953"
             ],
             [
              0.7777777777777778,
              "#fb9f3a"
             ],
             [
              0.8888888888888888,
              "#fdca26"
             ],
             [
              1.0,
              "#f0f921"
             ]
            ]
           }
          ],
          "heatmap": [
           {
            "type": "heatmap",
            "colorbar": {
             "outlinewidth": 0,
             "ticks": ""
            },
            "colorscale": [
             [
              0.0,
              "#0d0887"
             ],
             [
              0.1111111111111111,
              "#46039f"
             ],
             [
              0.2222222222222222,
              "#7201a8"
             ],
             [
              0.3333333333333333,
              "#9c179e"
             ],
             [
              0.4444444444444444,
              "#bd3786"
             ],
             [
              0.5555555555555556,
              "#d8576b"
             ],
             [
              0.6666666666666666,
              "#ed7953"
             ],
             [
              0.7777777777777778,
              "#fb9f3a"
             ],
             [
              0.8888888888888888,
              "#fdca26"
             ],
             [
              1.0,
              "#f0f921"
             ]
            ]
           }
          ],
          "heatmapgl": [
           {
            "type": "heatmapgl",
            "colorbar": {
             "outlinewidth": 0,
             "ticks": ""
            },
            "colorscale": [
             [
              0.0,
              "#0d0887"
             ],
             [
              0.1111111111111111,
              "#46039f"
             ],
             [
              0.2222222222222222,
              "#7201a8"
             ],
             [
              0.3333333333333333,
              "#9c179e"
             ],
             [
              0.4444444444444444,
              "#bd3786"
             ],
             [
              0.5555555555555556,
              "#d8576b"
             ],
             [
              0.6666666666666666,
              "#ed7953"
             ],
             [
              0.7777777777777778,
              "#fb9f3a"
             ],
             [
              0.8888888888888888,
              "#fdca26"
             ],
             [
              1.0,
              "#f0f921"
             ]
            ]
           }
          ],
          "contourcarpet": [
           {
            "type": "contourcarpet",
            "colorbar": {
             "outlinewidth": 0,
             "ticks": ""
            }
           }
          ],
          "contour": [
           {
            "type": "contour",
            "colorbar": {
             "outlinewidth": 0,
             "ticks": ""
            },
            "colorscale": [
             [
              0.0,
              "#0d0887"
             ],
             [
              0.1111111111111111,
              "#46039f"
             ],
             [
              0.2222222222222222,
              "#7201a8"
             ],
             [
              0.3333333333333333,
              "#9c179e"
             ],
             [
              0.4444444444444444,
              "#bd3786"
             ],
             [
              0.5555555555555556,
              "#d8576b"
             ],
             [
              0.6666666666666666,
              "#ed7953"
             ],
             [
              0.7777777777777778,
              "#fb9f3a"
             ],
             [
              0.8888888888888888,
              "#fdca26"
             ],
             [
              1.0,
              "#f0f921"
             ]
            ]
           }
          ],
          "surface": [
           {
            "type": "surface",
            "colorbar": {
             "outlinewidth": 0,
             "ticks": ""
            },
            "colorscale": [
             [
              0.0,
              "#0d0887"
             ],
             [
              0.1111111111111111,
              "#46039f"
             ],
             [
              0.2222222222222222,
              "#7201a8"
             ],
             [
              0.3333333333333333,
              "#9c179e"
             ],
             [
              0.4444444444444444,
              "#bd3786"
             ],
             [
              0.5555555555555556,
              "#d8576b"
             ],
             [
              0.6666666666666666,
              "#ed7953"
             ],
             [
              0.7777777777777778,
              "#fb9f3a"
             ],
             [
              0.8888888888888888,
              "#fdca26"
             ],
             [
              1.0,
              "#f0f921"
             ]
            ]
           }
          ],
          "mesh3d": [
           {
            "type": "mesh3d",
            "colorbar": {
             "outlinewidth": 0,
             "ticks": ""
            }
           }
          ],
          "scatter": [
           {
            "marker": {
             "line": {
              "color": "#283442"
             }
            },
            "type": "scatter"
           }
          ],
          "parcoords": [
           {
            "type": "parcoords",
            "line": {
             "colorbar": {
              "outlinewidth": 0,
              "ticks": ""
             }
            }
           }
          ],
          "scatterpolargl": [
           {
            "type": "scatterpolargl",
            "marker": {
             "colorbar": {
              "outlinewidth": 0,
              "ticks": ""
             }
            }
           }
          ],
          "bar": [
           {
            "error_x": {
             "color": "#f2f5fa"
            },
            "error_y": {
             "color": "#f2f5fa"
            },
            "marker": {
             "line": {
              "color": "rgb(17,17,17)",
              "width": 0.5
             },
             "pattern": {
              "fillmode": "overlay",
              "size": 10,
              "solidity": 0.2
             }
            },
            "type": "bar"
           }
          ],
          "scattergeo": [
           {
            "type": "scattergeo",
            "marker": {
             "colorbar": {
              "outlinewidth": 0,
              "ticks": ""
             }
            }
           }
          ],
          "scatterpolar": [
           {
            "type": "scatterpolar",
            "marker": {
             "colorbar": {
              "outlinewidth": 0,
              "ticks": ""
             }
            }
           }
          ],
          "histogram": [
           {
            "marker": {
             "pattern": {
              "fillmode": "overlay",
              "size": 10,
              "solidity": 0.2
             }
            },
            "type": "histogram"
           }
          ],
          "scattergl": [
           {
            "marker": {
             "line": {
              "color": "#283442"
             }
            },
            "type": "scattergl"
           }
          ],
          "scatter3d": [
           {
            "type": "scatter3d",
            "line": {
             "colorbar": {
              "outlinewidth": 0,
              "ticks": ""
             }
            },
            "marker": {
             "colorbar": {
              "outlinewidth": 0,
              "ticks": ""
             }
            }
           }
          ],
          "scattermapbox": [
           {
            "type": "scattermapbox",
            "marker": {
             "colorbar": {
              "outlinewidth": 0,
              "ticks": ""
             }
            }
           }
          ],
          "scatterternary": [
           {
            "type": "scatterternary",
            "marker": {
             "colorbar": {
              "outlinewidth": 0,
              "ticks": ""
             }
            }
           }
          ],
          "scattercarpet": [
           {
            "type": "scattercarpet",
            "marker": {
             "colorbar": {
              "outlinewidth": 0,
              "ticks": ""
             }
            }
           }
          ],
          "carpet": [
           {
            "aaxis": {
             "endlinecolor": "#A2B1C6",
             "gridcolor": "#506784",
             "linecolor": "#506784",
             "minorgridcolor": "#506784",
             "startlinecolor": "#A2B1C6"
            },
            "baxis": {
             "endlinecolor": "#A2B1C6",
             "gridcolor": "#506784",
             "linecolor": "#506784",
             "minorgridcolor": "#506784",
             "startlinecolor": "#A2B1C6"
            },
            "type": "carpet"
           }
          ],
          "table": [
           {
            "cells": {
             "fill": {
              "color": "#506784"
             },
             "line": {
              "color": "rgb(17,17,17)"
             }
            },
            "header": {
             "fill": {
              "color": "#2a3f5f"
             },
             "line": {
              "color": "rgb(17,17,17)"
             }
            },
            "type": "table"
           }
          ],
          "barpolar": [
           {
            "marker": {
             "line": {
              "color": "rgb(17,17,17)",
              "width": 0.5
             },
             "pattern": {
              "fillmode": "overlay",
              "size": 10,
              "solidity": 0.2
             }
            },
            "type": "barpolar"
           }
          ],
          "pie": [
           {
            "automargin": true,
            "type": "pie"
           }
          ]
         },
         "layout": {
          "autotypenumbers": "strict",
          "colorway": [
           "#636efa",
           "#EF553B",
           "#00cc96",
           "#ab63fa",
           "#FFA15A",
           "#19d3f3",
           "#FF6692",
           "#B6E880",
           "#FF97FF",
           "#FECB52"
          ],
          "font": {
           "color": "#f2f5fa"
          },
          "hovermode": "closest",
          "hoverlabel": {
           "align": "left"
          },
          "paper_bgcolor": "rgb(17,17,17)",
          "plot_bgcolor": "rgb(17,17,17)",
          "polar": {
           "bgcolor": "rgb(17,17,17)",
           "angularaxis": {
            "gridcolor": "#506784",
            "linecolor": "#506784",
            "ticks": ""
           },
           "radialaxis": {
            "gridcolor": "#506784",
            "linecolor": "#506784",
            "ticks": ""
           }
          },
          "ternary": {
           "bgcolor": "rgb(17,17,17)",
           "aaxis": {
            "gridcolor": "#506784",
            "linecolor": "#506784",
            "ticks": ""
           },
           "baxis": {
            "gridcolor": "#506784",
            "linecolor": "#506784",
            "ticks": ""
           },
           "caxis": {
            "gridcolor": "#506784",
            "linecolor": "#506784",
            "ticks": ""
           }
          },
          "coloraxis": {
           "colorbar": {
            "outlinewidth": 0,
            "ticks": ""
           }
          },
          "colorscale": {
           "sequential": [
            [
             0.0,
             "#0d0887"
            ],
            [
             0.1111111111111111,
             "#46039f"
            ],
            [
             0.2222222222222222,
             "#7201a8"
            ],
            [
             0.3333333333333333,
             "#9c179e"
            ],
            [
             0.4444444444444444,
             "#bd3786"
            ],
            [
             0.5555555555555556,
             "#d8576b"
            ],
            [
             0.6666666666666666,
             "#ed7953"
            ],
            [
             0.7777777777777778,
             "#fb9f3a"
            ],
            [
             0.8888888888888888,
             "#fdca26"
            ],
            [
             1.0,
             "#f0f921"
            ]
           ],
           "sequentialminus": [
            [
             0.0,
             "#0d0887"
            ],
            [
             0.1111111111111111,
             "#46039f"
            ],
            [
             0.2222222222222222,
             "#7201a8"
            ],
            [
             0.3333333333333333,
             "#9c179e"
            ],
            [
             0.4444444444444444,
             "#bd3786"
            ],
            [
             0.5555555555555556,
             "#d8576b"
            ],
            [
             0.6666666666666666,
             "#ed7953"
            ],
            [
             0.7777777777777778,
             "#fb9f3a"
            ],
            [
             0.8888888888888888,
             "#fdca26"
            ],
            [
             1.0,
             "#f0f921"
            ]
           ],
           "diverging": [
            [
             0,
             "#8e0152"
            ],
            [
             0.1,
             "#c51b7d"
            ],
            [
             0.2,
             "#de77ae"
            ],
            [
             0.3,
             "#f1b6da"
            ],
            [
             0.4,
             "#fde0ef"
            ],
            [
             0.5,
             "#f7f7f7"
            ],
            [
             0.6,
             "#e6f5d0"
            ],
            [
             0.7,
             "#b8e186"
            ],
            [
             0.8,
             "#7fbc41"
            ],
            [
             0.9,
             "#4d9221"
            ],
            [
             1,
             "#276419"
            ]
           ]
          },
          "xaxis": {
           "gridcolor": "#283442",
           "linecolor": "#506784",
           "ticks": "",
           "title": {
            "standoff": 15
           },
           "zerolinecolor": "#283442",
           "automargin": true,
           "zerolinewidth": 2
          },
          "yaxis": {
           "gridcolor": "#283442",
           "linecolor": "#506784",
           "ticks": "",
           "title": {
            "standoff": 15
           },
           "zerolinecolor": "#283442",
           "automargin": true,
           "zerolinewidth": 2
          },
          "scene": {
           "xaxis": {
            "backgroundcolor": "rgb(17,17,17)",
            "gridcolor": "#506784",
            "linecolor": "#506784",
            "showbackground": true,
            "ticks": "",
            "zerolinecolor": "#C8D4E3",
            "gridwidth": 2
           },
           "yaxis": {
            "backgroundcolor": "rgb(17,17,17)",
            "gridcolor": "#506784",
            "linecolor": "#506784",
            "showbackground": true,
            "ticks": "",
            "zerolinecolor": "#C8D4E3",
            "gridwidth": 2
           },
           "zaxis": {
            "backgroundcolor": "rgb(17,17,17)",
            "gridcolor": "#506784",
            "linecolor": "#506784",
            "showbackground": true,
            "ticks": "",
            "zerolinecolor": "#C8D4E3",
            "gridwidth": 2
           }
          },
          "shapedefaults": {
           "line": {
            "color": "#f2f5fa"
           }
          },
          "annotationdefaults": {
           "arrowcolor": "#f2f5fa",
           "arrowhead": 0,
           "arrowwidth": 1
          },
          "geo": {
           "bgcolor": "rgb(17,17,17)",
           "landcolor": "rgb(17,17,17)",
           "subunitcolor": "#506784",
           "showland": true,
           "showlakes": true,
           "lakecolor": "rgb(17,17,17)"
          },
          "title": {
           "x": 0.05
          },
          "updatemenudefaults": {
           "bgcolor": "#506784",
           "borderwidth": 0
          },
          "sliderdefaults": {
           "bgcolor": "#C8D4E3",
           "borderwidth": 1,
           "bordercolor": "rgb(17,17,17)",
           "tickwidth": 0
          },
          "mapbox": {
           "style": "dark"
          }
         }
        },
        "xaxis": {
         "anchor": "y",
         "domain": [
          0.0,
          1.0
         ],
         "title": {
          "text": "Successful pass"
         },
         "showgrid": false
        },
        "yaxis": {
         "anchor": "x",
         "domain": [
          0.0,
          1.0
         ],
         "title": {
          "text": "Pass Accuracy (%)"
         },
         "showgrid": false
        },
        "legend": {
         "title": {
          "text": "teamName"
         },
         "tracegroupgap": 0
        },
        "margin": {
         "t": 60
        },
        "font": {
         "color": "black"
        },
        "plot_bgcolor": "white",
        "paper_bgcolor": "white"
       },
       "config": {
        "plotlyServerURL": "https://plot.ly"
       }
      },
      "text/html": "<div>                            <div id=\"bff827aa-9f7e-4bf4-b2e1-dd1d1c70c374\" class=\"plotly-graph-div\" style=\"height:525px; width:100%;\"></div>            <script type=\"text/javascript\">                require([\"plotly\"], function(Plotly) {                    window.PLOTLYENV=window.PLOTLYENV || {};                                    if (document.getElementById(\"bff827aa-9f7e-4bf4-b2e1-dd1d1c70c374\")) {                    Plotly.newPlot(                        \"bff827aa-9f7e-4bf4-b2e1-dd1d1c70c374\",                        [{\"hovertemplate\":\"teamName=Italy<br>Successful pass=%{x}<br>Pass Accuracy (%)=%{y}<extra></extra>\",\"legendgroup\":\"Italy\",\"marker\":{\"color\":\"#636efa\",\"symbol\":\"circle\"},\"mode\":\"markers\",\"name\":\"Italy\",\"orientation\":\"v\",\"showlegend\":true,\"x\":[82.0,65.0,57.0,50.0,46.0,43.0,42.0,42.0,33.0,25.0,25.0,23.0,21.0,21.0,5.0,4.0,2.0],\"xaxis\":\"x\",\"y\":[88.17204301075269,87.83783783783784,86.36363636363636,80.64516129032258,90.19607843137256,91.48936170212765,97.67441860465115,87.5,91.66666666666666,89.28571428571429,89.28571428571429,76.66666666666667,72.41379310344827,95.45454545454545,100.0,80.0,50.0],\"yaxis\":\"y\",\"type\":\"scatter\"},{\"hovertemplate\":\"teamName=Czech Republic<br>Successful pass=%{x}<br>Pass Accuracy (%)=%{y}<extra></extra>\",\"legendgroup\":\"Czech Republic\",\"marker\":{\"color\":\"#EF553B\",\"symbol\":\"circle\"},\"mode\":\"markers\",\"name\":\"Czech Republic\",\"orientation\":\"v\",\"showlegend\":true,\"x\":[54.0,34.0,31.0,25.0,25.0,24.0,21.0,19.0,14.0,14.0,12.0,11.0,8.0,7.0,6.0,3.0,1.0],\"xaxis\":\"x\",\"y\":[87.09677419354838,79.06976744186046,86.11111111111111,67.56756756756756,69.44444444444444,68.57142857142857,91.30434782608695,86.36363636363636,93.33333333333333,70.0,63.1578947368421,57.89473684210527,72.72727272727273,87.5,60.0,75.0,33.33333333333333],\"yaxis\":\"y\",\"type\":\"scatter\"}],                        {\"template\":{\"data\":{\"histogram2dcontour\":[{\"type\":\"histogram2dcontour\",\"colorbar\":{\"outlinewidth\":0,\"ticks\":\"\"},\"colorscale\":[[0.0,\"#0d0887\"],[0.1111111111111111,\"#46039f\"],[0.2222222222222222,\"#7201a8\"],[0.3333333333333333,\"#9c179e\"],[0.4444444444444444,\"#bd3786\"],[0.5555555555555556,\"#d8576b\"],[0.6666666666666666,\"#ed7953\"],[0.7777777777777778,\"#fb9f3a\"],[0.8888888888888888,\"#fdca26\"],[1.0,\"#f0f921\"]]}],\"choropleth\":[{\"type\":\"choropleth\",\"colorbar\":{\"outlinewidth\":0,\"ticks\":\"\"}}],\"histogram2d\":[{\"type\":\"histogram2d\",\"colorbar\":{\"outlinewidth\":0,\"ticks\":\"\"},\"colorscale\":[[0.0,\"#0d0887\"],[0.1111111111111111,\"#46039f\"],[0.2222222222222222,\"#7201a8\"],[0.3333333333333333,\"#9c179e\"],[0.4444444444444444,\"#bd3786\"],[0.5555555555555556,\"#d8576b\"],[0.6666666666666666,\"#ed7953\"],[0.7777777777777778,\"#fb9f3a\"],[0.8888888888888888,\"#fdca26\"],[1.0,\"#f0f921\"]]}],\"heatmap\":[{\"type\":\"heatmap\",\"colorbar\":{\"outlinewidth\":0,\"ticks\":\"\"},\"colorscale\":[[0.0,\"#0d0887\"],[0.1111111111111111,\"#46039f\"],[0.2222222222222222,\"#7201a8\"],[0.3333333333333333,\"#9c179e\"],[0.4444444444444444,\"#bd3786\"],[0.5555555555555556,\"#d8576b\"],[0.6666666666666666,\"#ed7953\"],[0.7777777777777778,\"#fb9f3a\"],[0.8888888888888888,\"#fdca26\"],[1.0,\"#f0f921\"]]}],\"heatmapgl\":[{\"type\":\"heatmapgl\",\"colorbar\":{\"outlinewidth\":0,\"ticks\":\"\"},\"colorscale\":[[0.0,\"#0d0887\"],[0.1111111111111111,\"#46039f\"],[0.2222222222222222,\"#7201a8\"],[0.3333333333333333,\"#9c179e\"],[0.4444444444444444,\"#bd3786\"],[0.5555555555555556,\"#d8576b\"],[0.6666666666666666,\"#ed7953\"],[0.7777777777777778,\"#fb9f3a\"],[0.8888888888888888,\"#fdca26\"],[1.0,\"#f0f921\"]]}],\"contourcarpet\":[{\"type\":\"contourcarpet\",\"colorbar\":{\"outlinewidth\":0,\"ticks\":\"\"}}],\"contour\":[{\"type\":\"contour\",\"colorbar\":{\"outlinewidth\":0,\"ticks\":\"\"},\"colorscale\":[[0.0,\"#0d0887\"],[0.1111111111111111,\"#46039f\"],[0.2222222222222222,\"#7201a8\"],[0.3333333333333333,\"#9c179e\"],[0.4444444444444444,\"#bd3786\"],[0.5555555555555556,\"#d8576b\"],[0.6666666666666666,\"#ed7953\"],[0.7777777777777778,\"#fb9f3a\"],[0.8888888888888888,\"#fdca26\"],[1.0,\"#f0f921\"]]}],\"surface\":[{\"type\":\"surface\",\"colorbar\":{\"outlinewidth\":0,\"ticks\":\"\"},\"colorscale\":[[0.0,\"#0d0887\"],[0.1111111111111111,\"#46039f\"],[0.2222222222222222,\"#7201a8\"],[0.3333333333333333,\"#9c179e\"],[0.4444444444444444,\"#bd3786\"],[0.5555555555555556,\"#d8576b\"],[0.6666666666666666,\"#ed7953\"],[0.7777777777777778,\"#fb9f3a\"],[0.8888888888888888,\"#fdca26\"],[1.0,\"#f0f921\"]]}],\"mesh3d\":[{\"type\":\"mesh3d\",\"colorbar\":{\"outlinewidth\":0,\"ticks\":\"\"}}],\"scatter\":[{\"marker\":{\"line\":{\"color\":\"#283442\"}},\"type\":\"scatter\"}],\"parcoords\":[{\"type\":\"parcoords\",\"line\":{\"colorbar\":{\"outlinewidth\":0,\"ticks\":\"\"}}}],\"scatterpolargl\":[{\"type\":\"scatterpolargl\",\"marker\":{\"colorbar\":{\"outlinewidth\":0,\"ticks\":\"\"}}}],\"bar\":[{\"error_x\":{\"color\":\"#f2f5fa\"},\"error_y\":{\"color\":\"#f2f5fa\"},\"marker\":{\"line\":{\"color\":\"rgb(17,17,17)\",\"width\":0.5},\"pattern\":{\"fillmode\":\"overlay\",\"size\":10,\"solidity\":0.2}},\"type\":\"bar\"}],\"scattergeo\":[{\"type\":\"scattergeo\",\"marker\":{\"colorbar\":{\"outlinewidth\":0,\"ticks\":\"\"}}}],\"scatterpolar\":[{\"type\":\"scatterpolar\",\"marker\":{\"colorbar\":{\"outlinewidth\":0,\"ticks\":\"\"}}}],\"histogram\":[{\"marker\":{\"pattern\":{\"fillmode\":\"overlay\",\"size\":10,\"solidity\":0.2}},\"type\":\"histogram\"}],\"scattergl\":[{\"marker\":{\"line\":{\"color\":\"#283442\"}},\"type\":\"scattergl\"}],\"scatter3d\":[{\"type\":\"scatter3d\",\"line\":{\"colorbar\":{\"outlinewidth\":0,\"ticks\":\"\"}},\"marker\":{\"colorbar\":{\"outlinewidth\":0,\"ticks\":\"\"}}}],\"scattermapbox\":[{\"type\":\"scattermapbox\",\"marker\":{\"colorbar\":{\"outlinewidth\":0,\"ticks\":\"\"}}}],\"scatterternary\":[{\"type\":\"scatterternary\",\"marker\":{\"colorbar\":{\"outlinewidth\":0,\"ticks\":\"\"}}}],\"scattercarpet\":[{\"type\":\"scattercarpet\",\"marker\":{\"colorbar\":{\"outlinewidth\":0,\"ticks\":\"\"}}}],\"carpet\":[{\"aaxis\":{\"endlinecolor\":\"#A2B1C6\",\"gridcolor\":\"#506784\",\"linecolor\":\"#506784\",\"minorgridcolor\":\"#506784\",\"startlinecolor\":\"#A2B1C6\"},\"baxis\":{\"endlinecolor\":\"#A2B1C6\",\"gridcolor\":\"#506784\",\"linecolor\":\"#506784\",\"minorgridcolor\":\"#506784\",\"startlinecolor\":\"#A2B1C6\"},\"type\":\"carpet\"}],\"table\":[{\"cells\":{\"fill\":{\"color\":\"#506784\"},\"line\":{\"color\":\"rgb(17,17,17)\"}},\"header\":{\"fill\":{\"color\":\"#2a3f5f\"},\"line\":{\"color\":\"rgb(17,17,17)\"}},\"type\":\"table\"}],\"barpolar\":[{\"marker\":{\"line\":{\"color\":\"rgb(17,17,17)\",\"width\":0.5},\"pattern\":{\"fillmode\":\"overlay\",\"size\":10,\"solidity\":0.2}},\"type\":\"barpolar\"}],\"pie\":[{\"automargin\":true,\"type\":\"pie\"}]},\"layout\":{\"autotypenumbers\":\"strict\",\"colorway\":[\"#636efa\",\"#EF553B\",\"#00cc96\",\"#ab63fa\",\"#FFA15A\",\"#19d3f3\",\"#FF6692\",\"#B6E880\",\"#FF97FF\",\"#FECB52\"],\"font\":{\"color\":\"#f2f5fa\"},\"hovermode\":\"closest\",\"hoverlabel\":{\"align\":\"left\"},\"paper_bgcolor\":\"rgb(17,17,17)\",\"plot_bgcolor\":\"rgb(17,17,17)\",\"polar\":{\"bgcolor\":\"rgb(17,17,17)\",\"angularaxis\":{\"gridcolor\":\"#506784\",\"linecolor\":\"#506784\",\"ticks\":\"\"},\"radialaxis\":{\"gridcolor\":\"#506784\",\"linecolor\":\"#506784\",\"ticks\":\"\"}},\"ternary\":{\"bgcolor\":\"rgb(17,17,17)\",\"aaxis\":{\"gridcolor\":\"#506784\",\"linecolor\":\"#506784\",\"ticks\":\"\"},\"baxis\":{\"gridcolor\":\"#506784\",\"linecolor\":\"#506784\",\"ticks\":\"\"},\"caxis\":{\"gridcolor\":\"#506784\",\"linecolor\":\"#506784\",\"ticks\":\"\"}},\"coloraxis\":{\"colorbar\":{\"outlinewidth\":0,\"ticks\":\"\"}},\"colorscale\":{\"sequential\":[[0.0,\"#0d0887\"],[0.1111111111111111,\"#46039f\"],[0.2222222222222222,\"#7201a8\"],[0.3333333333333333,\"#9c179e\"],[0.4444444444444444,\"#bd3786\"],[0.5555555555555556,\"#d8576b\"],[0.6666666666666666,\"#ed7953\"],[0.7777777777777778,\"#fb9f3a\"],[0.8888888888888888,\"#fdca26\"],[1.0,\"#f0f921\"]],\"sequentialminus\":[[0.0,\"#0d0887\"],[0.1111111111111111,\"#46039f\"],[0.2222222222222222,\"#7201a8\"],[0.3333333333333333,\"#9c179e\"],[0.4444444444444444,\"#bd3786\"],[0.5555555555555556,\"#d8576b\"],[0.6666666666666666,\"#ed7953\"],[0.7777777777777778,\"#fb9f3a\"],[0.8888888888888888,\"#fdca26\"],[1.0,\"#f0f921\"]],\"diverging\":[[0,\"#8e0152\"],[0.1,\"#c51b7d\"],[0.2,\"#de77ae\"],[0.3,\"#f1b6da\"],[0.4,\"#fde0ef\"],[0.5,\"#f7f7f7\"],[0.6,\"#e6f5d0\"],[0.7,\"#b8e186\"],[0.8,\"#7fbc41\"],[0.9,\"#4d9221\"],[1,\"#276419\"]]},\"xaxis\":{\"gridcolor\":\"#283442\",\"linecolor\":\"#506784\",\"ticks\":\"\",\"title\":{\"standoff\":15},\"zerolinecolor\":\"#283442\",\"automargin\":true,\"zerolinewidth\":2},\"yaxis\":{\"gridcolor\":\"#283442\",\"linecolor\":\"#506784\",\"ticks\":\"\",\"title\":{\"standoff\":15},\"zerolinecolor\":\"#283442\",\"automargin\":true,\"zerolinewidth\":2},\"scene\":{\"xaxis\":{\"backgroundcolor\":\"rgb(17,17,17)\",\"gridcolor\":\"#506784\",\"linecolor\":\"#506784\",\"showbackground\":true,\"ticks\":\"\",\"zerolinecolor\":\"#C8D4E3\",\"gridwidth\":2},\"yaxis\":{\"backgroundcolor\":\"rgb(17,17,17)\",\"gridcolor\":\"#506784\",\"linecolor\":\"#506784\",\"showbackground\":true,\"ticks\":\"\",\"zerolinecolor\":\"#C8D4E3\",\"gridwidth\":2},\"zaxis\":{\"backgroundcolor\":\"rgb(17,17,17)\",\"gridcolor\":\"#506784\",\"linecolor\":\"#506784\",\"showbackground\":true,\"ticks\":\"\",\"zerolinecolor\":\"#C8D4E3\",\"gridwidth\":2}},\"shapedefaults\":{\"line\":{\"color\":\"#f2f5fa\"}},\"annotationdefaults\":{\"arrowcolor\":\"#f2f5fa\",\"arrowhead\":0,\"arrowwidth\":1},\"geo\":{\"bgcolor\":\"rgb(17,17,17)\",\"landcolor\":\"rgb(17,17,17)\",\"subunitcolor\":\"#506784\",\"showland\":true,\"showlakes\":true,\"lakecolor\":\"rgb(17,17,17)\"},\"title\":{\"x\":0.05},\"updatemenudefaults\":{\"bgcolor\":\"#506784\",\"borderwidth\":0},\"sliderdefaults\":{\"bgcolor\":\"#C8D4E3\",\"borderwidth\":1,\"bordercolor\":\"rgb(17,17,17)\",\"tickwidth\":0},\"mapbox\":{\"style\":\"dark\"}}},\"xaxis\":{\"anchor\":\"y\",\"domain\":[0.0,1.0],\"title\":{\"text\":\"Successful pass\"},\"showgrid\":false},\"yaxis\":{\"anchor\":\"x\",\"domain\":[0.0,1.0],\"title\":{\"text\":\"Pass Accuracy (%)\"},\"showgrid\":false},\"legend\":{\"title\":{\"text\":\"teamName\"},\"tracegroupgap\":0},\"margin\":{\"t\":60},\"font\":{\"color\":\"black\"},\"plot_bgcolor\":\"white\",\"paper_bgcolor\":\"white\"},                        {\"responsive\": true}                    ).then(function(){\n                            \nvar gd = document.getElementById('bff827aa-9f7e-4bf4-b2e1-dd1d1c70c374');\nvar x = new MutationObserver(function (mutations, observer) {{\n        var display = window.getComputedStyle(gd).display;\n        if (!display || display === 'none') {{\n            console.log([gd, 'removed!']);\n            Plotly.purge(gd);\n            observer.disconnect();\n        }}\n}});\n\n// Listen for the removal of the full notebook cells\nvar notebookContainer = gd.closest('#notebook-container');\nif (notebookContainer) {{\n    x.observe(notebookContainer, {childList: true});\n}}\n\n// Listen for the clearing of the current output cell\nvar outputEl = gd.closest('.output');\nif (outputEl) {{\n    x.observe(outputEl, {childList: true});\n}}\n\n                        })                };                });            </script>        </div>"
     },
     "metadata": {},
     "output_type": "display_data"
    },
    {
     "data": {
      "application/vnd.plotly.v1+json": {
       "data": [
        {
         "alignmentgroup": "True",
         "hovertemplate": "teamName=Italy<br>Successful passes=%{x}<br>name=%{y}<extra></extra>",
         "legendgroup": "Italy",
         "marker": {
          "color": "#636efa",
          "pattern": {
           "shape": ""
          }
         },
         "name": "Italy",
         "offsetgroup": "Italy",
         "orientation": "h",
         "showlegend": true,
         "textposition": "auto",
         "x": [
          82.0,
          65.0,
          57.0,
          50.0,
          46.0,
          43.0,
          42.0,
          42.0,
          33.0,
          25.0,
          25.0,
          23.0,
          21.0,
          21.0,
          5.0,
          4.0,
          2.0
         ],
         "xaxis": "x",
         "y": [
          "Leonardo Bonucci",
          "Manuel Locatelli",
          "Alessandro Florenzi",
          "Lorenzo Insigne",
          "Giorgio Chiellini",
          "Jorginho ",
          "Gianluigi Donnarumma",
          "Nicolo Barella",
          "Leonardo Spinazzola",
          "Francesco Acerbi",
          "Emerson ",
          "Domenico Berardi",
          "Ciro Immobile",
          "Bryan Cristante",
          "Rafael Toloi",
          "Federico Chiesa",
          "Giacomo Raspadori"
         ],
         "yaxis": "y",
         "type": "bar"
        },
        {
         "alignmentgroup": "True",
         "hovertemplate": "teamName=Czech Republic<br>Successful passes=%{x}<br>name=%{y}<extra></extra>",
         "legendgroup": "Czech Republic",
         "marker": {
          "color": "#EF553B",
          "pattern": {
           "shape": ""
          }
         },
         "name": "Czech Republic",
         "offsetgroup": "Czech Republic",
         "orientation": "h",
         "showlegend": true,
         "textposition": "auto",
         "x": [
          54.0,
          34.0,
          31.0,
          25.0,
          25.0,
          24.0,
          21.0,
          19.0,
          14.0,
          14.0,
          12.0,
          11.0,
          8.0,
          7.0,
          6.0,
          3.0,
          1.0
         ],
         "xaxis": "x",
         "y": [
          "Jakub Brabec",
          "Vladimir Coufal",
          "Alex Kral",
          "Jan Boril",
          "Jiri Pavlenka",
          "Vladimir Darida",
          "Tomas Soucek",
          "Antonin Barak",
          "Ondrej Celustka",
          "Jakub Jankto",
          "David Zima",
          "Lukas Masopust",
          "Michal Sadilek",
          "Patrik Schick",
          "Petr Sevcik",
          "Michael Krmencik",
          "Matej Vydra"
         ],
         "yaxis": "y",
         "type": "bar"
        }
       ],
       "layout": {
        "template": {
         "data": {
          "histogram2dcontour": [
           {
            "type": "histogram2dcontour",
            "colorbar": {
             "outlinewidth": 0,
             "ticks": ""
            },
            "colorscale": [
             [
              0.0,
              "#0d0887"
             ],
             [
              0.1111111111111111,
              "#46039f"
             ],
             [
              0.2222222222222222,
              "#7201a8"
             ],
             [
              0.3333333333333333,
              "#9c179e"
             ],
             [
              0.4444444444444444,
              "#bd3786"
             ],
             [
              0.5555555555555556,
              "#d8576b"
             ],
             [
              0.6666666666666666,
              "#ed7953"
             ],
             [
              0.7777777777777778,
              "#fb9f3a"
             ],
             [
              0.8888888888888888,
              "#fdca26"
             ],
             [
              1.0,
              "#f0f921"
             ]
            ]
           }
          ],
          "choropleth": [
           {
            "type": "choropleth",
            "colorbar": {
             "outlinewidth": 0,
             "ticks": ""
            }
           }
          ],
          "histogram2d": [
           {
            "type": "histogram2d",
            "colorbar": {
             "outlinewidth": 0,
             "ticks": ""
            },
            "colorscale": [
             [
              0.0,
              "#0d0887"
             ],
             [
              0.1111111111111111,
              "#46039f"
             ],
             [
              0.2222222222222222,
              "#7201a8"
             ],
             [
              0.3333333333333333,
              "#9c179e"
             ],
             [
              0.4444444444444444,
              "#bd3786"
             ],
             [
              0.5555555555555556,
              "#d8576b"
             ],
             [
              0.6666666666666666,
              "#ed7953"
             ],
             [
              0.7777777777777778,
              "#fb9f3a"
             ],
             [
              0.8888888888888888,
              "#fdca26"
             ],
             [
              1.0,
              "#f0f921"
             ]
            ]
           }
          ],
          "heatmap": [
           {
            "type": "heatmap",
            "colorbar": {
             "outlinewidth": 0,
             "ticks": ""
            },
            "colorscale": [
             [
              0.0,
              "#0d0887"
             ],
             [
              0.1111111111111111,
              "#46039f"
             ],
             [
              0.2222222222222222,
              "#7201a8"
             ],
             [
              0.3333333333333333,
              "#9c179e"
             ],
             [
              0.4444444444444444,
              "#bd3786"
             ],
             [
              0.5555555555555556,
              "#d8576b"
             ],
             [
              0.6666666666666666,
              "#ed7953"
             ],
             [
              0.7777777777777778,
              "#fb9f3a"
             ],
             [
              0.8888888888888888,
              "#fdca26"
             ],
             [
              1.0,
              "#f0f921"
             ]
            ]
           }
          ],
          "heatmapgl": [
           {
            "type": "heatmapgl",
            "colorbar": {
             "outlinewidth": 0,
             "ticks": ""
            },
            "colorscale": [
             [
              0.0,
              "#0d0887"
             ],
             [
              0.1111111111111111,
              "#46039f"
             ],
             [
              0.2222222222222222,
              "#7201a8"
             ],
             [
              0.3333333333333333,
              "#9c179e"
             ],
             [
              0.4444444444444444,
              "#bd3786"
             ],
             [
              0.5555555555555556,
              "#d8576b"
             ],
             [
              0.6666666666666666,
              "#ed7953"
             ],
             [
              0.7777777777777778,
              "#fb9f3a"
             ],
             [
              0.8888888888888888,
              "#fdca26"
             ],
             [
              1.0,
              "#f0f921"
             ]
            ]
           }
          ],
          "contourcarpet": [
           {
            "type": "contourcarpet",
            "colorbar": {
             "outlinewidth": 0,
             "ticks": ""
            }
           }
          ],
          "contour": [
           {
            "type": "contour",
            "colorbar": {
             "outlinewidth": 0,
             "ticks": ""
            },
            "colorscale": [
             [
              0.0,
              "#0d0887"
             ],
             [
              0.1111111111111111,
              "#46039f"
             ],
             [
              0.2222222222222222,
              "#7201a8"
             ],
             [
              0.3333333333333333,
              "#9c179e"
             ],
             [
              0.4444444444444444,
              "#bd3786"
             ],
             [
              0.5555555555555556,
              "#d8576b"
             ],
             [
              0.6666666666666666,
              "#ed7953"
             ],
             [
              0.7777777777777778,
              "#fb9f3a"
             ],
             [
              0.8888888888888888,
              "#fdca26"
             ],
             [
              1.0,
              "#f0f921"
             ]
            ]
           }
          ],
          "surface": [
           {
            "type": "surface",
            "colorbar": {
             "outlinewidth": 0,
             "ticks": ""
            },
            "colorscale": [
             [
              0.0,
              "#0d0887"
             ],
             [
              0.1111111111111111,
              "#46039f"
             ],
             [
              0.2222222222222222,
              "#7201a8"
             ],
             [
              0.3333333333333333,
              "#9c179e"
             ],
             [
              0.4444444444444444,
              "#bd3786"
             ],
             [
              0.5555555555555556,
              "#d8576b"
             ],
             [
              0.6666666666666666,
              "#ed7953"
             ],
             [
              0.7777777777777778,
              "#fb9f3a"
             ],
             [
              0.8888888888888888,
              "#fdca26"
             ],
             [
              1.0,
              "#f0f921"
             ]
            ]
           }
          ],
          "mesh3d": [
           {
            "type": "mesh3d",
            "colorbar": {
             "outlinewidth": 0,
             "ticks": ""
            }
           }
          ],
          "scatter": [
           {
            "marker": {
             "line": {
              "color": "#283442"
             }
            },
            "type": "scatter"
           }
          ],
          "parcoords": [
           {
            "type": "parcoords",
            "line": {
             "colorbar": {
              "outlinewidth": 0,
              "ticks": ""
             }
            }
           }
          ],
          "scatterpolargl": [
           {
            "type": "scatterpolargl",
            "marker": {
             "colorbar": {
              "outlinewidth": 0,
              "ticks": ""
             }
            }
           }
          ],
          "bar": [
           {
            "error_x": {
             "color": "#f2f5fa"
            },
            "error_y": {
             "color": "#f2f5fa"
            },
            "marker": {
             "line": {
              "color": "rgb(17,17,17)",
              "width": 0.5
             },
             "pattern": {
              "fillmode": "overlay",
              "size": 10,
              "solidity": 0.2
             }
            },
            "type": "bar"
           }
          ],
          "scattergeo": [
           {
            "type": "scattergeo",
            "marker": {
             "colorbar": {
              "outlinewidth": 0,
              "ticks": ""
             }
            }
           }
          ],
          "scatterpolar": [
           {
            "type": "scatterpolar",
            "marker": {
             "colorbar": {
              "outlinewidth": 0,
              "ticks": ""
             }
            }
           }
          ],
          "histogram": [
           {
            "marker": {
             "pattern": {
              "fillmode": "overlay",
              "size": 10,
              "solidity": 0.2
             }
            },
            "type": "histogram"
           }
          ],
          "scattergl": [
           {
            "marker": {
             "line": {
              "color": "#283442"
             }
            },
            "type": "scattergl"
           }
          ],
          "scatter3d": [
           {
            "type": "scatter3d",
            "line": {
             "colorbar": {
              "outlinewidth": 0,
              "ticks": ""
             }
            },
            "marker": {
             "colorbar": {
              "outlinewidth": 0,
              "ticks": ""
             }
            }
           }
          ],
          "scattermapbox": [
           {
            "type": "scattermapbox",
            "marker": {
             "colorbar": {
              "outlinewidth": 0,
              "ticks": ""
             }
            }
           }
          ],
          "scatterternary": [
           {
            "type": "scatterternary",
            "marker": {
             "colorbar": {
              "outlinewidth": 0,
              "ticks": ""
             }
            }
           }
          ],
          "scattercarpet": [
           {
            "type": "scattercarpet",
            "marker": {
             "colorbar": {
              "outlinewidth": 0,
              "ticks": ""
             }
            }
           }
          ],
          "carpet": [
           {
            "aaxis": {
             "endlinecolor": "#A2B1C6",
             "gridcolor": "#506784",
             "linecolor": "#506784",
             "minorgridcolor": "#506784",
             "startlinecolor": "#A2B1C6"
            },
            "baxis": {
             "endlinecolor": "#A2B1C6",
             "gridcolor": "#506784",
             "linecolor": "#506784",
             "minorgridcolor": "#506784",
             "startlinecolor": "#A2B1C6"
            },
            "type": "carpet"
           }
          ],
          "table": [
           {
            "cells": {
             "fill": {
              "color": "#506784"
             },
             "line": {
              "color": "rgb(17,17,17)"
             }
            },
            "header": {
             "fill": {
              "color": "#2a3f5f"
             },
             "line": {
              "color": "rgb(17,17,17)"
             }
            },
            "type": "table"
           }
          ],
          "barpolar": [
           {
            "marker": {
             "line": {
              "color": "rgb(17,17,17)",
              "width": 0.5
             },
             "pattern": {
              "fillmode": "overlay",
              "size": 10,
              "solidity": 0.2
             }
            },
            "type": "barpolar"
           }
          ],
          "pie": [
           {
            "automargin": true,
            "type": "pie"
           }
          ]
         },
         "layout": {
          "autotypenumbers": "strict",
          "colorway": [
           "#636efa",
           "#EF553B",
           "#00cc96",
           "#ab63fa",
           "#FFA15A",
           "#19d3f3",
           "#FF6692",
           "#B6E880",
           "#FF97FF",
           "#FECB52"
          ],
          "font": {
           "color": "#f2f5fa"
          },
          "hovermode": "closest",
          "hoverlabel": {
           "align": "left"
          },
          "paper_bgcolor": "rgb(17,17,17)",
          "plot_bgcolor": "rgb(17,17,17)",
          "polar": {
           "bgcolor": "rgb(17,17,17)",
           "angularaxis": {
            "gridcolor": "#506784",
            "linecolor": "#506784",
            "ticks": ""
           },
           "radialaxis": {
            "gridcolor": "#506784",
            "linecolor": "#506784",
            "ticks": ""
           }
          },
          "ternary": {
           "bgcolor": "rgb(17,17,17)",
           "aaxis": {
            "gridcolor": "#506784",
            "linecolor": "#506784",
            "ticks": ""
           },
           "baxis": {
            "gridcolor": "#506784",
            "linecolor": "#506784",
            "ticks": ""
           },
           "caxis": {
            "gridcolor": "#506784",
            "linecolor": "#506784",
            "ticks": ""
           }
          },
          "coloraxis": {
           "colorbar": {
            "outlinewidth": 0,
            "ticks": ""
           }
          },
          "colorscale": {
           "sequential": [
            [
             0.0,
             "#0d0887"
            ],
            [
             0.1111111111111111,
             "#46039f"
            ],
            [
             0.2222222222222222,
             "#7201a8"
            ],
            [
             0.3333333333333333,
             "#9c179e"
            ],
            [
             0.4444444444444444,
             "#bd3786"
            ],
            [
             0.5555555555555556,
             "#d8576b"
            ],
            [
             0.6666666666666666,
             "#ed7953"
            ],
            [
             0.7777777777777778,
             "#fb9f3a"
            ],
            [
             0.8888888888888888,
             "#fdca26"
            ],
            [
             1.0,
             "#f0f921"
            ]
           ],
           "sequentialminus": [
            [
             0.0,
             "#0d0887"
            ],
            [
             0.1111111111111111,
             "#46039f"
            ],
            [
             0.2222222222222222,
             "#7201a8"
            ],
            [
             0.3333333333333333,
             "#9c179e"
            ],
            [
             0.4444444444444444,
             "#bd3786"
            ],
            [
             0.5555555555555556,
             "#d8576b"
            ],
            [
             0.6666666666666666,
             "#ed7953"
            ],
            [
             0.7777777777777778,
             "#fb9f3a"
            ],
            [
             0.8888888888888888,
             "#fdca26"
            ],
            [
             1.0,
             "#f0f921"
            ]
           ],
           "diverging": [
            [
             0,
             "#8e0152"
            ],
            [
             0.1,
             "#c51b7d"
            ],
            [
             0.2,
             "#de77ae"
            ],
            [
             0.3,
             "#f1b6da"
            ],
            [
             0.4,
             "#fde0ef"
            ],
            [
             0.5,
             "#f7f7f7"
            ],
            [
             0.6,
             "#e6f5d0"
            ],
            [
             0.7,
             "#b8e186"
            ],
            [
             0.8,
             "#7fbc41"
            ],
            [
             0.9,
             "#4d9221"
            ],
            [
             1,
             "#276419"
            ]
           ]
          },
          "xaxis": {
           "gridcolor": "#283442",
           "linecolor": "#506784",
           "ticks": "",
           "title": {
            "standoff": 15
           },
           "zerolinecolor": "#283442",
           "automargin": true,
           "zerolinewidth": 2
          },
          "yaxis": {
           "gridcolor": "#283442",
           "linecolor": "#506784",
           "ticks": "",
           "title": {
            "standoff": 15
           },
           "zerolinecolor": "#283442",
           "automargin": true,
           "zerolinewidth": 2
          },
          "scene": {
           "xaxis": {
            "backgroundcolor": "rgb(17,17,17)",
            "gridcolor": "#506784",
            "linecolor": "#506784",
            "showbackground": true,
            "ticks": "",
            "zerolinecolor": "#C8D4E3",
            "gridwidth": 2
           },
           "yaxis": {
            "backgroundcolor": "rgb(17,17,17)",
            "gridcolor": "#506784",
            "linecolor": "#506784",
            "showbackground": true,
            "ticks": "",
            "zerolinecolor": "#C8D4E3",
            "gridwidth": 2
           },
           "zaxis": {
            "backgroundcolor": "rgb(17,17,17)",
            "gridcolor": "#506784",
            "linecolor": "#506784",
            "showbackground": true,
            "ticks": "",
            "zerolinecolor": "#C8D4E3",
            "gridwidth": 2
           }
          },
          "shapedefaults": {
           "line": {
            "color": "#f2f5fa"
           }
          },
          "annotationdefaults": {
           "arrowcolor": "#f2f5fa",
           "arrowhead": 0,
           "arrowwidth": 1
          },
          "geo": {
           "bgcolor": "rgb(17,17,17)",
           "landcolor": "rgb(17,17,17)",
           "subunitcolor": "#506784",
           "showland": true,
           "showlakes": true,
           "lakecolor": "rgb(17,17,17)"
          },
          "title": {
           "x": 0.05
          },
          "updatemenudefaults": {
           "bgcolor": "#506784",
           "borderwidth": 0
          },
          "sliderdefaults": {
           "bgcolor": "#C8D4E3",
           "borderwidth": 1,
           "bordercolor": "rgb(17,17,17)",
           "tickwidth": 0
          },
          "mapbox": {
           "style": "dark"
          }
         }
        },
        "xaxis": {
         "anchor": "y",
         "domain": [
          0.0,
          1.0
         ],
         "title": {
          "text": "Successful passes"
         },
         "showgrid": false
        },
        "yaxis": {
         "anchor": "x",
         "domain": [
          0.0,
          1.0
         ],
         "title": {
          "text": "name"
         },
         "tickfont": {
          "size": 5
         },
         "showgrid": false
        },
        "legend": {
         "title": {
          "text": "teamName"
         },
         "tracegroupgap": 0
        },
        "margin": {
         "t": 60
        },
        "barmode": "relative",
        "font": {
         "color": "black"
        },
        "plot_bgcolor": "white",
        "paper_bgcolor": "white"
       },
       "config": {
        "plotlyServerURL": "https://plot.ly"
       }
      },
      "text/html": "<div>                            <div id=\"dc6453dc-b725-4c51-82ce-ab6322d2753f\" class=\"plotly-graph-div\" style=\"height:525px; width:100%;\"></div>            <script type=\"text/javascript\">                require([\"plotly\"], function(Plotly) {                    window.PLOTLYENV=window.PLOTLYENV || {};                                    if (document.getElementById(\"dc6453dc-b725-4c51-82ce-ab6322d2753f\")) {                    Plotly.newPlot(                        \"dc6453dc-b725-4c51-82ce-ab6322d2753f\",                        [{\"alignmentgroup\":\"True\",\"hovertemplate\":\"teamName=Italy<br>Successful passes=%{x}<br>name=%{y}<extra></extra>\",\"legendgroup\":\"Italy\",\"marker\":{\"color\":\"#636efa\",\"pattern\":{\"shape\":\"\"}},\"name\":\"Italy\",\"offsetgroup\":\"Italy\",\"orientation\":\"h\",\"showlegend\":true,\"textposition\":\"auto\",\"x\":[82.0,65.0,57.0,50.0,46.0,43.0,42.0,42.0,33.0,25.0,25.0,23.0,21.0,21.0,5.0,4.0,2.0],\"xaxis\":\"x\",\"y\":[\"Leonardo Bonucci\",\"Manuel Locatelli\",\"Alessandro Florenzi\",\"Lorenzo Insigne\",\"Giorgio Chiellini\",\"Jorginho \",\"Gianluigi Donnarumma\",\"Nicolo Barella\",\"Leonardo Spinazzola\",\"Francesco Acerbi\",\"Emerson \",\"Domenico Berardi\",\"Ciro Immobile\",\"Bryan Cristante\",\"Rafael Toloi\",\"Federico Chiesa\",\"Giacomo Raspadori\"],\"yaxis\":\"y\",\"type\":\"bar\"},{\"alignmentgroup\":\"True\",\"hovertemplate\":\"teamName=Czech Republic<br>Successful passes=%{x}<br>name=%{y}<extra></extra>\",\"legendgroup\":\"Czech Republic\",\"marker\":{\"color\":\"#EF553B\",\"pattern\":{\"shape\":\"\"}},\"name\":\"Czech Republic\",\"offsetgroup\":\"Czech Republic\",\"orientation\":\"h\",\"showlegend\":true,\"textposition\":\"auto\",\"x\":[54.0,34.0,31.0,25.0,25.0,24.0,21.0,19.0,14.0,14.0,12.0,11.0,8.0,7.0,6.0,3.0,1.0],\"xaxis\":\"x\",\"y\":[\"Jakub Brabec\",\"Vladimir Coufal\",\"Alex Kral\",\"Jan Boril\",\"Jiri Pavlenka\",\"Vladimir Darida\",\"Tomas Soucek\",\"Antonin Barak\",\"Ondrej Celustka\",\"Jakub Jankto\",\"David Zima\",\"Lukas Masopust\",\"Michal Sadilek\",\"Patrik Schick\",\"Petr Sevcik\",\"Michael Krmencik\",\"Matej Vydra\"],\"yaxis\":\"y\",\"type\":\"bar\"}],                        {\"template\":{\"data\":{\"histogram2dcontour\":[{\"type\":\"histogram2dcontour\",\"colorbar\":{\"outlinewidth\":0,\"ticks\":\"\"},\"colorscale\":[[0.0,\"#0d0887\"],[0.1111111111111111,\"#46039f\"],[0.2222222222222222,\"#7201a8\"],[0.3333333333333333,\"#9c179e\"],[0.4444444444444444,\"#bd3786\"],[0.5555555555555556,\"#d8576b\"],[0.6666666666666666,\"#ed7953\"],[0.7777777777777778,\"#fb9f3a\"],[0.8888888888888888,\"#fdca26\"],[1.0,\"#f0f921\"]]}],\"choropleth\":[{\"type\":\"choropleth\",\"colorbar\":{\"outlinewidth\":0,\"ticks\":\"\"}}],\"histogram2d\":[{\"type\":\"histogram2d\",\"colorbar\":{\"outlinewidth\":0,\"ticks\":\"\"},\"colorscale\":[[0.0,\"#0d0887\"],[0.1111111111111111,\"#46039f\"],[0.2222222222222222,\"#7201a8\"],[0.3333333333333333,\"#9c179e\"],[0.4444444444444444,\"#bd3786\"],[0.5555555555555556,\"#d8576b\"],[0.6666666666666666,\"#ed7953\"],[0.7777777777777778,\"#fb9f3a\"],[0.8888888888888888,\"#fdca26\"],[1.0,\"#f0f921\"]]}],\"heatmap\":[{\"type\":\"heatmap\",\"colorbar\":{\"outlinewidth\":0,\"ticks\":\"\"},\"colorscale\":[[0.0,\"#0d0887\"],[0.1111111111111111,\"#46039f\"],[0.2222222222222222,\"#7201a8\"],[0.3333333333333333,\"#9c179e\"],[0.4444444444444444,\"#bd3786\"],[0.5555555555555556,\"#d8576b\"],[0.6666666666666666,\"#ed7953\"],[0.7777777777777778,\"#fb9f3a\"],[0.8888888888888888,\"#fdca26\"],[1.0,\"#f0f921\"]]}],\"heatmapgl\":[{\"type\":\"heatmapgl\",\"colorbar\":{\"outlinewidth\":0,\"ticks\":\"\"},\"colorscale\":[[0.0,\"#0d0887\"],[0.1111111111111111,\"#46039f\"],[0.2222222222222222,\"#7201a8\"],[0.3333333333333333,\"#9c179e\"],[0.4444444444444444,\"#bd3786\"],[0.5555555555555556,\"#d8576b\"],[0.6666666666666666,\"#ed7953\"],[0.7777777777777778,\"#fb9f3a\"],[0.8888888888888888,\"#fdca26\"],[1.0,\"#f0f921\"]]}],\"contourcarpet\":[{\"type\":\"contourcarpet\",\"colorbar\":{\"outlinewidth\":0,\"ticks\":\"\"}}],\"contour\":[{\"type\":\"contour\",\"colorbar\":{\"outlinewidth\":0,\"ticks\":\"\"},\"colorscale\":[[0.0,\"#0d0887\"],[0.1111111111111111,\"#46039f\"],[0.2222222222222222,\"#7201a8\"],[0.3333333333333333,\"#9c179e\"],[0.4444444444444444,\"#bd3786\"],[0.5555555555555556,\"#d8576b\"],[0.6666666666666666,\"#ed7953\"],[0.7777777777777778,\"#fb9f3a\"],[0.8888888888888888,\"#fdca26\"],[1.0,\"#f0f921\"]]}],\"surface\":[{\"type\":\"surface\",\"colorbar\":{\"outlinewidth\":0,\"ticks\":\"\"},\"colorscale\":[[0.0,\"#0d0887\"],[0.1111111111111111,\"#46039f\"],[0.2222222222222222,\"#7201a8\"],[0.3333333333333333,\"#9c179e\"],[0.4444444444444444,\"#bd3786\"],[0.5555555555555556,\"#d8576b\"],[0.6666666666666666,\"#ed7953\"],[0.7777777777777778,\"#fb9f3a\"],[0.8888888888888888,\"#fdca26\"],[1.0,\"#f0f921\"]]}],\"mesh3d\":[{\"type\":\"mesh3d\",\"colorbar\":{\"outlinewidth\":0,\"ticks\":\"\"}}],\"scatter\":[{\"marker\":{\"line\":{\"color\":\"#283442\"}},\"type\":\"scatter\"}],\"parcoords\":[{\"type\":\"parcoords\",\"line\":{\"colorbar\":{\"outlinewidth\":0,\"ticks\":\"\"}}}],\"scatterpolargl\":[{\"type\":\"scatterpolargl\",\"marker\":{\"colorbar\":{\"outlinewidth\":0,\"ticks\":\"\"}}}],\"bar\":[{\"error_x\":{\"color\":\"#f2f5fa\"},\"error_y\":{\"color\":\"#f2f5fa\"},\"marker\":{\"line\":{\"color\":\"rgb(17,17,17)\",\"width\":0.5},\"pattern\":{\"fillmode\":\"overlay\",\"size\":10,\"solidity\":0.2}},\"type\":\"bar\"}],\"scattergeo\":[{\"type\":\"scattergeo\",\"marker\":{\"colorbar\":{\"outlinewidth\":0,\"ticks\":\"\"}}}],\"scatterpolar\":[{\"type\":\"scatterpolar\",\"marker\":{\"colorbar\":{\"outlinewidth\":0,\"ticks\":\"\"}}}],\"histogram\":[{\"marker\":{\"pattern\":{\"fillmode\":\"overlay\",\"size\":10,\"solidity\":0.2}},\"type\":\"histogram\"}],\"scattergl\":[{\"marker\":{\"line\":{\"color\":\"#283442\"}},\"type\":\"scattergl\"}],\"scatter3d\":[{\"type\":\"scatter3d\",\"line\":{\"colorbar\":{\"outlinewidth\":0,\"ticks\":\"\"}},\"marker\":{\"colorbar\":{\"outlinewidth\":0,\"ticks\":\"\"}}}],\"scattermapbox\":[{\"type\":\"scattermapbox\",\"marker\":{\"colorbar\":{\"outlinewidth\":0,\"ticks\":\"\"}}}],\"scatterternary\":[{\"type\":\"scatterternary\",\"marker\":{\"colorbar\":{\"outlinewidth\":0,\"ticks\":\"\"}}}],\"scattercarpet\":[{\"type\":\"scattercarpet\",\"marker\":{\"colorbar\":{\"outlinewidth\":0,\"ticks\":\"\"}}}],\"carpet\":[{\"aaxis\":{\"endlinecolor\":\"#A2B1C6\",\"gridcolor\":\"#506784\",\"linecolor\":\"#506784\",\"minorgridcolor\":\"#506784\",\"startlinecolor\":\"#A2B1C6\"},\"baxis\":{\"endlinecolor\":\"#A2B1C6\",\"gridcolor\":\"#506784\",\"linecolor\":\"#506784\",\"minorgridcolor\":\"#506784\",\"startlinecolor\":\"#A2B1C6\"},\"type\":\"carpet\"}],\"table\":[{\"cells\":{\"fill\":{\"color\":\"#506784\"},\"line\":{\"color\":\"rgb(17,17,17)\"}},\"header\":{\"fill\":{\"color\":\"#2a3f5f\"},\"line\":{\"color\":\"rgb(17,17,17)\"}},\"type\":\"table\"}],\"barpolar\":[{\"marker\":{\"line\":{\"color\":\"rgb(17,17,17)\",\"width\":0.5},\"pattern\":{\"fillmode\":\"overlay\",\"size\":10,\"solidity\":0.2}},\"type\":\"barpolar\"}],\"pie\":[{\"automargin\":true,\"type\":\"pie\"}]},\"layout\":{\"autotypenumbers\":\"strict\",\"colorway\":[\"#636efa\",\"#EF553B\",\"#00cc96\",\"#ab63fa\",\"#FFA15A\",\"#19d3f3\",\"#FF6692\",\"#B6E880\",\"#FF97FF\",\"#FECB52\"],\"font\":{\"color\":\"#f2f5fa\"},\"hovermode\":\"closest\",\"hoverlabel\":{\"align\":\"left\"},\"paper_bgcolor\":\"rgb(17,17,17)\",\"plot_bgcolor\":\"rgb(17,17,17)\",\"polar\":{\"bgcolor\":\"rgb(17,17,17)\",\"angularaxis\":{\"gridcolor\":\"#506784\",\"linecolor\":\"#506784\",\"ticks\":\"\"},\"radialaxis\":{\"gridcolor\":\"#506784\",\"linecolor\":\"#506784\",\"ticks\":\"\"}},\"ternary\":{\"bgcolor\":\"rgb(17,17,17)\",\"aaxis\":{\"gridcolor\":\"#506784\",\"linecolor\":\"#506784\",\"ticks\":\"\"},\"baxis\":{\"gridcolor\":\"#506784\",\"linecolor\":\"#506784\",\"ticks\":\"\"},\"caxis\":{\"gridcolor\":\"#506784\",\"linecolor\":\"#506784\",\"ticks\":\"\"}},\"coloraxis\":{\"colorbar\":{\"outlinewidth\":0,\"ticks\":\"\"}},\"colorscale\":{\"sequential\":[[0.0,\"#0d0887\"],[0.1111111111111111,\"#46039f\"],[0.2222222222222222,\"#7201a8\"],[0.3333333333333333,\"#9c179e\"],[0.4444444444444444,\"#bd3786\"],[0.5555555555555556,\"#d8576b\"],[0.6666666666666666,\"#ed7953\"],[0.7777777777777778,\"#fb9f3a\"],[0.8888888888888888,\"#fdca26\"],[1.0,\"#f0f921\"]],\"sequentialminus\":[[0.0,\"#0d0887\"],[0.1111111111111111,\"#46039f\"],[0.2222222222222222,\"#7201a8\"],[0.3333333333333333,\"#9c179e\"],[0.4444444444444444,\"#bd3786\"],[0.5555555555555556,\"#d8576b\"],[0.6666666666666666,\"#ed7953\"],[0.7777777777777778,\"#fb9f3a\"],[0.8888888888888888,\"#fdca26\"],[1.0,\"#f0f921\"]],\"diverging\":[[0,\"#8e0152\"],[0.1,\"#c51b7d\"],[0.2,\"#de77ae\"],[0.3,\"#f1b6da\"],[0.4,\"#fde0ef\"],[0.5,\"#f7f7f7\"],[0.6,\"#e6f5d0\"],[0.7,\"#b8e186\"],[0.8,\"#7fbc41\"],[0.9,\"#4d9221\"],[1,\"#276419\"]]},\"xaxis\":{\"gridcolor\":\"#283442\",\"linecolor\":\"#506784\",\"ticks\":\"\",\"title\":{\"standoff\":15},\"zerolinecolor\":\"#283442\",\"automargin\":true,\"zerolinewidth\":2},\"yaxis\":{\"gridcolor\":\"#283442\",\"linecolor\":\"#506784\",\"ticks\":\"\",\"title\":{\"standoff\":15},\"zerolinecolor\":\"#283442\",\"automargin\":true,\"zerolinewidth\":2},\"scene\":{\"xaxis\":{\"backgroundcolor\":\"rgb(17,17,17)\",\"gridcolor\":\"#506784\",\"linecolor\":\"#506784\",\"showbackground\":true,\"ticks\":\"\",\"zerolinecolor\":\"#C8D4E3\",\"gridwidth\":2},\"yaxis\":{\"backgroundcolor\":\"rgb(17,17,17)\",\"gridcolor\":\"#506784\",\"linecolor\":\"#506784\",\"showbackground\":true,\"ticks\":\"\",\"zerolinecolor\":\"#C8D4E3\",\"gridwidth\":2},\"zaxis\":{\"backgroundcolor\":\"rgb(17,17,17)\",\"gridcolor\":\"#506784\",\"linecolor\":\"#506784\",\"showbackground\":true,\"ticks\":\"\",\"zerolinecolor\":\"#C8D4E3\",\"gridwidth\":2}},\"shapedefaults\":{\"line\":{\"color\":\"#f2f5fa\"}},\"annotationdefaults\":{\"arrowcolor\":\"#f2f5fa\",\"arrowhead\":0,\"arrowwidth\":1},\"geo\":{\"bgcolor\":\"rgb(17,17,17)\",\"landcolor\":\"rgb(17,17,17)\",\"subunitcolor\":\"#506784\",\"showland\":true,\"showlakes\":true,\"lakecolor\":\"rgb(17,17,17)\"},\"title\":{\"x\":0.05},\"updatemenudefaults\":{\"bgcolor\":\"#506784\",\"borderwidth\":0},\"sliderdefaults\":{\"bgcolor\":\"#C8D4E3\",\"borderwidth\":1,\"bordercolor\":\"rgb(17,17,17)\",\"tickwidth\":0},\"mapbox\":{\"style\":\"dark\"}}},\"xaxis\":{\"anchor\":\"y\",\"domain\":[0.0,1.0],\"title\":{\"text\":\"Successful passes\"},\"showgrid\":false},\"yaxis\":{\"anchor\":\"x\",\"domain\":[0.0,1.0],\"title\":{\"text\":\"name\"},\"tickfont\":{\"size\":5},\"showgrid\":false},\"legend\":{\"title\":{\"text\":\"teamName\"},\"tracegroupgap\":0},\"margin\":{\"t\":60},\"barmode\":\"relative\",\"font\":{\"color\":\"black\"},\"plot_bgcolor\":\"white\",\"paper_bgcolor\":\"white\"},                        {\"responsive\": true}                    ).then(function(){\n                            \nvar gd = document.getElementById('dc6453dc-b725-4c51-82ce-ab6322d2753f');\nvar x = new MutationObserver(function (mutations, observer) {{\n        var display = window.getComputedStyle(gd).display;\n        if (!display || display === 'none') {{\n            console.log([gd, 'removed!']);\n            Plotly.purge(gd);\n            observer.disconnect();\n        }}\n}});\n\n// Listen for the removal of the full notebook cells\nvar notebookContainer = gd.closest('#notebook-container');\nif (notebookContainer) {{\n    x.observe(notebookContainer, {childList: true});\n}}\n\n// Listen for the clearing of the current output cell\nvar outputEl = gd.closest('.output');\nif (outputEl) {{\n    x.observe(outputEl, {childList: true});\n}}\n\n                        })                };                });            </script>        </div>"
     },
     "metadata": {},
     "output_type": "display_data"
    }
   ],
   "source": [
    "\n",
    "'''\n",
    "italy_pass = pass_stats[pass_stats['teamId']==10757.0]\n",
    "czech_pass = pass_stats[pass_stats['teamId']==10758.0]\n",
    "'''\n",
    "# pass by player\n",
    "fig = px.scatter(\n",
    "                data_frame=pass_stats_reset, x=\"Successful\", y=\"accuracy\", color='teamName',\n",
    "                labels={'accuracy': 'Pass Accuracy (%)', 'Successful':'Successful pass'}\n",
    ")\n",
    "\n",
    "\n",
    "fig.update_layout(\n",
    "                xaxis=dict(showgrid=False), yaxis=dict(showgrid=False),\n",
    "                plot_bgcolor='white', paper_bgcolor='white',\n",
    "                font = dict(color='black'),\n",
    ")\n",
    "\n",
    "fig.show()\n",
    "\n",
    "fig = px.bar(\n",
    "             data_frame=pass_stats_reset, x='Successful', y='name', orientation='h',\n",
    "             labels={'Successful' : 'Successful passes'}, color='teamName'\n",
    ")\n",
    "\n",
    "fig.update_layout(yaxis=dict(tickfont=dict(size=5)))\n",
    "\n",
    "fig.update_layout(\n",
    "                  xaxis=dict(showgrid=False), yaxis=dict(showgrid=False),\n",
    "                  plot_bgcolor='white', paper_bgcolor='white',\n",
    "                  font = dict(color='black')\n",
    ")\n",
    "\n",
    "fig.show()"
   ],
   "metadata": {
    "collapsed": false
   }
  },
  {
   "cell_type": "code",
   "execution_count": 15,
   "outputs": [
    {
     "data": {
      "text/plain": "teamId  eventType  cross  outcome     \n10757   Pass       False  Successful      581\n                          Unsuccessful     73\n                   True   Successful        5\n                          Unsuccessful     12\n10758   Pass       False  Successful      305\n                          Unsuccessful     80\n                   True   Successful        4\n                          Unsuccessful     14\nName: teamId, dtype: int64"
     },
     "execution_count": 15,
     "metadata": {},
     "output_type": "execute_result"
    }
   ],
   "source": [
    "#print(df['eventType'].unique())\n",
    "\n",
    "xg_sum = df.groupby('teamId')['xG'].sum()\n",
    "df.groupby(['teamId', 'eventType','cross','outcome'])['teamId'].count()\n",
    "#df.groupby(['teamId', 'outcome'])['teamId'].count()\n",
    "\n",
    "#xg_sum"
   ],
   "metadata": {
    "collapsed": false
   }
  },
  {
   "cell_type": "code",
   "execution_count": 16,
   "outputs": [
    {
     "data": {
      "application/vnd.plotly.v1+json": {
       "data": [
        {
         "domain": {
          "x": [
           0.0,
           1.0
          ],
          "y": [
           0.0,
           1.0
          ]
         },
         "hovertemplate": "label=%{label}<br>value=%{value}<extra></extra>",
         "labels": [
          "Itlay",
          "Czech Republic"
         ],
         "legendgroup": "",
         "name": "",
         "showlegend": true,
         "values": [
          671,
          403
         ],
         "type": "pie",
         "hole": 0.5,
         "textinfo": "value"
        }
       ],
       "layout": {
        "template": {
         "data": {
          "histogram2dcontour": [
           {
            "type": "histogram2dcontour",
            "colorbar": {
             "outlinewidth": 0,
             "ticks": ""
            },
            "colorscale": [
             [
              0.0,
              "#0d0887"
             ],
             [
              0.1111111111111111,
              "#46039f"
             ],
             [
              0.2222222222222222,
              "#7201a8"
             ],
             [
              0.3333333333333333,
              "#9c179e"
             ],
             [
              0.4444444444444444,
              "#bd3786"
             ],
             [
              0.5555555555555556,
              "#d8576b"
             ],
             [
              0.6666666666666666,
              "#ed7953"
             ],
             [
              0.7777777777777778,
              "#fb9f3a"
             ],
             [
              0.8888888888888888,
              "#fdca26"
             ],
             [
              1.0,
              "#f0f921"
             ]
            ]
           }
          ],
          "choropleth": [
           {
            "type": "choropleth",
            "colorbar": {
             "outlinewidth": 0,
             "ticks": ""
            }
           }
          ],
          "histogram2d": [
           {
            "type": "histogram2d",
            "colorbar": {
             "outlinewidth": 0,
             "ticks": ""
            },
            "colorscale": [
             [
              0.0,
              "#0d0887"
             ],
             [
              0.1111111111111111,
              "#46039f"
             ],
             [
              0.2222222222222222,
              "#7201a8"
             ],
             [
              0.3333333333333333,
              "#9c179e"
             ],
             [
              0.4444444444444444,
              "#bd3786"
             ],
             [
              0.5555555555555556,
              "#d8576b"
             ],
             [
              0.6666666666666666,
              "#ed7953"
             ],
             [
              0.7777777777777778,
              "#fb9f3a"
             ],
             [
              0.8888888888888888,
              "#fdca26"
             ],
             [
              1.0,
              "#f0f921"
             ]
            ]
           }
          ],
          "heatmap": [
           {
            "type": "heatmap",
            "colorbar": {
             "outlinewidth": 0,
             "ticks": ""
            },
            "colorscale": [
             [
              0.0,
              "#0d0887"
             ],
             [
              0.1111111111111111,
              "#46039f"
             ],
             [
              0.2222222222222222,
              "#7201a8"
             ],
             [
              0.3333333333333333,
              "#9c179e"
             ],
             [
              0.4444444444444444,
              "#bd3786"
             ],
             [
              0.5555555555555556,
              "#d8576b"
             ],
             [
              0.6666666666666666,
              "#ed7953"
             ],
             [
              0.7777777777777778,
              "#fb9f3a"
             ],
             [
              0.8888888888888888,
              "#fdca26"
             ],
             [
              1.0,
              "#f0f921"
             ]
            ]
           }
          ],
          "heatmapgl": [
           {
            "type": "heatmapgl",
            "colorbar": {
             "outlinewidth": 0,
             "ticks": ""
            },
            "colorscale": [
             [
              0.0,
              "#0d0887"
             ],
             [
              0.1111111111111111,
              "#46039f"
             ],
             [
              0.2222222222222222,
              "#7201a8"
             ],
             [
              0.3333333333333333,
              "#9c179e"
             ],
             [
              0.4444444444444444,
              "#bd3786"
             ],
             [
              0.5555555555555556,
              "#d8576b"
             ],
             [
              0.6666666666666666,
              "#ed7953"
             ],
             [
              0.7777777777777778,
              "#fb9f3a"
             ],
             [
              0.8888888888888888,
              "#fdca26"
             ],
             [
              1.0,
              "#f0f921"
             ]
            ]
           }
          ],
          "contourcarpet": [
           {
            "type": "contourcarpet",
            "colorbar": {
             "outlinewidth": 0,
             "ticks": ""
            }
           }
          ],
          "contour": [
           {
            "type": "contour",
            "colorbar": {
             "outlinewidth": 0,
             "ticks": ""
            },
            "colorscale": [
             [
              0.0,
              "#0d0887"
             ],
             [
              0.1111111111111111,
              "#46039f"
             ],
             [
              0.2222222222222222,
              "#7201a8"
             ],
             [
              0.3333333333333333,
              "#9c179e"
             ],
             [
              0.4444444444444444,
              "#bd3786"
             ],
             [
              0.5555555555555556,
              "#d8576b"
             ],
             [
              0.6666666666666666,
              "#ed7953"
             ],
             [
              0.7777777777777778,
              "#fb9f3a"
             ],
             [
              0.8888888888888888,
              "#fdca26"
             ],
             [
              1.0,
              "#f0f921"
             ]
            ]
           }
          ],
          "surface": [
           {
            "type": "surface",
            "colorbar": {
             "outlinewidth": 0,
             "ticks": ""
            },
            "colorscale": [
             [
              0.0,
              "#0d0887"
             ],
             [
              0.1111111111111111,
              "#46039f"
             ],
             [
              0.2222222222222222,
              "#7201a8"
             ],
             [
              0.3333333333333333,
              "#9c179e"
             ],
             [
              0.4444444444444444,
              "#bd3786"
             ],
             [
              0.5555555555555556,
              "#d8576b"
             ],
             [
              0.6666666666666666,
              "#ed7953"
             ],
             [
              0.7777777777777778,
              "#fb9f3a"
             ],
             [
              0.8888888888888888,
              "#fdca26"
             ],
             [
              1.0,
              "#f0f921"
             ]
            ]
           }
          ],
          "mesh3d": [
           {
            "type": "mesh3d",
            "colorbar": {
             "outlinewidth": 0,
             "ticks": ""
            }
           }
          ],
          "scatter": [
           {
            "marker": {
             "line": {
              "color": "#283442"
             }
            },
            "type": "scatter"
           }
          ],
          "parcoords": [
           {
            "type": "parcoords",
            "line": {
             "colorbar": {
              "outlinewidth": 0,
              "ticks": ""
             }
            }
           }
          ],
          "scatterpolargl": [
           {
            "type": "scatterpolargl",
            "marker": {
             "colorbar": {
              "outlinewidth": 0,
              "ticks": ""
             }
            }
           }
          ],
          "bar": [
           {
            "error_x": {
             "color": "#f2f5fa"
            },
            "error_y": {
             "color": "#f2f5fa"
            },
            "marker": {
             "line": {
              "color": "rgb(17,17,17)",
              "width": 0.5
             },
             "pattern": {
              "fillmode": "overlay",
              "size": 10,
              "solidity": 0.2
             }
            },
            "type": "bar"
           }
          ],
          "scattergeo": [
           {
            "type": "scattergeo",
            "marker": {
             "colorbar": {
              "outlinewidth": 0,
              "ticks": ""
             }
            }
           }
          ],
          "scatterpolar": [
           {
            "type": "scatterpolar",
            "marker": {
             "colorbar": {
              "outlinewidth": 0,
              "ticks": ""
             }
            }
           }
          ],
          "histogram": [
           {
            "marker": {
             "pattern": {
              "fillmode": "overlay",
              "size": 10,
              "solidity": 0.2
             }
            },
            "type": "histogram"
           }
          ],
          "scattergl": [
           {
            "marker": {
             "line": {
              "color": "#283442"
             }
            },
            "type": "scattergl"
           }
          ],
          "scatter3d": [
           {
            "type": "scatter3d",
            "line": {
             "colorbar": {
              "outlinewidth": 0,
              "ticks": ""
             }
            },
            "marker": {
             "colorbar": {
              "outlinewidth": 0,
              "ticks": ""
             }
            }
           }
          ],
          "scattermapbox": [
           {
            "type": "scattermapbox",
            "marker": {
             "colorbar": {
              "outlinewidth": 0,
              "ticks": ""
             }
            }
           }
          ],
          "scatterternary": [
           {
            "type": "scatterternary",
            "marker": {
             "colorbar": {
              "outlinewidth": 0,
              "ticks": ""
             }
            }
           }
          ],
          "scattercarpet": [
           {
            "type": "scattercarpet",
            "marker": {
             "colorbar": {
              "outlinewidth": 0,
              "ticks": ""
             }
            }
           }
          ],
          "carpet": [
           {
            "aaxis": {
             "endlinecolor": "#A2B1C6",
             "gridcolor": "#506784",
             "linecolor": "#506784",
             "minorgridcolor": "#506784",
             "startlinecolor": "#A2B1C6"
            },
            "baxis": {
             "endlinecolor": "#A2B1C6",
             "gridcolor": "#506784",
             "linecolor": "#506784",
             "minorgridcolor": "#506784",
             "startlinecolor": "#A2B1C6"
            },
            "type": "carpet"
           }
          ],
          "table": [
           {
            "cells": {
             "fill": {
              "color": "#506784"
             },
             "line": {
              "color": "rgb(17,17,17)"
             }
            },
            "header": {
             "fill": {
              "color": "#2a3f5f"
             },
             "line": {
              "color": "rgb(17,17,17)"
             }
            },
            "type": "table"
           }
          ],
          "barpolar": [
           {
            "marker": {
             "line": {
              "color": "rgb(17,17,17)",
              "width": 0.5
             },
             "pattern": {
              "fillmode": "overlay",
              "size": 10,
              "solidity": 0.2
             }
            },
            "type": "barpolar"
           }
          ],
          "pie": [
           {
            "automargin": true,
            "type": "pie"
           }
          ]
         },
         "layout": {
          "autotypenumbers": "strict",
          "colorway": [
           "#636efa",
           "#EF553B",
           "#00cc96",
           "#ab63fa",
           "#FFA15A",
           "#19d3f3",
           "#FF6692",
           "#B6E880",
           "#FF97FF",
           "#FECB52"
          ],
          "font": {
           "color": "#f2f5fa"
          },
          "hovermode": "closest",
          "hoverlabel": {
           "align": "left"
          },
          "paper_bgcolor": "rgb(17,17,17)",
          "plot_bgcolor": "rgb(17,17,17)",
          "polar": {
           "bgcolor": "rgb(17,17,17)",
           "angularaxis": {
            "gridcolor": "#506784",
            "linecolor": "#506784",
            "ticks": ""
           },
           "radialaxis": {
            "gridcolor": "#506784",
            "linecolor": "#506784",
            "ticks": ""
           }
          },
          "ternary": {
           "bgcolor": "rgb(17,17,17)",
           "aaxis": {
            "gridcolor": "#506784",
            "linecolor": "#506784",
            "ticks": ""
           },
           "baxis": {
            "gridcolor": "#506784",
            "linecolor": "#506784",
            "ticks": ""
           },
           "caxis": {
            "gridcolor": "#506784",
            "linecolor": "#506784",
            "ticks": ""
           }
          },
          "coloraxis": {
           "colorbar": {
            "outlinewidth": 0,
            "ticks": ""
           }
          },
          "colorscale": {
           "sequential": [
            [
             0.0,
             "#0d0887"
            ],
            [
             0.1111111111111111,
             "#46039f"
            ],
            [
             0.2222222222222222,
             "#7201a8"
            ],
            [
             0.3333333333333333,
             "#9c179e"
            ],
            [
             0.4444444444444444,
             "#bd3786"
            ],
            [
             0.5555555555555556,
             "#d8576b"
            ],
            [
             0.6666666666666666,
             "#ed7953"
            ],
            [
             0.7777777777777778,
             "#fb9f3a"
            ],
            [
             0.8888888888888888,
             "#fdca26"
            ],
            [
             1.0,
             "#f0f921"
            ]
           ],
           "sequentialminus": [
            [
             0.0,
             "#0d0887"
            ],
            [
             0.1111111111111111,
             "#46039f"
            ],
            [
             0.2222222222222222,
             "#7201a8"
            ],
            [
             0.3333333333333333,
             "#9c179e"
            ],
            [
             0.4444444444444444,
             "#bd3786"
            ],
            [
             0.5555555555555556,
             "#d8576b"
            ],
            [
             0.6666666666666666,
             "#ed7953"
            ],
            [
             0.7777777777777778,
             "#fb9f3a"
            ],
            [
             0.8888888888888888,
             "#fdca26"
            ],
            [
             1.0,
             "#f0f921"
            ]
           ],
           "diverging": [
            [
             0,
             "#8e0152"
            ],
            [
             0.1,
             "#c51b7d"
            ],
            [
             0.2,
             "#de77ae"
            ],
            [
             0.3,
             "#f1b6da"
            ],
            [
             0.4,
             "#fde0ef"
            ],
            [
             0.5,
             "#f7f7f7"
            ],
            [
             0.6,
             "#e6f5d0"
            ],
            [
             0.7,
             "#b8e186"
            ],
            [
             0.8,
             "#7fbc41"
            ],
            [
             0.9,
             "#4d9221"
            ],
            [
             1,
             "#276419"
            ]
           ]
          },
          "xaxis": {
           "gridcolor": "#283442",
           "linecolor": "#506784",
           "ticks": "",
           "title": {
            "standoff": 15
           },
           "zerolinecolor": "#283442",
           "automargin": true,
           "zerolinewidth": 2
          },
          "yaxis": {
           "gridcolor": "#283442",
           "linecolor": "#506784",
           "ticks": "",
           "title": {
            "standoff": 15
           },
           "zerolinecolor": "#283442",
           "automargin": true,
           "zerolinewidth": 2
          },
          "scene": {
           "xaxis": {
            "backgroundcolor": "rgb(17,17,17)",
            "gridcolor": "#506784",
            "linecolor": "#506784",
            "showbackground": true,
            "ticks": "",
            "zerolinecolor": "#C8D4E3",
            "gridwidth": 2
           },
           "yaxis": {
            "backgroundcolor": "rgb(17,17,17)",
            "gridcolor": "#506784",
            "linecolor": "#506784",
            "showbackground": true,
            "ticks": "",
            "zerolinecolor": "#C8D4E3",
            "gridwidth": 2
           },
           "zaxis": {
            "backgroundcolor": "rgb(17,17,17)",
            "gridcolor": "#506784",
            "linecolor": "#506784",
            "showbackground": true,
            "ticks": "",
            "zerolinecolor": "#C8D4E3",
            "gridwidth": 2
           }
          },
          "shapedefaults": {
           "line": {
            "color": "#f2f5fa"
           }
          },
          "annotationdefaults": {
           "arrowcolor": "#f2f5fa",
           "arrowhead": 0,
           "arrowwidth": 1
          },
          "geo": {
           "bgcolor": "rgb(17,17,17)",
           "landcolor": "rgb(17,17,17)",
           "subunitcolor": "#506784",
           "showland": true,
           "showlakes": true,
           "lakecolor": "rgb(17,17,17)"
          },
          "title": {
           "x": 0.05
          },
          "updatemenudefaults": {
           "bgcolor": "#506784",
           "borderwidth": 0
          },
          "sliderdefaults": {
           "bgcolor": "#C8D4E3",
           "borderwidth": 1,
           "bordercolor": "rgb(17,17,17)",
           "tickwidth": 0
          },
          "mapbox": {
           "style": "dark"
          }
         }
        },
        "legend": {
         "tracegroupgap": 0
        },
        "margin": {
         "t": 60
        }
       },
       "config": {
        "plotlyServerURL": "https://plot.ly"
       }
      },
      "text/html": "<div>                            <div id=\"b7ec56a4-42dc-4190-a01f-2a5ba9f7e55c\" class=\"plotly-graph-div\" style=\"height:525px; width:100%;\"></div>            <script type=\"text/javascript\">                require([\"plotly\"], function(Plotly) {                    window.PLOTLYENV=window.PLOTLYENV || {};                                    if (document.getElementById(\"b7ec56a4-42dc-4190-a01f-2a5ba9f7e55c\")) {                    Plotly.newPlot(                        \"b7ec56a4-42dc-4190-a01f-2a5ba9f7e55c\",                        [{\"domain\":{\"x\":[0.0,1.0],\"y\":[0.0,1.0]},\"hovertemplate\":\"label=%{label}<br>value=%{value}<extra></extra>\",\"labels\":[\"Itlay\",\"Czech Republic\"],\"legendgroup\":\"\",\"name\":\"\",\"showlegend\":true,\"values\":[671,403],\"type\":\"pie\",\"hole\":0.5,\"textinfo\":\"value\"}],                        {\"template\":{\"data\":{\"histogram2dcontour\":[{\"type\":\"histogram2dcontour\",\"colorbar\":{\"outlinewidth\":0,\"ticks\":\"\"},\"colorscale\":[[0.0,\"#0d0887\"],[0.1111111111111111,\"#46039f\"],[0.2222222222222222,\"#7201a8\"],[0.3333333333333333,\"#9c179e\"],[0.4444444444444444,\"#bd3786\"],[0.5555555555555556,\"#d8576b\"],[0.6666666666666666,\"#ed7953\"],[0.7777777777777778,\"#fb9f3a\"],[0.8888888888888888,\"#fdca26\"],[1.0,\"#f0f921\"]]}],\"choropleth\":[{\"type\":\"choropleth\",\"colorbar\":{\"outlinewidth\":0,\"ticks\":\"\"}}],\"histogram2d\":[{\"type\":\"histogram2d\",\"colorbar\":{\"outlinewidth\":0,\"ticks\":\"\"},\"colorscale\":[[0.0,\"#0d0887\"],[0.1111111111111111,\"#46039f\"],[0.2222222222222222,\"#7201a8\"],[0.3333333333333333,\"#9c179e\"],[0.4444444444444444,\"#bd3786\"],[0.5555555555555556,\"#d8576b\"],[0.6666666666666666,\"#ed7953\"],[0.7777777777777778,\"#fb9f3a\"],[0.8888888888888888,\"#fdca26\"],[1.0,\"#f0f921\"]]}],\"heatmap\":[{\"type\":\"heatmap\",\"colorbar\":{\"outlinewidth\":0,\"ticks\":\"\"},\"colorscale\":[[0.0,\"#0d0887\"],[0.1111111111111111,\"#46039f\"],[0.2222222222222222,\"#7201a8\"],[0.3333333333333333,\"#9c179e\"],[0.4444444444444444,\"#bd3786\"],[0.5555555555555556,\"#d8576b\"],[0.6666666666666666,\"#ed7953\"],[0.7777777777777778,\"#fb9f3a\"],[0.8888888888888888,\"#fdca26\"],[1.0,\"#f0f921\"]]}],\"heatmapgl\":[{\"type\":\"heatmapgl\",\"colorbar\":{\"outlinewidth\":0,\"ticks\":\"\"},\"colorscale\":[[0.0,\"#0d0887\"],[0.1111111111111111,\"#46039f\"],[0.2222222222222222,\"#7201a8\"],[0.3333333333333333,\"#9c179e\"],[0.4444444444444444,\"#bd3786\"],[0.5555555555555556,\"#d8576b\"],[0.6666666666666666,\"#ed7953\"],[0.7777777777777778,\"#fb9f3a\"],[0.8888888888888888,\"#fdca26\"],[1.0,\"#f0f921\"]]}],\"contourcarpet\":[{\"type\":\"contourcarpet\",\"colorbar\":{\"outlinewidth\":0,\"ticks\":\"\"}}],\"contour\":[{\"type\":\"contour\",\"colorbar\":{\"outlinewidth\":0,\"ticks\":\"\"},\"colorscale\":[[0.0,\"#0d0887\"],[0.1111111111111111,\"#46039f\"],[0.2222222222222222,\"#7201a8\"],[0.3333333333333333,\"#9c179e\"],[0.4444444444444444,\"#bd3786\"],[0.5555555555555556,\"#d8576b\"],[0.6666666666666666,\"#ed7953\"],[0.7777777777777778,\"#fb9f3a\"],[0.8888888888888888,\"#fdca26\"],[1.0,\"#f0f921\"]]}],\"surface\":[{\"type\":\"surface\",\"colorbar\":{\"outlinewidth\":0,\"ticks\":\"\"},\"colorscale\":[[0.0,\"#0d0887\"],[0.1111111111111111,\"#46039f\"],[0.2222222222222222,\"#7201a8\"],[0.3333333333333333,\"#9c179e\"],[0.4444444444444444,\"#bd3786\"],[0.5555555555555556,\"#d8576b\"],[0.6666666666666666,\"#ed7953\"],[0.7777777777777778,\"#fb9f3a\"],[0.8888888888888888,\"#fdca26\"],[1.0,\"#f0f921\"]]}],\"mesh3d\":[{\"type\":\"mesh3d\",\"colorbar\":{\"outlinewidth\":0,\"ticks\":\"\"}}],\"scatter\":[{\"marker\":{\"line\":{\"color\":\"#283442\"}},\"type\":\"scatter\"}],\"parcoords\":[{\"type\":\"parcoords\",\"line\":{\"colorbar\":{\"outlinewidth\":0,\"ticks\":\"\"}}}],\"scatterpolargl\":[{\"type\":\"scatterpolargl\",\"marker\":{\"colorbar\":{\"outlinewidth\":0,\"ticks\":\"\"}}}],\"bar\":[{\"error_x\":{\"color\":\"#f2f5fa\"},\"error_y\":{\"color\":\"#f2f5fa\"},\"marker\":{\"line\":{\"color\":\"rgb(17,17,17)\",\"width\":0.5},\"pattern\":{\"fillmode\":\"overlay\",\"size\":10,\"solidity\":0.2}},\"type\":\"bar\"}],\"scattergeo\":[{\"type\":\"scattergeo\",\"marker\":{\"colorbar\":{\"outlinewidth\":0,\"ticks\":\"\"}}}],\"scatterpolar\":[{\"type\":\"scatterpolar\",\"marker\":{\"colorbar\":{\"outlinewidth\":0,\"ticks\":\"\"}}}],\"histogram\":[{\"marker\":{\"pattern\":{\"fillmode\":\"overlay\",\"size\":10,\"solidity\":0.2}},\"type\":\"histogram\"}],\"scattergl\":[{\"marker\":{\"line\":{\"color\":\"#283442\"}},\"type\":\"scattergl\"}],\"scatter3d\":[{\"type\":\"scatter3d\",\"line\":{\"colorbar\":{\"outlinewidth\":0,\"ticks\":\"\"}},\"marker\":{\"colorbar\":{\"outlinewidth\":0,\"ticks\":\"\"}}}],\"scattermapbox\":[{\"type\":\"scattermapbox\",\"marker\":{\"colorbar\":{\"outlinewidth\":0,\"ticks\":\"\"}}}],\"scatterternary\":[{\"type\":\"scatterternary\",\"marker\":{\"colorbar\":{\"outlinewidth\":0,\"ticks\":\"\"}}}],\"scattercarpet\":[{\"type\":\"scattercarpet\",\"marker\":{\"colorbar\":{\"outlinewidth\":0,\"ticks\":\"\"}}}],\"carpet\":[{\"aaxis\":{\"endlinecolor\":\"#A2B1C6\",\"gridcolor\":\"#506784\",\"linecolor\":\"#506784\",\"minorgridcolor\":\"#506784\",\"startlinecolor\":\"#A2B1C6\"},\"baxis\":{\"endlinecolor\":\"#A2B1C6\",\"gridcolor\":\"#506784\",\"linecolor\":\"#506784\",\"minorgridcolor\":\"#506784\",\"startlinecolor\":\"#A2B1C6\"},\"type\":\"carpet\"}],\"table\":[{\"cells\":{\"fill\":{\"color\":\"#506784\"},\"line\":{\"color\":\"rgb(17,17,17)\"}},\"header\":{\"fill\":{\"color\":\"#2a3f5f\"},\"line\":{\"color\":\"rgb(17,17,17)\"}},\"type\":\"table\"}],\"barpolar\":[{\"marker\":{\"line\":{\"color\":\"rgb(17,17,17)\",\"width\":0.5},\"pattern\":{\"fillmode\":\"overlay\",\"size\":10,\"solidity\":0.2}},\"type\":\"barpolar\"}],\"pie\":[{\"automargin\":true,\"type\":\"pie\"}]},\"layout\":{\"autotypenumbers\":\"strict\",\"colorway\":[\"#636efa\",\"#EF553B\",\"#00cc96\",\"#ab63fa\",\"#FFA15A\",\"#19d3f3\",\"#FF6692\",\"#B6E880\",\"#FF97FF\",\"#FECB52\"],\"font\":{\"color\":\"#f2f5fa\"},\"hovermode\":\"closest\",\"hoverlabel\":{\"align\":\"left\"},\"paper_bgcolor\":\"rgb(17,17,17)\",\"plot_bgcolor\":\"rgb(17,17,17)\",\"polar\":{\"bgcolor\":\"rgb(17,17,17)\",\"angularaxis\":{\"gridcolor\":\"#506784\",\"linecolor\":\"#506784\",\"ticks\":\"\"},\"radialaxis\":{\"gridcolor\":\"#506784\",\"linecolor\":\"#506784\",\"ticks\":\"\"}},\"ternary\":{\"bgcolor\":\"rgb(17,17,17)\",\"aaxis\":{\"gridcolor\":\"#506784\",\"linecolor\":\"#506784\",\"ticks\":\"\"},\"baxis\":{\"gridcolor\":\"#506784\",\"linecolor\":\"#506784\",\"ticks\":\"\"},\"caxis\":{\"gridcolor\":\"#506784\",\"linecolor\":\"#506784\",\"ticks\":\"\"}},\"coloraxis\":{\"colorbar\":{\"outlinewidth\":0,\"ticks\":\"\"}},\"colorscale\":{\"sequential\":[[0.0,\"#0d0887\"],[0.1111111111111111,\"#46039f\"],[0.2222222222222222,\"#7201a8\"],[0.3333333333333333,\"#9c179e\"],[0.4444444444444444,\"#bd3786\"],[0.5555555555555556,\"#d8576b\"],[0.6666666666666666,\"#ed7953\"],[0.7777777777777778,\"#fb9f3a\"],[0.8888888888888888,\"#fdca26\"],[1.0,\"#f0f921\"]],\"sequentialminus\":[[0.0,\"#0d0887\"],[0.1111111111111111,\"#46039f\"],[0.2222222222222222,\"#7201a8\"],[0.3333333333333333,\"#9c179e\"],[0.4444444444444444,\"#bd3786\"],[0.5555555555555556,\"#d8576b\"],[0.6666666666666666,\"#ed7953\"],[0.7777777777777778,\"#fb9f3a\"],[0.8888888888888888,\"#fdca26\"],[1.0,\"#f0f921\"]],\"diverging\":[[0,\"#8e0152\"],[0.1,\"#c51b7d\"],[0.2,\"#de77ae\"],[0.3,\"#f1b6da\"],[0.4,\"#fde0ef\"],[0.5,\"#f7f7f7\"],[0.6,\"#e6f5d0\"],[0.7,\"#b8e186\"],[0.8,\"#7fbc41\"],[0.9,\"#4d9221\"],[1,\"#276419\"]]},\"xaxis\":{\"gridcolor\":\"#283442\",\"linecolor\":\"#506784\",\"ticks\":\"\",\"title\":{\"standoff\":15},\"zerolinecolor\":\"#283442\",\"automargin\":true,\"zerolinewidth\":2},\"yaxis\":{\"gridcolor\":\"#283442\",\"linecolor\":\"#506784\",\"ticks\":\"\",\"title\":{\"standoff\":15},\"zerolinecolor\":\"#283442\",\"automargin\":true,\"zerolinewidth\":2},\"scene\":{\"xaxis\":{\"backgroundcolor\":\"rgb(17,17,17)\",\"gridcolor\":\"#506784\",\"linecolor\":\"#506784\",\"showbackground\":true,\"ticks\":\"\",\"zerolinecolor\":\"#C8D4E3\",\"gridwidth\":2},\"yaxis\":{\"backgroundcolor\":\"rgb(17,17,17)\",\"gridcolor\":\"#506784\",\"linecolor\":\"#506784\",\"showbackground\":true,\"ticks\":\"\",\"zerolinecolor\":\"#C8D4E3\",\"gridwidth\":2},\"zaxis\":{\"backgroundcolor\":\"rgb(17,17,17)\",\"gridcolor\":\"#506784\",\"linecolor\":\"#506784\",\"showbackground\":true,\"ticks\":\"\",\"zerolinecolor\":\"#C8D4E3\",\"gridwidth\":2}},\"shapedefaults\":{\"line\":{\"color\":\"#f2f5fa\"}},\"annotationdefaults\":{\"arrowcolor\":\"#f2f5fa\",\"arrowhead\":0,\"arrowwidth\":1},\"geo\":{\"bgcolor\":\"rgb(17,17,17)\",\"landcolor\":\"rgb(17,17,17)\",\"subunitcolor\":\"#506784\",\"showland\":true,\"showlakes\":true,\"lakecolor\":\"rgb(17,17,17)\"},\"title\":{\"x\":0.05},\"updatemenudefaults\":{\"bgcolor\":\"#506784\",\"borderwidth\":0},\"sliderdefaults\":{\"bgcolor\":\"#C8D4E3\",\"borderwidth\":1,\"bordercolor\":\"rgb(17,17,17)\",\"tickwidth\":0},\"mapbox\":{\"style\":\"dark\"}}},\"legend\":{\"tracegroupgap\":0},\"margin\":{\"t\":60}},                        {\"responsive\": true}                    ).then(function(){\n                            \nvar gd = document.getElementById('b7ec56a4-42dc-4190-a01f-2a5ba9f7e55c');\nvar x = new MutationObserver(function (mutations, observer) {{\n        var display = window.getComputedStyle(gd).display;\n        if (!display || display === 'none') {{\n            console.log([gd, 'removed!']);\n            Plotly.purge(gd);\n            observer.disconnect();\n        }}\n}});\n\n// Listen for the removal of the full notebook cells\nvar notebookContainer = gd.closest('#notebook-container');\nif (notebookContainer) {{\n    x.observe(notebookContainer, {childList: true});\n}}\n\n// Listen for the clearing of the current output cell\nvar outputEl = gd.closest('.output');\nif (outputEl) {{\n    x.observe(outputEl, {childList: true});\n}}\n\n                        })                };                });            </script>        </div>"
     },
     "metadata": {},
     "output_type": "display_data"
    },
    {
     "data": {
      "application/vnd.plotly.v1+json": {
       "data": [
        {
         "domain": {
          "x": [
           0.0,
           1.0
          ],
          "y": [
           0.0,
           1.0
          ]
         },
         "hovertemplate": "label=%{label}<br>value=%{value}<extra></extra>",
         "labels": [
          "Itlay",
          "Czech Republic"
         ],
         "legendgroup": "",
         "name": "",
         "showlegend": true,
         "values": [
          87,
          76
         ],
         "type": "pie",
         "hole": 0.5,
         "textinfo": "value"
        }
       ],
       "layout": {
        "template": {
         "data": {
          "histogram2dcontour": [
           {
            "type": "histogram2dcontour",
            "colorbar": {
             "outlinewidth": 0,
             "ticks": ""
            },
            "colorscale": [
             [
              0.0,
              "#0d0887"
             ],
             [
              0.1111111111111111,
              "#46039f"
             ],
             [
              0.2222222222222222,
              "#7201a8"
             ],
             [
              0.3333333333333333,
              "#9c179e"
             ],
             [
              0.4444444444444444,
              "#bd3786"
             ],
             [
              0.5555555555555556,
              "#d8576b"
             ],
             [
              0.6666666666666666,
              "#ed7953"
             ],
             [
              0.7777777777777778,
              "#fb9f3a"
             ],
             [
              0.8888888888888888,
              "#fdca26"
             ],
             [
              1.0,
              "#f0f921"
             ]
            ]
           }
          ],
          "choropleth": [
           {
            "type": "choropleth",
            "colorbar": {
             "outlinewidth": 0,
             "ticks": ""
            }
           }
          ],
          "histogram2d": [
           {
            "type": "histogram2d",
            "colorbar": {
             "outlinewidth": 0,
             "ticks": ""
            },
            "colorscale": [
             [
              0.0,
              "#0d0887"
             ],
             [
              0.1111111111111111,
              "#46039f"
             ],
             [
              0.2222222222222222,
              "#7201a8"
             ],
             [
              0.3333333333333333,
              "#9c179e"
             ],
             [
              0.4444444444444444,
              "#bd3786"
             ],
             [
              0.5555555555555556,
              "#d8576b"
             ],
             [
              0.6666666666666666,
              "#ed7953"
             ],
             [
              0.7777777777777778,
              "#fb9f3a"
             ],
             [
              0.8888888888888888,
              "#fdca26"
             ],
             [
              1.0,
              "#f0f921"
             ]
            ]
           }
          ],
          "heatmap": [
           {
            "type": "heatmap",
            "colorbar": {
             "outlinewidth": 0,
             "ticks": ""
            },
            "colorscale": [
             [
              0.0,
              "#0d0887"
             ],
             [
              0.1111111111111111,
              "#46039f"
             ],
             [
              0.2222222222222222,
              "#7201a8"
             ],
             [
              0.3333333333333333,
              "#9c179e"
             ],
             [
              0.4444444444444444,
              "#bd3786"
             ],
             [
              0.5555555555555556,
              "#d8576b"
             ],
             [
              0.6666666666666666,
              "#ed7953"
             ],
             [
              0.7777777777777778,
              "#fb9f3a"
             ],
             [
              0.8888888888888888,
              "#fdca26"
             ],
             [
              1.0,
              "#f0f921"
             ]
            ]
           }
          ],
          "heatmapgl": [
           {
            "type": "heatmapgl",
            "colorbar": {
             "outlinewidth": 0,
             "ticks": ""
            },
            "colorscale": [
             [
              0.0,
              "#0d0887"
             ],
             [
              0.1111111111111111,
              "#46039f"
             ],
             [
              0.2222222222222222,
              "#7201a8"
             ],
             [
              0.3333333333333333,
              "#9c179e"
             ],
             [
              0.4444444444444444,
              "#bd3786"
             ],
             [
              0.5555555555555556,
              "#d8576b"
             ],
             [
              0.6666666666666666,
              "#ed7953"
             ],
             [
              0.7777777777777778,
              "#fb9f3a"
             ],
             [
              0.8888888888888888,
              "#fdca26"
             ],
             [
              1.0,
              "#f0f921"
             ]
            ]
           }
          ],
          "contourcarpet": [
           {
            "type": "contourcarpet",
            "colorbar": {
             "outlinewidth": 0,
             "ticks": ""
            }
           }
          ],
          "contour": [
           {
            "type": "contour",
            "colorbar": {
             "outlinewidth": 0,
             "ticks": ""
            },
            "colorscale": [
             [
              0.0,
              "#0d0887"
             ],
             [
              0.1111111111111111,
              "#46039f"
             ],
             [
              0.2222222222222222,
              "#7201a8"
             ],
             [
              0.3333333333333333,
              "#9c179e"
             ],
             [
              0.4444444444444444,
              "#bd3786"
             ],
             [
              0.5555555555555556,
              "#d8576b"
             ],
             [
              0.6666666666666666,
              "#ed7953"
             ],
             [
              0.7777777777777778,
              "#fb9f3a"
             ],
             [
              0.8888888888888888,
              "#fdca26"
             ],
             [
              1.0,
              "#f0f921"
             ]
            ]
           }
          ],
          "surface": [
           {
            "type": "surface",
            "colorbar": {
             "outlinewidth": 0,
             "ticks": ""
            },
            "colorscale": [
             [
              0.0,
              "#0d0887"
             ],
             [
              0.1111111111111111,
              "#46039f"
             ],
             [
              0.2222222222222222,
              "#7201a8"
             ],
             [
              0.3333333333333333,
              "#9c179e"
             ],
             [
              0.4444444444444444,
              "#bd3786"
             ],
             [
              0.5555555555555556,
              "#d8576b"
             ],
             [
              0.6666666666666666,
              "#ed7953"
             ],
             [
              0.7777777777777778,
              "#fb9f3a"
             ],
             [
              0.8888888888888888,
              "#fdca26"
             ],
             [
              1.0,
              "#f0f921"
             ]
            ]
           }
          ],
          "mesh3d": [
           {
            "type": "mesh3d",
            "colorbar": {
             "outlinewidth": 0,
             "ticks": ""
            }
           }
          ],
          "scatter": [
           {
            "marker": {
             "line": {
              "color": "#283442"
             }
            },
            "type": "scatter"
           }
          ],
          "parcoords": [
           {
            "type": "parcoords",
            "line": {
             "colorbar": {
              "outlinewidth": 0,
              "ticks": ""
             }
            }
           }
          ],
          "scatterpolargl": [
           {
            "type": "scatterpolargl",
            "marker": {
             "colorbar": {
              "outlinewidth": 0,
              "ticks": ""
             }
            }
           }
          ],
          "bar": [
           {
            "error_x": {
             "color": "#f2f5fa"
            },
            "error_y": {
             "color": "#f2f5fa"
            },
            "marker": {
             "line": {
              "color": "rgb(17,17,17)",
              "width": 0.5
             },
             "pattern": {
              "fillmode": "overlay",
              "size": 10,
              "solidity": 0.2
             }
            },
            "type": "bar"
           }
          ],
          "scattergeo": [
           {
            "type": "scattergeo",
            "marker": {
             "colorbar": {
              "outlinewidth": 0,
              "ticks": ""
             }
            }
           }
          ],
          "scatterpolar": [
           {
            "type": "scatterpolar",
            "marker": {
             "colorbar": {
              "outlinewidth": 0,
              "ticks": ""
             }
            }
           }
          ],
          "histogram": [
           {
            "marker": {
             "pattern": {
              "fillmode": "overlay",
              "size": 10,
              "solidity": 0.2
             }
            },
            "type": "histogram"
           }
          ],
          "scattergl": [
           {
            "marker": {
             "line": {
              "color": "#283442"
             }
            },
            "type": "scattergl"
           }
          ],
          "scatter3d": [
           {
            "type": "scatter3d",
            "line": {
             "colorbar": {
              "outlinewidth": 0,
              "ticks": ""
             }
            },
            "marker": {
             "colorbar": {
              "outlinewidth": 0,
              "ticks": ""
             }
            }
           }
          ],
          "scattermapbox": [
           {
            "type": "scattermapbox",
            "marker": {
             "colorbar": {
              "outlinewidth": 0,
              "ticks": ""
             }
            }
           }
          ],
          "scatterternary": [
           {
            "type": "scatterternary",
            "marker": {
             "colorbar": {
              "outlinewidth": 0,
              "ticks": ""
             }
            }
           }
          ],
          "scattercarpet": [
           {
            "type": "scattercarpet",
            "marker": {
             "colorbar": {
              "outlinewidth": 0,
              "ticks": ""
             }
            }
           }
          ],
          "carpet": [
           {
            "aaxis": {
             "endlinecolor": "#A2B1C6",
             "gridcolor": "#506784",
             "linecolor": "#506784",
             "minorgridcolor": "#506784",
             "startlinecolor": "#A2B1C6"
            },
            "baxis": {
             "endlinecolor": "#A2B1C6",
             "gridcolor": "#506784",
             "linecolor": "#506784",
             "minorgridcolor": "#506784",
             "startlinecolor": "#A2B1C6"
            },
            "type": "carpet"
           }
          ],
          "table": [
           {
            "cells": {
             "fill": {
              "color": "#506784"
             },
             "line": {
              "color": "rgb(17,17,17)"
             }
            },
            "header": {
             "fill": {
              "color": "#2a3f5f"
             },
             "line": {
              "color": "rgb(17,17,17)"
             }
            },
            "type": "table"
           }
          ],
          "barpolar": [
           {
            "marker": {
             "line": {
              "color": "rgb(17,17,17)",
              "width": 0.5
             },
             "pattern": {
              "fillmode": "overlay",
              "size": 10,
              "solidity": 0.2
             }
            },
            "type": "barpolar"
           }
          ],
          "pie": [
           {
            "automargin": true,
            "type": "pie"
           }
          ]
         },
         "layout": {
          "autotypenumbers": "strict",
          "colorway": [
           "#636efa",
           "#EF553B",
           "#00cc96",
           "#ab63fa",
           "#FFA15A",
           "#19d3f3",
           "#FF6692",
           "#B6E880",
           "#FF97FF",
           "#FECB52"
          ],
          "font": {
           "color": "#f2f5fa"
          },
          "hovermode": "closest",
          "hoverlabel": {
           "align": "left"
          },
          "paper_bgcolor": "rgb(17,17,17)",
          "plot_bgcolor": "rgb(17,17,17)",
          "polar": {
           "bgcolor": "rgb(17,17,17)",
           "angularaxis": {
            "gridcolor": "#506784",
            "linecolor": "#506784",
            "ticks": ""
           },
           "radialaxis": {
            "gridcolor": "#506784",
            "linecolor": "#506784",
            "ticks": ""
           }
          },
          "ternary": {
           "bgcolor": "rgb(17,17,17)",
           "aaxis": {
            "gridcolor": "#506784",
            "linecolor": "#506784",
            "ticks": ""
           },
           "baxis": {
            "gridcolor": "#506784",
            "linecolor": "#506784",
            "ticks": ""
           },
           "caxis": {
            "gridcolor": "#506784",
            "linecolor": "#506784",
            "ticks": ""
           }
          },
          "coloraxis": {
           "colorbar": {
            "outlinewidth": 0,
            "ticks": ""
           }
          },
          "colorscale": {
           "sequential": [
            [
             0.0,
             "#0d0887"
            ],
            [
             0.1111111111111111,
             "#46039f"
            ],
            [
             0.2222222222222222,
             "#7201a8"
            ],
            [
             0.3333333333333333,
             "#9c179e"
            ],
            [
             0.4444444444444444,
             "#bd3786"
            ],
            [
             0.5555555555555556,
             "#d8576b"
            ],
            [
             0.6666666666666666,
             "#ed7953"
            ],
            [
             0.7777777777777778,
             "#fb9f3a"
            ],
            [
             0.8888888888888888,
             "#fdca26"
            ],
            [
             1.0,
             "#f0f921"
            ]
           ],
           "sequentialminus": [
            [
             0.0,
             "#0d0887"
            ],
            [
             0.1111111111111111,
             "#46039f"
            ],
            [
             0.2222222222222222,
             "#7201a8"
            ],
            [
             0.3333333333333333,
             "#9c179e"
            ],
            [
             0.4444444444444444,
             "#bd3786"
            ],
            [
             0.5555555555555556,
             "#d8576b"
            ],
            [
             0.6666666666666666,
             "#ed7953"
            ],
            [
             0.7777777777777778,
             "#fb9f3a"
            ],
            [
             0.8888888888888888,
             "#fdca26"
            ],
            [
             1.0,
             "#f0f921"
            ]
           ],
           "diverging": [
            [
             0,
             "#8e0152"
            ],
            [
             0.1,
             "#c51b7d"
            ],
            [
             0.2,
             "#de77ae"
            ],
            [
             0.3,
             "#f1b6da"
            ],
            [
             0.4,
             "#fde0ef"
            ],
            [
             0.5,
             "#f7f7f7"
            ],
            [
             0.6,
             "#e6f5d0"
            ],
            [
             0.7,
             "#b8e186"
            ],
            [
             0.8,
             "#7fbc41"
            ],
            [
             0.9,
             "#4d9221"
            ],
            [
             1,
             "#276419"
            ]
           ]
          },
          "xaxis": {
           "gridcolor": "#283442",
           "linecolor": "#506784",
           "ticks": "",
           "title": {
            "standoff": 15
           },
           "zerolinecolor": "#283442",
           "automargin": true,
           "zerolinewidth": 2
          },
          "yaxis": {
           "gridcolor": "#283442",
           "linecolor": "#506784",
           "ticks": "",
           "title": {
            "standoff": 15
           },
           "zerolinecolor": "#283442",
           "automargin": true,
           "zerolinewidth": 2
          },
          "scene": {
           "xaxis": {
            "backgroundcolor": "rgb(17,17,17)",
            "gridcolor": "#506784",
            "linecolor": "#506784",
            "showbackground": true,
            "ticks": "",
            "zerolinecolor": "#C8D4E3",
            "gridwidth": 2
           },
           "yaxis": {
            "backgroundcolor": "rgb(17,17,17)",
            "gridcolor": "#506784",
            "linecolor": "#506784",
            "showbackground": true,
            "ticks": "",
            "zerolinecolor": "#C8D4E3",
            "gridwidth": 2
           },
           "zaxis": {
            "backgroundcolor": "rgb(17,17,17)",
            "gridcolor": "#506784",
            "linecolor": "#506784",
            "showbackground": true,
            "ticks": "",
            "zerolinecolor": "#C8D4E3",
            "gridwidth": 2
           }
          },
          "shapedefaults": {
           "line": {
            "color": "#f2f5fa"
           }
          },
          "annotationdefaults": {
           "arrowcolor": "#f2f5fa",
           "arrowhead": 0,
           "arrowwidth": 1
          },
          "geo": {
           "bgcolor": "rgb(17,17,17)",
           "landcolor": "rgb(17,17,17)",
           "subunitcolor": "#506784",
           "showland": true,
           "showlakes": true,
           "lakecolor": "rgb(17,17,17)"
          },
          "title": {
           "x": 0.05
          },
          "updatemenudefaults": {
           "bgcolor": "#506784",
           "borderwidth": 0
          },
          "sliderdefaults": {
           "bgcolor": "#C8D4E3",
           "borderwidth": 1,
           "bordercolor": "rgb(17,17,17)",
           "tickwidth": 0
          },
          "mapbox": {
           "style": "dark"
          }
         }
        },
        "legend": {
         "tracegroupgap": 0
        },
        "margin": {
         "t": 60
        }
       },
       "config": {
        "plotlyServerURL": "https://plot.ly"
       }
      },
      "text/html": "<div>                            <div id=\"66355438-9192-46c1-ae1f-8c0c8a283eaf\" class=\"plotly-graph-div\" style=\"height:525px; width:100%;\"></div>            <script type=\"text/javascript\">                require([\"plotly\"], function(Plotly) {                    window.PLOTLYENV=window.PLOTLYENV || {};                                    if (document.getElementById(\"66355438-9192-46c1-ae1f-8c0c8a283eaf\")) {                    Plotly.newPlot(                        \"66355438-9192-46c1-ae1f-8c0c8a283eaf\",                        [{\"domain\":{\"x\":[0.0,1.0],\"y\":[0.0,1.0]},\"hovertemplate\":\"label=%{label}<br>value=%{value}<extra></extra>\",\"labels\":[\"Itlay\",\"Czech Republic\"],\"legendgroup\":\"\",\"name\":\"\",\"showlegend\":true,\"values\":[87,76],\"type\":\"pie\",\"hole\":0.5,\"textinfo\":\"value\"}],                        {\"template\":{\"data\":{\"histogram2dcontour\":[{\"type\":\"histogram2dcontour\",\"colorbar\":{\"outlinewidth\":0,\"ticks\":\"\"},\"colorscale\":[[0.0,\"#0d0887\"],[0.1111111111111111,\"#46039f\"],[0.2222222222222222,\"#7201a8\"],[0.3333333333333333,\"#9c179e\"],[0.4444444444444444,\"#bd3786\"],[0.5555555555555556,\"#d8576b\"],[0.6666666666666666,\"#ed7953\"],[0.7777777777777778,\"#fb9f3a\"],[0.8888888888888888,\"#fdca26\"],[1.0,\"#f0f921\"]]}],\"choropleth\":[{\"type\":\"choropleth\",\"colorbar\":{\"outlinewidth\":0,\"ticks\":\"\"}}],\"histogram2d\":[{\"type\":\"histogram2d\",\"colorbar\":{\"outlinewidth\":0,\"ticks\":\"\"},\"colorscale\":[[0.0,\"#0d0887\"],[0.1111111111111111,\"#46039f\"],[0.2222222222222222,\"#7201a8\"],[0.3333333333333333,\"#9c179e\"],[0.4444444444444444,\"#bd3786\"],[0.5555555555555556,\"#d8576b\"],[0.6666666666666666,\"#ed7953\"],[0.7777777777777778,\"#fb9f3a\"],[0.8888888888888888,\"#fdca26\"],[1.0,\"#f0f921\"]]}],\"heatmap\":[{\"type\":\"heatmap\",\"colorbar\":{\"outlinewidth\":0,\"ticks\":\"\"},\"colorscale\":[[0.0,\"#0d0887\"],[0.1111111111111111,\"#46039f\"],[0.2222222222222222,\"#7201a8\"],[0.3333333333333333,\"#9c179e\"],[0.4444444444444444,\"#bd3786\"],[0.5555555555555556,\"#d8576b\"],[0.6666666666666666,\"#ed7953\"],[0.7777777777777778,\"#fb9f3a\"],[0.8888888888888888,\"#fdca26\"],[1.0,\"#f0f921\"]]}],\"heatmapgl\":[{\"type\":\"heatmapgl\",\"colorbar\":{\"outlinewidth\":0,\"ticks\":\"\"},\"colorscale\":[[0.0,\"#0d0887\"],[0.1111111111111111,\"#46039f\"],[0.2222222222222222,\"#7201a8\"],[0.3333333333333333,\"#9c179e\"],[0.4444444444444444,\"#bd3786\"],[0.5555555555555556,\"#d8576b\"],[0.6666666666666666,\"#ed7953\"],[0.7777777777777778,\"#fb9f3a\"],[0.8888888888888888,\"#fdca26\"],[1.0,\"#f0f921\"]]}],\"contourcarpet\":[{\"type\":\"contourcarpet\",\"colorbar\":{\"outlinewidth\":0,\"ticks\":\"\"}}],\"contour\":[{\"type\":\"contour\",\"colorbar\":{\"outlinewidth\":0,\"ticks\":\"\"},\"colorscale\":[[0.0,\"#0d0887\"],[0.1111111111111111,\"#46039f\"],[0.2222222222222222,\"#7201a8\"],[0.3333333333333333,\"#9c179e\"],[0.4444444444444444,\"#bd3786\"],[0.5555555555555556,\"#d8576b\"],[0.6666666666666666,\"#ed7953\"],[0.7777777777777778,\"#fb9f3a\"],[0.8888888888888888,\"#fdca26\"],[1.0,\"#f0f921\"]]}],\"surface\":[{\"type\":\"surface\",\"colorbar\":{\"outlinewidth\":0,\"ticks\":\"\"},\"colorscale\":[[0.0,\"#0d0887\"],[0.1111111111111111,\"#46039f\"],[0.2222222222222222,\"#7201a8\"],[0.3333333333333333,\"#9c179e\"],[0.4444444444444444,\"#bd3786\"],[0.5555555555555556,\"#d8576b\"],[0.6666666666666666,\"#ed7953\"],[0.7777777777777778,\"#fb9f3a\"],[0.8888888888888888,\"#fdca26\"],[1.0,\"#f0f921\"]]}],\"mesh3d\":[{\"type\":\"mesh3d\",\"colorbar\":{\"outlinewidth\":0,\"ticks\":\"\"}}],\"scatter\":[{\"marker\":{\"line\":{\"color\":\"#283442\"}},\"type\":\"scatter\"}],\"parcoords\":[{\"type\":\"parcoords\",\"line\":{\"colorbar\":{\"outlinewidth\":0,\"ticks\":\"\"}}}],\"scatterpolargl\":[{\"type\":\"scatterpolargl\",\"marker\":{\"colorbar\":{\"outlinewidth\":0,\"ticks\":\"\"}}}],\"bar\":[{\"error_x\":{\"color\":\"#f2f5fa\"},\"error_y\":{\"color\":\"#f2f5fa\"},\"marker\":{\"line\":{\"color\":\"rgb(17,17,17)\",\"width\":0.5},\"pattern\":{\"fillmode\":\"overlay\",\"size\":10,\"solidity\":0.2}},\"type\":\"bar\"}],\"scattergeo\":[{\"type\":\"scattergeo\",\"marker\":{\"colorbar\":{\"outlinewidth\":0,\"ticks\":\"\"}}}],\"scatterpolar\":[{\"type\":\"scatterpolar\",\"marker\":{\"colorbar\":{\"outlinewidth\":0,\"ticks\":\"\"}}}],\"histogram\":[{\"marker\":{\"pattern\":{\"fillmode\":\"overlay\",\"size\":10,\"solidity\":0.2}},\"type\":\"histogram\"}],\"scattergl\":[{\"marker\":{\"line\":{\"color\":\"#283442\"}},\"type\":\"scattergl\"}],\"scatter3d\":[{\"type\":\"scatter3d\",\"line\":{\"colorbar\":{\"outlinewidth\":0,\"ticks\":\"\"}},\"marker\":{\"colorbar\":{\"outlinewidth\":0,\"ticks\":\"\"}}}],\"scattermapbox\":[{\"type\":\"scattermapbox\",\"marker\":{\"colorbar\":{\"outlinewidth\":0,\"ticks\":\"\"}}}],\"scatterternary\":[{\"type\":\"scatterternary\",\"marker\":{\"colorbar\":{\"outlinewidth\":0,\"ticks\":\"\"}}}],\"scattercarpet\":[{\"type\":\"scattercarpet\",\"marker\":{\"colorbar\":{\"outlinewidth\":0,\"ticks\":\"\"}}}],\"carpet\":[{\"aaxis\":{\"endlinecolor\":\"#A2B1C6\",\"gridcolor\":\"#506784\",\"linecolor\":\"#506784\",\"minorgridcolor\":\"#506784\",\"startlinecolor\":\"#A2B1C6\"},\"baxis\":{\"endlinecolor\":\"#A2B1C6\",\"gridcolor\":\"#506784\",\"linecolor\":\"#506784\",\"minorgridcolor\":\"#506784\",\"startlinecolor\":\"#A2B1C6\"},\"type\":\"carpet\"}],\"table\":[{\"cells\":{\"fill\":{\"color\":\"#506784\"},\"line\":{\"color\":\"rgb(17,17,17)\"}},\"header\":{\"fill\":{\"color\":\"#2a3f5f\"},\"line\":{\"color\":\"rgb(17,17,17)\"}},\"type\":\"table\"}],\"barpolar\":[{\"marker\":{\"line\":{\"color\":\"rgb(17,17,17)\",\"width\":0.5},\"pattern\":{\"fillmode\":\"overlay\",\"size\":10,\"solidity\":0.2}},\"type\":\"barpolar\"}],\"pie\":[{\"automargin\":true,\"type\":\"pie\"}]},\"layout\":{\"autotypenumbers\":\"strict\",\"colorway\":[\"#636efa\",\"#EF553B\",\"#00cc96\",\"#ab63fa\",\"#FFA15A\",\"#19d3f3\",\"#FF6692\",\"#B6E880\",\"#FF97FF\",\"#FECB52\"],\"font\":{\"color\":\"#f2f5fa\"},\"hovermode\":\"closest\",\"hoverlabel\":{\"align\":\"left\"},\"paper_bgcolor\":\"rgb(17,17,17)\",\"plot_bgcolor\":\"rgb(17,17,17)\",\"polar\":{\"bgcolor\":\"rgb(17,17,17)\",\"angularaxis\":{\"gridcolor\":\"#506784\",\"linecolor\":\"#506784\",\"ticks\":\"\"},\"radialaxis\":{\"gridcolor\":\"#506784\",\"linecolor\":\"#506784\",\"ticks\":\"\"}},\"ternary\":{\"bgcolor\":\"rgb(17,17,17)\",\"aaxis\":{\"gridcolor\":\"#506784\",\"linecolor\":\"#506784\",\"ticks\":\"\"},\"baxis\":{\"gridcolor\":\"#506784\",\"linecolor\":\"#506784\",\"ticks\":\"\"},\"caxis\":{\"gridcolor\":\"#506784\",\"linecolor\":\"#506784\",\"ticks\":\"\"}},\"coloraxis\":{\"colorbar\":{\"outlinewidth\":0,\"ticks\":\"\"}},\"colorscale\":{\"sequential\":[[0.0,\"#0d0887\"],[0.1111111111111111,\"#46039f\"],[0.2222222222222222,\"#7201a8\"],[0.3333333333333333,\"#9c179e\"],[0.4444444444444444,\"#bd3786\"],[0.5555555555555556,\"#d8576b\"],[0.6666666666666666,\"#ed7953\"],[0.7777777777777778,\"#fb9f3a\"],[0.8888888888888888,\"#fdca26\"],[1.0,\"#f0f921\"]],\"sequentialminus\":[[0.0,\"#0d0887\"],[0.1111111111111111,\"#46039f\"],[0.2222222222222222,\"#7201a8\"],[0.3333333333333333,\"#9c179e\"],[0.4444444444444444,\"#bd3786\"],[0.5555555555555556,\"#d8576b\"],[0.6666666666666666,\"#ed7953\"],[0.7777777777777778,\"#fb9f3a\"],[0.8888888888888888,\"#fdca26\"],[1.0,\"#f0f921\"]],\"diverging\":[[0,\"#8e0152\"],[0.1,\"#c51b7d\"],[0.2,\"#de77ae\"],[0.3,\"#f1b6da\"],[0.4,\"#fde0ef\"],[0.5,\"#f7f7f7\"],[0.6,\"#e6f5d0\"],[0.7,\"#b8e186\"],[0.8,\"#7fbc41\"],[0.9,\"#4d9221\"],[1,\"#276419\"]]},\"xaxis\":{\"gridcolor\":\"#283442\",\"linecolor\":\"#506784\",\"ticks\":\"\",\"title\":{\"standoff\":15},\"zerolinecolor\":\"#283442\",\"automargin\":true,\"zerolinewidth\":2},\"yaxis\":{\"gridcolor\":\"#283442\",\"linecolor\":\"#506784\",\"ticks\":\"\",\"title\":{\"standoff\":15},\"zerolinecolor\":\"#283442\",\"automargin\":true,\"zerolinewidth\":2},\"scene\":{\"xaxis\":{\"backgroundcolor\":\"rgb(17,17,17)\",\"gridcolor\":\"#506784\",\"linecolor\":\"#506784\",\"showbackground\":true,\"ticks\":\"\",\"zerolinecolor\":\"#C8D4E3\",\"gridwidth\":2},\"yaxis\":{\"backgroundcolor\":\"rgb(17,17,17)\",\"gridcolor\":\"#506784\",\"linecolor\":\"#506784\",\"showbackground\":true,\"ticks\":\"\",\"zerolinecolor\":\"#C8D4E3\",\"gridwidth\":2},\"zaxis\":{\"backgroundcolor\":\"rgb(17,17,17)\",\"gridcolor\":\"#506784\",\"linecolor\":\"#506784\",\"showbackground\":true,\"ticks\":\"\",\"zerolinecolor\":\"#C8D4E3\",\"gridwidth\":2}},\"shapedefaults\":{\"line\":{\"color\":\"#f2f5fa\"}},\"annotationdefaults\":{\"arrowcolor\":\"#f2f5fa\",\"arrowhead\":0,\"arrowwidth\":1},\"geo\":{\"bgcolor\":\"rgb(17,17,17)\",\"landcolor\":\"rgb(17,17,17)\",\"subunitcolor\":\"#506784\",\"showland\":true,\"showlakes\":true,\"lakecolor\":\"rgb(17,17,17)\"},\"title\":{\"x\":0.05},\"updatemenudefaults\":{\"bgcolor\":\"#506784\",\"borderwidth\":0},\"sliderdefaults\":{\"bgcolor\":\"#C8D4E3\",\"borderwidth\":1,\"bordercolor\":\"rgb(17,17,17)\",\"tickwidth\":0},\"mapbox\":{\"style\":\"dark\"}}},\"legend\":{\"tracegroupgap\":0},\"margin\":{\"t\":60}},                        {\"responsive\": true}                    ).then(function(){\n                            \nvar gd = document.getElementById('66355438-9192-46c1-ae1f-8c0c8a283eaf');\nvar x = new MutationObserver(function (mutations, observer) {{\n        var display = window.getComputedStyle(gd).display;\n        if (!display || display === 'none') {{\n            console.log([gd, 'removed!']);\n            Plotly.purge(gd);\n            observer.disconnect();\n        }}\n}});\n\n// Listen for the removal of the full notebook cells\nvar notebookContainer = gd.closest('#notebook-container');\nif (notebookContainer) {{\n    x.observe(notebookContainer, {childList: true});\n}}\n\n// Listen for the clearing of the current output cell\nvar outputEl = gd.closest('.output');\nif (outputEl) {{\n    x.observe(outputEl, {childList: true});\n}}\n\n                        })                };                });            </script>        </div>"
     },
     "metadata": {},
     "output_type": "display_data"
    },
    {
     "data": {
      "application/vnd.plotly.v1+json": {
       "data": [
        {
         "domain": {
          "x": [
           0.0,
           1.0
          ],
          "y": [
           0.0,
           1.0
          ]
         },
         "hovertemplate": "label=%{label}<br>value=%{value}<extra></extra>",
         "labels": [
          "Itlay",
          "Czech Republic"
         ],
         "legendgroup": "",
         "name": "",
         "showlegend": true,
         "values": [
          17,
          18
         ],
         "type": "pie",
         "hole": 0.5,
         "textinfo": "value"
        }
       ],
       "layout": {
        "template": {
         "data": {
          "histogram2dcontour": [
           {
            "type": "histogram2dcontour",
            "colorbar": {
             "outlinewidth": 0,
             "ticks": ""
            },
            "colorscale": [
             [
              0.0,
              "#0d0887"
             ],
             [
              0.1111111111111111,
              "#46039f"
             ],
             [
              0.2222222222222222,
              "#7201a8"
             ],
             [
              0.3333333333333333,
              "#9c179e"
             ],
             [
              0.4444444444444444,
              "#bd3786"
             ],
             [
              0.5555555555555556,
              "#d8576b"
             ],
             [
              0.6666666666666666,
              "#ed7953"
             ],
             [
              0.7777777777777778,
              "#fb9f3a"
             ],
             [
              0.8888888888888888,
              "#fdca26"
             ],
             [
              1.0,
              "#f0f921"
             ]
            ]
           }
          ],
          "choropleth": [
           {
            "type": "choropleth",
            "colorbar": {
             "outlinewidth": 0,
             "ticks": ""
            }
           }
          ],
          "histogram2d": [
           {
            "type": "histogram2d",
            "colorbar": {
             "outlinewidth": 0,
             "ticks": ""
            },
            "colorscale": [
             [
              0.0,
              "#0d0887"
             ],
             [
              0.1111111111111111,
              "#46039f"
             ],
             [
              0.2222222222222222,
              "#7201a8"
             ],
             [
              0.3333333333333333,
              "#9c179e"
             ],
             [
              0.4444444444444444,
              "#bd3786"
             ],
             [
              0.5555555555555556,
              "#d8576b"
             ],
             [
              0.6666666666666666,
              "#ed7953"
             ],
             [
              0.7777777777777778,
              "#fb9f3a"
             ],
             [
              0.8888888888888888,
              "#fdca26"
             ],
             [
              1.0,
              "#f0f921"
             ]
            ]
           }
          ],
          "heatmap": [
           {
            "type": "heatmap",
            "colorbar": {
             "outlinewidth": 0,
             "ticks": ""
            },
            "colorscale": [
             [
              0.0,
              "#0d0887"
             ],
             [
              0.1111111111111111,
              "#46039f"
             ],
             [
              0.2222222222222222,
              "#7201a8"
             ],
             [
              0.3333333333333333,
              "#9c179e"
             ],
             [
              0.4444444444444444,
              "#bd3786"
             ],
             [
              0.5555555555555556,
              "#d8576b"
             ],
             [
              0.6666666666666666,
              "#ed7953"
             ],
             [
              0.7777777777777778,
              "#fb9f3a"
             ],
             [
              0.8888888888888888,
              "#fdca26"
             ],
             [
              1.0,
              "#f0f921"
             ]
            ]
           }
          ],
          "heatmapgl": [
           {
            "type": "heatmapgl",
            "colorbar": {
             "outlinewidth": 0,
             "ticks": ""
            },
            "colorscale": [
             [
              0.0,
              "#0d0887"
             ],
             [
              0.1111111111111111,
              "#46039f"
             ],
             [
              0.2222222222222222,
              "#7201a8"
             ],
             [
              0.3333333333333333,
              "#9c179e"
             ],
             [
              0.4444444444444444,
              "#bd3786"
             ],
             [
              0.5555555555555556,
              "#d8576b"
             ],
             [
              0.6666666666666666,
              "#ed7953"
             ],
             [
              0.7777777777777778,
              "#fb9f3a"
             ],
             [
              0.8888888888888888,
              "#fdca26"
             ],
             [
              1.0,
              "#f0f921"
             ]
            ]
           }
          ],
          "contourcarpet": [
           {
            "type": "contourcarpet",
            "colorbar": {
             "outlinewidth": 0,
             "ticks": ""
            }
           }
          ],
          "contour": [
           {
            "type": "contour",
            "colorbar": {
             "outlinewidth": 0,
             "ticks": ""
            },
            "colorscale": [
             [
              0.0,
              "#0d0887"
             ],
             [
              0.1111111111111111,
              "#46039f"
             ],
             [
              0.2222222222222222,
              "#7201a8"
             ],
             [
              0.3333333333333333,
              "#9c179e"
             ],
             [
              0.4444444444444444,
              "#bd3786"
             ],
             [
              0.5555555555555556,
              "#d8576b"
             ],
             [
              0.6666666666666666,
              "#ed7953"
             ],
             [
              0.7777777777777778,
              "#fb9f3a"
             ],
             [
              0.8888888888888888,
              "#fdca26"
             ],
             [
              1.0,
              "#f0f921"
             ]
            ]
           }
          ],
          "surface": [
           {
            "type": "surface",
            "colorbar": {
             "outlinewidth": 0,
             "ticks": ""
            },
            "colorscale": [
             [
              0.0,
              "#0d0887"
             ],
             [
              0.1111111111111111,
              "#46039f"
             ],
             [
              0.2222222222222222,
              "#7201a8"
             ],
             [
              0.3333333333333333,
              "#9c179e"
             ],
             [
              0.4444444444444444,
              "#bd3786"
             ],
             [
              0.5555555555555556,
              "#d8576b"
             ],
             [
              0.6666666666666666,
              "#ed7953"
             ],
             [
              0.7777777777777778,
              "#fb9f3a"
             ],
             [
              0.8888888888888888,
              "#fdca26"
             ],
             [
              1.0,
              "#f0f921"
             ]
            ]
           }
          ],
          "mesh3d": [
           {
            "type": "mesh3d",
            "colorbar": {
             "outlinewidth": 0,
             "ticks": ""
            }
           }
          ],
          "scatter": [
           {
            "marker": {
             "line": {
              "color": "#283442"
             }
            },
            "type": "scatter"
           }
          ],
          "parcoords": [
           {
            "type": "parcoords",
            "line": {
             "colorbar": {
              "outlinewidth": 0,
              "ticks": ""
             }
            }
           }
          ],
          "scatterpolargl": [
           {
            "type": "scatterpolargl",
            "marker": {
             "colorbar": {
              "outlinewidth": 0,
              "ticks": ""
             }
            }
           }
          ],
          "bar": [
           {
            "error_x": {
             "color": "#f2f5fa"
            },
            "error_y": {
             "color": "#f2f5fa"
            },
            "marker": {
             "line": {
              "color": "rgb(17,17,17)",
              "width": 0.5
             },
             "pattern": {
              "fillmode": "overlay",
              "size": 10,
              "solidity": 0.2
             }
            },
            "type": "bar"
           }
          ],
          "scattergeo": [
           {
            "type": "scattergeo",
            "marker": {
             "colorbar": {
              "outlinewidth": 0,
              "ticks": ""
             }
            }
           }
          ],
          "scatterpolar": [
           {
            "type": "scatterpolar",
            "marker": {
             "colorbar": {
              "outlinewidth": 0,
              "ticks": ""
             }
            }
           }
          ],
          "histogram": [
           {
            "marker": {
             "pattern": {
              "fillmode": "overlay",
              "size": 10,
              "solidity": 0.2
             }
            },
            "type": "histogram"
           }
          ],
          "scattergl": [
           {
            "marker": {
             "line": {
              "color": "#283442"
             }
            },
            "type": "scattergl"
           }
          ],
          "scatter3d": [
           {
            "type": "scatter3d",
            "line": {
             "colorbar": {
              "outlinewidth": 0,
              "ticks": ""
             }
            },
            "marker": {
             "colorbar": {
              "outlinewidth": 0,
              "ticks": ""
             }
            }
           }
          ],
          "scattermapbox": [
           {
            "type": "scattermapbox",
            "marker": {
             "colorbar": {
              "outlinewidth": 0,
              "ticks": ""
             }
            }
           }
          ],
          "scatterternary": [
           {
            "type": "scatterternary",
            "marker": {
             "colorbar": {
              "outlinewidth": 0,
              "ticks": ""
             }
            }
           }
          ],
          "scattercarpet": [
           {
            "type": "scattercarpet",
            "marker": {
             "colorbar": {
              "outlinewidth": 0,
              "ticks": ""
             }
            }
           }
          ],
          "carpet": [
           {
            "aaxis": {
             "endlinecolor": "#A2B1C6",
             "gridcolor": "#506784",
             "linecolor": "#506784",
             "minorgridcolor": "#506784",
             "startlinecolor": "#A2B1C6"
            },
            "baxis": {
             "endlinecolor": "#A2B1C6",
             "gridcolor": "#506784",
             "linecolor": "#506784",
             "minorgridcolor": "#506784",
             "startlinecolor": "#A2B1C6"
            },
            "type": "carpet"
           }
          ],
          "table": [
           {
            "cells": {
             "fill": {
              "color": "#506784"
             },
             "line": {
              "color": "rgb(17,17,17)"
             }
            },
            "header": {
             "fill": {
              "color": "#2a3f5f"
             },
             "line": {
              "color": "rgb(17,17,17)"
             }
            },
            "type": "table"
           }
          ],
          "barpolar": [
           {
            "marker": {
             "line": {
              "color": "rgb(17,17,17)",
              "width": 0.5
             },
             "pattern": {
              "fillmode": "overlay",
              "size": 10,
              "solidity": 0.2
             }
            },
            "type": "barpolar"
           }
          ],
          "pie": [
           {
            "automargin": true,
            "type": "pie"
           }
          ]
         },
         "layout": {
          "autotypenumbers": "strict",
          "colorway": [
           "#636efa",
           "#EF553B",
           "#00cc96",
           "#ab63fa",
           "#FFA15A",
           "#19d3f3",
           "#FF6692",
           "#B6E880",
           "#FF97FF",
           "#FECB52"
          ],
          "font": {
           "color": "#f2f5fa"
          },
          "hovermode": "closest",
          "hoverlabel": {
           "align": "left"
          },
          "paper_bgcolor": "rgb(17,17,17)",
          "plot_bgcolor": "rgb(17,17,17)",
          "polar": {
           "bgcolor": "rgb(17,17,17)",
           "angularaxis": {
            "gridcolor": "#506784",
            "linecolor": "#506784",
            "ticks": ""
           },
           "radialaxis": {
            "gridcolor": "#506784",
            "linecolor": "#506784",
            "ticks": ""
           }
          },
          "ternary": {
           "bgcolor": "rgb(17,17,17)",
           "aaxis": {
            "gridcolor": "#506784",
            "linecolor": "#506784",
            "ticks": ""
           },
           "baxis": {
            "gridcolor": "#506784",
            "linecolor": "#506784",
            "ticks": ""
           },
           "caxis": {
            "gridcolor": "#506784",
            "linecolor": "#506784",
            "ticks": ""
           }
          },
          "coloraxis": {
           "colorbar": {
            "outlinewidth": 0,
            "ticks": ""
           }
          },
          "colorscale": {
           "sequential": [
            [
             0.0,
             "#0d0887"
            ],
            [
             0.1111111111111111,
             "#46039f"
            ],
            [
             0.2222222222222222,
             "#7201a8"
            ],
            [
             0.3333333333333333,
             "#9c179e"
            ],
            [
             0.4444444444444444,
             "#bd3786"
            ],
            [
             0.5555555555555556,
             "#d8576b"
            ],
            [
             0.6666666666666666,
             "#ed7953"
            ],
            [
             0.7777777777777778,
             "#fb9f3a"
            ],
            [
             0.8888888888888888,
             "#fdca26"
            ],
            [
             1.0,
             "#f0f921"
            ]
           ],
           "sequentialminus": [
            [
             0.0,
             "#0d0887"
            ],
            [
             0.1111111111111111,
             "#46039f"
            ],
            [
             0.2222222222222222,
             "#7201a8"
            ],
            [
             0.3333333333333333,
             "#9c179e"
            ],
            [
             0.4444444444444444,
             "#bd3786"
            ],
            [
             0.5555555555555556,
             "#d8576b"
            ],
            [
             0.6666666666666666,
             "#ed7953"
            ],
            [
             0.7777777777777778,
             "#fb9f3a"
            ],
            [
             0.8888888888888888,
             "#fdca26"
            ],
            [
             1.0,
             "#f0f921"
            ]
           ],
           "diverging": [
            [
             0,
             "#8e0152"
            ],
            [
             0.1,
             "#c51b7d"
            ],
            [
             0.2,
             "#de77ae"
            ],
            [
             0.3,
             "#f1b6da"
            ],
            [
             0.4,
             "#fde0ef"
            ],
            [
             0.5,
             "#f7f7f7"
            ],
            [
             0.6,
             "#e6f5d0"
            ],
            [
             0.7,
             "#b8e186"
            ],
            [
             0.8,
             "#7fbc41"
            ],
            [
             0.9,
             "#4d9221"
            ],
            [
             1,
             "#276419"
            ]
           ]
          },
          "xaxis": {
           "gridcolor": "#283442",
           "linecolor": "#506784",
           "ticks": "",
           "title": {
            "standoff": 15
           },
           "zerolinecolor": "#283442",
           "automargin": true,
           "zerolinewidth": 2
          },
          "yaxis": {
           "gridcolor": "#283442",
           "linecolor": "#506784",
           "ticks": "",
           "title": {
            "standoff": 15
           },
           "zerolinecolor": "#283442",
           "automargin": true,
           "zerolinewidth": 2
          },
          "scene": {
           "xaxis": {
            "backgroundcolor": "rgb(17,17,17)",
            "gridcolor": "#506784",
            "linecolor": "#506784",
            "showbackground": true,
            "ticks": "",
            "zerolinecolor": "#C8D4E3",
            "gridwidth": 2
           },
           "yaxis": {
            "backgroundcolor": "rgb(17,17,17)",
            "gridcolor": "#506784",
            "linecolor": "#506784",
            "showbackground": true,
            "ticks": "",
            "zerolinecolor": "#C8D4E3",
            "gridwidth": 2
           },
           "zaxis": {
            "backgroundcolor": "rgb(17,17,17)",
            "gridcolor": "#506784",
            "linecolor": "#506784",
            "showbackground": true,
            "ticks": "",
            "zerolinecolor": "#C8D4E3",
            "gridwidth": 2
           }
          },
          "shapedefaults": {
           "line": {
            "color": "#f2f5fa"
           }
          },
          "annotationdefaults": {
           "arrowcolor": "#f2f5fa",
           "arrowhead": 0,
           "arrowwidth": 1
          },
          "geo": {
           "bgcolor": "rgb(17,17,17)",
           "landcolor": "rgb(17,17,17)",
           "subunitcolor": "#506784",
           "showland": true,
           "showlakes": true,
           "lakecolor": "rgb(17,17,17)"
          },
          "title": {
           "x": 0.05
          },
          "updatemenudefaults": {
           "bgcolor": "#506784",
           "borderwidth": 0
          },
          "sliderdefaults": {
           "bgcolor": "#C8D4E3",
           "borderwidth": 1,
           "bordercolor": "rgb(17,17,17)",
           "tickwidth": 0
          },
          "mapbox": {
           "style": "dark"
          }
         }
        },
        "legend": {
         "tracegroupgap": 0
        },
        "margin": {
         "t": 60
        }
       },
       "config": {
        "plotlyServerURL": "https://plot.ly"
       }
      },
      "text/html": "<div>                            <div id=\"877abd29-204d-4efb-99c3-79d003775cf2\" class=\"plotly-graph-div\" style=\"height:525px; width:100%;\"></div>            <script type=\"text/javascript\">                require([\"plotly\"], function(Plotly) {                    window.PLOTLYENV=window.PLOTLYENV || {};                                    if (document.getElementById(\"877abd29-204d-4efb-99c3-79d003775cf2\")) {                    Plotly.newPlot(                        \"877abd29-204d-4efb-99c3-79d003775cf2\",                        [{\"domain\":{\"x\":[0.0,1.0],\"y\":[0.0,1.0]},\"hovertemplate\":\"label=%{label}<br>value=%{value}<extra></extra>\",\"labels\":[\"Itlay\",\"Czech Republic\"],\"legendgroup\":\"\",\"name\":\"\",\"showlegend\":true,\"values\":[17,18],\"type\":\"pie\",\"hole\":0.5,\"textinfo\":\"value\"}],                        {\"template\":{\"data\":{\"histogram2dcontour\":[{\"type\":\"histogram2dcontour\",\"colorbar\":{\"outlinewidth\":0,\"ticks\":\"\"},\"colorscale\":[[0.0,\"#0d0887\"],[0.1111111111111111,\"#46039f\"],[0.2222222222222222,\"#7201a8\"],[0.3333333333333333,\"#9c179e\"],[0.4444444444444444,\"#bd3786\"],[0.5555555555555556,\"#d8576b\"],[0.6666666666666666,\"#ed7953\"],[0.7777777777777778,\"#fb9f3a\"],[0.8888888888888888,\"#fdca26\"],[1.0,\"#f0f921\"]]}],\"choropleth\":[{\"type\":\"choropleth\",\"colorbar\":{\"outlinewidth\":0,\"ticks\":\"\"}}],\"histogram2d\":[{\"type\":\"histogram2d\",\"colorbar\":{\"outlinewidth\":0,\"ticks\":\"\"},\"colorscale\":[[0.0,\"#0d0887\"],[0.1111111111111111,\"#46039f\"],[0.2222222222222222,\"#7201a8\"],[0.3333333333333333,\"#9c179e\"],[0.4444444444444444,\"#bd3786\"],[0.5555555555555556,\"#d8576b\"],[0.6666666666666666,\"#ed7953\"],[0.7777777777777778,\"#fb9f3a\"],[0.8888888888888888,\"#fdca26\"],[1.0,\"#f0f921\"]]}],\"heatmap\":[{\"type\":\"heatmap\",\"colorbar\":{\"outlinewidth\":0,\"ticks\":\"\"},\"colorscale\":[[0.0,\"#0d0887\"],[0.1111111111111111,\"#46039f\"],[0.2222222222222222,\"#7201a8\"],[0.3333333333333333,\"#9c179e\"],[0.4444444444444444,\"#bd3786\"],[0.5555555555555556,\"#d8576b\"],[0.6666666666666666,\"#ed7953\"],[0.7777777777777778,\"#fb9f3a\"],[0.8888888888888888,\"#fdca26\"],[1.0,\"#f0f921\"]]}],\"heatmapgl\":[{\"type\":\"heatmapgl\",\"colorbar\":{\"outlinewidth\":0,\"ticks\":\"\"},\"colorscale\":[[0.0,\"#0d0887\"],[0.1111111111111111,\"#46039f\"],[0.2222222222222222,\"#7201a8\"],[0.3333333333333333,\"#9c179e\"],[0.4444444444444444,\"#bd3786\"],[0.5555555555555556,\"#d8576b\"],[0.6666666666666666,\"#ed7953\"],[0.7777777777777778,\"#fb9f3a\"],[0.8888888888888888,\"#fdca26\"],[1.0,\"#f0f921\"]]}],\"contourcarpet\":[{\"type\":\"contourcarpet\",\"colorbar\":{\"outlinewidth\":0,\"ticks\":\"\"}}],\"contour\":[{\"type\":\"contour\",\"colorbar\":{\"outlinewidth\":0,\"ticks\":\"\"},\"colorscale\":[[0.0,\"#0d0887\"],[0.1111111111111111,\"#46039f\"],[0.2222222222222222,\"#7201a8\"],[0.3333333333333333,\"#9c179e\"],[0.4444444444444444,\"#bd3786\"],[0.5555555555555556,\"#d8576b\"],[0.6666666666666666,\"#ed7953\"],[0.7777777777777778,\"#fb9f3a\"],[0.8888888888888888,\"#fdca26\"],[1.0,\"#f0f921\"]]}],\"surface\":[{\"type\":\"surface\",\"colorbar\":{\"outlinewidth\":0,\"ticks\":\"\"},\"colorscale\":[[0.0,\"#0d0887\"],[0.1111111111111111,\"#46039f\"],[0.2222222222222222,\"#7201a8\"],[0.3333333333333333,\"#9c179e\"],[0.4444444444444444,\"#bd3786\"],[0.5555555555555556,\"#d8576b\"],[0.6666666666666666,\"#ed7953\"],[0.7777777777777778,\"#fb9f3a\"],[0.8888888888888888,\"#fdca26\"],[1.0,\"#f0f921\"]]}],\"mesh3d\":[{\"type\":\"mesh3d\",\"colorbar\":{\"outlinewidth\":0,\"ticks\":\"\"}}],\"scatter\":[{\"marker\":{\"line\":{\"color\":\"#283442\"}},\"type\":\"scatter\"}],\"parcoords\":[{\"type\":\"parcoords\",\"line\":{\"colorbar\":{\"outlinewidth\":0,\"ticks\":\"\"}}}],\"scatterpolargl\":[{\"type\":\"scatterpolargl\",\"marker\":{\"colorbar\":{\"outlinewidth\":0,\"ticks\":\"\"}}}],\"bar\":[{\"error_x\":{\"color\":\"#f2f5fa\"},\"error_y\":{\"color\":\"#f2f5fa\"},\"marker\":{\"line\":{\"color\":\"rgb(17,17,17)\",\"width\":0.5},\"pattern\":{\"fillmode\":\"overlay\",\"size\":10,\"solidity\":0.2}},\"type\":\"bar\"}],\"scattergeo\":[{\"type\":\"scattergeo\",\"marker\":{\"colorbar\":{\"outlinewidth\":0,\"ticks\":\"\"}}}],\"scatterpolar\":[{\"type\":\"scatterpolar\",\"marker\":{\"colorbar\":{\"outlinewidth\":0,\"ticks\":\"\"}}}],\"histogram\":[{\"marker\":{\"pattern\":{\"fillmode\":\"overlay\",\"size\":10,\"solidity\":0.2}},\"type\":\"histogram\"}],\"scattergl\":[{\"marker\":{\"line\":{\"color\":\"#283442\"}},\"type\":\"scattergl\"}],\"scatter3d\":[{\"type\":\"scatter3d\",\"line\":{\"colorbar\":{\"outlinewidth\":0,\"ticks\":\"\"}},\"marker\":{\"colorbar\":{\"outlinewidth\":0,\"ticks\":\"\"}}}],\"scattermapbox\":[{\"type\":\"scattermapbox\",\"marker\":{\"colorbar\":{\"outlinewidth\":0,\"ticks\":\"\"}}}],\"scatterternary\":[{\"type\":\"scatterternary\",\"marker\":{\"colorbar\":{\"outlinewidth\":0,\"ticks\":\"\"}}}],\"scattercarpet\":[{\"type\":\"scattercarpet\",\"marker\":{\"colorbar\":{\"outlinewidth\":0,\"ticks\":\"\"}}}],\"carpet\":[{\"aaxis\":{\"endlinecolor\":\"#A2B1C6\",\"gridcolor\":\"#506784\",\"linecolor\":\"#506784\",\"minorgridcolor\":\"#506784\",\"startlinecolor\":\"#A2B1C6\"},\"baxis\":{\"endlinecolor\":\"#A2B1C6\",\"gridcolor\":\"#506784\",\"linecolor\":\"#506784\",\"minorgridcolor\":\"#506784\",\"startlinecolor\":\"#A2B1C6\"},\"type\":\"carpet\"}],\"table\":[{\"cells\":{\"fill\":{\"color\":\"#506784\"},\"line\":{\"color\":\"rgb(17,17,17)\"}},\"header\":{\"fill\":{\"color\":\"#2a3f5f\"},\"line\":{\"color\":\"rgb(17,17,17)\"}},\"type\":\"table\"}],\"barpolar\":[{\"marker\":{\"line\":{\"color\":\"rgb(17,17,17)\",\"width\":0.5},\"pattern\":{\"fillmode\":\"overlay\",\"size\":10,\"solidity\":0.2}},\"type\":\"barpolar\"}],\"pie\":[{\"automargin\":true,\"type\":\"pie\"}]},\"layout\":{\"autotypenumbers\":\"strict\",\"colorway\":[\"#636efa\",\"#EF553B\",\"#00cc96\",\"#ab63fa\",\"#FFA15A\",\"#19d3f3\",\"#FF6692\",\"#B6E880\",\"#FF97FF\",\"#FECB52\"],\"font\":{\"color\":\"#f2f5fa\"},\"hovermode\":\"closest\",\"hoverlabel\":{\"align\":\"left\"},\"paper_bgcolor\":\"rgb(17,17,17)\",\"plot_bgcolor\":\"rgb(17,17,17)\",\"polar\":{\"bgcolor\":\"rgb(17,17,17)\",\"angularaxis\":{\"gridcolor\":\"#506784\",\"linecolor\":\"#506784\",\"ticks\":\"\"},\"radialaxis\":{\"gridcolor\":\"#506784\",\"linecolor\":\"#506784\",\"ticks\":\"\"}},\"ternary\":{\"bgcolor\":\"rgb(17,17,17)\",\"aaxis\":{\"gridcolor\":\"#506784\",\"linecolor\":\"#506784\",\"ticks\":\"\"},\"baxis\":{\"gridcolor\":\"#506784\",\"linecolor\":\"#506784\",\"ticks\":\"\"},\"caxis\":{\"gridcolor\":\"#506784\",\"linecolor\":\"#506784\",\"ticks\":\"\"}},\"coloraxis\":{\"colorbar\":{\"outlinewidth\":0,\"ticks\":\"\"}},\"colorscale\":{\"sequential\":[[0.0,\"#0d0887\"],[0.1111111111111111,\"#46039f\"],[0.2222222222222222,\"#7201a8\"],[0.3333333333333333,\"#9c179e\"],[0.4444444444444444,\"#bd3786\"],[0.5555555555555556,\"#d8576b\"],[0.6666666666666666,\"#ed7953\"],[0.7777777777777778,\"#fb9f3a\"],[0.8888888888888888,\"#fdca26\"],[1.0,\"#f0f921\"]],\"sequentialminus\":[[0.0,\"#0d0887\"],[0.1111111111111111,\"#46039f\"],[0.2222222222222222,\"#7201a8\"],[0.3333333333333333,\"#9c179e\"],[0.4444444444444444,\"#bd3786\"],[0.5555555555555556,\"#d8576b\"],[0.6666666666666666,\"#ed7953\"],[0.7777777777777778,\"#fb9f3a\"],[0.8888888888888888,\"#fdca26\"],[1.0,\"#f0f921\"]],\"diverging\":[[0,\"#8e0152\"],[0.1,\"#c51b7d\"],[0.2,\"#de77ae\"],[0.3,\"#f1b6da\"],[0.4,\"#fde0ef\"],[0.5,\"#f7f7f7\"],[0.6,\"#e6f5d0\"],[0.7,\"#b8e186\"],[0.8,\"#7fbc41\"],[0.9,\"#4d9221\"],[1,\"#276419\"]]},\"xaxis\":{\"gridcolor\":\"#283442\",\"linecolor\":\"#506784\",\"ticks\":\"\",\"title\":{\"standoff\":15},\"zerolinecolor\":\"#283442\",\"automargin\":true,\"zerolinewidth\":2},\"yaxis\":{\"gridcolor\":\"#283442\",\"linecolor\":\"#506784\",\"ticks\":\"\",\"title\":{\"standoff\":15},\"zerolinecolor\":\"#283442\",\"automargin\":true,\"zerolinewidth\":2},\"scene\":{\"xaxis\":{\"backgroundcolor\":\"rgb(17,17,17)\",\"gridcolor\":\"#506784\",\"linecolor\":\"#506784\",\"showbackground\":true,\"ticks\":\"\",\"zerolinecolor\":\"#C8D4E3\",\"gridwidth\":2},\"yaxis\":{\"backgroundcolor\":\"rgb(17,17,17)\",\"gridcolor\":\"#506784\",\"linecolor\":\"#506784\",\"showbackground\":true,\"ticks\":\"\",\"zerolinecolor\":\"#C8D4E3\",\"gridwidth\":2},\"zaxis\":{\"backgroundcolor\":\"rgb(17,17,17)\",\"gridcolor\":\"#506784\",\"linecolor\":\"#506784\",\"showbackground\":true,\"ticks\":\"\",\"zerolinecolor\":\"#C8D4E3\",\"gridwidth\":2}},\"shapedefaults\":{\"line\":{\"color\":\"#f2f5fa\"}},\"annotationdefaults\":{\"arrowcolor\":\"#f2f5fa\",\"arrowhead\":0,\"arrowwidth\":1},\"geo\":{\"bgcolor\":\"rgb(17,17,17)\",\"landcolor\":\"rgb(17,17,17)\",\"subunitcolor\":\"#506784\",\"showland\":true,\"showlakes\":true,\"lakecolor\":\"rgb(17,17,17)\"},\"title\":{\"x\":0.05},\"updatemenudefaults\":{\"bgcolor\":\"#506784\",\"borderwidth\":0},\"sliderdefaults\":{\"bgcolor\":\"#C8D4E3\",\"borderwidth\":1,\"bordercolor\":\"rgb(17,17,17)\",\"tickwidth\":0},\"mapbox\":{\"style\":\"dark\"}}},\"legend\":{\"tracegroupgap\":0},\"margin\":{\"t\":60}},                        {\"responsive\": true}                    ).then(function(){\n                            \nvar gd = document.getElementById('877abd29-204d-4efb-99c3-79d003775cf2');\nvar x = new MutationObserver(function (mutations, observer) {{\n        var display = window.getComputedStyle(gd).display;\n        if (!display || display === 'none') {{\n            console.log([gd, 'removed!']);\n            Plotly.purge(gd);\n            observer.disconnect();\n        }}\n}});\n\n// Listen for the removal of the full notebook cells\nvar notebookContainer = gd.closest('#notebook-container');\nif (notebookContainer) {{\n    x.observe(notebookContainer, {childList: true});\n}}\n\n// Listen for the clearing of the current output cell\nvar outputEl = gd.closest('.output');\nif (outputEl) {{\n    x.observe(outputEl, {childList: true});\n}}\n\n                        })                };                });            </script>        </div>"
     },
     "metadata": {},
     "output_type": "display_data"
    }
   ],
   "source": [
    "import plotly.express as px\n",
    "\n",
    "# total pass\n",
    "fig = px.pie(values=[671, 403], names=['Itlay', 'Czech Republic'])\n",
    "fig.update_traces(hole=.5, textinfo='value')\n",
    "fig.show()\n",
    "\n",
    "# pass accuracy\n",
    "fig = px.pie(values=[87, 76], names=['Itlay', 'Czech Republic'])\n",
    "fig.update_traces(hole=.5, textinfo='value')\n",
    "fig.show()\n",
    "\n",
    "# cross\n",
    "fig = px.pie(values=[17, 18], names=['Itlay', 'Czech Republic'])\n",
    "fig.update_traces(hole=.5, textinfo='value')\n",
    "fig.show()"
   ],
   "metadata": {
    "collapsed": false
   }
  },
  {
   "cell_type": "code",
   "execution_count": 17,
   "outputs": [
    {
     "data": {
      "text/plain": "         eventId eventPeriod  eventTime  matchId   teamId  playerId         x  \\\n0     41254878.0  FIRST_HALF      996.0  32266.0  10758.0  210334.0  0.498980   \n1     41254879.0  FIRST_HALF     1901.0  32266.0  10758.0  210329.0  0.492469   \n2     41254880.0  FIRST_HALF     2716.0  32266.0  10758.0  210329.0  0.522906   \n3     41254881.0  FIRST_HALF     3964.0  32266.0  10758.0  210331.0  0.749408   \n4     41254883.0  FIRST_HALF     4892.0  32266.0  10758.0  210331.0  0.784955   \n...          ...         ...        ...      ...      ...       ...       ...   \n2797         NaN         NaN        NaN      NaN      NaN       NaN       NaN   \n2798         NaN         NaN        NaN      NaN      NaN       NaN       NaN   \n2799         NaN         NaN        NaN      NaN      NaN       NaN       NaN   \n2800         NaN         NaN        NaN      NaN      NaN       NaN       NaN   \n2801         NaN         NaN        NaN      NaN      NaN       NaN       NaN   \n\n             y                                         eventTypes  \\\n0     0.500170  [{'eventType': 'Pass', 'outcome': 'Successful'...   \n1     0.403253                   [{'eventType': 'Pass Received'}]   \n2     0.392473  [{'eventType': 'Pass', 'outcome': 'Successful'...   \n3     0.300976                   [{'eventType': 'Pass Received'}]   \n4     0.296348  [{'eventType': 'Pass', 'outcome': 'Successful'...   \n...        ...                                                ...   \n2797       NaN                                                NaN   \n2798       NaN                                                NaN   \n2799       NaN                                                NaN   \n2800       NaN                                                NaN   \n2801       NaN                                                NaN   \n\n                                          relativeEvent ballPosition  \\\n0     {'eventId': 41254879, 'playerId': 210329, 'x':...          NaN   \n1                                                   NaN          NaN   \n2     {'eventId': 41254881, 'playerId': 210331, 'x':...          NaN   \n3                                                   NaN          NaN   \n4     {'eventId': 41254884, 'playerId': 210330, 'x':...          NaN   \n...                                                 ...          ...   \n2797                                                NaN          NaN   \n2798                                                NaN          NaN   \n2799                                                NaN          NaN   \n2800                                                NaN          NaN   \n2801                                                NaN          NaN   \n\n          eventType     outcome  cross keyPass assist subEventType bodyPart  \\\n0              Pass  Successful  False   False  False          NaN      NaN   \n1     Pass Received         NaN    NaN     NaN    NaN          NaN      NaN   \n2              Pass  Successful  False   False  False          NaN      NaN   \n3     Pass Received         NaN    NaN     NaN    NaN          NaN      NaN   \n4              Pass  Successful  False   False  False          NaN      NaN   \n...             ...         ...    ...     ...    ...          ...      ...   \n2797           Pass  Successful  False   False  False          NaN      NaN   \n2798      Set Piece         NaN    NaN     NaN    NaN     Freekick      NaN   \n2799  Pass Received         NaN    NaN     NaN    NaN          NaN      NaN   \n2800           Pass  Successful  False   False  False          NaN      NaN   \n2801  Pass Received         NaN    NaN     NaN    NaN          NaN      NaN   \n\n      xG eventTypes  \n0    NaN        NaN  \n1    NaN        NaN  \n2    NaN        NaN  \n3    NaN        NaN  \n4    NaN        NaN  \n...   ..        ...  \n2797 NaN        NaN  \n2798 NaN        NaN  \n2799 NaN        NaN  \n2800 NaN        NaN  \n2801 NaN        NaN  \n\n[2802 rows x 20 columns]",
      "text/html": "<div>\n<style scoped>\n    .dataframe tbody tr th:only-of-type {\n        vertical-align: middle;\n    }\n\n    .dataframe tbody tr th {\n        vertical-align: top;\n    }\n\n    .dataframe thead th {\n        text-align: right;\n    }\n</style>\n<table border=\"1\" class=\"dataframe\">\n  <thead>\n    <tr style=\"text-align: right;\">\n      <th></th>\n      <th>eventId</th>\n      <th>eventPeriod</th>\n      <th>eventTime</th>\n      <th>matchId</th>\n      <th>teamId</th>\n      <th>playerId</th>\n      <th>x</th>\n      <th>y</th>\n      <th>eventTypes</th>\n      <th>relativeEvent</th>\n      <th>ballPosition</th>\n      <th>eventType</th>\n      <th>outcome</th>\n      <th>cross</th>\n      <th>keyPass</th>\n      <th>assist</th>\n      <th>subEventType</th>\n      <th>bodyPart</th>\n      <th>xG</th>\n      <th>eventTypes</th>\n    </tr>\n  </thead>\n  <tbody>\n    <tr>\n      <th>0</th>\n      <td>41254878.0</td>\n      <td>FIRST_HALF</td>\n      <td>996.0</td>\n      <td>32266.0</td>\n      <td>10758.0</td>\n      <td>210334.0</td>\n      <td>0.498980</td>\n      <td>0.500170</td>\n      <td>[{'eventType': 'Pass', 'outcome': 'Successful'...</td>\n      <td>{'eventId': 41254879, 'playerId': 210329, 'x':...</td>\n      <td>NaN</td>\n      <td>Pass</td>\n      <td>Successful</td>\n      <td>False</td>\n      <td>False</td>\n      <td>False</td>\n      <td>NaN</td>\n      <td>NaN</td>\n      <td>NaN</td>\n      <td>NaN</td>\n    </tr>\n    <tr>\n      <th>1</th>\n      <td>41254879.0</td>\n      <td>FIRST_HALF</td>\n      <td>1901.0</td>\n      <td>32266.0</td>\n      <td>10758.0</td>\n      <td>210329.0</td>\n      <td>0.492469</td>\n      <td>0.403253</td>\n      <td>[{'eventType': 'Pass Received'}]</td>\n      <td>NaN</td>\n      <td>NaN</td>\n      <td>Pass Received</td>\n      <td>NaN</td>\n      <td>NaN</td>\n      <td>NaN</td>\n      <td>NaN</td>\n      <td>NaN</td>\n      <td>NaN</td>\n      <td>NaN</td>\n      <td>NaN</td>\n    </tr>\n    <tr>\n      <th>2</th>\n      <td>41254880.0</td>\n      <td>FIRST_HALF</td>\n      <td>2716.0</td>\n      <td>32266.0</td>\n      <td>10758.0</td>\n      <td>210329.0</td>\n      <td>0.522906</td>\n      <td>0.392473</td>\n      <td>[{'eventType': 'Pass', 'outcome': 'Successful'...</td>\n      <td>{'eventId': 41254881, 'playerId': 210331, 'x':...</td>\n      <td>NaN</td>\n      <td>Pass</td>\n      <td>Successful</td>\n      <td>False</td>\n      <td>False</td>\n      <td>False</td>\n      <td>NaN</td>\n      <td>NaN</td>\n      <td>NaN</td>\n      <td>NaN</td>\n    </tr>\n    <tr>\n      <th>3</th>\n      <td>41254881.0</td>\n      <td>FIRST_HALF</td>\n      <td>3964.0</td>\n      <td>32266.0</td>\n      <td>10758.0</td>\n      <td>210331.0</td>\n      <td>0.749408</td>\n      <td>0.300976</td>\n      <td>[{'eventType': 'Pass Received'}]</td>\n      <td>NaN</td>\n      <td>NaN</td>\n      <td>Pass Received</td>\n      <td>NaN</td>\n      <td>NaN</td>\n      <td>NaN</td>\n      <td>NaN</td>\n      <td>NaN</td>\n      <td>NaN</td>\n      <td>NaN</td>\n      <td>NaN</td>\n    </tr>\n    <tr>\n      <th>4</th>\n      <td>41254883.0</td>\n      <td>FIRST_HALF</td>\n      <td>4892.0</td>\n      <td>32266.0</td>\n      <td>10758.0</td>\n      <td>210331.0</td>\n      <td>0.784955</td>\n      <td>0.296348</td>\n      <td>[{'eventType': 'Pass', 'outcome': 'Successful'...</td>\n      <td>{'eventId': 41254884, 'playerId': 210330, 'x':...</td>\n      <td>NaN</td>\n      <td>Pass</td>\n      <td>Successful</td>\n      <td>False</td>\n      <td>False</td>\n      <td>False</td>\n      <td>NaN</td>\n      <td>NaN</td>\n      <td>NaN</td>\n      <td>NaN</td>\n    </tr>\n    <tr>\n      <th>...</th>\n      <td>...</td>\n      <td>...</td>\n      <td>...</td>\n      <td>...</td>\n      <td>...</td>\n      <td>...</td>\n      <td>...</td>\n      <td>...</td>\n      <td>...</td>\n      <td>...</td>\n      <td>...</td>\n      <td>...</td>\n      <td>...</td>\n      <td>...</td>\n      <td>...</td>\n      <td>...</td>\n      <td>...</td>\n      <td>...</td>\n      <td>...</td>\n      <td>...</td>\n    </tr>\n    <tr>\n      <th>2797</th>\n      <td>NaN</td>\n      <td>NaN</td>\n      <td>NaN</td>\n      <td>NaN</td>\n      <td>NaN</td>\n      <td>NaN</td>\n      <td>NaN</td>\n      <td>NaN</td>\n      <td>NaN</td>\n      <td>NaN</td>\n      <td>NaN</td>\n      <td>Pass</td>\n      <td>Successful</td>\n      <td>False</td>\n      <td>False</td>\n      <td>False</td>\n      <td>NaN</td>\n      <td>NaN</td>\n      <td>NaN</td>\n      <td>NaN</td>\n    </tr>\n    <tr>\n      <th>2798</th>\n      <td>NaN</td>\n      <td>NaN</td>\n      <td>NaN</td>\n      <td>NaN</td>\n      <td>NaN</td>\n      <td>NaN</td>\n      <td>NaN</td>\n      <td>NaN</td>\n      <td>NaN</td>\n      <td>NaN</td>\n      <td>NaN</td>\n      <td>Set Piece</td>\n      <td>NaN</td>\n      <td>NaN</td>\n      <td>NaN</td>\n      <td>NaN</td>\n      <td>Freekick</td>\n      <td>NaN</td>\n      <td>NaN</td>\n      <td>NaN</td>\n    </tr>\n    <tr>\n      <th>2799</th>\n      <td>NaN</td>\n      <td>NaN</td>\n      <td>NaN</td>\n      <td>NaN</td>\n      <td>NaN</td>\n      <td>NaN</td>\n      <td>NaN</td>\n      <td>NaN</td>\n      <td>NaN</td>\n      <td>NaN</td>\n      <td>NaN</td>\n      <td>Pass Received</td>\n      <td>NaN</td>\n      <td>NaN</td>\n      <td>NaN</td>\n      <td>NaN</td>\n      <td>NaN</td>\n      <td>NaN</td>\n      <td>NaN</td>\n      <td>NaN</td>\n    </tr>\n    <tr>\n      <th>2800</th>\n      <td>NaN</td>\n      <td>NaN</td>\n      <td>NaN</td>\n      <td>NaN</td>\n      <td>NaN</td>\n      <td>NaN</td>\n      <td>NaN</td>\n      <td>NaN</td>\n      <td>NaN</td>\n      <td>NaN</td>\n      <td>NaN</td>\n      <td>Pass</td>\n      <td>Successful</td>\n      <td>False</td>\n      <td>False</td>\n      <td>False</td>\n      <td>NaN</td>\n      <td>NaN</td>\n      <td>NaN</td>\n      <td>NaN</td>\n    </tr>\n    <tr>\n      <th>2801</th>\n      <td>NaN</td>\n      <td>NaN</td>\n      <td>NaN</td>\n      <td>NaN</td>\n      <td>NaN</td>\n      <td>NaN</td>\n      <td>NaN</td>\n      <td>NaN</td>\n      <td>NaN</td>\n      <td>NaN</td>\n      <td>NaN</td>\n      <td>Pass Received</td>\n      <td>NaN</td>\n      <td>NaN</td>\n      <td>NaN</td>\n      <td>NaN</td>\n      <td>NaN</td>\n      <td>NaN</td>\n      <td>NaN</td>\n      <td>NaN</td>\n    </tr>\n  </tbody>\n</table>\n<p>2802 rows × 20 columns</p>\n</div>"
     },
     "execution_count": 17,
     "metadata": {},
     "output_type": "execute_result"
    }
   ],
   "source": [
    "df = pd.DataFrame(data['events'])\n",
    "\n",
    "df_event_types = pd.json_normalize(df['eventTypes'].explode(), sep='_')\n",
    "\n",
    "df_result = pd.concat([df, df_event_types], axis=1)\n",
    "df_result"
   ],
   "metadata": {
    "collapsed": false
   }
  },
  {
   "cell_type": "markdown",
   "source": [
    "* Tracking Data processing(.txt)\n"
   ],
   "metadata": {
    "collapsed": false
   }
  },
  {
   "cell_type": "code",
   "execution_count": 351,
   "outputs": [],
   "source": [
    "import requests\n",
    "\n",
    "url = 'https://file.notion.so/f/f/e6d8df69-733e-4793-ae23-13bbf3253b75/7902a2fb-ece6-4064-b76e-e9720681424c/Italy_vs_Czech_Republic_(04.06.2021)_FIRST_HALF.txt?id=b326b77d-5067-48bf-94f2-e792ffbbab9a&table=block&spaceId=e6d8df69-733e-4793-ae23-13bbf3253b75&expirationTimestamp=1703318400000&signature=jVqpMcL1DIs2n45hl-ZU9mxDv9lqBf7ISJOaPZPXwQo&downloadName=Italy+vs+Czech+Republic+%2804.06.2021%29_FIRST_HALF.txt'\n",
    "\n",
    "response = requests.get(url)\n",
    "\n",
    "with open('Italy_Czech.txt', 'w', encoding='utf-8') as file:\n",
    "    file.write(response.text)"
   ],
   "metadata": {
    "collapsed": false
   }
  },
  {
   "cell_type": "code",
   "execution_count": 0,
   "outputs": [],
   "source": [
    "with open('Italy_Czech.txt', 'r', encoding='utf-8') as file:\n",
    "    file = file.read()\n",
    "    #status =['HOME', 'AWAY', 'NEUTRAL', 'BALL_OUT']\n",
    "    raw = file.split(':')\n",
    "\n",
    "ids, players, ball = [], [], []\n",
    "tag = 0\n",
    "for raws in raw:\n",
    "    tag = 0 if tag == 3 else tag\n",
    "    if tag == 0:\n",
    "        if raws == '251':\n",
    "            ids.append(raws)\n",
    "        else:\n",
    "            s = raws.split(\"\\n\")\n",
    "            if len(s) > 1:\n",
    "                ids.append(s[1])\n",
    "            else:\n",
    "                ids.append(\"\")\n",
    "            s = []  # s 초기화\n",
    "    elif tag == 1:\n",
    "        players.append(raws)\n",
    "    elif tag == 2:\n",
    "        ball.append(raws)\n",
    "\n",
    "    tag += 1\n",
    "\n",
    "# 7500 7750\n",
    "ids = ids[:8000]\n",
    "players = players[:8000]\n",
    "ball = ball[:8000] # tag"
   ],
   "metadata": {
    "collapsed": false
   }
  },
  {
   "cell_type": "code",
   "execution_count": 0,
   "outputs": [],
   "source": [
    "player_lst = []\n",
    "for player in players:\n",
    "    p = player.split(';')\n",
    "    player_lst.append(p) # tag"
   ],
   "metadata": {
    "collapsed": false
   }
  },
  {
   "cell_type": "code",
   "execution_count": 417,
   "outputs": [
    {
     "data": {
      "text/plain": "        id                                            players       ball\n0      251  [4419,2283, 3684,828, 4274,3249, 5220,2336, 52...  5250,3400\n1      252  [4419,2283, 3684,827, 4274,3249, 5221,2336, 52...  5250,3400\n2      253  [4419,2283, 3684,827, 4274,3249, 5221,2336, 52...  5250,3401\n3      254  [4419,2282, 3683,825, 4274,3249, 5221,2336, 52...  5250,3401\n4      255  [4418,2282, 3683,824, 4274,3249, 5221,2336, 52...  5250,3401\n...    ...                                                ...        ...\n7995  8246  [3569,1691, 3040,284, 2789,2351, 3625,510, 490...   2967,588\n7996  8247  [3559,1678, 3030,285, 2775,2340, 3615,499, 489...   2944,627\n7997  8248  [3549,1664, 3019,281, 2761,2329, 3604,488, 489...   2922,665\n7998  8249  [3539,1650, 3008,275, 2746,2318, 3594,477, 489...   2901,701\n7999  8250  [3529,1635, 2997,267, 2732,2305, 3583,466, 488...   2881,736\n\n[8000 rows x 3 columns]",
      "text/html": "<div>\n<style scoped>\n    .dataframe tbody tr th:only-of-type {\n        vertical-align: middle;\n    }\n\n    .dataframe tbody tr th {\n        vertical-align: top;\n    }\n\n    .dataframe thead th {\n        text-align: right;\n    }\n</style>\n<table border=\"1\" class=\"dataframe\">\n  <thead>\n    <tr style=\"text-align: right;\">\n      <th></th>\n      <th>id</th>\n      <th>players</th>\n      <th>ball</th>\n    </tr>\n  </thead>\n  <tbody>\n    <tr>\n      <th>0</th>\n      <td>251</td>\n      <td>[4419,2283, 3684,828, 4274,3249, 5220,2336, 52...</td>\n      <td>5250,3400</td>\n    </tr>\n    <tr>\n      <th>1</th>\n      <td>252</td>\n      <td>[4419,2283, 3684,827, 4274,3249, 5221,2336, 52...</td>\n      <td>5250,3400</td>\n    </tr>\n    <tr>\n      <th>2</th>\n      <td>253</td>\n      <td>[4419,2283, 3684,827, 4274,3249, 5221,2336, 52...</td>\n      <td>5250,3401</td>\n    </tr>\n    <tr>\n      <th>3</th>\n      <td>254</td>\n      <td>[4419,2282, 3683,825, 4274,3249, 5221,2336, 52...</td>\n      <td>5250,3401</td>\n    </tr>\n    <tr>\n      <th>4</th>\n      <td>255</td>\n      <td>[4418,2282, 3683,824, 4274,3249, 5221,2336, 52...</td>\n      <td>5250,3401</td>\n    </tr>\n    <tr>\n      <th>...</th>\n      <td>...</td>\n      <td>...</td>\n      <td>...</td>\n    </tr>\n    <tr>\n      <th>7995</th>\n      <td>8246</td>\n      <td>[3569,1691, 3040,284, 2789,2351, 3625,510, 490...</td>\n      <td>2967,588</td>\n    </tr>\n    <tr>\n      <th>7996</th>\n      <td>8247</td>\n      <td>[3559,1678, 3030,285, 2775,2340, 3615,499, 489...</td>\n      <td>2944,627</td>\n    </tr>\n    <tr>\n      <th>7997</th>\n      <td>8248</td>\n      <td>[3549,1664, 3019,281, 2761,2329, 3604,488, 489...</td>\n      <td>2922,665</td>\n    </tr>\n    <tr>\n      <th>7998</th>\n      <td>8249</td>\n      <td>[3539,1650, 3008,275, 2746,2318, 3594,477, 489...</td>\n      <td>2901,701</td>\n    </tr>\n    <tr>\n      <th>7999</th>\n      <td>8250</td>\n      <td>[3529,1635, 2997,267, 2732,2305, 3583,466, 488...</td>\n      <td>2881,736</td>\n    </tr>\n  </tbody>\n</table>\n<p>8000 rows × 3 columns</p>\n</div>"
     },
     "execution_count": 417,
     "metadata": {},
     "output_type": "execute_result"
    }
   ],
   "source": [
    "t_df = pd.DataFrame({\n",
    "    'id' : ids,\n",
    "     'players' : player_lst,\n",
    "     'ball':ball\n",
    "})\n",
    "tracking = pd.DataFrame({\n",
    "    'id':ids\n",
    "})\n",
    "\n",
    "def ball_x(x):\n",
    "    return x.split(',')[0]\n",
    "\n",
    "def ball_y(x):\n",
    "    return x.split(',')[1]\n",
    "\n",
    "tracking['ball_x'] = t_df['ball'].apply(ball_x)\n",
    "tracking['ball_y'] = t_df['ball'].apply(ball_y)\n",
    "\n",
    "for i in range(len(t_df['players'][0])):\n",
    "    if i < 11:\n",
    "        tracking[f'H{i+1}_x'] = t_df['players'].apply(lambda x : x[i].split(',')[0])\n",
    "        tracking[f'H{i+1}_y'] = t_df['players'].apply(lambda x : x[i].split(',')[1])\n",
    "    else:\n",
    "        tracking[f'A{i+1}_x'] = t_df['players'].apply(lambda x : x[i].split(',')[0])\n",
    "        tracking[f'A{i+1}_y'] = t_df['players'].apply(lambda x : x[i].split(',')[1])\n",
    "\n",
    "t_df"
   ],
   "metadata": {
    "collapsed": false
   }
  },
  {
   "cell_type": "code",
   "execution_count": 419,
   "outputs": [],
   "source": [
    "#tracking.to_csv('tracking_data(5min)_sep.csv')"
   ],
   "metadata": {
    "collapsed": false
   }
  }
 ],
 "metadata": {
  "kernelspec": {
   "display_name": "Python 3",
   "language": "python",
   "name": "python3"
  },
  "language_info": {
   "codemirror_mode": {
    "name": "ipython",
    "version": 2
   },
   "file_extension": ".py",
   "mimetype": "text/x-python",
   "name": "python",
   "nbconvert_exporter": "python",
   "pygments_lexer": "ipython2",
   "version": "2.7.6"
  }
 },
 "nbformat": 4,
 "nbformat_minor": 0
}
