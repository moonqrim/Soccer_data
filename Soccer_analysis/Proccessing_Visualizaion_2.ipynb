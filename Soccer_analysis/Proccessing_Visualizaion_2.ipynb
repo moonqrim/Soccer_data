{
 "cells": [
  {
   "cell_type": "code",
   "execution_count": 1,
   "metadata": {
    "collapsed": true
   },
   "outputs": [],
   "source": [
    "import pandas as pd\n",
    "import matplotlib.pyplot as plt\n",
    "import plotly.express as px\n",
    "from mplsoccer import VerticalPitch, Pitch\n",
    "from matplotlib import lines\n",
    "from mpl_toolkits.mplot3d import axes3d\n",
    "import numpy as np\n",
    "import math"
   ]
  },
  {
   "cell_type": "code",
   "execution_count": 33,
   "outputs": [],
   "source": [
    "df = pd.read_csv('base_data.csv')\n",
    "df = df.sort_values('eventTime')"
   ],
   "metadata": {
    "collapsed": false
   }
  },
  {
   "cell_type": "code",
   "execution_count": 34,
   "outputs": [
    {
     "name": "stderr",
     "output_type": "stream",
     "text": [
      "C:\\Users\\문규림\\AppData\\Local\\Temp\\ipykernel_25024\\106602410.py:10: SettingWithCopyWarning:\n",
      "\n",
      "\n",
      "A value is trying to be set on a copy of a slice from a DataFrame.\n",
      "Try using .loc[row_indexer,col_indexer] = value instead\n",
      "\n",
      "See the caveats in the documentation: https://pandas.pydata.org/pandas-docs/stable/user_guide/indexing.html#returning-a-view-versus-a-copy\n",
      "\n",
      "C:\\Users\\문규림\\AppData\\Local\\Temp\\ipykernel_25024\\106602410.py:11: SettingWithCopyWarning:\n",
      "\n",
      "\n",
      "A value is trying to be set on a copy of a slice from a DataFrame.\n",
      "Try using .loc[row_indexer,col_indexer] = value instead\n",
      "\n",
      "See the caveats in the documentation: https://pandas.pydata.org/pandas-docs/stable/user_guide/indexing.html#returning-a-view-versus-a-copy\n",
      "\n",
      "C:\\Users\\문규림\\AppData\\Local\\Temp\\ipykernel_25024\\106602410.py:13: SettingWithCopyWarning:\n",
      "\n",
      "\n",
      "A value is trying to be set on a copy of a slice from a DataFrame.\n",
      "Try using .loc[row_indexer,col_indexer] = value instead\n",
      "\n",
      "See the caveats in the documentation: https://pandas.pydata.org/pandas-docs/stable/user_guide/indexing.html#returning-a-view-versus-a-copy\n",
      "\n",
      "C:\\Users\\문규림\\AppData\\Local\\Temp\\ipykernel_25024\\106602410.py:14: SettingWithCopyWarning:\n",
      "\n",
      "\n",
      "A value is trying to be set on a copy of a slice from a DataFrame.\n",
      "Try using .loc[row_indexer,col_indexer] = value instead\n",
      "\n",
      "See the caveats in the documentation: https://pandas.pydata.org/pandas-docs/stable/user_guide/indexing.html#returning-a-view-versus-a-copy\n",
      "\n"
     ]
    }
   ],
   "source": [
    "# 패널티 에어리어로 투입된 시퀀스\n",
    "\n",
    "in_p_area = df[\n",
    "    ( (df['relativeEvent_x'] * 68) >= 13.84) &\n",
    "    ( (df['relativeEvent_x'] * 68) <= 54.16) &\n",
    "    ( (df['relativeEvent_y'] * 105) >= 88.85) &\n",
    "    ( df['eventType'] == 'Pass')\n",
    "]\n",
    "\n",
    "in_p_area['relative_real_x'] = in_p_area['relativeEvent_x'] * 68\n",
    "in_p_area['relative_real_y'] = in_p_area['relativeEvent_y'] * 105\n",
    "\n",
    "in_p_area['real_x'] = in_p_area['x'] * 68\n",
    "in_p_area['real_y'] = in_p_area['y'] * 105"
   ],
   "metadata": {
    "collapsed": false
   }
  },
  {
   "cell_type": "code",
   "execution_count": 73,
   "outputs": [
    {
     "data": {
      "text/plain": "      Unnamed: 0 eventType       outcome  cross keyPass assist subEventType  \\\n995          995      Pass  Unsuccessful   True   False  False          NaN   \n1739        1739      Pass  Unsuccessful  False   False  False          NaN   \n1832        1832      Pass    Successful   True    True  False          NaN   \n850          850      Pass  Unsuccessful   True   False  False          NaN   \n1839        1839      Pass    Successful   True   False  False          NaN   \n...          ...       ...           ...    ...     ...    ...          ...   \n2633        2633      Pass    Successful  False   False  False          NaN   \n2401        2401      Pass  Unsuccessful   True   False  False          NaN   \n304          304      Pass    Successful  False   False  False          NaN   \n2639        2639      Pass  Unsuccessful  False   False  False          NaN   \n2612        2612      Pass  Unsuccessful  False   False  False          NaN   \n\n     bodyPart  xG eventTypes  ...  ballPosition_x ballPosition_y  playerName  \\\n995       NaN NaN        NaN  ...             NaN            NaN     Michael   \n1739      NaN NaN        NaN  ...             NaN            NaN         Jan   \n1832      NaN NaN        NaN  ...             NaN            NaN       Jakub   \n850       NaN NaN        NaN  ...             NaN            NaN       Lukas   \n1839      NaN NaN        NaN  ...             NaN            NaN       Jakub   \n...       ...  ..        ...  ...             ...            ...         ...   \n2633      NaN NaN        NaN  ...             NaN            NaN      Michal   \n2401      NaN NaN        NaN  ...             NaN            NaN        Petr   \n304       NaN NaN        NaN  ...             NaN            NaN    Vladimir   \n2639      NaN NaN        NaN  ...             NaN            NaN      Michal   \n2612      NaN NaN        NaN  ...             NaN            NaN     Giacomo   \n\n      playerLastName  time_sec   time_min  relative_real_x  relative_real_y  \\\n995         Krmencik    23.031   0.383850        33.351824       102.212040   \n1739           Boril    83.490   1.391500        14.660732        96.930960   \n1832          Jankto    92.990   1.549833        43.854356        99.338400   \n850         Masopust   168.227   2.803783        18.512320        96.888435   \n1839          Jankto   172.529   2.875483        25.721476       103.068420   \n...              ...       ...        ...              ...              ...   \n2633         Sadilek  5401.781  90.029683        50.937032        99.468495   \n2401          Sevcik  5403.642  90.060700        43.390732        98.617155   \n304           Coufal  5470.032  91.167200        50.685092       101.866065   \n2639         Sadilek  5471.508  91.191800        44.972548        98.771820   \n2612       Raspadori  5499.266  91.654433        53.202248        95.304720   \n\n         real_x      real_y  \n995   62.163560   96.419295  \n1739  18.876392   74.886000  \n1832   1.656521   91.740285  \n850   66.353720   92.666175  \n1839   8.077720   96.677175  \n...         ...         ...  \n2633  59.521420   92.080695  \n2401  52.406716  102.373425  \n304   68.000000   94.609935  \n2639  50.685092  101.866065  \n2612  44.793028   90.486900  \n\n[65 rows x 31 columns]",
      "text/html": "<div>\n<style scoped>\n    .dataframe tbody tr th:only-of-type {\n        vertical-align: middle;\n    }\n\n    .dataframe tbody tr th {\n        vertical-align: top;\n    }\n\n    .dataframe thead th {\n        text-align: right;\n    }\n</style>\n<table border=\"1\" class=\"dataframe\">\n  <thead>\n    <tr style=\"text-align: right;\">\n      <th></th>\n      <th>Unnamed: 0</th>\n      <th>eventType</th>\n      <th>outcome</th>\n      <th>cross</th>\n      <th>keyPass</th>\n      <th>assist</th>\n      <th>subEventType</th>\n      <th>bodyPart</th>\n      <th>xG</th>\n      <th>eventTypes</th>\n      <th>...</th>\n      <th>ballPosition_x</th>\n      <th>ballPosition_y</th>\n      <th>playerName</th>\n      <th>playerLastName</th>\n      <th>time_sec</th>\n      <th>time_min</th>\n      <th>relative_real_x</th>\n      <th>relative_real_y</th>\n      <th>real_x</th>\n      <th>real_y</th>\n    </tr>\n  </thead>\n  <tbody>\n    <tr>\n      <th>995</th>\n      <td>995</td>\n      <td>Pass</td>\n      <td>Unsuccessful</td>\n      <td>True</td>\n      <td>False</td>\n      <td>False</td>\n      <td>NaN</td>\n      <td>NaN</td>\n      <td>NaN</td>\n      <td>NaN</td>\n      <td>...</td>\n      <td>NaN</td>\n      <td>NaN</td>\n      <td>Michael</td>\n      <td>Krmencik</td>\n      <td>23.031</td>\n      <td>0.383850</td>\n      <td>33.351824</td>\n      <td>102.212040</td>\n      <td>62.163560</td>\n      <td>96.419295</td>\n    </tr>\n    <tr>\n      <th>1739</th>\n      <td>1739</td>\n      <td>Pass</td>\n      <td>Unsuccessful</td>\n      <td>False</td>\n      <td>False</td>\n      <td>False</td>\n      <td>NaN</td>\n      <td>NaN</td>\n      <td>NaN</td>\n      <td>NaN</td>\n      <td>...</td>\n      <td>NaN</td>\n      <td>NaN</td>\n      <td>Jan</td>\n      <td>Boril</td>\n      <td>83.490</td>\n      <td>1.391500</td>\n      <td>14.660732</td>\n      <td>96.930960</td>\n      <td>18.876392</td>\n      <td>74.886000</td>\n    </tr>\n    <tr>\n      <th>1832</th>\n      <td>1832</td>\n      <td>Pass</td>\n      <td>Successful</td>\n      <td>True</td>\n      <td>True</td>\n      <td>False</td>\n      <td>NaN</td>\n      <td>NaN</td>\n      <td>NaN</td>\n      <td>NaN</td>\n      <td>...</td>\n      <td>NaN</td>\n      <td>NaN</td>\n      <td>Jakub</td>\n      <td>Jankto</td>\n      <td>92.990</td>\n      <td>1.549833</td>\n      <td>43.854356</td>\n      <td>99.338400</td>\n      <td>1.656521</td>\n      <td>91.740285</td>\n    </tr>\n    <tr>\n      <th>850</th>\n      <td>850</td>\n      <td>Pass</td>\n      <td>Unsuccessful</td>\n      <td>True</td>\n      <td>False</td>\n      <td>False</td>\n      <td>NaN</td>\n      <td>NaN</td>\n      <td>NaN</td>\n      <td>NaN</td>\n      <td>...</td>\n      <td>NaN</td>\n      <td>NaN</td>\n      <td>Lukas</td>\n      <td>Masopust</td>\n      <td>168.227</td>\n      <td>2.803783</td>\n      <td>18.512320</td>\n      <td>96.888435</td>\n      <td>66.353720</td>\n      <td>92.666175</td>\n    </tr>\n    <tr>\n      <th>1839</th>\n      <td>1839</td>\n      <td>Pass</td>\n      <td>Successful</td>\n      <td>True</td>\n      <td>False</td>\n      <td>False</td>\n      <td>NaN</td>\n      <td>NaN</td>\n      <td>NaN</td>\n      <td>NaN</td>\n      <td>...</td>\n      <td>NaN</td>\n      <td>NaN</td>\n      <td>Jakub</td>\n      <td>Jankto</td>\n      <td>172.529</td>\n      <td>2.875483</td>\n      <td>25.721476</td>\n      <td>103.068420</td>\n      <td>8.077720</td>\n      <td>96.677175</td>\n    </tr>\n    <tr>\n      <th>...</th>\n      <td>...</td>\n      <td>...</td>\n      <td>...</td>\n      <td>...</td>\n      <td>...</td>\n      <td>...</td>\n      <td>...</td>\n      <td>...</td>\n      <td>...</td>\n      <td>...</td>\n      <td>...</td>\n      <td>...</td>\n      <td>...</td>\n      <td>...</td>\n      <td>...</td>\n      <td>...</td>\n      <td>...</td>\n      <td>...</td>\n      <td>...</td>\n      <td>...</td>\n      <td>...</td>\n    </tr>\n    <tr>\n      <th>2633</th>\n      <td>2633</td>\n      <td>Pass</td>\n      <td>Successful</td>\n      <td>False</td>\n      <td>False</td>\n      <td>False</td>\n      <td>NaN</td>\n      <td>NaN</td>\n      <td>NaN</td>\n      <td>NaN</td>\n      <td>...</td>\n      <td>NaN</td>\n      <td>NaN</td>\n      <td>Michal</td>\n      <td>Sadilek</td>\n      <td>5401.781</td>\n      <td>90.029683</td>\n      <td>50.937032</td>\n      <td>99.468495</td>\n      <td>59.521420</td>\n      <td>92.080695</td>\n    </tr>\n    <tr>\n      <th>2401</th>\n      <td>2401</td>\n      <td>Pass</td>\n      <td>Unsuccessful</td>\n      <td>True</td>\n      <td>False</td>\n      <td>False</td>\n      <td>NaN</td>\n      <td>NaN</td>\n      <td>NaN</td>\n      <td>NaN</td>\n      <td>...</td>\n      <td>NaN</td>\n      <td>NaN</td>\n      <td>Petr</td>\n      <td>Sevcik</td>\n      <td>5403.642</td>\n      <td>90.060700</td>\n      <td>43.390732</td>\n      <td>98.617155</td>\n      <td>52.406716</td>\n      <td>102.373425</td>\n    </tr>\n    <tr>\n      <th>304</th>\n      <td>304</td>\n      <td>Pass</td>\n      <td>Successful</td>\n      <td>False</td>\n      <td>False</td>\n      <td>False</td>\n      <td>NaN</td>\n      <td>NaN</td>\n      <td>NaN</td>\n      <td>NaN</td>\n      <td>...</td>\n      <td>NaN</td>\n      <td>NaN</td>\n      <td>Vladimir</td>\n      <td>Coufal</td>\n      <td>5470.032</td>\n      <td>91.167200</td>\n      <td>50.685092</td>\n      <td>101.866065</td>\n      <td>68.000000</td>\n      <td>94.609935</td>\n    </tr>\n    <tr>\n      <th>2639</th>\n      <td>2639</td>\n      <td>Pass</td>\n      <td>Unsuccessful</td>\n      <td>False</td>\n      <td>False</td>\n      <td>False</td>\n      <td>NaN</td>\n      <td>NaN</td>\n      <td>NaN</td>\n      <td>NaN</td>\n      <td>...</td>\n      <td>NaN</td>\n      <td>NaN</td>\n      <td>Michal</td>\n      <td>Sadilek</td>\n      <td>5471.508</td>\n      <td>91.191800</td>\n      <td>44.972548</td>\n      <td>98.771820</td>\n      <td>50.685092</td>\n      <td>101.866065</td>\n    </tr>\n    <tr>\n      <th>2612</th>\n      <td>2612</td>\n      <td>Pass</td>\n      <td>Unsuccessful</td>\n      <td>False</td>\n      <td>False</td>\n      <td>False</td>\n      <td>NaN</td>\n      <td>NaN</td>\n      <td>NaN</td>\n      <td>NaN</td>\n      <td>...</td>\n      <td>NaN</td>\n      <td>NaN</td>\n      <td>Giacomo</td>\n      <td>Raspadori</td>\n      <td>5499.266</td>\n      <td>91.654433</td>\n      <td>53.202248</td>\n      <td>95.304720</td>\n      <td>44.793028</td>\n      <td>90.486900</td>\n    </tr>\n  </tbody>\n</table>\n<p>65 rows × 31 columns</p>\n</div>"
     },
     "execution_count": 73,
     "metadata": {},
     "output_type": "execute_result"
    }
   ],
   "source": [
    "#in_p_area.to_csv('in_penalty_area_pass.csv')\n",
    "in_p_area"
   ],
   "metadata": {
    "collapsed": false
   }
  },
  {
   "cell_type": "code",
   "execution_count": 55,
   "outputs": [
    {
     "data": {
      "text/plain": "<Figure size 640x480 with 1 Axes>",
      "image/png": "[encoded data removed]"
     },
     "metadata": {},
     "output_type": "display_data"
    }
   ],
   "source": [
    "# 패널티 에어리어로 투입된 시퀀스 시각화\n",
    "\n",
    "it_in_p = in_p_area[in_p_area['teamId'] == 10757]\n",
    "cz_in_p = in_p_area[in_p_area['teamId'] == 10758]\n",
    "\n",
    "pitch = VerticalPitch(pitch_type='uefa', pitch_length=105, pitch_width=68,\n",
    "              axis=False, label=False, corner_arcs=True,\n",
    "              pitch_color='white', line_color='black', linewidth=1)\n",
    "\n",
    "fig, ax = pitch.draw()\n",
    "\n",
    "ax.scatter(\n",
    "    cz_in_p['real_x'], cz_in_p['real_y'], s=15, c='lightgrey', alpha=0.9\n",
    ")\n",
    "\n",
    "ax.scatter(\n",
    "    cz_in_p['relative_real_x'], cz_in_p['relative_real_y'],\n",
    "           s=15, c='crimson'\n",
    ")\n",
    "\n",
    "# 선 코드\n",
    "for i in range(len(cz_in_p)):\n",
    "    x_values = [cz_in_p['real_x'].iloc[i], cz_in_p['relative_real_x'].iloc[i]]\n",
    "    y_values = [cz_in_p['real_y'].iloc[i], cz_in_p['relative_real_y'].iloc[i]]\n",
    "    line = lines.Line2D(x_values, y_values,\n",
    "                        color='dimgrey', alpha=0.9 ,linewidth=1, linestyle='--')\n",
    "    ax.add_line(line)\n",
    "\n",
    "plt.savefig('czech_in_parea.png')"
   ],
   "metadata": {
    "collapsed": false
   }
  },
  {
   "cell_type": "code",
   "execution_count": 48,
   "outputs": [
    {
     "data": {
      "text/plain": "      Unnamed: 0 eventType       outcome  cross keyPass assist subEventType  \\\n1115        1115      Pass    Successful  False   False  False          NaN   \n2156        2156      Pass    Successful  False   False  False          NaN   \n688          688      Pass  Unsuccessful  False   False  False          NaN   \n694          694      Pass    Successful  False    True  False          NaN   \n606          606      Pass  Unsuccessful   True   False  False          NaN   \n2169        2169      Pass    Successful  False   False  False          NaN   \n1130        1130      Pass  Unsuccessful   True   False  False          NaN   \n706          706      Pass  Unsuccessful   True   False  False          NaN   \n1138        1138      Pass    Successful   True    True  False          NaN   \n2050        2050      Pass    Successful  False   False  False          NaN   \n1141        1141      Pass  Unsuccessful   True   False  False          NaN   \n1377        1377      Pass    Successful  False   False  False          NaN   \n1143        1143      Pass    Successful  False   False  False          NaN   \n1270        1270      Pass  Unsuccessful  False   False  False          NaN   \n736          736      Pass    Successful  False   False  False          NaN   \n2178        2178      Pass  Unsuccessful   True   False  False          NaN   \n2180        2180      Pass    Successful   True   False  False          NaN   \n1926        1926      Pass  Unsuccessful  False   False  False          NaN   \n2183        2183      Pass  Unsuccessful   True   False  False          NaN   \n1396        1396      Pass  Unsuccessful   True   False  False          NaN   \n549          549      Pass    Successful  False    True  False          NaN   \n2187        2187      Pass  Unsuccessful  False   False  False          NaN   \n415          415      Pass  Unsuccessful  False   False  False          NaN   \n655          655      Pass  Unsuccessful   True   False  False          NaN   \n2198        2198      Pass    Successful   True    True  False          NaN   \n1426        1426      Pass  Unsuccessful  False   False  False          NaN   \n2203        2203      Pass    Successful  False   False  False          NaN   \n2096        2096      Pass  Unsuccessful   True   False  False          NaN   \n2102        2102      Pass  Unsuccessful  False   False  False          NaN   \n2106        2106      Pass    Successful   True    True  False          NaN   \n793          793      Pass  Unsuccessful  False   False  False          NaN   \n2127        2127      Pass  Unsuccessful  False   False  False          NaN   \n574          574      Pass    Successful  False    True   True          NaN   \n811          811      Pass    Successful  False    True   True          NaN   \n488          488      Pass  Unsuccessful  False   False  False          NaN   \n820          820      Pass  Unsuccessful  False   False  False          NaN   \n821          821      Pass    Successful  False   False  False          NaN   \n2612        2612      Pass  Unsuccessful  False   False  False          NaN   \n\n     bodyPart  xG eventTypes  ...  ballPosition_x ballPosition_y  playerName  \\\n1115      NaN NaN        NaN  ...             NaN            NaN      Nicolo   \n2156      NaN NaN        NaN  ...             NaN            NaN    Domenico   \n688       NaN NaN        NaN  ...             NaN            NaN     Lorenzo   \n694       NaN NaN        NaN  ...             NaN            NaN     Lorenzo   \n606       NaN NaN        NaN  ...             NaN            NaN    Leonardo   \n2169      NaN NaN        NaN  ...             NaN            NaN    Domenico   \n1130      NaN NaN        NaN  ...             NaN            NaN      Nicolo   \n706       NaN NaN        NaN  ...             NaN            NaN     Lorenzo   \n1138      NaN NaN        NaN  ...             NaN            NaN      Nicolo   \n2050      NaN NaN        NaN  ...             NaN            NaN  Alessandro   \n1141      NaN NaN        NaN  ...             NaN            NaN      Nicolo   \n1377      NaN NaN        NaN  ...             NaN            NaN      Manuel   \n1143      NaN NaN        NaN  ...             NaN            NaN      Nicolo   \n1270      NaN NaN        NaN  ...             NaN            NaN    Jorginho   \n736       NaN NaN        NaN  ...             NaN            NaN     Lorenzo   \n2178      NaN NaN        NaN  ...             NaN            NaN    Domenico   \n2180      NaN NaN        NaN  ...             NaN            NaN    Domenico   \n1926      NaN NaN        NaN  ...             NaN            NaN     Giorgio   \n2183      NaN NaN        NaN  ...             NaN            NaN    Domenico   \n1396      NaN NaN        NaN  ...             NaN            NaN      Manuel   \n549       NaN NaN        NaN  ...             NaN            NaN        Ciro   \n2187      NaN NaN        NaN  ...             NaN            NaN    Domenico   \n415       NaN NaN        NaN  ...             NaN            NaN    Leonardo   \n655       NaN NaN        NaN  ...             NaN            NaN    Leonardo   \n2198      NaN NaN        NaN  ...             NaN            NaN    Domenico   \n1426      NaN NaN        NaN  ...             NaN            NaN      Manuel   \n2203      NaN NaN        NaN  ...             NaN            NaN    Domenico   \n2096      NaN NaN        NaN  ...             NaN            NaN  Alessandro   \n2102      NaN NaN        NaN  ...             NaN            NaN  Alessandro   \n2106      NaN NaN        NaN  ...             NaN            NaN  Alessandro   \n793       NaN NaN        NaN  ...             NaN            NaN     Lorenzo   \n2127      NaN NaN        NaN  ...             NaN            NaN  Alessandro   \n574       NaN NaN        NaN  ...             NaN            NaN        Ciro   \n811       NaN NaN        NaN  ...             NaN            NaN     Lorenzo   \n488       NaN NaN        NaN  ...             NaN            NaN    Leonardo   \n820       NaN NaN        NaN  ...             NaN            NaN     Lorenzo   \n821       NaN NaN        NaN  ...             NaN            NaN     Lorenzo   \n2612      NaN NaN        NaN  ...             NaN            NaN     Giacomo   \n\n      playerLastName  time_sec   time_min  relative_real_x  relative_real_y  \\\n1115         Barella   441.756   7.362600        40.341476        89.588415   \n2156         Berardi   466.295   7.771583        36.399108        91.824180   \n688          Insigne   469.519   7.825317        29.262712        92.714160   \n694          Insigne   530.921   8.848683        22.104896        96.899670   \n606       Spinazzola   899.453  14.990883        35.726724        95.728290   \n2169         Berardi  1010.926  16.848767        48.680520       102.760140   \n1130         Barella  1012.768  16.879467        44.489612       102.792375   \n706          Insigne  1334.209  22.236817        32.146660        95.881590   \n1138         Barella  1636.521  27.275350        26.967372        99.195600   \n2050        Florenzi  1699.651  28.327517        53.958204        95.799375   \n1141         Barella  1701.379  28.356317        33.981368        99.042300   \n1377       Locatelli  1739.980  28.999667        14.124620        94.807020   \n1143         Barella  1741.713  29.028550        15.495908        90.421380   \n1270             NaN  1898.404  31.640067        44.714488        90.002115   \n736          Insigne  2049.324  34.155400        22.937964       102.942000   \n2178         Berardi  2051.332  34.188867        25.809332       101.779020   \n2180         Berardi  2087.162  34.786033        33.028008        91.626990   \n1926       Chiellini  2088.974  34.816233        39.787548       102.456060   \n2183         Berardi  2235.053  37.250883        34.645524       100.409295   \n1396       Locatelli  2268.134  37.802233        34.048348        92.841840   \n549         Immobile  2323.507  38.725117        22.476244        97.083735   \n2187         Berardi  2682.085  44.701417        41.777976        92.975400   \n415          Bonucci  2817.506  46.958433        40.475300        90.174210   \n655       Spinazzola  2893.701  48.228350        24.866580       103.115880   \n2198         Berardi  3019.209  50.320150        26.252216       101.728305   \n1426       Locatelli  3076.553  51.275883        26.773164        90.188070   \n2203         Berardi  3174.636  52.910600        46.615360       101.107230   \n2096        Florenzi  3175.979  52.932983        44.988868       101.208660   \n2102        Florenzi  3326.163  55.436050        51.014824        98.095305   \n2106        Florenzi  3476.820  57.947000        27.102012        96.269985   \n793          Insigne  3612.108  60.201800        40.217240        91.139790   \n2127        Florenzi  3878.259  64.637650        31.616464        89.697930   \n574         Immobile  3912.038  65.200633        26.028156        91.607565   \n811          Insigne  4366.718  72.778633        42.899704        96.028485   \n488          Bonucci  4499.469  74.991150        15.350524       105.000000   \n820          Insigne  4675.379  77.922983        23.182356       102.865875   \n821          Insigne  4708.361  78.472683        14.202004        89.034435   \n2612       Raspadori  5499.266  91.654433        53.202248        95.304720   \n\n         real_x      real_y  \n1115  40.947016   66.923955  \n2156  42.820960   83.363280  \n688   33.008492   90.763050  \n694   31.725400   74.561760  \n606   11.855868   99.579795  \n2169  58.094984   94.346700  \n1130  48.680520  102.760140  \n706   20.826224   75.442500  \n1138  52.933104   83.969865  \n2050  45.694776   85.541190  \n1141  53.958204   95.799375  \n1377   3.536415   91.348845  \n1143  14.124620   94.807020  \n1270  47.463796   64.454880  \n736   13.392736   90.806520  \n2178  22.937964  102.942000  \n2180   0.000000  105.000000  \n1926  33.028008   91.626990  \n2183  50.882496   92.866620  \n1396   9.532852   73.455690  \n549   23.475640   87.713955  \n2187  53.708712   84.671895  \n415   39.071372   27.182715  \n655   21.920276  104.295765  \n2198  68.000000  105.000000  \n1426  20.922784   79.388820  \n2203  51.046852   87.901800  \n2096  46.615360  101.107230  \n2102  48.407160   54.037935  \n2106  68.000000  105.000000  \n793   31.025204   59.159100  \n2127  60.255140   31.127460  \n574   31.527724   71.779890  \n811   24.253288   84.585165  \n488   29.135960   52.589145  \n820   20.083052   91.111545  \n821    0.611809  105.000000  \n2612  44.793028   90.486900  \n\n[38 rows x 31 columns]",
      "text/html": "<div>\n<style scoped>\n    .dataframe tbody tr th:only-of-type {\n        vertical-align: middle;\n    }\n\n    .dataframe tbody tr th {\n        vertical-align: top;\n    }\n\n    .dataframe thead th {\n        text-align: right;\n    }\n</style>\n<table border=\"1\" class=\"dataframe\">\n  <thead>\n    <tr style=\"text-align: right;\">\n      <th></th>\n      <th>Unnamed: 0</th>\n      <th>eventType</th>\n      <th>outcome</th>\n      <th>cross</th>\n      <th>keyPass</th>\n      <th>assist</th>\n      <th>subEventType</th>\n      <th>bodyPart</th>\n      <th>xG</th>\n      <th>eventTypes</th>\n      <th>...</th>\n      <th>ballPosition_x</th>\n      <th>ballPosition_y</th>\n      <th>playerName</th>\n      <th>playerLastName</th>\n      <th>time_sec</th>\n      <th>time_min</th>\n      <th>relative_real_x</th>\n      <th>relative_real_y</th>\n      <th>real_x</th>\n      <th>real_y</th>\n    </tr>\n  </thead>\n  <tbody>\n    <tr>\n      <th>1115</th>\n      <td>1115</td>\n      <td>Pass</td>\n      <td>Successful</td>\n      <td>False</td>\n      <td>False</td>\n      <td>False</td>\n      <td>NaN</td>\n      <td>NaN</td>\n      <td>NaN</td>\n      <td>NaN</td>\n      <td>...</td>\n      <td>NaN</td>\n      <td>NaN</td>\n      <td>Nicolo</td>\n      <td>Barella</td>\n      <td>441.756</td>\n      <td>7.362600</td>\n      <td>40.341476</td>\n      <td>89.588415</td>\n      <td>40.947016</td>\n      <td>66.923955</td>\n    </tr>\n    <tr>\n      <th>2156</th>\n      <td>2156</td>\n      <td>Pass</td>\n      <td>Successful</td>\n      <td>False</td>\n      <td>False</td>\n      <td>False</td>\n      <td>NaN</td>\n      <td>NaN</td>\n      <td>NaN</td>\n      <td>NaN</td>\n      <td>...</td>\n      <td>NaN</td>\n      <td>NaN</td>\n      <td>Domenico</td>\n      <td>Berardi</td>\n      <td>466.295</td>\n      <td>7.771583</td>\n      <td>36.399108</td>\n      <td>91.824180</td>\n      <td>42.820960</td>\n      <td>83.363280</td>\n    </tr>\n    <tr>\n      <th>688</th>\n      <td>688</td>\n      <td>Pass</td>\n      <td>Unsuccessful</td>\n      <td>False</td>\n      <td>False</td>\n      <td>False</td>\n      <td>NaN</td>\n      <td>NaN</td>\n      <td>NaN</td>\n      <td>NaN</td>\n      <td>...</td>\n      <td>NaN</td>\n      <td>NaN</td>\n      <td>Lorenzo</td>\n      <td>Insigne</td>\n      <td>469.519</td>\n      <td>7.825317</td>\n      <td>29.262712</td>\n      <td>92.714160</td>\n      <td>33.008492</td>\n      <td>90.763050</td>\n    </tr>\n    <tr>\n      <th>694</th>\n      <td>694</td>\n      <td>Pass</td>\n      <td>Successful</td>\n      <td>False</td>\n      <td>True</td>\n      <td>False</td>\n      <td>NaN</td>\n      <td>NaN</td>\n      <td>NaN</td>\n      <td>NaN</td>\n      <td>...</td>\n      <td>NaN</td>\n      <td>NaN</td>\n      <td>Lorenzo</td>\n      <td>Insigne</td>\n      <td>530.921</td>\n      <td>8.848683</td>\n      <td>22.104896</td>\n      <td>96.899670</td>\n      <td>31.725400</td>\n      <td>74.561760</td>\n    </tr>\n    <tr>\n      <th>606</th>\n      <td>606</td>\n      <td>Pass</td>\n      <td>Unsuccessful</td>\n      <td>True</td>\n      <td>False</td>\n      <td>False</td>\n      <td>NaN</td>\n      <td>NaN</td>\n      <td>NaN</td>\n      <td>NaN</td>\n      <td>...</td>\n      <td>NaN</td>\n      <td>NaN</td>\n      <td>Leonardo</td>\n      <td>Spinazzola</td>\n      <td>899.453</td>\n      <td>14.990883</td>\n      <td>35.726724</td>\n      <td>95.728290</td>\n      <td>11.855868</td>\n      <td>99.579795</td>\n    </tr>\n    <tr>\n      <th>2169</th>\n      <td>2169</td>\n      <td>Pass</td>\n      <td>Successful</td>\n      <td>False</td>\n      <td>False</td>\n      <td>False</td>\n      <td>NaN</td>\n      <td>NaN</td>\n      <td>NaN</td>\n      <td>NaN</td>\n      <td>...</td>\n      <td>NaN</td>\n      <td>NaN</td>\n      <td>Domenico</td>\n      <td>Berardi</td>\n      <td>1010.926</td>\n      <td>16.848767</td>\n      <td>48.680520</td>\n      <td>102.760140</td>\n      <td>58.094984</td>\n      <td>94.346700</td>\n    </tr>\n    <tr>\n      <th>1130</th>\n      <td>1130</td>\n      <td>Pass</td>\n      <td>Unsuccessful</td>\n      <td>True</td>\n      <td>False</td>\n      <td>False</td>\n      <td>NaN</td>\n      <td>NaN</td>\n      <td>NaN</td>\n      <td>NaN</td>\n      <td>...</td>\n      <td>NaN</td>\n      <td>NaN</td>\n      <td>Nicolo</td>\n      <td>Barella</td>\n      <td>1012.768</td>\n      <td>16.879467</td>\n      <td>44.489612</td>\n      <td>102.792375</td>\n      <td>48.680520</td>\n      <td>102.760140</td>\n    </tr>\n    <tr>\n      <th>706</th>\n      <td>706</td>\n      <td>Pass</td>\n      <td>Unsuccessful</td>\n      <td>True</td>\n      <td>False</td>\n      <td>False</td>\n      <td>NaN</td>\n      <td>NaN</td>\n      <td>NaN</td>\n      <td>NaN</td>\n      <td>...</td>\n      <td>NaN</td>\n      <td>NaN</td>\n      <td>Lorenzo</td>\n      <td>Insigne</td>\n      <td>1334.209</td>\n      <td>22.236817</td>\n      <td>32.146660</td>\n      <td>95.881590</td>\n      <td>20.826224</td>\n      <td>75.442500</td>\n    </tr>\n    <tr>\n      <th>1138</th>\n      <td>1138</td>\n      <td>Pass</td>\n      <td>Successful</td>\n      <td>True</td>\n      <td>True</td>\n      <td>False</td>\n      <td>NaN</td>\n      <td>NaN</td>\n      <td>NaN</td>\n      <td>NaN</td>\n      <td>...</td>\n      <td>NaN</td>\n      <td>NaN</td>\n      <td>Nicolo</td>\n      <td>Barella</td>\n      <td>1636.521</td>\n      <td>27.275350</td>\n      <td>26.967372</td>\n      <td>99.195600</td>\n      <td>52.933104</td>\n      <td>83.969865</td>\n    </tr>\n    <tr>\n      <th>2050</th>\n      <td>2050</td>\n      <td>Pass</td>\n      <td>Successful</td>\n      <td>False</td>\n      <td>False</td>\n      <td>False</td>\n      <td>NaN</td>\n      <td>NaN</td>\n      <td>NaN</td>\n      <td>NaN</td>\n      <td>...</td>\n      <td>NaN</td>\n      <td>NaN</td>\n      <td>Alessandro</td>\n      <td>Florenzi</td>\n      <td>1699.651</td>\n      <td>28.327517</td>\n      <td>53.958204</td>\n      <td>95.799375</td>\n      <td>45.694776</td>\n      <td>85.541190</td>\n    </tr>\n    <tr>\n      <th>1141</th>\n      <td>1141</td>\n      <td>Pass</td>\n      <td>Unsuccessful</td>\n      <td>True</td>\n      <td>False</td>\n      <td>False</td>\n      <td>NaN</td>\n      <td>NaN</td>\n      <td>NaN</td>\n      <td>NaN</td>\n      <td>...</td>\n      <td>NaN</td>\n      <td>NaN</td>\n      <td>Nicolo</td>\n      <td>Barella</td>\n      <td>1701.379</td>\n      <td>28.356317</td>\n      <td>33.981368</td>\n      <td>99.042300</td>\n      <td>53.958204</td>\n      <td>95.799375</td>\n    </tr>\n    <tr>\n      <th>1377</th>\n      <td>1377</td>\n      <td>Pass</td>\n      <td>Successful</td>\n      <td>False</td>\n      <td>False</td>\n      <td>False</td>\n      <td>NaN</td>\n      <td>NaN</td>\n      <td>NaN</td>\n      <td>NaN</td>\n      <td>...</td>\n      <td>NaN</td>\n      <td>NaN</td>\n      <td>Manuel</td>\n      <td>Locatelli</td>\n      <td>1739.980</td>\n      <td>28.999667</td>\n      <td>14.124620</td>\n      <td>94.807020</td>\n      <td>3.536415</td>\n      <td>91.348845</td>\n    </tr>\n    <tr>\n      <th>1143</th>\n      <td>1143</td>\n      <td>Pass</td>\n      <td>Successful</td>\n      <td>False</td>\n      <td>False</td>\n      <td>False</td>\n      <td>NaN</td>\n      <td>NaN</td>\n      <td>NaN</td>\n      <td>NaN</td>\n      <td>...</td>\n      <td>NaN</td>\n      <td>NaN</td>\n      <td>Nicolo</td>\n      <td>Barella</td>\n      <td>1741.713</td>\n      <td>29.028550</td>\n      <td>15.495908</td>\n      <td>90.421380</td>\n      <td>14.124620</td>\n      <td>94.807020</td>\n    </tr>\n    <tr>\n      <th>1270</th>\n      <td>1270</td>\n      <td>Pass</td>\n      <td>Unsuccessful</td>\n      <td>False</td>\n      <td>False</td>\n      <td>False</td>\n      <td>NaN</td>\n      <td>NaN</td>\n      <td>NaN</td>\n      <td>NaN</td>\n      <td>...</td>\n      <td>NaN</td>\n      <td>NaN</td>\n      <td>Jorginho</td>\n      <td>NaN</td>\n      <td>1898.404</td>\n      <td>31.640067</td>\n      <td>44.714488</td>\n      <td>90.002115</td>\n      <td>47.463796</td>\n      <td>64.454880</td>\n    </tr>\n    <tr>\n      <th>736</th>\n      <td>736</td>\n      <td>Pass</td>\n      <td>Successful</td>\n      <td>False</td>\n      <td>False</td>\n      <td>False</td>\n      <td>NaN</td>\n      <td>NaN</td>\n      <td>NaN</td>\n      <td>NaN</td>\n      <td>...</td>\n      <td>NaN</td>\n      <td>NaN</td>\n      <td>Lorenzo</td>\n      <td>Insigne</td>\n      <td>2049.324</td>\n      <td>34.155400</td>\n      <td>22.937964</td>\n      <td>102.942000</td>\n      <td>13.392736</td>\n      <td>90.806520</td>\n    </tr>\n    <tr>\n      <th>2178</th>\n      <td>2178</td>\n      <td>Pass</td>\n      <td>Unsuccessful</td>\n      <td>True</td>\n      <td>False</td>\n      <td>False</td>\n      <td>NaN</td>\n      <td>NaN</td>\n      <td>NaN</td>\n      <td>NaN</td>\n      <td>...</td>\n      <td>NaN</td>\n      <td>NaN</td>\n      <td>Domenico</td>\n      <td>Berardi</td>\n      <td>2051.332</td>\n      <td>34.188867</td>\n      <td>25.809332</td>\n      <td>101.779020</td>\n      <td>22.937964</td>\n      <td>102.942000</td>\n    </tr>\n    <tr>\n      <th>2180</th>\n      <td>2180</td>\n      <td>Pass</td>\n      <td>Successful</td>\n      <td>True</td>\n      <td>False</td>\n      <td>False</td>\n      <td>NaN</td>\n      <td>NaN</td>\n      <td>NaN</td>\n      <td>NaN</td>\n      <td>...</td>\n      <td>NaN</td>\n      <td>NaN</td>\n      <td>Domenico</td>\n      <td>Berardi</td>\n      <td>2087.162</td>\n      <td>34.786033</td>\n      <td>33.028008</td>\n      <td>91.626990</td>\n      <td>0.000000</td>\n      <td>105.000000</td>\n    </tr>\n    <tr>\n      <th>1926</th>\n      <td>1926</td>\n      <td>Pass</td>\n      <td>Unsuccessful</td>\n      <td>False</td>\n      <td>False</td>\n      <td>False</td>\n      <td>NaN</td>\n      <td>NaN</td>\n      <td>NaN</td>\n      <td>NaN</td>\n      <td>...</td>\n      <td>NaN</td>\n      <td>NaN</td>\n      <td>Giorgio</td>\n      <td>Chiellini</td>\n      <td>2088.974</td>\n      <td>34.816233</td>\n      <td>39.787548</td>\n      <td>102.456060</td>\n      <td>33.028008</td>\n      <td>91.626990</td>\n    </tr>\n    <tr>\n      <th>2183</th>\n      <td>2183</td>\n      <td>Pass</td>\n      <td>Unsuccessful</td>\n      <td>True</td>\n      <td>False</td>\n      <td>False</td>\n      <td>NaN</td>\n      <td>NaN</td>\n      <td>NaN</td>\n      <td>NaN</td>\n      <td>...</td>\n      <td>NaN</td>\n      <td>NaN</td>\n      <td>Domenico</td>\n      <td>Berardi</td>\n      <td>2235.053</td>\n      <td>37.250883</td>\n      <td>34.645524</td>\n      <td>100.409295</td>\n      <td>50.882496</td>\n      <td>92.866620</td>\n    </tr>\n    <tr>\n      <th>1396</th>\n      <td>1396</td>\n      <td>Pass</td>\n      <td>Unsuccessful</td>\n      <td>True</td>\n      <td>False</td>\n      <td>False</td>\n      <td>NaN</td>\n      <td>NaN</td>\n      <td>NaN</td>\n      <td>NaN</td>\n      <td>...</td>\n      <td>NaN</td>\n      <td>NaN</td>\n      <td>Manuel</td>\n      <td>Locatelli</td>\n      <td>2268.134</td>\n      <td>37.802233</td>\n      <td>34.048348</td>\n      <td>92.841840</td>\n      <td>9.532852</td>\n      <td>73.455690</td>\n    </tr>\n    <tr>\n      <th>549</th>\n      <td>549</td>\n      <td>Pass</td>\n      <td>Successful</td>\n      <td>False</td>\n      <td>True</td>\n      <td>False</td>\n      <td>NaN</td>\n      <td>NaN</td>\n      <td>NaN</td>\n      <td>NaN</td>\n      <td>...</td>\n      <td>NaN</td>\n      <td>NaN</td>\n      <td>Ciro</td>\n      <td>Immobile</td>\n      <td>2323.507</td>\n      <td>38.725117</td>\n      <td>22.476244</td>\n      <td>97.083735</td>\n      <td>23.475640</td>\n      <td>87.713955</td>\n    </tr>\n    <tr>\n      <th>2187</th>\n      <td>2187</td>\n      <td>Pass</td>\n      <td>Unsuccessful</td>\n      <td>False</td>\n      <td>False</td>\n      <td>False</td>\n      <td>NaN</td>\n      <td>NaN</td>\n      <td>NaN</td>\n      <td>NaN</td>\n      <td>...</td>\n      <td>NaN</td>\n      <td>NaN</td>\n      <td>Domenico</td>\n      <td>Berardi</td>\n      <td>2682.085</td>\n      <td>44.701417</td>\n      <td>41.777976</td>\n      <td>92.975400</td>\n      <td>53.708712</td>\n      <td>84.671895</td>\n    </tr>\n    <tr>\n      <th>415</th>\n      <td>415</td>\n      <td>Pass</td>\n      <td>Unsuccessful</td>\n      <td>False</td>\n      <td>False</td>\n      <td>False</td>\n      <td>NaN</td>\n      <td>NaN</td>\n      <td>NaN</td>\n      <td>NaN</td>\n      <td>...</td>\n      <td>NaN</td>\n      <td>NaN</td>\n      <td>Leonardo</td>\n      <td>Bonucci</td>\n      <td>2817.506</td>\n      <td>46.958433</td>\n      <td>40.475300</td>\n      <td>90.174210</td>\n      <td>39.071372</td>\n      <td>27.182715</td>\n    </tr>\n    <tr>\n      <th>655</th>\n      <td>655</td>\n      <td>Pass</td>\n      <td>Unsuccessful</td>\n      <td>True</td>\n      <td>False</td>\n      <td>False</td>\n      <td>NaN</td>\n      <td>NaN</td>\n      <td>NaN</td>\n      <td>NaN</td>\n      <td>...</td>\n      <td>NaN</td>\n      <td>NaN</td>\n      <td>Leonardo</td>\n      <td>Spinazzola</td>\n      <td>2893.701</td>\n      <td>48.228350</td>\n      <td>24.866580</td>\n      <td>103.115880</td>\n      <td>21.920276</td>\n      <td>104.295765</td>\n    </tr>\n    <tr>\n      <th>2198</th>\n      <td>2198</td>\n      <td>Pass</td>\n      <td>Successful</td>\n      <td>True</td>\n      <td>True</td>\n      <td>False</td>\n      <td>NaN</td>\n      <td>NaN</td>\n      <td>NaN</td>\n      <td>NaN</td>\n      <td>...</td>\n      <td>NaN</td>\n      <td>NaN</td>\n      <td>Domenico</td>\n      <td>Berardi</td>\n      <td>3019.209</td>\n      <td>50.320150</td>\n      <td>26.252216</td>\n      <td>101.728305</td>\n      <td>68.000000</td>\n      <td>105.000000</td>\n    </tr>\n    <tr>\n      <th>1426</th>\n      <td>1426</td>\n      <td>Pass</td>\n      <td>Unsuccessful</td>\n      <td>False</td>\n      <td>False</td>\n      <td>False</td>\n      <td>NaN</td>\n      <td>NaN</td>\n      <td>NaN</td>\n      <td>NaN</td>\n      <td>...</td>\n      <td>NaN</td>\n      <td>NaN</td>\n      <td>Manuel</td>\n      <td>Locatelli</td>\n      <td>3076.553</td>\n      <td>51.275883</td>\n      <td>26.773164</td>\n      <td>90.188070</td>\n      <td>20.922784</td>\n      <td>79.388820</td>\n    </tr>\n    <tr>\n      <th>2203</th>\n      <td>2203</td>\n      <td>Pass</td>\n      <td>Successful</td>\n      <td>False</td>\n      <td>False</td>\n      <td>False</td>\n      <td>NaN</td>\n      <td>NaN</td>\n      <td>NaN</td>\n      <td>NaN</td>\n      <td>...</td>\n      <td>NaN</td>\n      <td>NaN</td>\n      <td>Domenico</td>\n      <td>Berardi</td>\n      <td>3174.636</td>\n      <td>52.910600</td>\n      <td>46.615360</td>\n      <td>101.107230</td>\n      <td>51.046852</td>\n      <td>87.901800</td>\n    </tr>\n    <tr>\n      <th>2096</th>\n      <td>2096</td>\n      <td>Pass</td>\n      <td>Unsuccessful</td>\n      <td>True</td>\n      <td>False</td>\n      <td>False</td>\n      <td>NaN</td>\n      <td>NaN</td>\n      <td>NaN</td>\n      <td>NaN</td>\n      <td>...</td>\n      <td>NaN</td>\n      <td>NaN</td>\n      <td>Alessandro</td>\n      <td>Florenzi</td>\n      <td>3175.979</td>\n      <td>52.932983</td>\n      <td>44.988868</td>\n      <td>101.208660</td>\n      <td>46.615360</td>\n      <td>101.107230</td>\n    </tr>\n    <tr>\n      <th>2102</th>\n      <td>2102</td>\n      <td>Pass</td>\n      <td>Unsuccessful</td>\n      <td>False</td>\n      <td>False</td>\n      <td>False</td>\n      <td>NaN</td>\n      <td>NaN</td>\n      <td>NaN</td>\n      <td>NaN</td>\n      <td>...</td>\n      <td>NaN</td>\n      <td>NaN</td>\n      <td>Alessandro</td>\n      <td>Florenzi</td>\n      <td>3326.163</td>\n      <td>55.436050</td>\n      <td>51.014824</td>\n      <td>98.095305</td>\n      <td>48.407160</td>\n      <td>54.037935</td>\n    </tr>\n    <tr>\n      <th>2106</th>\n      <td>2106</td>\n      <td>Pass</td>\n      <td>Successful</td>\n      <td>True</td>\n      <td>True</td>\n      <td>False</td>\n      <td>NaN</td>\n      <td>NaN</td>\n      <td>NaN</td>\n      <td>NaN</td>\n      <td>...</td>\n      <td>NaN</td>\n      <td>NaN</td>\n      <td>Alessandro</td>\n      <td>Florenzi</td>\n      <td>3476.820</td>\n      <td>57.947000</td>\n      <td>27.102012</td>\n      <td>96.269985</td>\n      <td>68.000000</td>\n      <td>105.000000</td>\n    </tr>\n    <tr>\n      <th>793</th>\n      <td>793</td>\n      <td>Pass</td>\n      <td>Unsuccessful</td>\n      <td>False</td>\n      <td>False</td>\n      <td>False</td>\n      <td>NaN</td>\n      <td>NaN</td>\n      <td>NaN</td>\n      <td>NaN</td>\n      <td>...</td>\n      <td>NaN</td>\n      <td>NaN</td>\n      <td>Lorenzo</td>\n      <td>Insigne</td>\n      <td>3612.108</td>\n      <td>60.201800</td>\n      <td>40.217240</td>\n      <td>91.139790</td>\n      <td>31.025204</td>\n      <td>59.159100</td>\n    </tr>\n    <tr>\n      <th>2127</th>\n      <td>2127</td>\n      <td>Pass</td>\n      <td>Unsuccessful</td>\n      <td>False</td>\n      <td>False</td>\n      <td>False</td>\n      <td>NaN</td>\n      <td>NaN</td>\n      <td>NaN</td>\n      <td>NaN</td>\n      <td>...</td>\n      <td>NaN</td>\n      <td>NaN</td>\n      <td>Alessandro</td>\n      <td>Florenzi</td>\n      <td>3878.259</td>\n      <td>64.637650</td>\n      <td>31.616464</td>\n      <td>89.697930</td>\n      <td>60.255140</td>\n      <td>31.127460</td>\n    </tr>\n    <tr>\n      <th>574</th>\n      <td>574</td>\n      <td>Pass</td>\n      <td>Successful</td>\n      <td>False</td>\n      <td>True</td>\n      <td>True</td>\n      <td>NaN</td>\n      <td>NaN</td>\n      <td>NaN</td>\n      <td>NaN</td>\n      <td>...</td>\n      <td>NaN</td>\n      <td>NaN</td>\n      <td>Ciro</td>\n      <td>Immobile</td>\n      <td>3912.038</td>\n      <td>65.200633</td>\n      <td>26.028156</td>\n      <td>91.607565</td>\n      <td>31.527724</td>\n      <td>71.779890</td>\n    </tr>\n    <tr>\n      <th>811</th>\n      <td>811</td>\n      <td>Pass</td>\n      <td>Successful</td>\n      <td>False</td>\n      <td>True</td>\n      <td>True</td>\n      <td>NaN</td>\n      <td>NaN</td>\n      <td>NaN</td>\n      <td>NaN</td>\n      <td>...</td>\n      <td>NaN</td>\n      <td>NaN</td>\n      <td>Lorenzo</td>\n      <td>Insigne</td>\n      <td>4366.718</td>\n      <td>72.778633</td>\n      <td>42.899704</td>\n      <td>96.028485</td>\n      <td>24.253288</td>\n      <td>84.585165</td>\n    </tr>\n    <tr>\n      <th>488</th>\n      <td>488</td>\n      <td>Pass</td>\n      <td>Unsuccessful</td>\n      <td>False</td>\n      <td>False</td>\n      <td>False</td>\n      <td>NaN</td>\n      <td>NaN</td>\n      <td>NaN</td>\n      <td>NaN</td>\n      <td>...</td>\n      <td>NaN</td>\n      <td>NaN</td>\n      <td>Leonardo</td>\n      <td>Bonucci</td>\n      <td>4499.469</td>\n      <td>74.991150</td>\n      <td>15.350524</td>\n      <td>105.000000</td>\n      <td>29.135960</td>\n      <td>52.589145</td>\n    </tr>\n    <tr>\n      <th>820</th>\n      <td>820</td>\n      <td>Pass</td>\n      <td>Unsuccessful</td>\n      <td>False</td>\n      <td>False</td>\n      <td>False</td>\n      <td>NaN</td>\n      <td>NaN</td>\n      <td>NaN</td>\n      <td>NaN</td>\n      <td>...</td>\n      <td>NaN</td>\n      <td>NaN</td>\n      <td>Lorenzo</td>\n      <td>Insigne</td>\n      <td>4675.379</td>\n      <td>77.922983</td>\n      <td>23.182356</td>\n      <td>102.865875</td>\n      <td>20.083052</td>\n      <td>91.111545</td>\n    </tr>\n    <tr>\n      <th>821</th>\n      <td>821</td>\n      <td>Pass</td>\n      <td>Successful</td>\n      <td>False</td>\n      <td>False</td>\n      <td>False</td>\n      <td>NaN</td>\n      <td>NaN</td>\n      <td>NaN</td>\n      <td>NaN</td>\n      <td>...</td>\n      <td>NaN</td>\n      <td>NaN</td>\n      <td>Lorenzo</td>\n      <td>Insigne</td>\n      <td>4708.361</td>\n      <td>78.472683</td>\n      <td>14.202004</td>\n      <td>89.034435</td>\n      <td>0.611809</td>\n      <td>105.000000</td>\n    </tr>\n    <tr>\n      <th>2612</th>\n      <td>2612</td>\n      <td>Pass</td>\n      <td>Unsuccessful</td>\n      <td>False</td>\n      <td>False</td>\n      <td>False</td>\n      <td>NaN</td>\n      <td>NaN</td>\n      <td>NaN</td>\n      <td>NaN</td>\n      <td>...</td>\n      <td>NaN</td>\n      <td>NaN</td>\n      <td>Giacomo</td>\n      <td>Raspadori</td>\n      <td>5499.266</td>\n      <td>91.654433</td>\n      <td>53.202248</td>\n      <td>95.304720</td>\n      <td>44.793028</td>\n      <td>90.486900</td>\n    </tr>\n  </tbody>\n</table>\n<p>38 rows × 31 columns</p>\n</div>"
     },
     "execution_count": 48,
     "metadata": {},
     "output_type": "execute_result"
    }
   ],
   "source": [
    "it_in_p"
   ],
   "metadata": {
    "collapsed": false
   }
  },
  {
   "cell_type": "code",
   "execution_count": 72,
   "outputs": [
    {
     "data": {
      "text/plain": "<Figure size 640x480 with 1 Axes>",
      "image/png": "[encoded data removed]"
     },
     "metadata": {},
     "output_type": "display_data"
    }
   ],
   "source": [
    "# 3d 이벤트 히트맵\n",
    "\n",
    "it_df = df[df['teamId'] == 10757]\n",
    "cz_df = df[df['teamId'] == 10758]\n",
    "\n",
    "fig = plt.figure()\n",
    "ax = fig.add_subplot(111, projection='3d')\n",
    "\n",
    "X = it_df['x'].to_numpy()\n",
    "Y = it_df['y'].to_numpy()\n",
    "\n",
    "# meshgrid 생성\n",
    "X, Y = np.meshgrid(X, Y)\n",
    "Z = np.full_like(X, it_df['x'].count())\n",
    "\n",
    "# 3D 표면 그리기\n",
    "ax.plot_surface(X, Y, Z, cmap='viridis')\n",
    "\n",
    "# 축 라벨 설정\n",
    "ax.set_xlabel('X Label')\n",
    "ax.set_ylabel('Y Label')\n",
    "ax.set_zlabel('Z Label')\n",
    "\n",
    "plt.savefig('3d_test.png')\n",
    "plt.show()"
   ],
   "metadata": {
    "collapsed": false
   }
  },
  {
   "cell_type": "code",
   "execution_count": 35,
   "outputs": [
    {
     "name": "stderr",
     "output_type": "stream",
     "text": [
      "C:\\Users\\문규림\\AppData\\Local\\Temp\\ipykernel_25024\\1064816015.py:5: SettingWithCopyWarning:\n",
      "\n",
      "\n",
      "A value is trying to be set on a copy of a slice from a DataFrame.\n",
      "Try using .loc[row_indexer,col_indexer] = value instead\n",
      "\n",
      "See the caveats in the documentation: https://pandas.pydata.org/pandas-docs/stable/user_guide/indexing.html#returning-a-view-versus-a-copy\n",
      "\n",
      "C:\\Users\\문규림\\AppData\\Local\\Temp\\ipykernel_25024\\1064816015.py:6: SettingWithCopyWarning:\n",
      "\n",
      "\n",
      "A value is trying to be set on a copy of a slice from a DataFrame.\n",
      "Try using .loc[row_indexer,col_indexer] = value instead\n",
      "\n",
      "See the caveats in the documentation: https://pandas.pydata.org/pandas-docs/stable/user_guide/indexing.html#returning-a-view-versus-a-copy\n",
      "\n",
      "C:\\Users\\문규림\\AppData\\Local\\Temp\\ipykernel_25024\\1064816015.py:8: SettingWithCopyWarning:\n",
      "\n",
      "\n",
      "A value is trying to be set on a copy of a slice from a DataFrame.\n",
      "Try using .loc[row_indexer,col_indexer] = value instead\n",
      "\n",
      "See the caveats in the documentation: https://pandas.pydata.org/pandas-docs/stable/user_guide/indexing.html#returning-a-view-versus-a-copy\n",
      "\n",
      "C:\\Users\\문규림\\AppData\\Local\\Temp\\ipykernel_25024\\1064816015.py:9: SettingWithCopyWarning:\n",
      "\n",
      "\n",
      "A value is trying to be set on a copy of a slice from a DataFrame.\n",
      "Try using .loc[row_indexer,col_indexer] = value instead\n",
      "\n",
      "See the caveats in the documentation: https://pandas.pydata.org/pandas-docs/stable/user_guide/indexing.html#returning-a-view-versus-a-copy\n",
      "\n"
     ]
    },
    {
     "data": {
      "text/plain": "      Unnamed: 0 eventType       outcome  cross keyPass assist subEventType  \\\n0              0      Pass    Successful  False   False  False          NaN   \n53            53      Pass    Successful  False   False  False          NaN   \n147          147      Pass    Successful  False   False  False          NaN   \n188          188      Pass  Unsuccessful  False   False  False          NaN   \n306          306      Pass    Successful  False   False  False          NaN   \n...          ...       ...           ...    ...     ...    ...          ...   \n2653        2653      Pass    Successful  False   False  False          NaN   \n2600        2600      Pass    Successful  False   False  False          NaN   \n2612        2612      Pass  Unsuccessful  False   False  False          NaN   \n1736        1736      Pass    Successful  False   False  False          NaN   \n1658        1658      Pass    Successful  False   False  False          NaN   \n\n     bodyPart  xG eventTypes  ...  ballPosition_x ballPosition_y  playerName  \\\n0         NaN NaN        NaN  ...             NaN            NaN     Antonin   \n53        NaN NaN        NaN  ...             NaN            NaN    Vladimir   \n147       NaN NaN        NaN  ...             NaN            NaN      Ondrej   \n188       NaN NaN        NaN  ...             NaN            NaN    Vladimir   \n306       NaN NaN        NaN  ...             NaN            NaN    Leonardo   \n...       ...  ..        ...  ...             ...            ...         ...   \n2653      NaN NaN        NaN  ...             NaN            NaN      Rafael   \n2600      NaN NaN        NaN  ...             NaN            NaN    Federico   \n2612      NaN NaN        NaN  ...             NaN            NaN     Giacomo   \n1736      NaN NaN        NaN  ...             NaN            NaN        Jiri   \n1658      NaN NaN        NaN  ...             NaN            NaN       Jakub   \n\n      playerLastName  time_sec   time_min  relative_real_x  relative_real_y  \\\n0              Barak     0.996   0.016600        33.487892        42.341565   \n53            Darida     2.716   0.045267        50.959744        31.602480   \n147         Celustka     4.892   0.081533        64.115568        43.587390   \n188           Coufal     6.185   0.103083        43.344492        68.038320   \n306          Bonucci     7.959   0.132650        21.932176        54.262425   \n...              ...       ...        ...              ...              ...   \n2653           Toloi  5489.130  91.485500        50.871004        44.907975   \n2600          Chiesa  5494.954  91.582567        41.804088        83.961570   \n2612       Raspadori  5499.266  91.654433        53.202248        95.304720   \n1736        Pavlenka  5515.158  91.919300        44.384484        19.237260   \n1658          Brabec  5517.817  91.963617        56.694592        29.913555   \n\n         real_x     real_y  \n0     33.930640  52.517850  \n53    35.557608  41.209665  \n147   53.376940  31.116540  \n188   64.115568  43.587390  \n306   24.241456  37.226910  \n...         ...        ...  \n2653  51.068544  24.810870  \n2600  47.224980  68.000310  \n2612  44.793028  90.486900  \n1736  29.049600  14.289870  \n1658  47.044440  22.071000  \n\n[1074 rows x 31 columns]",
      "text/html": "<div>\n<style scoped>\n    .dataframe tbody tr th:only-of-type {\n        vertical-align: middle;\n    }\n\n    .dataframe tbody tr th {\n        vertical-align: top;\n    }\n\n    .dataframe thead th {\n        text-align: right;\n    }\n</style>\n<table border=\"1\" class=\"dataframe\">\n  <thead>\n    <tr style=\"text-align: right;\">\n      <th></th>\n      <th>Unnamed: 0</th>\n      <th>eventType</th>\n      <th>outcome</th>\n      <th>cross</th>\n      <th>keyPass</th>\n      <th>assist</th>\n      <th>subEventType</th>\n      <th>bodyPart</th>\n      <th>xG</th>\n      <th>eventTypes</th>\n      <th>...</th>\n      <th>ballPosition_x</th>\n      <th>ballPosition_y</th>\n      <th>playerName</th>\n      <th>playerLastName</th>\n      <th>time_sec</th>\n      <th>time_min</th>\n      <th>relative_real_x</th>\n      <th>relative_real_y</th>\n      <th>real_x</th>\n      <th>real_y</th>\n    </tr>\n  </thead>\n  <tbody>\n    <tr>\n      <th>0</th>\n      <td>0</td>\n      <td>Pass</td>\n      <td>Successful</td>\n      <td>False</td>\n      <td>False</td>\n      <td>False</td>\n      <td>NaN</td>\n      <td>NaN</td>\n      <td>NaN</td>\n      <td>NaN</td>\n      <td>...</td>\n      <td>NaN</td>\n      <td>NaN</td>\n      <td>Antonin</td>\n      <td>Barak</td>\n      <td>0.996</td>\n      <td>0.016600</td>\n      <td>33.487892</td>\n      <td>42.341565</td>\n      <td>33.930640</td>\n      <td>52.517850</td>\n    </tr>\n    <tr>\n      <th>53</th>\n      <td>53</td>\n      <td>Pass</td>\n      <td>Successful</td>\n      <td>False</td>\n      <td>False</td>\n      <td>False</td>\n      <td>NaN</td>\n      <td>NaN</td>\n      <td>NaN</td>\n      <td>NaN</td>\n      <td>...</td>\n      <td>NaN</td>\n      <td>NaN</td>\n      <td>Vladimir</td>\n      <td>Darida</td>\n      <td>2.716</td>\n      <td>0.045267</td>\n      <td>50.959744</td>\n      <td>31.602480</td>\n      <td>35.557608</td>\n      <td>41.209665</td>\n    </tr>\n    <tr>\n      <th>147</th>\n      <td>147</td>\n      <td>Pass</td>\n      <td>Successful</td>\n      <td>False</td>\n      <td>False</td>\n      <td>False</td>\n      <td>NaN</td>\n      <td>NaN</td>\n      <td>NaN</td>\n      <td>NaN</td>\n      <td>...</td>\n      <td>NaN</td>\n      <td>NaN</td>\n      <td>Ondrej</td>\n      <td>Celustka</td>\n      <td>4.892</td>\n      <td>0.081533</td>\n      <td>64.115568</td>\n      <td>43.587390</td>\n      <td>53.376940</td>\n      <td>31.116540</td>\n    </tr>\n    <tr>\n      <th>188</th>\n      <td>188</td>\n      <td>Pass</td>\n      <td>Unsuccessful</td>\n      <td>False</td>\n      <td>False</td>\n      <td>False</td>\n      <td>NaN</td>\n      <td>NaN</td>\n      <td>NaN</td>\n      <td>NaN</td>\n      <td>...</td>\n      <td>NaN</td>\n      <td>NaN</td>\n      <td>Vladimir</td>\n      <td>Coufal</td>\n      <td>6.185</td>\n      <td>0.103083</td>\n      <td>43.344492</td>\n      <td>68.038320</td>\n      <td>64.115568</td>\n      <td>43.587390</td>\n    </tr>\n    <tr>\n      <th>306</th>\n      <td>306</td>\n      <td>Pass</td>\n      <td>Successful</td>\n      <td>False</td>\n      <td>False</td>\n      <td>False</td>\n      <td>NaN</td>\n      <td>NaN</td>\n      <td>NaN</td>\n      <td>NaN</td>\n      <td>...</td>\n      <td>NaN</td>\n      <td>NaN</td>\n      <td>Leonardo</td>\n      <td>Bonucci</td>\n      <td>7.959</td>\n      <td>0.132650</td>\n      <td>21.932176</td>\n      <td>54.262425</td>\n      <td>24.241456</td>\n      <td>37.226910</td>\n    </tr>\n    <tr>\n      <th>...</th>\n      <td>...</td>\n      <td>...</td>\n      <td>...</td>\n      <td>...</td>\n      <td>...</td>\n      <td>...</td>\n      <td>...</td>\n      <td>...</td>\n      <td>...</td>\n      <td>...</td>\n      <td>...</td>\n      <td>...</td>\n      <td>...</td>\n      <td>...</td>\n      <td>...</td>\n      <td>...</td>\n      <td>...</td>\n      <td>...</td>\n      <td>...</td>\n      <td>...</td>\n      <td>...</td>\n    </tr>\n    <tr>\n      <th>2653</th>\n      <td>2653</td>\n      <td>Pass</td>\n      <td>Successful</td>\n      <td>False</td>\n      <td>False</td>\n      <td>False</td>\n      <td>NaN</td>\n      <td>NaN</td>\n      <td>NaN</td>\n      <td>NaN</td>\n      <td>...</td>\n      <td>NaN</td>\n      <td>NaN</td>\n      <td>Rafael</td>\n      <td>Toloi</td>\n      <td>5489.130</td>\n      <td>91.485500</td>\n      <td>50.871004</td>\n      <td>44.907975</td>\n      <td>51.068544</td>\n      <td>24.810870</td>\n    </tr>\n    <tr>\n      <th>2600</th>\n      <td>2600</td>\n      <td>Pass</td>\n      <td>Successful</td>\n      <td>False</td>\n      <td>False</td>\n      <td>False</td>\n      <td>NaN</td>\n      <td>NaN</td>\n      <td>NaN</td>\n      <td>NaN</td>\n      <td>...</td>\n      <td>NaN</td>\n      <td>NaN</td>\n      <td>Federico</td>\n      <td>Chiesa</td>\n      <td>5494.954</td>\n      <td>91.582567</td>\n      <td>41.804088</td>\n      <td>83.961570</td>\n      <td>47.224980</td>\n      <td>68.000310</td>\n    </tr>\n    <tr>\n      <th>2612</th>\n      <td>2612</td>\n      <td>Pass</td>\n      <td>Unsuccessful</td>\n      <td>False</td>\n      <td>False</td>\n      <td>False</td>\n      <td>NaN</td>\n      <td>NaN</td>\n      <td>NaN</td>\n      <td>NaN</td>\n      <td>...</td>\n      <td>NaN</td>\n      <td>NaN</td>\n      <td>Giacomo</td>\n      <td>Raspadori</td>\n      <td>5499.266</td>\n      <td>91.654433</td>\n      <td>53.202248</td>\n      <td>95.304720</td>\n      <td>44.793028</td>\n      <td>90.486900</td>\n    </tr>\n    <tr>\n      <th>1736</th>\n      <td>1736</td>\n      <td>Pass</td>\n      <td>Successful</td>\n      <td>False</td>\n      <td>False</td>\n      <td>False</td>\n      <td>NaN</td>\n      <td>NaN</td>\n      <td>NaN</td>\n      <td>NaN</td>\n      <td>...</td>\n      <td>NaN</td>\n      <td>NaN</td>\n      <td>Jiri</td>\n      <td>Pavlenka</td>\n      <td>5515.158</td>\n      <td>91.919300</td>\n      <td>44.384484</td>\n      <td>19.237260</td>\n      <td>29.049600</td>\n      <td>14.289870</td>\n    </tr>\n    <tr>\n      <th>1658</th>\n      <td>1658</td>\n      <td>Pass</td>\n      <td>Successful</td>\n      <td>False</td>\n      <td>False</td>\n      <td>False</td>\n      <td>NaN</td>\n      <td>NaN</td>\n      <td>NaN</td>\n      <td>NaN</td>\n      <td>...</td>\n      <td>NaN</td>\n      <td>NaN</td>\n      <td>Jakub</td>\n      <td>Brabec</td>\n      <td>5517.817</td>\n      <td>91.963617</td>\n      <td>56.694592</td>\n      <td>29.913555</td>\n      <td>47.044440</td>\n      <td>22.071000</td>\n    </tr>\n  </tbody>\n</table>\n<p>1074 rows × 31 columns</p>\n</div>"
     },
     "execution_count": 35,
     "metadata": {},
     "output_type": "execute_result"
    }
   ],
   "source": [
    "# 패스 거리 및 각도\n",
    "\n",
    "pass_df = df[df['eventType']=='Pass']\n",
    "\n",
    "pass_df['relative_real_x'] = pass_df['relativeEvent_x'] * 68\n",
    "pass_df['relative_real_y'] = pass_df['relativeEvent_y'] * 105\n",
    "\n",
    "pass_df['real_x'] = pass_df['x'] * 68\n",
    "pass_df['real_y'] = pass_df['y'] * 105\n",
    "\n",
    "pass_df"
   ],
   "metadata": {
    "collapsed": false
   }
  },
  {
   "cell_type": "code",
   "execution_count": 36,
   "outputs": [
    {
     "name": "stderr",
     "output_type": "stream",
     "text": [
      "C:\\Users\\문규림\\AppData\\Local\\Temp\\ipykernel_25024\\1315394974.py:35: SettingWithCopyWarning:\n",
      "\n",
      "\n",
      "A value is trying to be set on a copy of a slice from a DataFrame.\n",
      "Try using .loc[row_indexer,col_indexer] = value instead\n",
      "\n",
      "See the caveats in the documentation: https://pandas.pydata.org/pandas-docs/stable/user_guide/indexing.html#returning-a-view-versus-a-copy\n",
      "\n",
      "C:\\Users\\문규림\\AppData\\Local\\Temp\\ipykernel_25024\\1315394974.py:41: SettingWithCopyWarning:\n",
      "\n",
      "\n",
      "A value is trying to be set on a copy of a slice from a DataFrame.\n",
      "Try using .loc[row_indexer,col_indexer] = value instead\n",
      "\n",
      "See the caveats in the documentation: https://pandas.pydata.org/pandas-docs/stable/user_guide/indexing.html#returning-a-view-versus-a-copy\n",
      "\n"
     ]
    }
   ],
   "source": [
    "# 패스 거리 및 각도\n",
    "\n",
    "def calculate_pass_distance(event_x, event_y, end_x, end_y):\n",
    "    distance = math.sqrt((end_x - event_x)**2 + (end_y - event_y)**2)\n",
    "    return distance\n",
    "\n",
    "\n",
    "def calculate_pass_angle(event_x, event_y, end_x, end_y):\n",
    "    delta_x = end_x - event_x\n",
    "    delta_y = end_y - event_y\n",
    "    angle_rad = math.atan2(delta_y, delta_x)\n",
    "    angle_deg = math.degrees(angle_rad)\n",
    "    # 보정\n",
    "    angle_deg = (angle_deg + 360) % 360\n",
    "    return angle_deg\n",
    "\n",
    "\n",
    "def pass_angle(angle):\n",
    "    if (300 <= angle <= 360) or (angle <= 60):\n",
    "        return 'Forward'\n",
    "    elif 120 <= angle <= 240:\n",
    "        return 'Backward'\n",
    "    else:\n",
    "        return 'Side'\n",
    "\n",
    "def pass_distance(dis):\n",
    "    if dis < 15:\n",
    "        return 'short'\n",
    "    elif 15 <= dis < 30:\n",
    "        return 'middle'\n",
    "    else:\n",
    "        return 'long'\n",
    "\n",
    "\n",
    "pass_df['passDistance'] = pass_df.apply(\n",
    "    lambda x : calculate_pass_distance(\n",
    "        x['real_x'], x['real_y'], x['relative_real_x'], x['relative_real_y']\n",
    "    ), axis=1\n",
    ")\n",
    "\n",
    "pass_df['passAngle'] = pass_df.apply(\n",
    "    lambda x : calculate_pass_angle(\n",
    "        x['real_x'], x['real_y'], x['relative_real_x'], x['relative_real_y']\n",
    "    ), axis=1\n",
    ")\n"
   ],
   "metadata": {
    "collapsed": false
   }
  },
  {
   "cell_type": "code",
   "execution_count": 37,
   "outputs": [
    {
     "name": "stderr",
     "output_type": "stream",
     "text": [
      "C:\\Users\\문규림\\AppData\\Local\\Temp\\ipykernel_25024\\1288415131.py:1: SettingWithCopyWarning:\n",
      "\n",
      "\n",
      "A value is trying to be set on a copy of a slice from a DataFrame.\n",
      "Try using .loc[row_indexer,col_indexer] = value instead\n",
      "\n",
      "See the caveats in the documentation: https://pandas.pydata.org/pandas-docs/stable/user_guide/indexing.html#returning-a-view-versus-a-copy\n",
      "\n",
      "C:\\Users\\문규림\\AppData\\Local\\Temp\\ipykernel_25024\\1288415131.py:5: SettingWithCopyWarning:\n",
      "\n",
      "\n",
      "A value is trying to be set on a copy of a slice from a DataFrame.\n",
      "Try using .loc[row_indexer,col_indexer] = value instead\n",
      "\n",
      "See the caveats in the documentation: https://pandas.pydata.org/pandas-docs/stable/user_guide/indexing.html#returning-a-view-versus-a-copy\n",
      "\n",
      "C:\\Users\\문규림\\AppData\\Local\\Temp\\ipykernel_25024\\1288415131.py:9: SettingWithCopyWarning:\n",
      "\n",
      "\n",
      "A value is trying to be set on a copy of a slice from a DataFrame.\n",
      "Try using .loc[row_indexer,col_indexer] = value instead\n",
      "\n",
      "See the caveats in the documentation: https://pandas.pydata.org/pandas-docs/stable/user_guide/indexing.html#returning-a-view-versus-a-copy\n",
      "\n",
      "C:\\Users\\문규림\\AppData\\Local\\Temp\\ipykernel_25024\\1288415131.py:10: SettingWithCopyWarning:\n",
      "\n",
      "\n",
      "A value is trying to be set on a copy of a slice from a DataFrame.\n",
      "Try using .loc[row_indexer,col_indexer] = value instead\n",
      "\n",
      "See the caveats in the documentation: https://pandas.pydata.org/pandas-docs/stable/user_guide/indexing.html#returning-a-view-versus-a-copy\n",
      "\n"
     ]
    },
    {
     "data": {
      "text/plain": "      Unnamed: 0 eventType       outcome  cross keyPass assist subEventType  \\\n0              0      Pass    Successful  False   False  False          NaN   \n53            53      Pass    Successful  False   False  False          NaN   \n147          147      Pass    Successful  False   False  False          NaN   \n188          188      Pass  Unsuccessful  False   False  False          NaN   \n306          306      Pass    Successful  False   False  False          NaN   \n...          ...       ...           ...    ...     ...    ...          ...   \n2653        2653      Pass    Successful  False   False  False          NaN   \n2600        2600      Pass    Successful  False   False  False          NaN   \n2612        2612      Pass  Unsuccessful  False   False  False          NaN   \n1736        1736      Pass    Successful  False   False  False          NaN   \n1658        1658      Pass    Successful  False   False  False          NaN   \n\n     bodyPart  xG eventTypes  ...   time_min relative_real_x  relative_real_y  \\\n0         NaN NaN        NaN  ...   0.016600       33.487892        42.341565   \n53        NaN NaN        NaN  ...   0.045267       50.959744        31.602480   \n147       NaN NaN        NaN  ...   0.081533       64.115568        43.587390   \n188       NaN NaN        NaN  ...   0.103083       43.344492        68.038320   \n306       NaN NaN        NaN  ...   0.132650       21.932176        54.262425   \n...       ...  ..        ...  ...        ...             ...              ...   \n2653      NaN NaN        NaN  ...  91.485500       50.871004        44.907975   \n2600      NaN NaN        NaN  ...  91.582567       41.804088        83.961570   \n2612      NaN NaN        NaN  ...  91.654433       53.202248        95.304720   \n1736      NaN NaN        NaN  ...  91.919300       44.384484        19.237260   \n1658      NaN NaN        NaN  ...  91.963617       56.694592        29.913555   \n\n         real_x     real_y  passDistance   passAngle     Angle  Distance  \\\n0     33.930640  52.517850     10.185912  267.508757      Side     short   \n53    35.557608  41.209665     18.152790  328.045873   Forward    middle   \n147   53.376940  31.116540     16.457224   49.268314   Forward    middle   \n188   64.115568  43.587390     32.082481  130.347916  Backward      long   \n306   24.241456  37.226910     17.191322   97.719777      Side    middle   \n...         ...        ...           ...         ...       ...       ...   \n2653  51.068544  24.810870     20.098076   90.563158      Side    middle   \n2600  47.224980  68.000310     16.856687  108.758929      Side    middle   \n2612  44.793028  90.486900      9.691562   29.809308   Forward     short   \n1736  29.049600  14.289870     16.113204   17.880907   Forward    middle   \n1658  47.044440  22.071000     12.435075   39.100319   Forward     short   \n\n      teamName  \n0        Czech  \n53       Czech  \n147      Czech  \n188      Czech  \n306      Italy  \n...        ...  \n2653     Italy  \n2600     Italy  \n2612     Italy  \n1736     Czech  \n1658     Czech  \n\n[1074 rows x 36 columns]",
      "text/html": "<div>\n<style scoped>\n    .dataframe tbody tr th:only-of-type {\n        vertical-align: middle;\n    }\n\n    .dataframe tbody tr th {\n        vertical-align: top;\n    }\n\n    .dataframe thead th {\n        text-align: right;\n    }\n</style>\n<table border=\"1\" class=\"dataframe\">\n  <thead>\n    <tr style=\"text-align: right;\">\n      <th></th>\n      <th>Unnamed: 0</th>\n      <th>eventType</th>\n      <th>outcome</th>\n      <th>cross</th>\n      <th>keyPass</th>\n      <th>assist</th>\n      <th>subEventType</th>\n      <th>bodyPart</th>\n      <th>xG</th>\n      <th>eventTypes</th>\n      <th>...</th>\n      <th>time_min</th>\n      <th>relative_real_x</th>\n      <th>relative_real_y</th>\n      <th>real_x</th>\n      <th>real_y</th>\n      <th>passDistance</th>\n      <th>passAngle</th>\n      <th>Angle</th>\n      <th>Distance</th>\n      <th>teamName</th>\n    </tr>\n  </thead>\n  <tbody>\n    <tr>\n      <th>0</th>\n      <td>0</td>\n      <td>Pass</td>\n      <td>Successful</td>\n      <td>False</td>\n      <td>False</td>\n      <td>False</td>\n      <td>NaN</td>\n      <td>NaN</td>\n      <td>NaN</td>\n      <td>NaN</td>\n      <td>...</td>\n      <td>0.016600</td>\n      <td>33.487892</td>\n      <td>42.341565</td>\n      <td>33.930640</td>\n      <td>52.517850</td>\n      <td>10.185912</td>\n      <td>267.508757</td>\n      <td>Side</td>\n      <td>short</td>\n      <td>Czech</td>\n    </tr>\n    <tr>\n      <th>53</th>\n      <td>53</td>\n      <td>Pass</td>\n      <td>Successful</td>\n      <td>False</td>\n      <td>False</td>\n      <td>False</td>\n      <td>NaN</td>\n      <td>NaN</td>\n      <td>NaN</td>\n      <td>NaN</td>\n      <td>...</td>\n      <td>0.045267</td>\n      <td>50.959744</td>\n      <td>31.602480</td>\n      <td>35.557608</td>\n      <td>41.209665</td>\n      <td>18.152790</td>\n      <td>328.045873</td>\n      <td>Forward</td>\n      <td>middle</td>\n      <td>Czech</td>\n    </tr>\n    <tr>\n      <th>147</th>\n      <td>147</td>\n      <td>Pass</td>\n      <td>Successful</td>\n      <td>False</td>\n      <td>False</td>\n      <td>False</td>\n      <td>NaN</td>\n      <td>NaN</td>\n      <td>NaN</td>\n      <td>NaN</td>\n      <td>...</td>\n      <td>0.081533</td>\n      <td>64.115568</td>\n      <td>43.587390</td>\n      <td>53.376940</td>\n      <td>31.116540</td>\n      <td>16.457224</td>\n      <td>49.268314</td>\n      <td>Forward</td>\n      <td>middle</td>\n      <td>Czech</td>\n    </tr>\n    <tr>\n      <th>188</th>\n      <td>188</td>\n      <td>Pass</td>\n      <td>Unsuccessful</td>\n      <td>False</td>\n      <td>False</td>\n      <td>False</td>\n      <td>NaN</td>\n      <td>NaN</td>\n      <td>NaN</td>\n      <td>NaN</td>\n      <td>...</td>\n      <td>0.103083</td>\n      <td>43.344492</td>\n      <td>68.038320</td>\n      <td>64.115568</td>\n      <td>43.587390</td>\n      <td>32.082481</td>\n      <td>130.347916</td>\n      <td>Backward</td>\n      <td>long</td>\n      <td>Czech</td>\n    </tr>\n    <tr>\n      <th>306</th>\n      <td>306</td>\n      <td>Pass</td>\n      <td>Successful</td>\n      <td>False</td>\n      <td>False</td>\n      <td>False</td>\n      <td>NaN</td>\n      <td>NaN</td>\n      <td>NaN</td>\n      <td>NaN</td>\n      <td>...</td>\n      <td>0.132650</td>\n      <td>21.932176</td>\n      <td>54.262425</td>\n      <td>24.241456</td>\n      <td>37.226910</td>\n      <td>17.191322</td>\n      <td>97.719777</td>\n      <td>Side</td>\n      <td>middle</td>\n      <td>Italy</td>\n    </tr>\n    <tr>\n      <th>...</th>\n      <td>...</td>\n      <td>...</td>\n      <td>...</td>\n      <td>...</td>\n      <td>...</td>\n      <td>...</td>\n      <td>...</td>\n      <td>...</td>\n      <td>...</td>\n      <td>...</td>\n      <td>...</td>\n      <td>...</td>\n      <td>...</td>\n      <td>...</td>\n      <td>...</td>\n      <td>...</td>\n      <td>...</td>\n      <td>...</td>\n      <td>...</td>\n      <td>...</td>\n      <td>...</td>\n    </tr>\n    <tr>\n      <th>2653</th>\n      <td>2653</td>\n      <td>Pass</td>\n      <td>Successful</td>\n      <td>False</td>\n      <td>False</td>\n      <td>False</td>\n      <td>NaN</td>\n      <td>NaN</td>\n      <td>NaN</td>\n      <td>NaN</td>\n      <td>...</td>\n      <td>91.485500</td>\n      <td>50.871004</td>\n      <td>44.907975</td>\n      <td>51.068544</td>\n      <td>24.810870</td>\n      <td>20.098076</td>\n      <td>90.563158</td>\n      <td>Side</td>\n      <td>middle</td>\n      <td>Italy</td>\n    </tr>\n    <tr>\n      <th>2600</th>\n      <td>2600</td>\n      <td>Pass</td>\n      <td>Successful</td>\n      <td>False</td>\n      <td>False</td>\n      <td>False</td>\n      <td>NaN</td>\n      <td>NaN</td>\n      <td>NaN</td>\n      <td>NaN</td>\n      <td>...</td>\n      <td>91.582567</td>\n      <td>41.804088</td>\n      <td>83.961570</td>\n      <td>47.224980</td>\n      <td>68.000310</td>\n      <td>16.856687</td>\n      <td>108.758929</td>\n      <td>Side</td>\n      <td>middle</td>\n      <td>Italy</td>\n    </tr>\n    <tr>\n      <th>2612</th>\n      <td>2612</td>\n      <td>Pass</td>\n      <td>Unsuccessful</td>\n      <td>False</td>\n      <td>False</td>\n      <td>False</td>\n      <td>NaN</td>\n      <td>NaN</td>\n      <td>NaN</td>\n      <td>NaN</td>\n      <td>...</td>\n      <td>91.654433</td>\n      <td>53.202248</td>\n      <td>95.304720</td>\n      <td>44.793028</td>\n      <td>90.486900</td>\n      <td>9.691562</td>\n      <td>29.809308</td>\n      <td>Forward</td>\n      <td>short</td>\n      <td>Italy</td>\n    </tr>\n    <tr>\n      <th>1736</th>\n      <td>1736</td>\n      <td>Pass</td>\n      <td>Successful</td>\n      <td>False</td>\n      <td>False</td>\n      <td>False</td>\n      <td>NaN</td>\n      <td>NaN</td>\n      <td>NaN</td>\n      <td>NaN</td>\n      <td>...</td>\n      <td>91.919300</td>\n      <td>44.384484</td>\n      <td>19.237260</td>\n      <td>29.049600</td>\n      <td>14.289870</td>\n      <td>16.113204</td>\n      <td>17.880907</td>\n      <td>Forward</td>\n      <td>middle</td>\n      <td>Czech</td>\n    </tr>\n    <tr>\n      <th>1658</th>\n      <td>1658</td>\n      <td>Pass</td>\n      <td>Successful</td>\n      <td>False</td>\n      <td>False</td>\n      <td>False</td>\n      <td>NaN</td>\n      <td>NaN</td>\n      <td>NaN</td>\n      <td>NaN</td>\n      <td>...</td>\n      <td>91.963617</td>\n      <td>56.694592</td>\n      <td>29.913555</td>\n      <td>47.044440</td>\n      <td>22.071000</td>\n      <td>12.435075</td>\n      <td>39.100319</td>\n      <td>Forward</td>\n      <td>short</td>\n      <td>Czech</td>\n    </tr>\n  </tbody>\n</table>\n<p>1074 rows × 36 columns</p>\n</div>"
     },
     "execution_count": 37,
     "metadata": {},
     "output_type": "execute_result"
    }
   ],
   "source": [
    "pass_df['Angle'] = pass_df['passAngle'].apply(\n",
    "    lambda x : pass_angle(x)\n",
    ")\n",
    "\n",
    "pass_df['Distance'] = pass_df['passDistance'].apply(\n",
    "    lambda x : pass_distance(x)\n",
    ")\n",
    "\n",
    "pass_df['teamId'] = pass_df['teamId'].astype('str')\n",
    "pass_df['teamName'] = pass_df['teamId'].apply(lambda x : 'Italy' if x == '10757' else 'Czech')\n",
    "\n",
    "pass_df.to_csv('pass_details.csv')\n",
    "pass_df"
   ],
   "metadata": {
    "collapsed": false
   }
  },
  {
   "cell_type": "code",
   "execution_count": 91,
   "outputs": [
    {
     "data": {
      "text/plain": "      Unnamed: 0.1  Unnamed: 0 eventType       outcome  cross  keyPass  \\\n0                0           0      Pass    Successful  False    False   \n1               53          53      Pass    Successful  False    False   \n2              147         147      Pass    Successful  False    False   \n3              188         188      Pass  Unsuccessful  False    False   \n4              306         306      Pass    Successful  False    False   \n...            ...         ...       ...           ...    ...      ...   \n1069          2653        2653      Pass    Successful  False    False   \n1070          2600        2600      Pass    Successful  False    False   \n1071          2612        2612      Pass  Unsuccessful  False    False   \n1072          1736        1736      Pass    Successful  False    False   \n1073          1658        1658      Pass    Successful  False    False   \n\n      assist  subEventType  bodyPart  xG  ...  relative_real_x  \\\n0      False           NaN       NaN NaN  ...        33.487892   \n1      False           NaN       NaN NaN  ...        50.959744   \n2      False           NaN       NaN NaN  ...        64.115568   \n3      False           NaN       NaN NaN  ...        43.344492   \n4      False           NaN       NaN NaN  ...        21.932176   \n...      ...           ...       ...  ..  ...              ...   \n1069   False           NaN       NaN NaN  ...        50.871004   \n1070   False           NaN       NaN NaN  ...        41.804088   \n1071   False           NaN       NaN NaN  ...        53.202248   \n1072   False           NaN       NaN NaN  ...        44.384484   \n1073   False           NaN       NaN NaN  ...        56.694592   \n\n      relative_real_y     real_x     real_y  passDistance   passAngle  \\\n0           42.341565  33.930640  52.517850     10.185912  267.508757   \n1           31.602480  35.557608  41.209665     18.152790  328.045873   \n2           43.587390  53.376940  31.116540     16.457224   49.268314   \n3           68.038320  64.115568  43.587390     32.082481  130.347916   \n4           54.262425  24.241456  37.226910     17.191322   97.719777   \n...               ...        ...        ...           ...         ...   \n1069        44.907975  51.068544  24.810870     20.098076   90.563158   \n1070        83.961570  47.224980  68.000310     16.856687  108.758929   \n1071        95.304720  44.793028  90.486900      9.691562   29.809308   \n1072        19.237260  29.049600  14.289870     16.113204   17.880907   \n1073        29.913555  47.044440  22.071000     12.435075   39.100319   \n\n         Angle  Distance  teamName               Name  \n0         Side     short     Czech      Antonin Barak  \n1      Forward    middle     Czech    Vladimir Darida  \n2      Forward    middle     Czech    Ondrej Celustka  \n3     Backward      long     Czech    Vladimir Coufal  \n4         Side    middle     Italy   Leonardo Bonucci  \n...        ...       ...       ...                ...  \n1069      Side    middle     Italy       Rafael Toloi  \n1070      Side    middle     Italy    Federico Chiesa  \n1071   Forward     short     Italy  Giacomo Raspadori  \n1072   Forward    middle     Czech      Jiri Pavlenka  \n1073   Forward     short     Czech       Jakub Brabec  \n\n[1074 rows x 38 columns]",
      "text/html": "<div>\n<style scoped>\n    .dataframe tbody tr th:only-of-type {\n        vertical-align: middle;\n    }\n\n    .dataframe tbody tr th {\n        vertical-align: top;\n    }\n\n    .dataframe thead th {\n        text-align: right;\n    }\n</style>\n<table border=\"1\" class=\"dataframe\">\n  <thead>\n    <tr style=\"text-align: right;\">\n      <th></th>\n      <th>Unnamed: 0.1</th>\n      <th>Unnamed: 0</th>\n      <th>eventType</th>\n      <th>outcome</th>\n      <th>cross</th>\n      <th>keyPass</th>\n      <th>assist</th>\n      <th>subEventType</th>\n      <th>bodyPart</th>\n      <th>xG</th>\n      <th>...</th>\n      <th>relative_real_x</th>\n      <th>relative_real_y</th>\n      <th>real_x</th>\n      <th>real_y</th>\n      <th>passDistance</th>\n      <th>passAngle</th>\n      <th>Angle</th>\n      <th>Distance</th>\n      <th>teamName</th>\n      <th>Name</th>\n    </tr>\n  </thead>\n  <tbody>\n    <tr>\n      <th>0</th>\n      <td>0</td>\n      <td>0</td>\n      <td>Pass</td>\n      <td>Successful</td>\n      <td>False</td>\n      <td>False</td>\n      <td>False</td>\n      <td>NaN</td>\n      <td>NaN</td>\n      <td>NaN</td>\n      <td>...</td>\n      <td>33.487892</td>\n      <td>42.341565</td>\n      <td>33.930640</td>\n      <td>52.517850</td>\n      <td>10.185912</td>\n      <td>267.508757</td>\n      <td>Side</td>\n      <td>short</td>\n      <td>Czech</td>\n      <td>Antonin Barak</td>\n    </tr>\n    <tr>\n      <th>1</th>\n      <td>53</td>\n      <td>53</td>\n      <td>Pass</td>\n      <td>Successful</td>\n      <td>False</td>\n      <td>False</td>\n      <td>False</td>\n      <td>NaN</td>\n      <td>NaN</td>\n      <td>NaN</td>\n      <td>...</td>\n      <td>50.959744</td>\n      <td>31.602480</td>\n      <td>35.557608</td>\n      <td>41.209665</td>\n      <td>18.152790</td>\n      <td>328.045873</td>\n      <td>Forward</td>\n      <td>middle</td>\n      <td>Czech</td>\n      <td>Vladimir Darida</td>\n    </tr>\n    <tr>\n      <th>2</th>\n      <td>147</td>\n      <td>147</td>\n      <td>Pass</td>\n      <td>Successful</td>\n      <td>False</td>\n      <td>False</td>\n      <td>False</td>\n      <td>NaN</td>\n      <td>NaN</td>\n      <td>NaN</td>\n      <td>...</td>\n      <td>64.115568</td>\n      <td>43.587390</td>\n      <td>53.376940</td>\n      <td>31.116540</td>\n      <td>16.457224</td>\n      <td>49.268314</td>\n      <td>Forward</td>\n      <td>middle</td>\n      <td>Czech</td>\n      <td>Ondrej Celustka</td>\n    </tr>\n    <tr>\n      <th>3</th>\n      <td>188</td>\n      <td>188</td>\n      <td>Pass</td>\n      <td>Unsuccessful</td>\n      <td>False</td>\n      <td>False</td>\n      <td>False</td>\n      <td>NaN</td>\n      <td>NaN</td>\n      <td>NaN</td>\n      <td>...</td>\n      <td>43.344492</td>\n      <td>68.038320</td>\n      <td>64.115568</td>\n      <td>43.587390</td>\n      <td>32.082481</td>\n      <td>130.347916</td>\n      <td>Backward</td>\n      <td>long</td>\n      <td>Czech</td>\n      <td>Vladimir Coufal</td>\n    </tr>\n    <tr>\n      <th>4</th>\n      <td>306</td>\n      <td>306</td>\n      <td>Pass</td>\n      <td>Successful</td>\n      <td>False</td>\n      <td>False</td>\n      <td>False</td>\n      <td>NaN</td>\n      <td>NaN</td>\n      <td>NaN</td>\n      <td>...</td>\n      <td>21.932176</td>\n      <td>54.262425</td>\n      <td>24.241456</td>\n      <td>37.226910</td>\n      <td>17.191322</td>\n      <td>97.719777</td>\n      <td>Side</td>\n      <td>middle</td>\n      <td>Italy</td>\n      <td>Leonardo Bonucci</td>\n    </tr>\n    <tr>\n      <th>...</th>\n      <td>...</td>\n      <td>...</td>\n      <td>...</td>\n      <td>...</td>\n      <td>...</td>\n      <td>...</td>\n      <td>...</td>\n      <td>...</td>\n      <td>...</td>\n      <td>...</td>\n      <td>...</td>\n      <td>...</td>\n      <td>...</td>\n      <td>...</td>\n      <td>...</td>\n      <td>...</td>\n      <td>...</td>\n      <td>...</td>\n      <td>...</td>\n      <td>...</td>\n      <td>...</td>\n    </tr>\n    <tr>\n      <th>1069</th>\n      <td>2653</td>\n      <td>2653</td>\n      <td>Pass</td>\n      <td>Successful</td>\n      <td>False</td>\n      <td>False</td>\n      <td>False</td>\n      <td>NaN</td>\n      <td>NaN</td>\n      <td>NaN</td>\n      <td>...</td>\n      <td>50.871004</td>\n      <td>44.907975</td>\n      <td>51.068544</td>\n      <td>24.810870</td>\n      <td>20.098076</td>\n      <td>90.563158</td>\n      <td>Side</td>\n      <td>middle</td>\n      <td>Italy</td>\n      <td>Rafael Toloi</td>\n    </tr>\n    <tr>\n      <th>1070</th>\n      <td>2600</td>\n      <td>2600</td>\n      <td>Pass</td>\n      <td>Successful</td>\n      <td>False</td>\n      <td>False</td>\n      <td>False</td>\n      <td>NaN</td>\n      <td>NaN</td>\n      <td>NaN</td>\n      <td>...</td>\n      <td>41.804088</td>\n      <td>83.961570</td>\n      <td>47.224980</td>\n      <td>68.000310</td>\n      <td>16.856687</td>\n      <td>108.758929</td>\n      <td>Side</td>\n      <td>middle</td>\n      <td>Italy</td>\n      <td>Federico Chiesa</td>\n    </tr>\n    <tr>\n      <th>1071</th>\n      <td>2612</td>\n      <td>2612</td>\n      <td>Pass</td>\n      <td>Unsuccessful</td>\n      <td>False</td>\n      <td>False</td>\n      <td>False</td>\n      <td>NaN</td>\n      <td>NaN</td>\n      <td>NaN</td>\n      <td>...</td>\n      <td>53.202248</td>\n      <td>95.304720</td>\n      <td>44.793028</td>\n      <td>90.486900</td>\n      <td>9.691562</td>\n      <td>29.809308</td>\n      <td>Forward</td>\n      <td>short</td>\n      <td>Italy</td>\n      <td>Giacomo Raspadori</td>\n    </tr>\n    <tr>\n      <th>1072</th>\n      <td>1736</td>\n      <td>1736</td>\n      <td>Pass</td>\n      <td>Successful</td>\n      <td>False</td>\n      <td>False</td>\n      <td>False</td>\n      <td>NaN</td>\n      <td>NaN</td>\n      <td>NaN</td>\n      <td>...</td>\n      <td>44.384484</td>\n      <td>19.237260</td>\n      <td>29.049600</td>\n      <td>14.289870</td>\n      <td>16.113204</td>\n      <td>17.880907</td>\n      <td>Forward</td>\n      <td>middle</td>\n      <td>Czech</td>\n      <td>Jiri Pavlenka</td>\n    </tr>\n    <tr>\n      <th>1073</th>\n      <td>1658</td>\n      <td>1658</td>\n      <td>Pass</td>\n      <td>Successful</td>\n      <td>False</td>\n      <td>False</td>\n      <td>False</td>\n      <td>NaN</td>\n      <td>NaN</td>\n      <td>NaN</td>\n      <td>...</td>\n      <td>56.694592</td>\n      <td>29.913555</td>\n      <td>47.044440</td>\n      <td>22.071000</td>\n      <td>12.435075</td>\n      <td>39.100319</td>\n      <td>Forward</td>\n      <td>short</td>\n      <td>Czech</td>\n      <td>Jakub Brabec</td>\n    </tr>\n  </tbody>\n</table>\n<p>1074 rows × 38 columns</p>\n</div>"
     },
     "execution_count": 91,
     "metadata": {},
     "output_type": "execute_result"
    }
   ],
   "source": [
    "# 전 후반 패스 각도 비교(도넛)\n",
    "test = pass_df.groupby(['teamId','Angle','outcome']).count()\n",
    "\n",
    "# 전 후반 패스 길이 비교(도넛)\n",
    "df"
   ],
   "metadata": {
    "collapsed": false
   }
  },
  {
   "cell_type": "code",
   "execution_count": 199,
   "outputs": [
    {
     "data": {
      "text/plain": "'fig = px.pie(values=[128, 135, 140], names=[\\'Forward\\',\\'Sideways\\',\\'Backward\\'])\\nfig.update_traces(\\n    hole=.5, marker_colors =px.colors.sequential.Burgyl, marker_line_color= \"black\",marker_line_width = 1\\n)\\n\\nfig.update_layout(\\n    paper_bgcolor=\\'white\\',  plot_bgcolor=\\'white\\', font=dict(color=\\'black\\')\\n)\\n\\nfig.show()'"
     },
     "execution_count": 199,
     "metadata": {},
     "output_type": "execute_result"
    }
   ],
   "source": [
    "# 패스 각도\n",
    "fig = px.pie(values=[128, 135, 140], names=['Forward','Sideways','Backward'])\n",
    "fig.update_traces(\n",
    "    hole=.5, marker_colors =px.colors.sequential.Burgyl, marker_line_color= \"black\",marker_line_width = 1\n",
    ")\n",
    "\n",
    "fig.update_layout(\n",
    "    paper_bgcolor='white',  plot_bgcolor='white', font=dict(color='black')\n",
    ")\n",
    "\n",
    "fig.show()"
   ],
   "metadata": {
    "collapsed": false
   }
  },
  {
   "cell_type": "code",
   "execution_count": 31,
   "outputs": [
    {
     "data": {
      "text/plain": "       Angle teamName       outcome  count\n0   Backward    Czech    Successful    114\n1   Backward    Czech  Unsuccessful     26\n2   Backward    Italy    Successful    218\n3   Backward    Italy  Unsuccessful     25\n4    Forward    Czech    Successful    103\n5    Forward    Czech  Unsuccessful     25\n6    Forward    Italy    Successful    215\n7    Forward    Italy  Unsuccessful     20\n8       Side    Czech    Successful     92\n9       Side    Czech  Unsuccessful     43\n10      Side    Italy    Successful    153\n11      Side    Italy  Unsuccessful     40",
      "text/html": "<div>\n<style scoped>\n    .dataframe tbody tr th:only-of-type {\n        vertical-align: middle;\n    }\n\n    .dataframe tbody tr th {\n        vertical-align: top;\n    }\n\n    .dataframe thead th {\n        text-align: right;\n    }\n</style>\n<table border=\"1\" class=\"dataframe\">\n  <thead>\n    <tr style=\"text-align: right;\">\n      <th></th>\n      <th>Angle</th>\n      <th>teamName</th>\n      <th>outcome</th>\n      <th>count</th>\n    </tr>\n  </thead>\n  <tbody>\n    <tr>\n      <th>0</th>\n      <td>Backward</td>\n      <td>Czech</td>\n      <td>Successful</td>\n      <td>114</td>\n    </tr>\n    <tr>\n      <th>1</th>\n      <td>Backward</td>\n      <td>Czech</td>\n      <td>Unsuccessful</td>\n      <td>26</td>\n    </tr>\n    <tr>\n      <th>2</th>\n      <td>Backward</td>\n      <td>Italy</td>\n      <td>Successful</td>\n      <td>218</td>\n    </tr>\n    <tr>\n      <th>3</th>\n      <td>Backward</td>\n      <td>Italy</td>\n      <td>Unsuccessful</td>\n      <td>25</td>\n    </tr>\n    <tr>\n      <th>4</th>\n      <td>Forward</td>\n      <td>Czech</td>\n      <td>Successful</td>\n      <td>103</td>\n    </tr>\n    <tr>\n      <th>5</th>\n      <td>Forward</td>\n      <td>Czech</td>\n      <td>Unsuccessful</td>\n      <td>25</td>\n    </tr>\n    <tr>\n      <th>6</th>\n      <td>Forward</td>\n      <td>Italy</td>\n      <td>Successful</td>\n      <td>215</td>\n    </tr>\n    <tr>\n      <th>7</th>\n      <td>Forward</td>\n      <td>Italy</td>\n      <td>Unsuccessful</td>\n      <td>20</td>\n    </tr>\n    <tr>\n      <th>8</th>\n      <td>Side</td>\n      <td>Czech</td>\n      <td>Successful</td>\n      <td>92</td>\n    </tr>\n    <tr>\n      <th>9</th>\n      <td>Side</td>\n      <td>Czech</td>\n      <td>Unsuccessful</td>\n      <td>43</td>\n    </tr>\n    <tr>\n      <th>10</th>\n      <td>Side</td>\n      <td>Italy</td>\n      <td>Successful</td>\n      <td>153</td>\n    </tr>\n    <tr>\n      <th>11</th>\n      <td>Side</td>\n      <td>Italy</td>\n      <td>Unsuccessful</td>\n      <td>40</td>\n    </tr>\n  </tbody>\n</table>\n</div>"
     },
     "execution_count": 31,
     "metadata": {},
     "output_type": "execute_result"
    }
   ],
   "source": [
    "#pass_df = pass_df[pass_df['eventPeriod']=='FIRST_HALF']\n",
    "grouped_df = pass_df.groupby(['Angle', 'teamName','outcome']).size().reset_index(name='count')\n",
    "grouped_df"
   ],
   "metadata": {
    "collapsed": false
   }
  },
  {
   "cell_type": "code",
   "execution_count": 32,
   "outputs": [
    {
     "data": {
      "application/vnd.plotly.v1+json": {
       "data": [
        {
         "alignmentgroup": "True",
         "hovertemplate": "outcome=Successful<br>teamName=Czech<br>Angle=%{x}<br>count=%{y}<extra></extra>",
         "legendgroup": "Successful",
         "marker": {
          "color": "firebrick",
          "pattern": {
           "shape": ""
          }
         },
         "name": "Successful",
         "offsetgroup": "Successful",
         "orientation": "v",
         "showlegend": true,
         "textposition": "auto",
         "x": [
          "Backward",
          "Forward",
          "Side"
         ],
         "xaxis": "x",
         "y": [
          114,
          103,
          92
         ],
         "yaxis": "y",
         "type": "bar"
        },
        {
         "alignmentgroup": "True",
         "hovertemplate": "outcome=Successful<br>teamName=Italy<br>Angle=%{x}<br>count=%{y}<extra></extra>",
         "legendgroup": "Successful",
         "marker": {
          "color": "firebrick",
          "pattern": {
           "shape": ""
          }
         },
         "name": "Successful",
         "offsetgroup": "Successful",
         "orientation": "v",
         "showlegend": false,
         "textposition": "auto",
         "x": [
          "Backward",
          "Forward",
          "Side"
         ],
         "xaxis": "x2",
         "y": [
          218,
          215,
          153
         ],
         "yaxis": "y2",
         "type": "bar"
        },
        {
         "alignmentgroup": "True",
         "hovertemplate": "outcome=Unsuccessful<br>teamName=Czech<br>Angle=%{x}<br>count=%{y}<extra></extra>",
         "legendgroup": "Unsuccessful",
         "marker": {
          "color": "lightgrey",
          "pattern": {
           "shape": ""
          }
         },
         "name": "Unsuccessful",
         "offsetgroup": "Unsuccessful",
         "orientation": "v",
         "showlegend": true,
         "textposition": "auto",
         "x": [
          "Backward",
          "Forward",
          "Side"
         ],
         "xaxis": "x",
         "y": [
          26,
          25,
          43
         ],
         "yaxis": "y",
         "type": "bar"
        },
        {
         "alignmentgroup": "True",
         "hovertemplate": "outcome=Unsuccessful<br>teamName=Italy<br>Angle=%{x}<br>count=%{y}<extra></extra>",
         "legendgroup": "Unsuccessful",
         "marker": {
          "color": "lightgrey",
          "pattern": {
           "shape": ""
          }
         },
         "name": "Unsuccessful",
         "offsetgroup": "Unsuccessful",
         "orientation": "v",
         "showlegend": false,
         "textposition": "auto",
         "x": [
          "Backward",
          "Forward",
          "Side"
         ],
         "xaxis": "x2",
         "y": [
          25,
          20,
          40
         ],
         "yaxis": "y2",
         "type": "bar"
        }
       ],
       "layout": {
        "template": {
         "data": {
          "histogram2dcontour": [
           {
            "type": "histogram2dcontour",
            "colorbar": {
             "outlinewidth": 0,
             "ticks": ""
            },
            "colorscale": [
             [
              0.0,
              "#0d0887"
             ],
             [
              0.1111111111111111,
              "#46039f"
             ],
             [
              0.2222222222222222,
              "#7201a8"
             ],
             [
              0.3333333333333333,
              "#9c179e"
             ],
             [
              0.4444444444444444,
              "#bd3786"
             ],
             [
              0.5555555555555556,
              "#d8576b"
             ],
             [
              0.6666666666666666,
              "#ed7953"
             ],
             [
              0.7777777777777778,
              "#fb9f3a"
             ],
             [
              0.8888888888888888,
              "#fdca26"
             ],
             [
              1.0,
              "#f0f921"
             ]
            ]
           }
          ],
          "choropleth": [
           {
            "type": "choropleth",
            "colorbar": {
             "outlinewidth": 0,
             "ticks": ""
            }
           }
          ],
          "histogram2d": [
           {
            "type": "histogram2d",
            "colorbar": {
             "outlinewidth": 0,
             "ticks": ""
            },
            "colorscale": [
             [
              0.0,
              "#0d0887"
             ],
             [
              0.1111111111111111,
              "#46039f"
             ],
             [
              0.2222222222222222,
              "#7201a8"
             ],
             [
              0.3333333333333333,
              "#9c179e"
             ],
             [
              0.4444444444444444,
              "#bd3786"
             ],
             [
              0.5555555555555556,
              "#d8576b"
             ],
             [
              0.6666666666666666,
              "#ed7953"
             ],
             [
              0.7777777777777778,
              "#fb9f3a"
             ],
             [
              0.8888888888888888,
              "#fdca26"
             ],
             [
              1.0,
              "#f0f921"
             ]
            ]
           }
          ],
          "heatmap": [
           {
            "type": "heatmap",
            "colorbar": {
             "outlinewidth": 0,
             "ticks": ""
            },
            "colorscale": [
             [
              0.0,
              "#0d0887"
             ],
             [
              0.1111111111111111,
              "#46039f"
             ],
             [
              0.2222222222222222,
              "#7201a8"
             ],
             [
              0.3333333333333333,
              "#9c179e"
             ],
             [
              0.4444444444444444,
              "#bd3786"
             ],
             [
              0.5555555555555556,
              "#d8576b"
             ],
             [
              0.6666666666666666,
              "#ed7953"
             ],
             [
              0.7777777777777778,
              "#fb9f3a"
             ],
             [
              0.8888888888888888,
              "#fdca26"
             ],
             [
              1.0,
              "#f0f921"
             ]
            ]
           }
          ],
          "heatmapgl": [
           {
            "type": "heatmapgl",
            "colorbar": {
             "outlinewidth": 0,
             "ticks": ""
            },
            "colorscale": [
             [
              0.0,
              "#0d0887"
             ],
             [
              0.1111111111111111,
              "#46039f"
             ],
             [
              0.2222222222222222,
              "#7201a8"
             ],
             [
              0.3333333333333333,
              "#9c179e"
             ],
             [
              0.4444444444444444,
              "#bd3786"
             ],
             [
              0.5555555555555556,
              "#d8576b"
             ],
             [
              0.6666666666666666,
              "#ed7953"
             ],
             [
              0.7777777777777778,
              "#fb9f3a"
             ],
             [
              0.8888888888888888,
              "#fdca26"
             ],
             [
              1.0,
              "#f0f921"
             ]
            ]
           }
          ],
          "contourcarpet": [
           {
            "type": "contourcarpet",
            "colorbar": {
             "outlinewidth": 0,
             "ticks": ""
            }
           }
          ],
          "contour": [
           {
            "type": "contour",
            "colorbar": {
             "outlinewidth": 0,
             "ticks": ""
            },
            "colorscale": [
             [
              0.0,
              "#0d0887"
             ],
             [
              0.1111111111111111,
              "#46039f"
             ],
             [
              0.2222222222222222,
              "#7201a8"
             ],
             [
              0.3333333333333333,
              "#9c179e"
             ],
             [
              0.4444444444444444,
              "#bd3786"
             ],
             [
              0.5555555555555556,
              "#d8576b"
             ],
             [
              0.6666666666666666,
              "#ed7953"
             ],
             [
              0.7777777777777778,
              "#fb9f3a"
             ],
             [
              0.8888888888888888,
              "#fdca26"
             ],
             [
              1.0,
              "#f0f921"
             ]
            ]
           }
          ],
          "surface": [
           {
            "type": "surface",
            "colorbar": {
             "outlinewidth": 0,
             "ticks": ""
            },
            "colorscale": [
             [
              0.0,
              "#0d0887"
             ],
             [
              0.1111111111111111,
              "#46039f"
             ],
             [
              0.2222222222222222,
              "#7201a8"
             ],
             [
              0.3333333333333333,
              "#9c179e"
             ],
             [
              0.4444444444444444,
              "#bd3786"
             ],
             [
              0.5555555555555556,
              "#d8576b"
             ],
             [
              0.6666666666666666,
              "#ed7953"
             ],
             [
              0.7777777777777778,
              "#fb9f3a"
             ],
             [
              0.8888888888888888,
              "#fdca26"
             ],
             [
              1.0,
              "#f0f921"
             ]
            ]
           }
          ],
          "mesh3d": [
           {
            "type": "mesh3d",
            "colorbar": {
             "outlinewidth": 0,
             "ticks": ""
            }
           }
          ],
          "scatter": [
           {
            "marker": {
             "line": {
              "color": "#283442"
             }
            },
            "type": "scatter"
           }
          ],
          "parcoords": [
           {
            "type": "parcoords",
            "line": {
             "colorbar": {
              "outlinewidth": 0,
              "ticks": ""
             }
            }
           }
          ],
          "scatterpolargl": [
           {
            "type": "scatterpolargl",
            "marker": {
             "colorbar": {
              "outlinewidth": 0,
              "ticks": ""
             }
            }
           }
          ],
          "bar": [
           {
            "error_x": {
             "color": "#f2f5fa"
            },
            "error_y": {
             "color": "#f2f5fa"
            },
            "marker": {
             "line": {
              "color": "rgb(17,17,17)",
              "width": 0.5
             },
             "pattern": {
              "fillmode": "overlay",
              "size": 10,
              "solidity": 0.2
             }
            },
            "type": "bar"
           }
          ],
          "scattergeo": [
           {
            "type": "scattergeo",
            "marker": {
             "colorbar": {
              "outlinewidth": 0,
              "ticks": ""
             }
            }
           }
          ],
          "scatterpolar": [
           {
            "type": "scatterpolar",
            "marker": {
             "colorbar": {
              "outlinewidth": 0,
              "ticks": ""
             }
            }
           }
          ],
          "histogram": [
           {
            "marker": {
             "pattern": {
              "fillmode": "overlay",
              "size": 10,
              "solidity": 0.2
             }
            },
            "type": "histogram"
           }
          ],
          "scattergl": [
           {
            "marker": {
             "line": {
              "color": "#283442"
             }
            },
            "type": "scattergl"
           }
          ],
          "scatter3d": [
           {
            "type": "scatter3d",
            "line": {
             "colorbar": {
              "outlinewidth": 0,
              "ticks": ""
             }
            },
            "marker": {
             "colorbar": {
              "outlinewidth": 0,
              "ticks": ""
             }
            }
           }
          ],
          "scattermapbox": [
           {
            "type": "scattermapbox",
            "marker": {
             "colorbar": {
              "outlinewidth": 0,
              "ticks": ""
             }
            }
           }
          ],
          "scatterternary": [
           {
            "type": "scatterternary",
            "marker": {
             "colorbar": {
              "outlinewidth": 0,
              "ticks": ""
             }
            }
           }
          ],
          "scattercarpet": [
           {
            "type": "scattercarpet",
            "marker": {
             "colorbar": {
              "outlinewidth": 0,
              "ticks": ""
             }
            }
           }
          ],
          "carpet": [
           {
            "aaxis": {
             "endlinecolor": "#A2B1C6",
             "gridcolor": "#506784",
             "linecolor": "#506784",
             "minorgridcolor": "#506784",
             "startlinecolor": "#A2B1C6"
            },
            "baxis": {
             "endlinecolor": "#A2B1C6",
             "gridcolor": "#506784",
             "linecolor": "#506784",
             "minorgridcolor": "#506784",
             "startlinecolor": "#A2B1C6"
            },
            "type": "carpet"
           }
          ],
          "table": [
           {
            "cells": {
             "fill": {
              "color": "#506784"
             },
             "line": {
              "color": "rgb(17,17,17)"
             }
            },
            "header": {
             "fill": {
              "color": "#2a3f5f"
             },
             "line": {
              "color": "rgb(17,17,17)"
             }
            },
            "type": "table"
           }
          ],
          "barpolar": [
           {
            "marker": {
             "line": {
              "color": "rgb(17,17,17)",
              "width": 0.5
             },
             "pattern": {
              "fillmode": "overlay",
              "size": 10,
              "solidity": 0.2
             }
            },
            "type": "barpolar"
           }
          ],
          "pie": [
           {
            "automargin": true,
            "type": "pie"
           }
          ]
         },
         "layout": {
          "autotypenumbers": "strict",
          "colorway": [
           "#636efa",
           "#EF553B",
           "#00cc96",
           "#ab63fa",
           "#FFA15A",
           "#19d3f3",
           "#FF6692",
           "#B6E880",
           "#FF97FF",
           "#FECB52"
          ],
          "font": {
           "color": "#f2f5fa"
          },
          "hovermode": "closest",
          "hoverlabel": {
           "align": "left"
          },
          "paper_bgcolor": "rgb(17,17,17)",
          "plot_bgcolor": "rgb(17,17,17)",
          "polar": {
           "bgcolor": "rgb(17,17,17)",
           "angularaxis": {
            "gridcolor": "#506784",
            "linecolor": "#506784",
            "ticks": ""
           },
           "radialaxis": {
            "gridcolor": "#506784",
            "linecolor": "#506784",
            "ticks": ""
           }
          },
          "ternary": {
           "bgcolor": "rgb(17,17,17)",
           "aaxis": {
            "gridcolor": "#506784",
            "linecolor": "#506784",
            "ticks": ""
           },
           "baxis": {
            "gridcolor": "#506784",
            "linecolor": "#506784",
            "ticks": ""
           },
           "caxis": {
            "gridcolor": "#506784",
            "linecolor": "#506784",
            "ticks": ""
           }
          },
          "coloraxis": {
           "colorbar": {
            "outlinewidth": 0,
            "ticks": ""
           }
          },
          "colorscale": {
           "sequential": [
            [
             0.0,
             "#0d0887"
            ],
            [
             0.1111111111111111,
             "#46039f"
            ],
            [
             0.2222222222222222,
             "#7201a8"
            ],
            [
             0.3333333333333333,
             "#9c179e"
            ],
            [
             0.4444444444444444,
             "#bd3786"
            ],
            [
             0.5555555555555556,
             "#d8576b"
            ],
            [
             0.6666666666666666,
             "#ed7953"
            ],
            [
             0.7777777777777778,
             "#fb9f3a"
            ],
            [
             0.8888888888888888,
             "#fdca26"
            ],
            [
             1.0,
             "#f0f921"
            ]
           ],
           "sequentialminus": [
            [
             0.0,
             "#0d0887"
            ],
            [
             0.1111111111111111,
             "#46039f"
            ],
            [
             0.2222222222222222,
             "#7201a8"
            ],
            [
             0.3333333333333333,
             "#9c179e"
            ],
            [
             0.4444444444444444,
             "#bd3786"
            ],
            [
             0.5555555555555556,
             "#d8576b"
            ],
            [
             0.6666666666666666,
             "#ed7953"
            ],
            [
             0.7777777777777778,
             "#fb9f3a"
            ],
            [
             0.8888888888888888,
             "#fdca26"
            ],
            [
             1.0,
             "#f0f921"
            ]
           ],
           "diverging": [
            [
             0,
             "#8e0152"
            ],
            [
             0.1,
             "#c51b7d"
            ],
            [
             0.2,
             "#de77ae"
            ],
            [
             0.3,
             "#f1b6da"
            ],
            [
             0.4,
             "#fde0ef"
            ],
            [
             0.5,
             "#f7f7f7"
            ],
            [
             0.6,
             "#e6f5d0"
            ],
            [
             0.7,
             "#b8e186"
            ],
            [
             0.8,
             "#7fbc41"
            ],
            [
             0.9,
             "#4d9221"
            ],
            [
             1,
             "#276419"
            ]
           ]
          },
          "xaxis": {
           "gridcolor": "#283442",
           "linecolor": "#506784",
           "ticks": "",
           "title": {
            "standoff": 15
           },
           "zerolinecolor": "#283442",
           "automargin": true,
           "zerolinewidth": 2
          },
          "yaxis": {
           "gridcolor": "#283442",
           "linecolor": "#506784",
           "ticks": "",
           "title": {
            "standoff": 15
           },
           "zerolinecolor": "#283442",
           "automargin": true,
           "zerolinewidth": 2
          },
          "scene": {
           "xaxis": {
            "backgroundcolor": "rgb(17,17,17)",
            "gridcolor": "#506784",
            "linecolor": "#506784",
            "showbackground": true,
            "ticks": "",
            "zerolinecolor": "#C8D4E3",
            "gridwidth": 2
           },
           "yaxis": {
            "backgroundcolor": "rgb(17,17,17)",
            "gridcolor": "#506784",
            "linecolor": "#506784",
            "showbackground": true,
            "ticks": "",
            "zerolinecolor": "#C8D4E3",
            "gridwidth": 2
           },
           "zaxis": {
            "backgroundcolor": "rgb(17,17,17)",
            "gridcolor": "#506784",
            "linecolor": "#506784",
            "showbackground": true,
            "ticks": "",
            "zerolinecolor": "#C8D4E3",
            "gridwidth": 2
           }
          },
          "shapedefaults": {
           "line": {
            "color": "#f2f5fa"
           }
          },
          "annotationdefaults": {
           "arrowcolor": "#f2f5fa",
           "arrowhead": 0,
           "arrowwidth": 1
          },
          "geo": {
           "bgcolor": "rgb(17,17,17)",
           "landcolor": "rgb(17,17,17)",
           "subunitcolor": "#506784",
           "showland": true,
           "showlakes": true,
           "lakecolor": "rgb(17,17,17)"
          },
          "title": {
           "x": 0.05
          },
          "updatemenudefaults": {
           "bgcolor": "#506784",
           "borderwidth": 0
          },
          "sliderdefaults": {
           "bgcolor": "#C8D4E3",
           "borderwidth": 1,
           "bordercolor": "rgb(17,17,17)",
           "tickwidth": 0
          },
          "mapbox": {
           "style": "dark"
          }
         }
        },
        "xaxis": {
         "anchor": "y",
         "domain": [
          0.0,
          0.49
         ],
         "title": {
          "text": "Angle"
         },
         "showgrid": false,
         "gridwidth": 0
        },
        "yaxis": {
         "anchor": "x",
         "domain": [
          0.0,
          1.0
         ],
         "title": {
          "text": "count"
         },
         "showgrid": false,
         "gridwidth": 0
        },
        "xaxis2": {
         "anchor": "y2",
         "domain": [
          0.51,
          1.0
         ],
         "matches": "x",
         "title": {
          "text": "Angle"
         },
         "showgrid": false,
         "gridwidth": 0
        },
        "yaxis2": {
         "anchor": "x2",
         "domain": [
          0.0,
          1.0
         ],
         "matches": "y",
         "showticklabels": false,
         "showgrid": false,
         "gridwidth": 0
        },
        "annotations": [
         {
          "font": {},
          "showarrow": false,
          "text": "teamName=Czech",
          "x": 0.245,
          "xanchor": "center",
          "xref": "paper",
          "y": 1.0,
          "yanchor": "bottom",
          "yref": "paper"
         },
         {
          "font": {},
          "showarrow": false,
          "text": "teamName=Italy",
          "x": 0.755,
          "xanchor": "center",
          "xref": "paper",
          "y": 1.0,
          "yanchor": "bottom",
          "yref": "paper"
         }
        ],
        "legend": {
         "title": {
          "text": "outcome"
         },
         "tracegroupgap": 0
        },
        "margin": {
         "t": 60
        },
        "barmode": "relative",
        "font": {
         "color": "black"
        },
        "paper_bgcolor": "white",
        "plot_bgcolor": "white"
       },
       "config": {
        "plotlyServerURL": "https://plot.ly"
       }
      },
      "text/html": "<div>                            <div id=\"8a76cb6b-825e-4b78-8450-67cc3e53dd7a\" class=\"plotly-graph-div\" style=\"height:525px; width:100%;\"></div>            <script type=\"text/javascript\">                require([\"plotly\"], function(Plotly) {                    window.PLOTLYENV=window.PLOTLYENV || {};                                    if (document.getElementById(\"8a76cb6b-825e-4b78-8450-67cc3e53dd7a\")) {                    Plotly.newPlot(                        \"8a76cb6b-825e-4b78-8450-67cc3e53dd7a\",                        [{\"alignmentgroup\":\"True\",\"hovertemplate\":\"outcome=Successful<br>teamName=Czech<br>Angle=%{x}<br>count=%{y}<extra></extra>\",\"legendgroup\":\"Successful\",\"marker\":{\"color\":\"firebrick\",\"pattern\":{\"shape\":\"\"}},\"name\":\"Successful\",\"offsetgroup\":\"Successful\",\"orientation\":\"v\",\"showlegend\":true,\"textposition\":\"auto\",\"x\":[\"Backward\",\"Forward\",\"Side\"],\"xaxis\":\"x\",\"y\":[114,103,92],\"yaxis\":\"y\",\"type\":\"bar\"},{\"alignmentgroup\":\"True\",\"hovertemplate\":\"outcome=Successful<br>teamName=Italy<br>Angle=%{x}<br>count=%{y}<extra></extra>\",\"legendgroup\":\"Successful\",\"marker\":{\"color\":\"firebrick\",\"pattern\":{\"shape\":\"\"}},\"name\":\"Successful\",\"offsetgroup\":\"Successful\",\"orientation\":\"v\",\"showlegend\":false,\"textposition\":\"auto\",\"x\":[\"Backward\",\"Forward\",\"Side\"],\"xaxis\":\"x2\",\"y\":[218,215,153],\"yaxis\":\"y2\",\"type\":\"bar\"},{\"alignmentgroup\":\"True\",\"hovertemplate\":\"outcome=Unsuccessful<br>teamName=Czech<br>Angle=%{x}<br>count=%{y}<extra></extra>\",\"legendgroup\":\"Unsuccessful\",\"marker\":{\"color\":\"lightgrey\",\"pattern\":{\"shape\":\"\"}},\"name\":\"Unsuccessful\",\"offsetgroup\":\"Unsuccessful\",\"orientation\":\"v\",\"showlegend\":true,\"textposition\":\"auto\",\"x\":[\"Backward\",\"Forward\",\"Side\"],\"xaxis\":\"x\",\"y\":[26,25,43],\"yaxis\":\"y\",\"type\":\"bar\"},{\"alignmentgroup\":\"True\",\"hovertemplate\":\"outcome=Unsuccessful<br>teamName=Italy<br>Angle=%{x}<br>count=%{y}<extra></extra>\",\"legendgroup\":\"Unsuccessful\",\"marker\":{\"color\":\"lightgrey\",\"pattern\":{\"shape\":\"\"}},\"name\":\"Unsuccessful\",\"offsetgroup\":\"Unsuccessful\",\"orientation\":\"v\",\"showlegend\":false,\"textposition\":\"auto\",\"x\":[\"Backward\",\"Forward\",\"Side\"],\"xaxis\":\"x2\",\"y\":[25,20,40],\"yaxis\":\"y2\",\"type\":\"bar\"}],                        {\"template\":{\"data\":{\"histogram2dcontour\":[{\"type\":\"histogram2dcontour\",\"colorbar\":{\"outlinewidth\":0,\"ticks\":\"\"},\"colorscale\":[[0.0,\"#0d0887\"],[0.1111111111111111,\"#46039f\"],[0.2222222222222222,\"#7201a8\"],[0.3333333333333333,\"#9c179e\"],[0.4444444444444444,\"#bd3786\"],[0.5555555555555556,\"#d8576b\"],[0.6666666666666666,\"#ed7953\"],[0.7777777777777778,\"#fb9f3a\"],[0.8888888888888888,\"#fdca26\"],[1.0,\"#f0f921\"]]}],\"choropleth\":[{\"type\":\"choropleth\",\"colorbar\":{\"outlinewidth\":0,\"ticks\":\"\"}}],\"histogram2d\":[{\"type\":\"histogram2d\",\"colorbar\":{\"outlinewidth\":0,\"ticks\":\"\"},\"colorscale\":[[0.0,\"#0d0887\"],[0.1111111111111111,\"#46039f\"],[0.2222222222222222,\"#7201a8\"],[0.3333333333333333,\"#9c179e\"],[0.4444444444444444,\"#bd3786\"],[0.5555555555555556,\"#d8576b\"],[0.6666666666666666,\"#ed7953\"],[0.7777777777777778,\"#fb9f3a\"],[0.8888888888888888,\"#fdca26\"],[1.0,\"#f0f921\"]]}],\"heatmap\":[{\"type\":\"heatmap\",\"colorbar\":{\"outlinewidth\":0,\"ticks\":\"\"},\"colorscale\":[[0.0,\"#0d0887\"],[0.1111111111111111,\"#46039f\"],[0.2222222222222222,\"#7201a8\"],[0.3333333333333333,\"#9c179e\"],[0.4444444444444444,\"#bd3786\"],[0.5555555555555556,\"#d8576b\"],[0.6666666666666666,\"#ed7953\"],[0.7777777777777778,\"#fb9f3a\"],[0.8888888888888888,\"#fdca26\"],[1.0,\"#f0f921\"]]}],\"heatmapgl\":[{\"type\":\"heatmapgl\",\"colorbar\":{\"outlinewidth\":0,\"ticks\":\"\"},\"colorscale\":[[0.0,\"#0d0887\"],[0.1111111111111111,\"#46039f\"],[0.2222222222222222,\"#7201a8\"],[0.3333333333333333,\"#9c179e\"],[0.4444444444444444,\"#bd3786\"],[0.5555555555555556,\"#d8576b\"],[0.6666666666666666,\"#ed7953\"],[0.7777777777777778,\"#fb9f3a\"],[0.8888888888888888,\"#fdca26\"],[1.0,\"#f0f921\"]]}],\"contourcarpet\":[{\"type\":\"contourcarpet\",\"colorbar\":{\"outlinewidth\":0,\"ticks\":\"\"}}],\"contour\":[{\"type\":\"contour\",\"colorbar\":{\"outlinewidth\":0,\"ticks\":\"\"},\"colorscale\":[[0.0,\"#0d0887\"],[0.1111111111111111,\"#46039f\"],[0.2222222222222222,\"#7201a8\"],[0.3333333333333333,\"#9c179e\"],[0.4444444444444444,\"#bd3786\"],[0.5555555555555556,\"#d8576b\"],[0.6666666666666666,\"#ed7953\"],[0.7777777777777778,\"#fb9f3a\"],[0.8888888888888888,\"#fdca26\"],[1.0,\"#f0f921\"]]}],\"surface\":[{\"type\":\"surface\",\"colorbar\":{\"outlinewidth\":0,\"ticks\":\"\"},\"colorscale\":[[0.0,\"#0d0887\"],[0.1111111111111111,\"#46039f\"],[0.2222222222222222,\"#7201a8\"],[0.3333333333333333,\"#9c179e\"],[0.4444444444444444,\"#bd3786\"],[0.5555555555555556,\"#d8576b\"],[0.6666666666666666,\"#ed7953\"],[0.7777777777777778,\"#fb9f3a\"],[0.8888888888888888,\"#fdca26\"],[1.0,\"#f0f921\"]]}],\"mesh3d\":[{\"type\":\"mesh3d\",\"colorbar\":{\"outlinewidth\":0,\"ticks\":\"\"}}],\"scatter\":[{\"marker\":{\"line\":{\"color\":\"#283442\"}},\"type\":\"scatter\"}],\"parcoords\":[{\"type\":\"parcoords\",\"line\":{\"colorbar\":{\"outlinewidth\":0,\"ticks\":\"\"}}}],\"scatterpolargl\":[{\"type\":\"scatterpolargl\",\"marker\":{\"colorbar\":{\"outlinewidth\":0,\"ticks\":\"\"}}}],\"bar\":[{\"error_x\":{\"color\":\"#f2f5fa\"},\"error_y\":{\"color\":\"#f2f5fa\"},\"marker\":{\"line\":{\"color\":\"rgb(17,17,17)\",\"width\":0.5},\"pattern\":{\"fillmode\":\"overlay\",\"size\":10,\"solidity\":0.2}},\"type\":\"bar\"}],\"scattergeo\":[{\"type\":\"scattergeo\",\"marker\":{\"colorbar\":{\"outlinewidth\":0,\"ticks\":\"\"}}}],\"scatterpolar\":[{\"type\":\"scatterpolar\",\"marker\":{\"colorbar\":{\"outlinewidth\":0,\"ticks\":\"\"}}}],\"histogram\":[{\"marker\":{\"pattern\":{\"fillmode\":\"overlay\",\"size\":10,\"solidity\":0.2}},\"type\":\"histogram\"}],\"scattergl\":[{\"marker\":{\"line\":{\"color\":\"#283442\"}},\"type\":\"scattergl\"}],\"scatter3d\":[{\"type\":\"scatter3d\",\"line\":{\"colorbar\":{\"outlinewidth\":0,\"ticks\":\"\"}},\"marker\":{\"colorbar\":{\"outlinewidth\":0,\"ticks\":\"\"}}}],\"scattermapbox\":[{\"type\":\"scattermapbox\",\"marker\":{\"colorbar\":{\"outlinewidth\":0,\"ticks\":\"\"}}}],\"scatterternary\":[{\"type\":\"scatterternary\",\"marker\":{\"colorbar\":{\"outlinewidth\":0,\"ticks\":\"\"}}}],\"scattercarpet\":[{\"type\":\"scattercarpet\",\"marker\":{\"colorbar\":{\"outlinewidth\":0,\"ticks\":\"\"}}}],\"carpet\":[{\"aaxis\":{\"endlinecolor\":\"#A2B1C6\",\"gridcolor\":\"#506784\",\"linecolor\":\"#506784\",\"minorgridcolor\":\"#506784\",\"startlinecolor\":\"#A2B1C6\"},\"baxis\":{\"endlinecolor\":\"#A2B1C6\",\"gridcolor\":\"#506784\",\"linecolor\":\"#506784\",\"minorgridcolor\":\"#506784\",\"startlinecolor\":\"#A2B1C6\"},\"type\":\"carpet\"}],\"table\":[{\"cells\":{\"fill\":{\"color\":\"#506784\"},\"line\":{\"color\":\"rgb(17,17,17)\"}},\"header\":{\"fill\":{\"color\":\"#2a3f5f\"},\"line\":{\"color\":\"rgb(17,17,17)\"}},\"type\":\"table\"}],\"barpolar\":[{\"marker\":{\"line\":{\"color\":\"rgb(17,17,17)\",\"width\":0.5},\"pattern\":{\"fillmode\":\"overlay\",\"size\":10,\"solidity\":0.2}},\"type\":\"barpolar\"}],\"pie\":[{\"automargin\":true,\"type\":\"pie\"}]},\"layout\":{\"autotypenumbers\":\"strict\",\"colorway\":[\"#636efa\",\"#EF553B\",\"#00cc96\",\"#ab63fa\",\"#FFA15A\",\"#19d3f3\",\"#FF6692\",\"#B6E880\",\"#FF97FF\",\"#FECB52\"],\"font\":{\"color\":\"#f2f5fa\"},\"hovermode\":\"closest\",\"hoverlabel\":{\"align\":\"left\"},\"paper_bgcolor\":\"rgb(17,17,17)\",\"plot_bgcolor\":\"rgb(17,17,17)\",\"polar\":{\"bgcolor\":\"rgb(17,17,17)\",\"angularaxis\":{\"gridcolor\":\"#506784\",\"linecolor\":\"#506784\",\"ticks\":\"\"},\"radialaxis\":{\"gridcolor\":\"#506784\",\"linecolor\":\"#506784\",\"ticks\":\"\"}},\"ternary\":{\"bgcolor\":\"rgb(17,17,17)\",\"aaxis\":{\"gridcolor\":\"#506784\",\"linecolor\":\"#506784\",\"ticks\":\"\"},\"baxis\":{\"gridcolor\":\"#506784\",\"linecolor\":\"#506784\",\"ticks\":\"\"},\"caxis\":{\"gridcolor\":\"#506784\",\"linecolor\":\"#506784\",\"ticks\":\"\"}},\"coloraxis\":{\"colorbar\":{\"outlinewidth\":0,\"ticks\":\"\"}},\"colorscale\":{\"sequential\":[[0.0,\"#0d0887\"],[0.1111111111111111,\"#46039f\"],[0.2222222222222222,\"#7201a8\"],[0.3333333333333333,\"#9c179e\"],[0.4444444444444444,\"#bd3786\"],[0.5555555555555556,\"#d8576b\"],[0.6666666666666666,\"#ed7953\"],[0.7777777777777778,\"#fb9f3a\"],[0.8888888888888888,\"#fdca26\"],[1.0,\"#f0f921\"]],\"sequentialminus\":[[0.0,\"#0d0887\"],[0.1111111111111111,\"#46039f\"],[0.2222222222222222,\"#7201a8\"],[0.3333333333333333,\"#9c179e\"],[0.4444444444444444,\"#bd3786\"],[0.5555555555555556,\"#d8576b\"],[0.6666666666666666,\"#ed7953\"],[0.7777777777777778,\"#fb9f3a\"],[0.8888888888888888,\"#fdca26\"],[1.0,\"#f0f921\"]],\"diverging\":[[0,\"#8e0152\"],[0.1,\"#c51b7d\"],[0.2,\"#de77ae\"],[0.3,\"#f1b6da\"],[0.4,\"#fde0ef\"],[0.5,\"#f7f7f7\"],[0.6,\"#e6f5d0\"],[0.7,\"#b8e186\"],[0.8,\"#7fbc41\"],[0.9,\"#4d9221\"],[1,\"#276419\"]]},\"xaxis\":{\"gridcolor\":\"#283442\",\"linecolor\":\"#506784\",\"ticks\":\"\",\"title\":{\"standoff\":15},\"zerolinecolor\":\"#283442\",\"automargin\":true,\"zerolinewidth\":2},\"yaxis\":{\"gridcolor\":\"#283442\",\"linecolor\":\"#506784\",\"ticks\":\"\",\"title\":{\"standoff\":15},\"zerolinecolor\":\"#283442\",\"automargin\":true,\"zerolinewidth\":2},\"scene\":{\"xaxis\":{\"backgroundcolor\":\"rgb(17,17,17)\",\"gridcolor\":\"#506784\",\"linecolor\":\"#506784\",\"showbackground\":true,\"ticks\":\"\",\"zerolinecolor\":\"#C8D4E3\",\"gridwidth\":2},\"yaxis\":{\"backgroundcolor\":\"rgb(17,17,17)\",\"gridcolor\":\"#506784\",\"linecolor\":\"#506784\",\"showbackground\":true,\"ticks\":\"\",\"zerolinecolor\":\"#C8D4E3\",\"gridwidth\":2},\"zaxis\":{\"backgroundcolor\":\"rgb(17,17,17)\",\"gridcolor\":\"#506784\",\"linecolor\":\"#506784\",\"showbackground\":true,\"ticks\":\"\",\"zerolinecolor\":\"#C8D4E3\",\"gridwidth\":2}},\"shapedefaults\":{\"line\":{\"color\":\"#f2f5fa\"}},\"annotationdefaults\":{\"arrowcolor\":\"#f2f5fa\",\"arrowhead\":0,\"arrowwidth\":1},\"geo\":{\"bgcolor\":\"rgb(17,17,17)\",\"landcolor\":\"rgb(17,17,17)\",\"subunitcolor\":\"#506784\",\"showland\":true,\"showlakes\":true,\"lakecolor\":\"rgb(17,17,17)\"},\"title\":{\"x\":0.05},\"updatemenudefaults\":{\"bgcolor\":\"#506784\",\"borderwidth\":0},\"sliderdefaults\":{\"bgcolor\":\"#C8D4E3\",\"borderwidth\":1,\"bordercolor\":\"rgb(17,17,17)\",\"tickwidth\":0},\"mapbox\":{\"style\":\"dark\"}}},\"xaxis\":{\"anchor\":\"y\",\"domain\":[0.0,0.49],\"title\":{\"text\":\"Angle\"},\"showgrid\":false,\"gridwidth\":0},\"yaxis\":{\"anchor\":\"x\",\"domain\":[0.0,1.0],\"title\":{\"text\":\"count\"},\"showgrid\":false,\"gridwidth\":0},\"xaxis2\":{\"anchor\":\"y2\",\"domain\":[0.51,1.0],\"matches\":\"x\",\"title\":{\"text\":\"Angle\"},\"showgrid\":false,\"gridwidth\":0},\"yaxis2\":{\"anchor\":\"x2\",\"domain\":[0.0,1.0],\"matches\":\"y\",\"showticklabels\":false,\"showgrid\":false,\"gridwidth\":0},\"annotations\":[{\"font\":{},\"showarrow\":false,\"text\":\"teamName=Czech\",\"x\":0.245,\"xanchor\":\"center\",\"xref\":\"paper\",\"y\":1.0,\"yanchor\":\"bottom\",\"yref\":\"paper\"},{\"font\":{},\"showarrow\":false,\"text\":\"teamName=Italy\",\"x\":0.755,\"xanchor\":\"center\",\"xref\":\"paper\",\"y\":1.0,\"yanchor\":\"bottom\",\"yref\":\"paper\"}],\"legend\":{\"title\":{\"text\":\"outcome\"},\"tracegroupgap\":0},\"margin\":{\"t\":60},\"barmode\":\"relative\",\"font\":{\"color\":\"black\"},\"paper_bgcolor\":\"white\",\"plot_bgcolor\":\"white\"},                        {\"responsive\": true}                    ).then(function(){\n                            \nvar gd = document.getElementById('8a76cb6b-825e-4b78-8450-67cc3e53dd7a');\nvar x = new MutationObserver(function (mutations, observer) {{\n        var display = window.getComputedStyle(gd).display;\n        if (!display || display === 'none') {{\n            console.log([gd, 'removed!']);\n            Plotly.purge(gd);\n            observer.disconnect();\n        }}\n}});\n\n// Listen for the removal of the full notebook cells\nvar notebookContainer = gd.closest('#notebook-container');\nif (notebookContainer) {{\n    x.observe(notebookContainer, {childList: true});\n}}\n\n// Listen for the clearing of the current output cell\nvar outputEl = gd.closest('.output');\nif (outputEl) {{\n    x.observe(outputEl, {childList: true});\n}}\n\n                        })                };                });            </script>        </div>"
     },
     "metadata": {},
     "output_type": "display_data"
    }
   ],
   "source": [
    "fig = px.bar(\n",
    "    data_frame=grouped_df, x='Angle', y='count',\n",
    "    color='outcome', facet_col='teamName',\n",
    "    color_discrete_map={'Successful': 'firebrick', 'Unsuccessful': 'lightgrey'},\n",
    "    facet_col_wrap=2\n",
    ")\n",
    "\n",
    "fig.update_layout(\n",
    "    paper_bgcolor='white', plot_bgcolor='white', font=dict(color='black'),\n",
    "    xaxis=dict(showgrid=False), yaxis=dict(showgrid=False)\n",
    ")\n",
    "\n",
    "fig.update_xaxes(showgrid=False, gridwidth=0)\n",
    "fig.update_yaxes(showgrid=False, gridwidth=0)\n",
    "\n",
    "fig.show()"
   ],
   "metadata": {
    "collapsed": false
   }
  },
  {
   "cell_type": "code",
   "execution_count": 44,
   "outputs": [],
   "source": [
    "# 선수 별 평균 패스 길이\n",
    "\n",
    "df = pd.read_csv('pass_details.csv')\n",
    "df['Name'] = df['playerName'] + ' ' + df['playerLastName']\n"
   ],
   "metadata": {
    "collapsed": false
   }
  },
  {
   "cell_type": "code",
   "execution_count": 69,
   "outputs": [
    {
     "data": {
      "text/plain": "   teamName                  Name  passDistance\n6     Czech         Jiri Pavlenka     31.323260\n4     Czech          Jakub Jankto     21.817274\n17    Italy   Alessandro Florenzi     20.847474\n26    Italy      Leonardo Bonucci     20.704837\n24    Italy  Gianluigi Donnarumma     20.507340\n3     Czech          Jakub Brabec     19.819832\n9     Czech      Michael Krmencik     19.784266\n31    Italy          Rafael Toloi     19.638920\n0     Czech             Alex Kral     19.631203\n15    Czech       Vladimir Coufal     18.762019\n2     Czech            David Zima     18.748223\n7     Czech        Lukas Masopust     18.745430\n22    Italy      Francesco Acerbi     18.108948\n20    Italy      Domenico Berardi     17.827927\n14    Czech          Tomas Soucek     17.777913\n18    Italy       Bryan Cristante     17.311677\n5     Czech             Jan Boril     17.276426\n29    Italy      Manuel Locatelli     17.194729\n25    Italy     Giorgio Chiellini     16.966384\n11    Czech       Ondrej Celustka     16.846555\n16    Czech       Vladimir Darida     16.324499\n28    Italy       Lorenzo Insigne     14.985146\n27    Italy   Leonardo Spinazzola     14.857484\n30    Italy        Nicolo Barella     13.004317\n19    Italy         Ciro Immobile     12.986050\n13    Czech           Petr Sevcik     12.930728\n1     Czech         Antonin Barak     12.713980\n8     Czech           Matej Vydra     12.292634\n21    Italy       Federico Chiesa     11.691125\n10    Czech        Michal Sadilek     11.036980\n23    Italy     Giacomo Raspadori      8.351580\n12    Czech         Patrik Schick      6.877313",
      "text/html": "<div>\n<style scoped>\n    .dataframe tbody tr th:only-of-type {\n        vertical-align: middle;\n    }\n\n    .dataframe tbody tr th {\n        vertical-align: top;\n    }\n\n    .dataframe thead th {\n        text-align: right;\n    }\n</style>\n<table border=\"1\" class=\"dataframe\">\n  <thead>\n    <tr style=\"text-align: right;\">\n      <th></th>\n      <th>teamName</th>\n      <th>Name</th>\n      <th>passDistance</th>\n    </tr>\n  </thead>\n  <tbody>\n    <tr>\n      <th>6</th>\n      <td>Czech</td>\n      <td>Jiri Pavlenka</td>\n      <td>31.323260</td>\n    </tr>\n    <tr>\n      <th>4</th>\n      <td>Czech</td>\n      <td>Jakub Jankto</td>\n      <td>21.817274</td>\n    </tr>\n    <tr>\n      <th>17</th>\n      <td>Italy</td>\n      <td>Alessandro Florenzi</td>\n      <td>20.847474</td>\n    </tr>\n    <tr>\n      <th>26</th>\n      <td>Italy</td>\n      <td>Leonardo Bonucci</td>\n      <td>20.704837</td>\n    </tr>\n    <tr>\n      <th>24</th>\n      <td>Italy</td>\n      <td>Gianluigi Donnarumma</td>\n      <td>20.507340</td>\n    </tr>\n    <tr>\n      <th>3</th>\n      <td>Czech</td>\n      <td>Jakub Brabec</td>\n      <td>19.819832</td>\n    </tr>\n    <tr>\n      <th>9</th>\n      <td>Czech</td>\n      <td>Michael Krmencik</td>\n      <td>19.784266</td>\n    </tr>\n    <tr>\n      <th>31</th>\n      <td>Italy</td>\n      <td>Rafael Toloi</td>\n      <td>19.638920</td>\n    </tr>\n    <tr>\n      <th>0</th>\n      <td>Czech</td>\n      <td>Alex Kral</td>\n      <td>19.631203</td>\n    </tr>\n    <tr>\n      <th>15</th>\n      <td>Czech</td>\n      <td>Vladimir Coufal</td>\n      <td>18.762019</td>\n    </tr>\n    <tr>\n      <th>2</th>\n      <td>Czech</td>\n      <td>David Zima</td>\n      <td>18.748223</td>\n    </tr>\n    <tr>\n      <th>7</th>\n      <td>Czech</td>\n      <td>Lukas Masopust</td>\n      <td>18.745430</td>\n    </tr>\n    <tr>\n      <th>22</th>\n      <td>Italy</td>\n      <td>Francesco Acerbi</td>\n      <td>18.108948</td>\n    </tr>\n    <tr>\n      <th>20</th>\n      <td>Italy</td>\n      <td>Domenico Berardi</td>\n      <td>17.827927</td>\n    </tr>\n    <tr>\n      <th>14</th>\n      <td>Czech</td>\n      <td>Tomas Soucek</td>\n      <td>17.777913</td>\n    </tr>\n    <tr>\n      <th>18</th>\n      <td>Italy</td>\n      <td>Bryan Cristante</td>\n      <td>17.311677</td>\n    </tr>\n    <tr>\n      <th>5</th>\n      <td>Czech</td>\n      <td>Jan Boril</td>\n      <td>17.276426</td>\n    </tr>\n    <tr>\n      <th>29</th>\n      <td>Italy</td>\n      <td>Manuel Locatelli</td>\n      <td>17.194729</td>\n    </tr>\n    <tr>\n      <th>25</th>\n      <td>Italy</td>\n      <td>Giorgio Chiellini</td>\n      <td>16.966384</td>\n    </tr>\n    <tr>\n      <th>11</th>\n      <td>Czech</td>\n      <td>Ondrej Celustka</td>\n      <td>16.846555</td>\n    </tr>\n    <tr>\n      <th>16</th>\n      <td>Czech</td>\n      <td>Vladimir Darida</td>\n      <td>16.324499</td>\n    </tr>\n    <tr>\n      <th>28</th>\n      <td>Italy</td>\n      <td>Lorenzo Insigne</td>\n      <td>14.985146</td>\n    </tr>\n    <tr>\n      <th>27</th>\n      <td>Italy</td>\n      <td>Leonardo Spinazzola</td>\n      <td>14.857484</td>\n    </tr>\n    <tr>\n      <th>30</th>\n      <td>Italy</td>\n      <td>Nicolo Barella</td>\n      <td>13.004317</td>\n    </tr>\n    <tr>\n      <th>19</th>\n      <td>Italy</td>\n      <td>Ciro Immobile</td>\n      <td>12.986050</td>\n    </tr>\n    <tr>\n      <th>13</th>\n      <td>Czech</td>\n      <td>Petr Sevcik</td>\n      <td>12.930728</td>\n    </tr>\n    <tr>\n      <th>1</th>\n      <td>Czech</td>\n      <td>Antonin Barak</td>\n      <td>12.713980</td>\n    </tr>\n    <tr>\n      <th>8</th>\n      <td>Czech</td>\n      <td>Matej Vydra</td>\n      <td>12.292634</td>\n    </tr>\n    <tr>\n      <th>21</th>\n      <td>Italy</td>\n      <td>Federico Chiesa</td>\n      <td>11.691125</td>\n    </tr>\n    <tr>\n      <th>10</th>\n      <td>Czech</td>\n      <td>Michal Sadilek</td>\n      <td>11.036980</td>\n    </tr>\n    <tr>\n      <th>23</th>\n      <td>Italy</td>\n      <td>Giacomo Raspadori</td>\n      <td>8.351580</td>\n    </tr>\n    <tr>\n      <th>12</th>\n      <td>Czech</td>\n      <td>Patrik Schick</td>\n      <td>6.877313</td>\n    </tr>\n  </tbody>\n</table>\n</div>"
     },
     "execution_count": 69,
     "metadata": {},
     "output_type": "execute_result"
    }
   ],
   "source": [
    "player_by_distance = df.groupby(['teamName', 'Name'])['passDistance'].mean()\n",
    "player_by_distance = player_by_distance.reset_index().sort_values(by='passDistance',ascending=False)\n",
    "player_by_distance"
   ],
   "metadata": {
    "collapsed": false
   }
  },
  {
   "cell_type": "code",
   "execution_count": 70,
   "outputs": [
    {
     "data": {
      "application/vnd.plotly.v1+json": {
       "data": [
        {
         "alignmentgroup": "True",
         "hovertemplate": "teamName=Czech<br>passDistance=%{x}<br>Name=%{y}<extra></extra>",
         "legendgroup": "Czech",
         "marker": {
          "color": "lightgrey",
          "pattern": {
           "shape": ""
          }
         },
         "name": "Czech",
         "offsetgroup": "Czech",
         "orientation": "h",
         "showlegend": true,
         "textposition": "auto",
         "x": [
          31.323260023466315,
          21.817274321300015,
          19.819831633361535,
          19.784266424386608,
          19.631203271403372,
          18.762018655769,
          18.748222631740312,
          18.745429527470442,
          17.777913332374457,
          17.276426409126607,
          16.846555497482505,
          16.324499014702543,
          12.930727521859197,
          12.7139801481124,
          12.292633629116366,
          11.036979977943917,
          6.877312550019601
         ],
         "xaxis": "x",
         "y": [
          "Jiri Pavlenka",
          "Jakub Jankto",
          "Jakub Brabec",
          "Michael Krmencik",
          "Alex Kral",
          "Vladimir Coufal",
          "David Zima",
          "Lukas Masopust",
          "Tomas Soucek",
          "Jan Boril",
          "Ondrej Celustka",
          "Vladimir Darida",
          "Petr Sevcik",
          "Antonin Barak",
          "Matej Vydra",
          "Michal Sadilek",
          "Patrik Schick"
         ],
         "yaxis": "y",
         "type": "bar"
        },
        {
         "alignmentgroup": "True",
         "hovertemplate": "teamName=Italy<br>passDistance=%{x}<br>Name=%{y}<extra></extra>",
         "legendgroup": "Italy",
         "marker": {
          "color": "crimson",
          "pattern": {
           "shape": ""
          }
         },
         "name": "Italy",
         "offsetgroup": "Italy",
         "orientation": "h",
         "showlegend": true,
         "textposition": "auto",
         "x": [
          20.847473823688897,
          20.704836795214238,
          20.507340494624987,
          19.638920032641444,
          18.1089484844877,
          17.827927449410947,
          17.311676618764952,
          17.194729243382277,
          16.966384352891016,
          14.98514593847422,
          14.8574835605252,
          13.004317389822083,
          12.986049859572523,
          11.691124803537345,
          8.35158034252889
         ],
         "xaxis": "x",
         "y": [
          "Alessandro Florenzi",
          "Leonardo Bonucci",
          "Gianluigi Donnarumma",
          "Rafael Toloi",
          "Francesco Acerbi",
          "Domenico Berardi",
          "Bryan Cristante",
          "Manuel Locatelli",
          "Giorgio Chiellini",
          "Lorenzo Insigne",
          "Leonardo Spinazzola",
          "Nicolo Barella",
          "Ciro Immobile",
          "Federico Chiesa",
          "Giacomo Raspadori"
         ],
         "yaxis": "y",
         "type": "bar"
        }
       ],
       "layout": {
        "template": {
         "data": {
          "histogram2dcontour": [
           {
            "type": "histogram2dcontour",
            "colorbar": {
             "outlinewidth": 0,
             "ticks": ""
            },
            "colorscale": [
             [
              0.0,
              "#0d0887"
             ],
             [
              0.1111111111111111,
              "#46039f"
             ],
             [
              0.2222222222222222,
              "#7201a8"
             ],
             [
              0.3333333333333333,
              "#9c179e"
             ],
             [
              0.4444444444444444,
              "#bd3786"
             ],
             [
              0.5555555555555556,
              "#d8576b"
             ],
             [
              0.6666666666666666,
              "#ed7953"
             ],
             [
              0.7777777777777778,
              "#fb9f3a"
             ],
             [
              0.8888888888888888,
              "#fdca26"
             ],
             [
              1.0,
              "#f0f921"
             ]
            ]
           }
          ],
          "choropleth": [
           {
            "type": "choropleth",
            "colorbar": {
             "outlinewidth": 0,
             "ticks": ""
            }
           }
          ],
          "histogram2d": [
           {
            "type": "histogram2d",
            "colorbar": {
             "outlinewidth": 0,
             "ticks": ""
            },
            "colorscale": [
             [
              0.0,
              "#0d0887"
             ],
             [
              0.1111111111111111,
              "#46039f"
             ],
             [
              0.2222222222222222,
              "#7201a8"
             ],
             [
              0.3333333333333333,
              "#9c179e"
             ],
             [
              0.4444444444444444,
              "#bd3786"
             ],
             [
              0.5555555555555556,
              "#d8576b"
             ],
             [
              0.6666666666666666,
              "#ed7953"
             ],
             [
              0.7777777777777778,
              "#fb9f3a"
             ],
             [
              0.8888888888888888,
              "#fdca26"
             ],
             [
              1.0,
              "#f0f921"
             ]
            ]
           }
          ],
          "heatmap": [
           {
            "type": "heatmap",
            "colorbar": {
             "outlinewidth": 0,
             "ticks": ""
            },
            "colorscale": [
             [
              0.0,
              "#0d0887"
             ],
             [
              0.1111111111111111,
              "#46039f"
             ],
             [
              0.2222222222222222,
              "#7201a8"
             ],
             [
              0.3333333333333333,
              "#9c179e"
             ],
             [
              0.4444444444444444,
              "#bd3786"
             ],
             [
              0.5555555555555556,
              "#d8576b"
             ],
             [
              0.6666666666666666,
              "#ed7953"
             ],
             [
              0.7777777777777778,
              "#fb9f3a"
             ],
             [
              0.8888888888888888,
              "#fdca26"
             ],
             [
              1.0,
              "#f0f921"
             ]
            ]
           }
          ],
          "heatmapgl": [
           {
            "type": "heatmapgl",
            "colorbar": {
             "outlinewidth": 0,
             "ticks": ""
            },
            "colorscale": [
             [
              0.0,
              "#0d0887"
             ],
             [
              0.1111111111111111,
              "#46039f"
             ],
             [
              0.2222222222222222,
              "#7201a8"
             ],
             [
              0.3333333333333333,
              "#9c179e"
             ],
             [
              0.4444444444444444,
              "#bd3786"
             ],
             [
              0.5555555555555556,
              "#d8576b"
             ],
             [
              0.6666666666666666,
              "#ed7953"
             ],
             [
              0.7777777777777778,
              "#fb9f3a"
             ],
             [
              0.8888888888888888,
              "#fdca26"
             ],
             [
              1.0,
              "#f0f921"
             ]
            ]
           }
          ],
          "contourcarpet": [
           {
            "type": "contourcarpet",
            "colorbar": {
             "outlinewidth": 0,
             "ticks": ""
            }
           }
          ],
          "contour": [
           {
            "type": "contour",
            "colorbar": {
             "outlinewidth": 0,
             "ticks": ""
            },
            "colorscale": [
             [
              0.0,
              "#0d0887"
             ],
             [
              0.1111111111111111,
              "#46039f"
             ],
             [
              0.2222222222222222,
              "#7201a8"
             ],
             [
              0.3333333333333333,
              "#9c179e"
             ],
             [
              0.4444444444444444,
              "#bd3786"
             ],
             [
              0.5555555555555556,
              "#d8576b"
             ],
             [
              0.6666666666666666,
              "#ed7953"
             ],
             [
              0.7777777777777778,
              "#fb9f3a"
             ],
             [
              0.8888888888888888,
              "#fdca26"
             ],
             [
              1.0,
              "#f0f921"
             ]
            ]
           }
          ],
          "surface": [
           {
            "type": "surface",
            "colorbar": {
             "outlinewidth": 0,
             "ticks": ""
            },
            "colorscale": [
             [
              0.0,
              "#0d0887"
             ],
             [
              0.1111111111111111,
              "#46039f"
             ],
             [
              0.2222222222222222,
              "#7201a8"
             ],
             [
              0.3333333333333333,
              "#9c179e"
             ],
             [
              0.4444444444444444,
              "#bd3786"
             ],
             [
              0.5555555555555556,
              "#d8576b"
             ],
             [
              0.6666666666666666,
              "#ed7953"
             ],
             [
              0.7777777777777778,
              "#fb9f3a"
             ],
             [
              0.8888888888888888,
              "#fdca26"
             ],
             [
              1.0,
              "#f0f921"
             ]
            ]
           }
          ],
          "mesh3d": [
           {
            "type": "mesh3d",
            "colorbar": {
             "outlinewidth": 0,
             "ticks": ""
            }
           }
          ],
          "scatter": [
           {
            "marker": {
             "line": {
              "color": "#283442"
             }
            },
            "type": "scatter"
           }
          ],
          "parcoords": [
           {
            "type": "parcoords",
            "line": {
             "colorbar": {
              "outlinewidth": 0,
              "ticks": ""
             }
            }
           }
          ],
          "scatterpolargl": [
           {
            "type": "scatterpolargl",
            "marker": {
             "colorbar": {
              "outlinewidth": 0,
              "ticks": ""
             }
            }
           }
          ],
          "bar": [
           {
            "error_x": {
             "color": "#f2f5fa"
            },
            "error_y": {
             "color": "#f2f5fa"
            },
            "marker": {
             "line": {
              "color": "rgb(17,17,17)",
              "width": 0.5
             },
             "pattern": {
              "fillmode": "overlay",
              "size": 10,
              "solidity": 0.2
             }
            },
            "type": "bar"
           }
          ],
          "scattergeo": [
           {
            "type": "scattergeo",
            "marker": {
             "colorbar": {
              "outlinewidth": 0,
              "ticks": ""
             }
            }
           }
          ],
          "scatterpolar": [
           {
            "type": "scatterpolar",
            "marker": {
             "colorbar": {
              "outlinewidth": 0,
              "ticks": ""
             }
            }
           }
          ],
          "histogram": [
           {
            "marker": {
             "pattern": {
              "fillmode": "overlay",
              "size": 10,
              "solidity": 0.2
             }
            },
            "type": "histogram"
           }
          ],
          "scattergl": [
           {
            "marker": {
             "line": {
              "color": "#283442"
             }
            },
            "type": "scattergl"
           }
          ],
          "scatter3d": [
           {
            "type": "scatter3d",
            "line": {
             "colorbar": {
              "outlinewidth": 0,
              "ticks": ""
             }
            },
            "marker": {
             "colorbar": {
              "outlinewidth": 0,
              "ticks": ""
             }
            }
           }
          ],
          "scattermapbox": [
           {
            "type": "scattermapbox",
            "marker": {
             "colorbar": {
              "outlinewidth": 0,
              "ticks": ""
             }
            }
           }
          ],
          "scatterternary": [
           {
            "type": "scatterternary",
            "marker": {
             "colorbar": {
              "outlinewidth": 0,
              "ticks": ""
             }
            }
           }
          ],
          "scattercarpet": [
           {
            "type": "scattercarpet",
            "marker": {
             "colorbar": {
              "outlinewidth": 0,
              "ticks": ""
             }
            }
           }
          ],
          "carpet": [
           {
            "aaxis": {
             "endlinecolor": "#A2B1C6",
             "gridcolor": "#506784",
             "linecolor": "#506784",
             "minorgridcolor": "#506784",
             "startlinecolor": "#A2B1C6"
            },
            "baxis": {
             "endlinecolor": "#A2B1C6",
             "gridcolor": "#506784",
             "linecolor": "#506784",
             "minorgridcolor": "#506784",
             "startlinecolor": "#A2B1C6"
            },
            "type": "carpet"
           }
          ],
          "table": [
           {
            "cells": {
             "fill": {
              "color": "#506784"
             },
             "line": {
              "color": "rgb(17,17,17)"
             }
            },
            "header": {
             "fill": {
              "color": "#2a3f5f"
             },
             "line": {
              "color": "rgb(17,17,17)"
             }
            },
            "type": "table"
           }
          ],
          "barpolar": [
           {
            "marker": {
             "line": {
              "color": "rgb(17,17,17)",
              "width": 0.5
             },
             "pattern": {
              "fillmode": "overlay",
              "size": 10,
              "solidity": 0.2
             }
            },
            "type": "barpolar"
           }
          ],
          "pie": [
           {
            "automargin": true,
            "type": "pie"
           }
          ]
         },
         "layout": {
          "autotypenumbers": "strict",
          "colorway": [
           "#636efa",
           "#EF553B",
           "#00cc96",
           "#ab63fa",
           "#FFA15A",
           "#19d3f3",
           "#FF6692",
           "#B6E880",
           "#FF97FF",
           "#FECB52"
          ],
          "font": {
           "color": "#f2f5fa"
          },
          "hovermode": "closest",
          "hoverlabel": {
           "align": "left"
          },
          "paper_bgcolor": "rgb(17,17,17)",
          "plot_bgcolor": "rgb(17,17,17)",
          "polar": {
           "bgcolor": "rgb(17,17,17)",
           "angularaxis": {
            "gridcolor": "#506784",
            "linecolor": "#506784",
            "ticks": ""
           },
           "radialaxis": {
            "gridcolor": "#506784",
            "linecolor": "#506784",
            "ticks": ""
           }
          },
          "ternary": {
           "bgcolor": "rgb(17,17,17)",
           "aaxis": {
            "gridcolor": "#506784",
            "linecolor": "#506784",
            "ticks": ""
           },
           "baxis": {
            "gridcolor": "#506784",
            "linecolor": "#506784",
            "ticks": ""
           },
           "caxis": {
            "gridcolor": "#506784",
            "linecolor": "#506784",
            "ticks": ""
           }
          },
          "coloraxis": {
           "colorbar": {
            "outlinewidth": 0,
            "ticks": ""
           }
          },
          "colorscale": {
           "sequential": [
            [
             0.0,
             "#0d0887"
            ],
            [
             0.1111111111111111,
             "#46039f"
            ],
            [
             0.2222222222222222,
             "#7201a8"
            ],
            [
             0.3333333333333333,
             "#9c179e"
            ],
            [
             0.4444444444444444,
             "#bd3786"
            ],
            [
             0.5555555555555556,
             "#d8576b"
            ],
            [
             0.6666666666666666,
             "#ed7953"
            ],
            [
             0.7777777777777778,
             "#fb9f3a"
            ],
            [
             0.8888888888888888,
             "#fdca26"
            ],
            [
             1.0,
             "#f0f921"
            ]
           ],
           "sequentialminus": [
            [
             0.0,
             "#0d0887"
            ],
            [
             0.1111111111111111,
             "#46039f"
            ],
            [
             0.2222222222222222,
             "#7201a8"
            ],
            [
             0.3333333333333333,
             "#9c179e"
            ],
            [
             0.4444444444444444,
             "#bd3786"
            ],
            [
             0.5555555555555556,
             "#d8576b"
            ],
            [
             0.6666666666666666,
             "#ed7953"
            ],
            [
             0.7777777777777778,
             "#fb9f3a"
            ],
            [
             0.8888888888888888,
             "#fdca26"
            ],
            [
             1.0,
             "#f0f921"
            ]
           ],
           "diverging": [
            [
             0,
             "#8e0152"
            ],
            [
             0.1,
             "#c51b7d"
            ],
            [
             0.2,
             "#de77ae"
            ],
            [
             0.3,
             "#f1b6da"
            ],
            [
             0.4,
             "#fde0ef"
            ],
            [
             0.5,
             "#f7f7f7"
            ],
            [
             0.6,
             "#e6f5d0"
            ],
            [
             0.7,
             "#b8e186"
            ],
            [
             0.8,
             "#7fbc41"
            ],
            [
             0.9,
             "#4d9221"
            ],
            [
             1,
             "#276419"
            ]
           ]
          },
          "xaxis": {
           "gridcolor": "#283442",
           "linecolor": "#506784",
           "ticks": "",
           "title": {
            "standoff": 15
           },
           "zerolinecolor": "#283442",
           "automargin": true,
           "zerolinewidth": 2
          },
          "yaxis": {
           "gridcolor": "#283442",
           "linecolor": "#506784",
           "ticks": "",
           "title": {
            "standoff": 15
           },
           "zerolinecolor": "#283442",
           "automargin": true,
           "zerolinewidth": 2
          },
          "scene": {
           "xaxis": {
            "backgroundcolor": "rgb(17,17,17)",
            "gridcolor": "#506784",
            "linecolor": "#506784",
            "showbackground": true,
            "ticks": "",
            "zerolinecolor": "#C8D4E3",
            "gridwidth": 2
           },
           "yaxis": {
            "backgroundcolor": "rgb(17,17,17)",
            "gridcolor": "#506784",
            "linecolor": "#506784",
            "showbackground": true,
            "ticks": "",
            "zerolinecolor": "#C8D4E3",
            "gridwidth": 2
           },
           "zaxis": {
            "backgroundcolor": "rgb(17,17,17)",
            "gridcolor": "#506784",
            "linecolor": "#506784",
            "showbackground": true,
            "ticks": "",
            "zerolinecolor": "#C8D4E3",
            "gridwidth": 2
           }
          },
          "shapedefaults": {
           "line": {
            "color": "#f2f5fa"
           }
          },
          "annotationdefaults": {
           "arrowcolor": "#f2f5fa",
           "arrowhead": 0,
           "arrowwidth": 1
          },
          "geo": {
           "bgcolor": "rgb(17,17,17)",
           "landcolor": "rgb(17,17,17)",
           "subunitcolor": "#506784",
           "showland": true,
           "showlakes": true,
           "lakecolor": "rgb(17,17,17)"
          },
          "title": {
           "x": 0.05
          },
          "updatemenudefaults": {
           "bgcolor": "#506784",
           "borderwidth": 0
          },
          "sliderdefaults": {
           "bgcolor": "#C8D4E3",
           "borderwidth": 1,
           "bordercolor": "rgb(17,17,17)",
           "tickwidth": 0
          },
          "mapbox": {
           "style": "dark"
          }
         }
        },
        "xaxis": {
         "anchor": "y",
         "domain": [
          0.0,
          1.0
         ],
         "title": {
          "text": "passDistance"
         },
         "showgrid": false,
         "gridwidth": 0
        },
        "yaxis": {
         "anchor": "x",
         "domain": [
          0.0,
          1.0
         ],
         "title": {
          "text": "Name"
         },
         "showgrid": false,
         "tickfont": {
          "size": 5
         },
         "gridwidth": 0
        },
        "legend": {
         "title": {
          "text": "teamName"
         },
         "tracegroupgap": 0
        },
        "margin": {
         "t": 60
        },
        "barmode": "relative",
        "font": {
         "color": "black"
        },
        "paper_bgcolor": "white",
        "plot_bgcolor": "white"
       },
       "config": {
        "plotlyServerURL": "https://plot.ly"
       }
      },
      "text/html": "<div>                            <div id=\"c4931b45-08c8-42d3-bdcf-fce39baca0e3\" class=\"plotly-graph-div\" style=\"height:525px; width:100%;\"></div>            <script type=\"text/javascript\">                require([\"plotly\"], function(Plotly) {                    window.PLOTLYENV=window.PLOTLYENV || {};                                    if (document.getElementById(\"c4931b45-08c8-42d3-bdcf-fce39baca0e3\")) {                    Plotly.newPlot(                        \"c4931b45-08c8-42d3-bdcf-fce39baca0e3\",                        [{\"alignmentgroup\":\"True\",\"hovertemplate\":\"teamName=Czech<br>passDistance=%{x}<br>Name=%{y}<extra></extra>\",\"legendgroup\":\"Czech\",\"marker\":{\"color\":\"lightgrey\",\"pattern\":{\"shape\":\"\"}},\"name\":\"Czech\",\"offsetgroup\":\"Czech\",\"orientation\":\"h\",\"showlegend\":true,\"textposition\":\"auto\",\"x\":[31.323260023466315,21.817274321300015,19.819831633361535,19.784266424386608,19.631203271403372,18.762018655769,18.748222631740312,18.745429527470442,17.777913332374457,17.276426409126607,16.846555497482505,16.324499014702543,12.930727521859197,12.7139801481124,12.292633629116366,11.036979977943917,6.877312550019601],\"xaxis\":\"x\",\"y\":[\"Jiri Pavlenka\",\"Jakub Jankto\",\"Jakub Brabec\",\"Michael Krmencik\",\"Alex Kral\",\"Vladimir Coufal\",\"David Zima\",\"Lukas Masopust\",\"Tomas Soucek\",\"Jan Boril\",\"Ondrej Celustka\",\"Vladimir Darida\",\"Petr Sevcik\",\"Antonin Barak\",\"Matej Vydra\",\"Michal Sadilek\",\"Patrik Schick\"],\"yaxis\":\"y\",\"type\":\"bar\"},{\"alignmentgroup\":\"True\",\"hovertemplate\":\"teamName=Italy<br>passDistance=%{x}<br>Name=%{y}<extra></extra>\",\"legendgroup\":\"Italy\",\"marker\":{\"color\":\"crimson\",\"pattern\":{\"shape\":\"\"}},\"name\":\"Italy\",\"offsetgroup\":\"Italy\",\"orientation\":\"h\",\"showlegend\":true,\"textposition\":\"auto\",\"x\":[20.847473823688897,20.704836795214238,20.507340494624987,19.638920032641444,18.1089484844877,17.827927449410947,17.311676618764952,17.194729243382277,16.966384352891016,14.98514593847422,14.8574835605252,13.004317389822083,12.986049859572523,11.691124803537345,8.35158034252889],\"xaxis\":\"x\",\"y\":[\"Alessandro Florenzi\",\"Leonardo Bonucci\",\"Gianluigi Donnarumma\",\"Rafael Toloi\",\"Francesco Acerbi\",\"Domenico Berardi\",\"Bryan Cristante\",\"Manuel Locatelli\",\"Giorgio Chiellini\",\"Lorenzo Insigne\",\"Leonardo Spinazzola\",\"Nicolo Barella\",\"Ciro Immobile\",\"Federico Chiesa\",\"Giacomo Raspadori\"],\"yaxis\":\"y\",\"type\":\"bar\"}],                        {\"template\":{\"data\":{\"histogram2dcontour\":[{\"type\":\"histogram2dcontour\",\"colorbar\":{\"outlinewidth\":0,\"ticks\":\"\"},\"colorscale\":[[0.0,\"#0d0887\"],[0.1111111111111111,\"#46039f\"],[0.2222222222222222,\"#7201a8\"],[0.3333333333333333,\"#9c179e\"],[0.4444444444444444,\"#bd3786\"],[0.5555555555555556,\"#d8576b\"],[0.6666666666666666,\"#ed7953\"],[0.7777777777777778,\"#fb9f3a\"],[0.8888888888888888,\"#fdca26\"],[1.0,\"#f0f921\"]]}],\"choropleth\":[{\"type\":\"choropleth\",\"colorbar\":{\"outlinewidth\":0,\"ticks\":\"\"}}],\"histogram2d\":[{\"type\":\"histogram2d\",\"colorbar\":{\"outlinewidth\":0,\"ticks\":\"\"},\"colorscale\":[[0.0,\"#0d0887\"],[0.1111111111111111,\"#46039f\"],[0.2222222222222222,\"#7201a8\"],[0.3333333333333333,\"#9c179e\"],[0.4444444444444444,\"#bd3786\"],[0.5555555555555556,\"#d8576b\"],[0.6666666666666666,\"#ed7953\"],[0.7777777777777778,\"#fb9f3a\"],[0.8888888888888888,\"#fdca26\"],[1.0,\"#f0f921\"]]}],\"heatmap\":[{\"type\":\"heatmap\",\"colorbar\":{\"outlinewidth\":0,\"ticks\":\"\"},\"colorscale\":[[0.0,\"#0d0887\"],[0.1111111111111111,\"#46039f\"],[0.2222222222222222,\"#7201a8\"],[0.3333333333333333,\"#9c179e\"],[0.4444444444444444,\"#bd3786\"],[0.5555555555555556,\"#d8576b\"],[0.6666666666666666,\"#ed7953\"],[0.7777777777777778,\"#fb9f3a\"],[0.8888888888888888,\"#fdca26\"],[1.0,\"#f0f921\"]]}],\"heatmapgl\":[{\"type\":\"heatmapgl\",\"colorbar\":{\"outlinewidth\":0,\"ticks\":\"\"},\"colorscale\":[[0.0,\"#0d0887\"],[0.1111111111111111,\"#46039f\"],[0.2222222222222222,\"#7201a8\"],[0.3333333333333333,\"#9c179e\"],[0.4444444444444444,\"#bd3786\"],[0.5555555555555556,\"#d8576b\"],[0.6666666666666666,\"#ed7953\"],[0.7777777777777778,\"#fb9f3a\"],[0.8888888888888888,\"#fdca26\"],[1.0,\"#f0f921\"]]}],\"contourcarpet\":[{\"type\":\"contourcarpet\",\"colorbar\":{\"outlinewidth\":0,\"ticks\":\"\"}}],\"contour\":[{\"type\":\"contour\",\"colorbar\":{\"outlinewidth\":0,\"ticks\":\"\"},\"colorscale\":[[0.0,\"#0d0887\"],[0.1111111111111111,\"#46039f\"],[0.2222222222222222,\"#7201a8\"],[0.3333333333333333,\"#9c179e\"],[0.4444444444444444,\"#bd3786\"],[0.5555555555555556,\"#d8576b\"],[0.6666666666666666,\"#ed7953\"],[0.7777777777777778,\"#fb9f3a\"],[0.8888888888888888,\"#fdca26\"],[1.0,\"#f0f921\"]]}],\"surface\":[{\"type\":\"surface\",\"colorbar\":{\"outlinewidth\":0,\"ticks\":\"\"},\"colorscale\":[[0.0,\"#0d0887\"],[0.1111111111111111,\"#46039f\"],[0.2222222222222222,\"#7201a8\"],[0.3333333333333333,\"#9c179e\"],[0.4444444444444444,\"#bd3786\"],[0.5555555555555556,\"#d8576b\"],[0.6666666666666666,\"#ed7953\"],[0.7777777777777778,\"#fb9f3a\"],[0.8888888888888888,\"#fdca26\"],[1.0,\"#f0f921\"]]}],\"mesh3d\":[{\"type\":\"mesh3d\",\"colorbar\":{\"outlinewidth\":0,\"ticks\":\"\"}}],\"scatter\":[{\"marker\":{\"line\":{\"color\":\"#283442\"}},\"type\":\"scatter\"}],\"parcoords\":[{\"type\":\"parcoords\",\"line\":{\"colorbar\":{\"outlinewidth\":0,\"ticks\":\"\"}}}],\"scatterpolargl\":[{\"type\":\"scatterpolargl\",\"marker\":{\"colorbar\":{\"outlinewidth\":0,\"ticks\":\"\"}}}],\"bar\":[{\"error_x\":{\"color\":\"#f2f5fa\"},\"error_y\":{\"color\":\"#f2f5fa\"},\"marker\":{\"line\":{\"color\":\"rgb(17,17,17)\",\"width\":0.5},\"pattern\":{\"fillmode\":\"overlay\",\"size\":10,\"solidity\":0.2}},\"type\":\"bar\"}],\"scattergeo\":[{\"type\":\"scattergeo\",\"marker\":{\"colorbar\":{\"outlinewidth\":0,\"ticks\":\"\"}}}],\"scatterpolar\":[{\"type\":\"scatterpolar\",\"marker\":{\"colorbar\":{\"outlinewidth\":0,\"ticks\":\"\"}}}],\"histogram\":[{\"marker\":{\"pattern\":{\"fillmode\":\"overlay\",\"size\":10,\"solidity\":0.2}},\"type\":\"histogram\"}],\"scattergl\":[{\"marker\":{\"line\":{\"color\":\"#283442\"}},\"type\":\"scattergl\"}],\"scatter3d\":[{\"type\":\"scatter3d\",\"line\":{\"colorbar\":{\"outlinewidth\":0,\"ticks\":\"\"}},\"marker\":{\"colorbar\":{\"outlinewidth\":0,\"ticks\":\"\"}}}],\"scattermapbox\":[{\"type\":\"scattermapbox\",\"marker\":{\"colorbar\":{\"outlinewidth\":0,\"ticks\":\"\"}}}],\"scatterternary\":[{\"type\":\"scatterternary\",\"marker\":{\"colorbar\":{\"outlinewidth\":0,\"ticks\":\"\"}}}],\"scattercarpet\":[{\"type\":\"scattercarpet\",\"marker\":{\"colorbar\":{\"outlinewidth\":0,\"ticks\":\"\"}}}],\"carpet\":[{\"aaxis\":{\"endlinecolor\":\"#A2B1C6\",\"gridcolor\":\"#506784\",\"linecolor\":\"#506784\",\"minorgridcolor\":\"#506784\",\"startlinecolor\":\"#A2B1C6\"},\"baxis\":{\"endlinecolor\":\"#A2B1C6\",\"gridcolor\":\"#506784\",\"linecolor\":\"#506784\",\"minorgridcolor\":\"#506784\",\"startlinecolor\":\"#A2B1C6\"},\"type\":\"carpet\"}],\"table\":[{\"cells\":{\"fill\":{\"color\":\"#506784\"},\"line\":{\"color\":\"rgb(17,17,17)\"}},\"header\":{\"fill\":{\"color\":\"#2a3f5f\"},\"line\":{\"color\":\"rgb(17,17,17)\"}},\"type\":\"table\"}],\"barpolar\":[{\"marker\":{\"line\":{\"color\":\"rgb(17,17,17)\",\"width\":0.5},\"pattern\":{\"fillmode\":\"overlay\",\"size\":10,\"solidity\":0.2}},\"type\":\"barpolar\"}],\"pie\":[{\"automargin\":true,\"type\":\"pie\"}]},\"layout\":{\"autotypenumbers\":\"strict\",\"colorway\":[\"#636efa\",\"#EF553B\",\"#00cc96\",\"#ab63fa\",\"#FFA15A\",\"#19d3f3\",\"#FF6692\",\"#B6E880\",\"#FF97FF\",\"#FECB52\"],\"font\":{\"color\":\"#f2f5fa\"},\"hovermode\":\"closest\",\"hoverlabel\":{\"align\":\"left\"},\"paper_bgcolor\":\"rgb(17,17,17)\",\"plot_bgcolor\":\"rgb(17,17,17)\",\"polar\":{\"bgcolor\":\"rgb(17,17,17)\",\"angularaxis\":{\"gridcolor\":\"#506784\",\"linecolor\":\"#506784\",\"ticks\":\"\"},\"radialaxis\":{\"gridcolor\":\"#506784\",\"linecolor\":\"#506784\",\"ticks\":\"\"}},\"ternary\":{\"bgcolor\":\"rgb(17,17,17)\",\"aaxis\":{\"gridcolor\":\"#506784\",\"linecolor\":\"#506784\",\"ticks\":\"\"},\"baxis\":{\"gridcolor\":\"#506784\",\"linecolor\":\"#506784\",\"ticks\":\"\"},\"caxis\":{\"gridcolor\":\"#506784\",\"linecolor\":\"#506784\",\"ticks\":\"\"}},\"coloraxis\":{\"colorbar\":{\"outlinewidth\":0,\"ticks\":\"\"}},\"colorscale\":{\"sequential\":[[0.0,\"#0d0887\"],[0.1111111111111111,\"#46039f\"],[0.2222222222222222,\"#7201a8\"],[0.3333333333333333,\"#9c179e\"],[0.4444444444444444,\"#bd3786\"],[0.5555555555555556,\"#d8576b\"],[0.6666666666666666,\"#ed7953\"],[0.7777777777777778,\"#fb9f3a\"],[0.8888888888888888,\"#fdca26\"],[1.0,\"#f0f921\"]],\"sequentialminus\":[[0.0,\"#0d0887\"],[0.1111111111111111,\"#46039f\"],[0.2222222222222222,\"#7201a8\"],[0.3333333333333333,\"#9c179e\"],[0.4444444444444444,\"#bd3786\"],[0.5555555555555556,\"#d8576b\"],[0.6666666666666666,\"#ed7953\"],[0.7777777777777778,\"#fb9f3a\"],[0.8888888888888888,\"#fdca26\"],[1.0,\"#f0f921\"]],\"diverging\":[[0,\"#8e0152\"],[0.1,\"#c51b7d\"],[0.2,\"#de77ae\"],[0.3,\"#f1b6da\"],[0.4,\"#fde0ef\"],[0.5,\"#f7f7f7\"],[0.6,\"#e6f5d0\"],[0.7,\"#b8e186\"],[0.8,\"#7fbc41\"],[0.9,\"#4d9221\"],[1,\"#276419\"]]},\"xaxis\":{\"gridcolor\":\"#283442\",\"linecolor\":\"#506784\",\"ticks\":\"\",\"title\":{\"standoff\":15},\"zerolinecolor\":\"#283442\",\"automargin\":true,\"zerolinewidth\":2},\"yaxis\":{\"gridcolor\":\"#283442\",\"linecolor\":\"#506784\",\"ticks\":\"\",\"title\":{\"standoff\":15},\"zerolinecolor\":\"#283442\",\"automargin\":true,\"zerolinewidth\":2},\"scene\":{\"xaxis\":{\"backgroundcolor\":\"rgb(17,17,17)\",\"gridcolor\":\"#506784\",\"linecolor\":\"#506784\",\"showbackground\":true,\"ticks\":\"\",\"zerolinecolor\":\"#C8D4E3\",\"gridwidth\":2},\"yaxis\":{\"backgroundcolor\":\"rgb(17,17,17)\",\"gridcolor\":\"#506784\",\"linecolor\":\"#506784\",\"showbackground\":true,\"ticks\":\"\",\"zerolinecolor\":\"#C8D4E3\",\"gridwidth\":2},\"zaxis\":{\"backgroundcolor\":\"rgb(17,17,17)\",\"gridcolor\":\"#506784\",\"linecolor\":\"#506784\",\"showbackground\":true,\"ticks\":\"\",\"zerolinecolor\":\"#C8D4E3\",\"gridwidth\":2}},\"shapedefaults\":{\"line\":{\"color\":\"#f2f5fa\"}},\"annotationdefaults\":{\"arrowcolor\":\"#f2f5fa\",\"arrowhead\":0,\"arrowwidth\":1},\"geo\":{\"bgcolor\":\"rgb(17,17,17)\",\"landcolor\":\"rgb(17,17,17)\",\"subunitcolor\":\"#506784\",\"showland\":true,\"showlakes\":true,\"lakecolor\":\"rgb(17,17,17)\"},\"title\":{\"x\":0.05},\"updatemenudefaults\":{\"bgcolor\":\"#506784\",\"borderwidth\":0},\"sliderdefaults\":{\"bgcolor\":\"#C8D4E3\",\"borderwidth\":1,\"bordercolor\":\"rgb(17,17,17)\",\"tickwidth\":0},\"mapbox\":{\"style\":\"dark\"}}},\"xaxis\":{\"anchor\":\"y\",\"domain\":[0.0,1.0],\"title\":{\"text\":\"passDistance\"},\"showgrid\":false,\"gridwidth\":0},\"yaxis\":{\"anchor\":\"x\",\"domain\":[0.0,1.0],\"title\":{\"text\":\"Name\"},\"showgrid\":false,\"tickfont\":{\"size\":5},\"gridwidth\":0},\"legend\":{\"title\":{\"text\":\"teamName\"},\"tracegroupgap\":0},\"margin\":{\"t\":60},\"barmode\":\"relative\",\"font\":{\"color\":\"black\"},\"paper_bgcolor\":\"white\",\"plot_bgcolor\":\"white\"},                        {\"responsive\": true}                    ).then(function(){\n                            \nvar gd = document.getElementById('c4931b45-08c8-42d3-bdcf-fce39baca0e3');\nvar x = new MutationObserver(function (mutations, observer) {{\n        var display = window.getComputedStyle(gd).display;\n        if (!display || display === 'none') {{\n            console.log([gd, 'removed!']);\n            Plotly.purge(gd);\n            observer.disconnect();\n        }}\n}});\n\n// Listen for the removal of the full notebook cells\nvar notebookContainer = gd.closest('#notebook-container');\nif (notebookContainer) {{\n    x.observe(notebookContainer, {childList: true});\n}}\n\n// Listen for the clearing of the current output cell\nvar outputEl = gd.closest('.output');\nif (outputEl) {{\n    x.observe(outputEl, {childList: true});\n}}\n\n                        })                };                });            </script>        </div>"
     },
     "metadata": {},
     "output_type": "display_data"
    }
   ],
   "source": [
    "fig = px.bar(\n",
    "    data_frame= player_by_distance,\n",
    "    x='passDistance', y='Name', orientation='h', color='teamName',\n",
    "    color_discrete_map={'Italy': 'crimson', 'Czech': 'lightgrey'}\n",
    ")\n",
    "\n",
    "fig.update_layout(\n",
    "    paper_bgcolor='white', plot_bgcolor='white', font=dict(color='black'),\n",
    "    xaxis=dict(showgrid=False), yaxis=dict(showgrid=False)\n",
    ")\n",
    "\n",
    "fig.update_xaxes(showgrid=False, gridwidth=0)\n",
    "fig.update_yaxes(showgrid=False, gridwidth=0, tickfont=dict(size=5))\n",
    "\n",
    "fig.show()"
   ],
   "metadata": {
    "collapsed": false
   }
  },
  {
   "cell_type": "code",
   "execution_count": 72,
   "outputs": [
    {
     "data": {
      "text/plain": "  teamName  passDistance\n0    Czech     18.839485\n1    Italy     17.148585",
      "text/html": "<div>\n<style scoped>\n    .dataframe tbody tr th:only-of-type {\n        vertical-align: middle;\n    }\n\n    .dataframe tbody tr th {\n        vertical-align: top;\n    }\n\n    .dataframe thead th {\n        text-align: right;\n    }\n</style>\n<table border=\"1\" class=\"dataframe\">\n  <thead>\n    <tr style=\"text-align: right;\">\n      <th></th>\n      <th>teamName</th>\n      <th>passDistance</th>\n    </tr>\n  </thead>\n  <tbody>\n    <tr>\n      <th>0</th>\n      <td>Czech</td>\n      <td>18.839485</td>\n    </tr>\n    <tr>\n      <th>1</th>\n      <td>Italy</td>\n      <td>17.148585</td>\n    </tr>\n  </tbody>\n</table>\n</div>"
     },
     "execution_count": 72,
     "metadata": {},
     "output_type": "execute_result"
    }
   ],
   "source": [
    "team_by_distance = df.groupby(['teamName'])['passDistance'].mean().reset_index()\n",
    "team_by_distance"
   ],
   "metadata": {
    "collapsed": false
   }
  },
  {
   "cell_type": "code",
   "execution_count": 85,
   "outputs": [
    {
     "data": {
      "application/vnd.plotly.v1+json": {
       "data": [
        {
         "domain": {
          "x": [
           0.0,
           1.0
          ],
          "y": [
           0.0,
           1.0
          ]
         },
         "hovertemplate": "label=%{label}<br>value=%{value}<extra></extra>",
         "labels": [
          "Czech Republic",
          "Italy"
         ],
         "legendgroup": "",
         "name": "",
         "showlegend": true,
         "values": [
          18.8,
          17.1
         ],
         "type": "pie",
         "marker": {
          "line": {
           "color": "black",
           "width": 1
          },
          "colors": [
           "lightgrey",
           "crimson"
          ]
         },
         "hole": 0.5,
         "textinfo": "text+value"
        }
       ],
       "layout": {
        "template": {
         "data": {
          "histogram2dcontour": [
           {
            "type": "histogram2dcontour",
            "colorbar": {
             "outlinewidth": 0,
             "ticks": ""
            },
            "colorscale": [
             [
              0.0,
              "#0d0887"
             ],
             [
              0.1111111111111111,
              "#46039f"
             ],
             [
              0.2222222222222222,
              "#7201a8"
             ],
             [
              0.3333333333333333,
              "#9c179e"
             ],
             [
              0.4444444444444444,
              "#bd3786"
             ],
             [
              0.5555555555555556,
              "#d8576b"
             ],
             [
              0.6666666666666666,
              "#ed7953"
             ],
             [
              0.7777777777777778,
              "#fb9f3a"
             ],
             [
              0.8888888888888888,
              "#fdca26"
             ],
             [
              1.0,
              "#f0f921"
             ]
            ]
           }
          ],
          "choropleth": [
           {
            "type": "choropleth",
            "colorbar": {
             "outlinewidth": 0,
             "ticks": ""
            }
           }
          ],
          "histogram2d": [
           {
            "type": "histogram2d",
            "colorbar": {
             "outlinewidth": 0,
             "ticks": ""
            },
            "colorscale": [
             [
              0.0,
              "#0d0887"
             ],
             [
              0.1111111111111111,
              "#46039f"
             ],
             [
              0.2222222222222222,
              "#7201a8"
             ],
             [
              0.3333333333333333,
              "#9c179e"
             ],
             [
              0.4444444444444444,
              "#bd3786"
             ],
             [
              0.5555555555555556,
              "#d8576b"
             ],
             [
              0.6666666666666666,
              "#ed7953"
             ],
             [
              0.7777777777777778,
              "#fb9f3a"
             ],
             [
              0.8888888888888888,
              "#fdca26"
             ],
             [
              1.0,
              "#f0f921"
             ]
            ]
           }
          ],
          "heatmap": [
           {
            "type": "heatmap",
            "colorbar": {
             "outlinewidth": 0,
             "ticks": ""
            },
            "colorscale": [
             [
              0.0,
              "#0d0887"
             ],
             [
              0.1111111111111111,
              "#46039f"
             ],
             [
              0.2222222222222222,
              "#7201a8"
             ],
             [
              0.3333333333333333,
              "#9c179e"
             ],
             [
              0.4444444444444444,
              "#bd3786"
             ],
             [
              0.5555555555555556,
              "#d8576b"
             ],
             [
              0.6666666666666666,
              "#ed7953"
             ],
             [
              0.7777777777777778,
              "#fb9f3a"
             ],
             [
              0.8888888888888888,
              "#fdca26"
             ],
             [
              1.0,
              "#f0f921"
             ]
            ]
           }
          ],
          "heatmapgl": [
           {
            "type": "heatmapgl",
            "colorbar": {
             "outlinewidth": 0,
             "ticks": ""
            },
            "colorscale": [
             [
              0.0,
              "#0d0887"
             ],
             [
              0.1111111111111111,
              "#46039f"
             ],
             [
              0.2222222222222222,
              "#7201a8"
             ],
             [
              0.3333333333333333,
              "#9c179e"
             ],
             [
              0.4444444444444444,
              "#bd3786"
             ],
             [
              0.5555555555555556,
              "#d8576b"
             ],
             [
              0.6666666666666666,
              "#ed7953"
             ],
             [
              0.7777777777777778,
              "#fb9f3a"
             ],
             [
              0.8888888888888888,
              "#fdca26"
             ],
             [
              1.0,
              "#f0f921"
             ]
            ]
           }
          ],
          "contourcarpet": [
           {
            "type": "contourcarpet",
            "colorbar": {
             "outlinewidth": 0,
             "ticks": ""
            }
           }
          ],
          "contour": [
           {
            "type": "contour",
            "colorbar": {
             "outlinewidth": 0,
             "ticks": ""
            },
            "colorscale": [
             [
              0.0,
              "#0d0887"
             ],
             [
              0.1111111111111111,
              "#46039f"
             ],
             [
              0.2222222222222222,
              "#7201a8"
             ],
             [
              0.3333333333333333,
              "#9c179e"
             ],
             [
              0.4444444444444444,
              "#bd3786"
             ],
             [
              0.5555555555555556,
              "#d8576b"
             ],
             [
              0.6666666666666666,
              "#ed7953"
             ],
             [
              0.7777777777777778,
              "#fb9f3a"
             ],
             [
              0.8888888888888888,
              "#fdca26"
             ],
             [
              1.0,
              "#f0f921"
             ]
            ]
           }
          ],
          "surface": [
           {
            "type": "surface",
            "colorbar": {
             "outlinewidth": 0,
             "ticks": ""
            },
            "colorscale": [
             [
              0.0,
              "#0d0887"
             ],
             [
              0.1111111111111111,
              "#46039f"
             ],
             [
              0.2222222222222222,
              "#7201a8"
             ],
             [
              0.3333333333333333,
              "#9c179e"
             ],
             [
              0.4444444444444444,
              "#bd3786"
             ],
             [
              0.5555555555555556,
              "#d8576b"
             ],
             [
              0.6666666666666666,
              "#ed7953"
             ],
             [
              0.7777777777777778,
              "#fb9f3a"
             ],
             [
              0.8888888888888888,
              "#fdca26"
             ],
             [
              1.0,
              "#f0f921"
             ]
            ]
           }
          ],
          "mesh3d": [
           {
            "type": "mesh3d",
            "colorbar": {
             "outlinewidth": 0,
             "ticks": ""
            }
           }
          ],
          "scatter": [
           {
            "marker": {
             "line": {
              "color": "#283442"
             }
            },
            "type": "scatter"
           }
          ],
          "parcoords": [
           {
            "type": "parcoords",
            "line": {
             "colorbar": {
              "outlinewidth": 0,
              "ticks": ""
             }
            }
           }
          ],
          "scatterpolargl": [
           {
            "type": "scatterpolargl",
            "marker": {
             "colorbar": {
              "outlinewidth": 0,
              "ticks": ""
             }
            }
           }
          ],
          "bar": [
           {
            "error_x": {
             "color": "#f2f5fa"
            },
            "error_y": {
             "color": "#f2f5fa"
            },
            "marker": {
             "line": {
              "color": "rgb(17,17,17)",
              "width": 0.5
             },
             "pattern": {
              "fillmode": "overlay",
              "size": 10,
              "solidity": 0.2
             }
            },
            "type": "bar"
           }
          ],
          "scattergeo": [
           {
            "type": "scattergeo",
            "marker": {
             "colorbar": {
              "outlinewidth": 0,
              "ticks": ""
             }
            }
           }
          ],
          "scatterpolar": [
           {
            "type": "scatterpolar",
            "marker": {
             "colorbar": {
              "outlinewidth": 0,
              "ticks": ""
             }
            }
           }
          ],
          "histogram": [
           {
            "marker": {
             "pattern": {
              "fillmode": "overlay",
              "size": 10,
              "solidity": 0.2
             }
            },
            "type": "histogram"
           }
          ],
          "scattergl": [
           {
            "marker": {
             "line": {
              "color": "#283442"
             }
            },
            "type": "scattergl"
           }
          ],
          "scatter3d": [
           {
            "type": "scatter3d",
            "line": {
             "colorbar": {
              "outlinewidth": 0,
              "ticks": ""
             }
            },
            "marker": {
             "colorbar": {
              "outlinewidth": 0,
              "ticks": ""
             }
            }
           }
          ],
          "scattermapbox": [
           {
            "type": "scattermapbox",
            "marker": {
             "colorbar": {
              "outlinewidth": 0,
              "ticks": ""
             }
            }
           }
          ],
          "scatterternary": [
           {
            "type": "scatterternary",
            "marker": {
             "colorbar": {
              "outlinewidth": 0,
              "ticks": ""
             }
            }
           }
          ],
          "scattercarpet": [
           {
            "type": "scattercarpet",
            "marker": {
             "colorbar": {
              "outlinewidth": 0,
              "ticks": ""
             }
            }
           }
          ],
          "carpet": [
           {
            "aaxis": {
             "endlinecolor": "#A2B1C6",
             "gridcolor": "#506784",
             "linecolor": "#506784",
             "minorgridcolor": "#506784",
             "startlinecolor": "#A2B1C6"
            },
            "baxis": {
             "endlinecolor": "#A2B1C6",
             "gridcolor": "#506784",
             "linecolor": "#506784",
             "minorgridcolor": "#506784",
             "startlinecolor": "#A2B1C6"
            },
            "type": "carpet"
           }
          ],
          "table": [
           {
            "cells": {
             "fill": {
              "color": "#506784"
             },
             "line": {
              "color": "rgb(17,17,17)"
             }
            },
            "header": {
             "fill": {
              "color": "#2a3f5f"
             },
             "line": {
              "color": "rgb(17,17,17)"
             }
            },
            "type": "table"
           }
          ],
          "barpolar": [
           {
            "marker": {
             "line": {
              "color": "rgb(17,17,17)",
              "width": 0.5
             },
             "pattern": {
              "fillmode": "overlay",
              "size": 10,
              "solidity": 0.2
             }
            },
            "type": "barpolar"
           }
          ],
          "pie": [
           {
            "automargin": true,
            "type": "pie"
           }
          ]
         },
         "layout": {
          "autotypenumbers": "strict",
          "colorway": [
           "#636efa",
           "#EF553B",
           "#00cc96",
           "#ab63fa",
           "#FFA15A",
           "#19d3f3",
           "#FF6692",
           "#B6E880",
           "#FF97FF",
           "#FECB52"
          ],
          "font": {
           "color": "#f2f5fa"
          },
          "hovermode": "closest",
          "hoverlabel": {
           "align": "left"
          },
          "paper_bgcolor": "rgb(17,17,17)",
          "plot_bgcolor": "rgb(17,17,17)",
          "polar": {
           "bgcolor": "rgb(17,17,17)",
           "angularaxis": {
            "gridcolor": "#506784",
            "linecolor": "#506784",
            "ticks": ""
           },
           "radialaxis": {
            "gridcolor": "#506784",
            "linecolor": "#506784",
            "ticks": ""
           }
          },
          "ternary": {
           "bgcolor": "rgb(17,17,17)",
           "aaxis": {
            "gridcolor": "#506784",
            "linecolor": "#506784",
            "ticks": ""
           },
           "baxis": {
            "gridcolor": "#506784",
            "linecolor": "#506784",
            "ticks": ""
           },
           "caxis": {
            "gridcolor": "#506784",
            "linecolor": "#506784",
            "ticks": ""
           }
          },
          "coloraxis": {
           "colorbar": {
            "outlinewidth": 0,
            "ticks": ""
           }
          },
          "colorscale": {
           "sequential": [
            [
             0.0,
             "#0d0887"
            ],
            [
             0.1111111111111111,
             "#46039f"
            ],
            [
             0.2222222222222222,
             "#7201a8"
            ],
            [
             0.3333333333333333,
             "#9c179e"
            ],
            [
             0.4444444444444444,
             "#bd3786"
            ],
            [
             0.5555555555555556,
             "#d8576b"
            ],
            [
             0.6666666666666666,
             "#ed7953"
            ],
            [
             0.7777777777777778,
             "#fb9f3a"
            ],
            [
             0.8888888888888888,
             "#fdca26"
            ],
            [
             1.0,
             "#f0f921"
            ]
           ],
           "sequentialminus": [
            [
             0.0,
             "#0d0887"
            ],
            [
             0.1111111111111111,
             "#46039f"
            ],
            [
             0.2222222222222222,
             "#7201a8"
            ],
            [
             0.3333333333333333,
             "#9c179e"
            ],
            [
             0.4444444444444444,
             "#bd3786"
            ],
            [
             0.5555555555555556,
             "#d8576b"
            ],
            [
             0.6666666666666666,
             "#ed7953"
            ],
            [
             0.7777777777777778,
             "#fb9f3a"
            ],
            [
             0.8888888888888888,
             "#fdca26"
            ],
            [
             1.0,
             "#f0f921"
            ]
           ],
           "diverging": [
            [
             0,
             "#8e0152"
            ],
            [
             0.1,
             "#c51b7d"
            ],
            [
             0.2,
             "#de77ae"
            ],
            [
             0.3,
             "#f1b6da"
            ],
            [
             0.4,
             "#fde0ef"
            ],
            [
             0.5,
             "#f7f7f7"
            ],
            [
             0.6,
             "#e6f5d0"
            ],
            [
             0.7,
             "#b8e186"
            ],
            [
             0.8,
             "#7fbc41"
            ],
            [
             0.9,
             "#4d9221"
            ],
            [
             1,
             "#276419"
            ]
           ]
          },
          "xaxis": {
           "gridcolor": "#283442",
           "linecolor": "#506784",
           "ticks": "",
           "title": {
            "standoff": 15
           },
           "zerolinecolor": "#283442",
           "automargin": true,
           "zerolinewidth": 2
          },
          "yaxis": {
           "gridcolor": "#283442",
           "linecolor": "#506784",
           "ticks": "",
           "title": {
            "standoff": 15
           },
           "zerolinecolor": "#283442",
           "automargin": true,
           "zerolinewidth": 2
          },
          "scene": {
           "xaxis": {
            "backgroundcolor": "rgb(17,17,17)",
            "gridcolor": "#506784",
            "linecolor": "#506784",
            "showbackground": true,
            "ticks": "",
            "zerolinecolor": "#C8D4E3",
            "gridwidth": 2
           },
           "yaxis": {
            "backgroundcolor": "rgb(17,17,17)",
            "gridcolor": "#506784",
            "linecolor": "#506784",
            "showbackground": true,
            "ticks": "",
            "zerolinecolor": "#C8D4E3",
            "gridwidth": 2
           },
           "zaxis": {
            "backgroundcolor": "rgb(17,17,17)",
            "gridcolor": "#506784",
            "linecolor": "#506784",
            "showbackground": true,
            "ticks": "",
            "zerolinecolor": "#C8D4E3",
            "gridwidth": 2
           }
          },
          "shapedefaults": {
           "line": {
            "color": "#f2f5fa"
           }
          },
          "annotationdefaults": {
           "arrowcolor": "#f2f5fa",
           "arrowhead": 0,
           "arrowwidth": 1
          },
          "geo": {
           "bgcolor": "rgb(17,17,17)",
           "landcolor": "rgb(17,17,17)",
           "subunitcolor": "#506784",
           "showland": true,
           "showlakes": true,
           "lakecolor": "rgb(17,17,17)"
          },
          "title": {
           "x": 0.05
          },
          "updatemenudefaults": {
           "bgcolor": "#506784",
           "borderwidth": 0
          },
          "sliderdefaults": {
           "bgcolor": "#C8D4E3",
           "borderwidth": 1,
           "bordercolor": "rgb(17,17,17)",
           "tickwidth": 0
          },
          "mapbox": {
           "style": "dark"
          }
         }
        },
        "legend": {
         "tracegroupgap": 0
        },
        "margin": {
         "t": 60
        },
        "font": {
         "color": "black"
        },
        "paper_bgcolor": "white",
        "plot_bgcolor": "white"
       },
       "config": {
        "plotlyServerURL": "https://plot.ly"
       }
      },
      "text/html": "<div>                            <div id=\"c8e24868-8703-4a2e-9cfd-3b64797261b6\" class=\"plotly-graph-div\" style=\"height:525px; width:100%;\"></div>            <script type=\"text/javascript\">                require([\"plotly\"], function(Plotly) {                    window.PLOTLYENV=window.PLOTLYENV || {};                                    if (document.getElementById(\"c8e24868-8703-4a2e-9cfd-3b64797261b6\")) {                    Plotly.newPlot(                        \"c8e24868-8703-4a2e-9cfd-3b64797261b6\",                        [{\"domain\":{\"x\":[0.0,1.0],\"y\":[0.0,1.0]},\"hovertemplate\":\"label=%{label}<br>value=%{value}<extra></extra>\",\"labels\":[\"Czech Republic\",\"Italy\"],\"legendgroup\":\"\",\"name\":\"\",\"showlegend\":true,\"values\":[18.8,17.1],\"type\":\"pie\",\"marker\":{\"line\":{\"color\":\"black\",\"width\":1},\"colors\":[\"lightgrey\",\"crimson\"]},\"hole\":0.5,\"textinfo\":\"text+value\"}],                        {\"template\":{\"data\":{\"histogram2dcontour\":[{\"type\":\"histogram2dcontour\",\"colorbar\":{\"outlinewidth\":0,\"ticks\":\"\"},\"colorscale\":[[0.0,\"#0d0887\"],[0.1111111111111111,\"#46039f\"],[0.2222222222222222,\"#7201a8\"],[0.3333333333333333,\"#9c179e\"],[0.4444444444444444,\"#bd3786\"],[0.5555555555555556,\"#d8576b\"],[0.6666666666666666,\"#ed7953\"],[0.7777777777777778,\"#fb9f3a\"],[0.8888888888888888,\"#fdca26\"],[1.0,\"#f0f921\"]]}],\"choropleth\":[{\"type\":\"choropleth\",\"colorbar\":{\"outlinewidth\":0,\"ticks\":\"\"}}],\"histogram2d\":[{\"type\":\"histogram2d\",\"colorbar\":{\"outlinewidth\":0,\"ticks\":\"\"},\"colorscale\":[[0.0,\"#0d0887\"],[0.1111111111111111,\"#46039f\"],[0.2222222222222222,\"#7201a8\"],[0.3333333333333333,\"#9c179e\"],[0.4444444444444444,\"#bd3786\"],[0.5555555555555556,\"#d8576b\"],[0.6666666666666666,\"#ed7953\"],[0.7777777777777778,\"#fb9f3a\"],[0.8888888888888888,\"#fdca26\"],[1.0,\"#f0f921\"]]}],\"heatmap\":[{\"type\":\"heatmap\",\"colorbar\":{\"outlinewidth\":0,\"ticks\":\"\"},\"colorscale\":[[0.0,\"#0d0887\"],[0.1111111111111111,\"#46039f\"],[0.2222222222222222,\"#7201a8\"],[0.3333333333333333,\"#9c179e\"],[0.4444444444444444,\"#bd3786\"],[0.5555555555555556,\"#d8576b\"],[0.6666666666666666,\"#ed7953\"],[0.7777777777777778,\"#fb9f3a\"],[0.8888888888888888,\"#fdca26\"],[1.0,\"#f0f921\"]]}],\"heatmapgl\":[{\"type\":\"heatmapgl\",\"colorbar\":{\"outlinewidth\":0,\"ticks\":\"\"},\"colorscale\":[[0.0,\"#0d0887\"],[0.1111111111111111,\"#46039f\"],[0.2222222222222222,\"#7201a8\"],[0.3333333333333333,\"#9c179e\"],[0.4444444444444444,\"#bd3786\"],[0.5555555555555556,\"#d8576b\"],[0.6666666666666666,\"#ed7953\"],[0.7777777777777778,\"#fb9f3a\"],[0.8888888888888888,\"#fdca26\"],[1.0,\"#f0f921\"]]}],\"contourcarpet\":[{\"type\":\"contourcarpet\",\"colorbar\":{\"outlinewidth\":0,\"ticks\":\"\"}}],\"contour\":[{\"type\":\"contour\",\"colorbar\":{\"outlinewidth\":0,\"ticks\":\"\"},\"colorscale\":[[0.0,\"#0d0887\"],[0.1111111111111111,\"#46039f\"],[0.2222222222222222,\"#7201a8\"],[0.3333333333333333,\"#9c179e\"],[0.4444444444444444,\"#bd3786\"],[0.5555555555555556,\"#d8576b\"],[0.6666666666666666,\"#ed7953\"],[0.7777777777777778,\"#fb9f3a\"],[0.8888888888888888,\"#fdca26\"],[1.0,\"#f0f921\"]]}],\"surface\":[{\"type\":\"surface\",\"colorbar\":{\"outlinewidth\":0,\"ticks\":\"\"},\"colorscale\":[[0.0,\"#0d0887\"],[0.1111111111111111,\"#46039f\"],[0.2222222222222222,\"#7201a8\"],[0.3333333333333333,\"#9c179e\"],[0.4444444444444444,\"#bd3786\"],[0.5555555555555556,\"#d8576b\"],[0.6666666666666666,\"#ed7953\"],[0.7777777777777778,\"#fb9f3a\"],[0.8888888888888888,\"#fdca26\"],[1.0,\"#f0f921\"]]}],\"mesh3d\":[{\"type\":\"mesh3d\",\"colorbar\":{\"outlinewidth\":0,\"ticks\":\"\"}}],\"scatter\":[{\"marker\":{\"line\":{\"color\":\"#283442\"}},\"type\":\"scatter\"}],\"parcoords\":[{\"type\":\"parcoords\",\"line\":{\"colorbar\":{\"outlinewidth\":0,\"ticks\":\"\"}}}],\"scatterpolargl\":[{\"type\":\"scatterpolargl\",\"marker\":{\"colorbar\":{\"outlinewidth\":0,\"ticks\":\"\"}}}],\"bar\":[{\"error_x\":{\"color\":\"#f2f5fa\"},\"error_y\":{\"color\":\"#f2f5fa\"},\"marker\":{\"line\":{\"color\":\"rgb(17,17,17)\",\"width\":0.5},\"pattern\":{\"fillmode\":\"overlay\",\"size\":10,\"solidity\":0.2}},\"type\":\"bar\"}],\"scattergeo\":[{\"type\":\"scattergeo\",\"marker\":{\"colorbar\":{\"outlinewidth\":0,\"ticks\":\"\"}}}],\"scatterpolar\":[{\"type\":\"scatterpolar\",\"marker\":{\"colorbar\":{\"outlinewidth\":0,\"ticks\":\"\"}}}],\"histogram\":[{\"marker\":{\"pattern\":{\"fillmode\":\"overlay\",\"size\":10,\"solidity\":0.2}},\"type\":\"histogram\"}],\"scattergl\":[{\"marker\":{\"line\":{\"color\":\"#283442\"}},\"type\":\"scattergl\"}],\"scatter3d\":[{\"type\":\"scatter3d\",\"line\":{\"colorbar\":{\"outlinewidth\":0,\"ticks\":\"\"}},\"marker\":{\"colorbar\":{\"outlinewidth\":0,\"ticks\":\"\"}}}],\"scattermapbox\":[{\"type\":\"scattermapbox\",\"marker\":{\"colorbar\":{\"outlinewidth\":0,\"ticks\":\"\"}}}],\"scatterternary\":[{\"type\":\"scatterternary\",\"marker\":{\"colorbar\":{\"outlinewidth\":0,\"ticks\":\"\"}}}],\"scattercarpet\":[{\"type\":\"scattercarpet\",\"marker\":{\"colorbar\":{\"outlinewidth\":0,\"ticks\":\"\"}}}],\"carpet\":[{\"aaxis\":{\"endlinecolor\":\"#A2B1C6\",\"gridcolor\":\"#506784\",\"linecolor\":\"#506784\",\"minorgridcolor\":\"#506784\",\"startlinecolor\":\"#A2B1C6\"},\"baxis\":{\"endlinecolor\":\"#A2B1C6\",\"gridcolor\":\"#506784\",\"linecolor\":\"#506784\",\"minorgridcolor\":\"#506784\",\"startlinecolor\":\"#A2B1C6\"},\"type\":\"carpet\"}],\"table\":[{\"cells\":{\"fill\":{\"color\":\"#506784\"},\"line\":{\"color\":\"rgb(17,17,17)\"}},\"header\":{\"fill\":{\"color\":\"#2a3f5f\"},\"line\":{\"color\":\"rgb(17,17,17)\"}},\"type\":\"table\"}],\"barpolar\":[{\"marker\":{\"line\":{\"color\":\"rgb(17,17,17)\",\"width\":0.5},\"pattern\":{\"fillmode\":\"overlay\",\"size\":10,\"solidity\":0.2}},\"type\":\"barpolar\"}],\"pie\":[{\"automargin\":true,\"type\":\"pie\"}]},\"layout\":{\"autotypenumbers\":\"strict\",\"colorway\":[\"#636efa\",\"#EF553B\",\"#00cc96\",\"#ab63fa\",\"#FFA15A\",\"#19d3f3\",\"#FF6692\",\"#B6E880\",\"#FF97FF\",\"#FECB52\"],\"font\":{\"color\":\"#f2f5fa\"},\"hovermode\":\"closest\",\"hoverlabel\":{\"align\":\"left\"},\"paper_bgcolor\":\"rgb(17,17,17)\",\"plot_bgcolor\":\"rgb(17,17,17)\",\"polar\":{\"bgcolor\":\"rgb(17,17,17)\",\"angularaxis\":{\"gridcolor\":\"#506784\",\"linecolor\":\"#506784\",\"ticks\":\"\"},\"radialaxis\":{\"gridcolor\":\"#506784\",\"linecolor\":\"#506784\",\"ticks\":\"\"}},\"ternary\":{\"bgcolor\":\"rgb(17,17,17)\",\"aaxis\":{\"gridcolor\":\"#506784\",\"linecolor\":\"#506784\",\"ticks\":\"\"},\"baxis\":{\"gridcolor\":\"#506784\",\"linecolor\":\"#506784\",\"ticks\":\"\"},\"caxis\":{\"gridcolor\":\"#506784\",\"linecolor\":\"#506784\",\"ticks\":\"\"}},\"coloraxis\":{\"colorbar\":{\"outlinewidth\":0,\"ticks\":\"\"}},\"colorscale\":{\"sequential\":[[0.0,\"#0d0887\"],[0.1111111111111111,\"#46039f\"],[0.2222222222222222,\"#7201a8\"],[0.3333333333333333,\"#9c179e\"],[0.4444444444444444,\"#bd3786\"],[0.5555555555555556,\"#d8576b\"],[0.6666666666666666,\"#ed7953\"],[0.7777777777777778,\"#fb9f3a\"],[0.8888888888888888,\"#fdca26\"],[1.0,\"#f0f921\"]],\"sequentialminus\":[[0.0,\"#0d0887\"],[0.1111111111111111,\"#46039f\"],[0.2222222222222222,\"#7201a8\"],[0.3333333333333333,\"#9c179e\"],[0.4444444444444444,\"#bd3786\"],[0.5555555555555556,\"#d8576b\"],[0.6666666666666666,\"#ed7953\"],[0.7777777777777778,\"#fb9f3a\"],[0.8888888888888888,\"#fdca26\"],[1.0,\"#f0f921\"]],\"diverging\":[[0,\"#8e0152\"],[0.1,\"#c51b7d\"],[0.2,\"#de77ae\"],[0.3,\"#f1b6da\"],[0.4,\"#fde0ef\"],[0.5,\"#f7f7f7\"],[0.6,\"#e6f5d0\"],[0.7,\"#b8e186\"],[0.8,\"#7fbc41\"],[0.9,\"#4d9221\"],[1,\"#276419\"]]},\"xaxis\":{\"gridcolor\":\"#283442\",\"linecolor\":\"#506784\",\"ticks\":\"\",\"title\":{\"standoff\":15},\"zerolinecolor\":\"#283442\",\"automargin\":true,\"zerolinewidth\":2},\"yaxis\":{\"gridcolor\":\"#283442\",\"linecolor\":\"#506784\",\"ticks\":\"\",\"title\":{\"standoff\":15},\"zerolinecolor\":\"#283442\",\"automargin\":true,\"zerolinewidth\":2},\"scene\":{\"xaxis\":{\"backgroundcolor\":\"rgb(17,17,17)\",\"gridcolor\":\"#506784\",\"linecolor\":\"#506784\",\"showbackground\":true,\"ticks\":\"\",\"zerolinecolor\":\"#C8D4E3\",\"gridwidth\":2},\"yaxis\":{\"backgroundcolor\":\"rgb(17,17,17)\",\"gridcolor\":\"#506784\",\"linecolor\":\"#506784\",\"showbackground\":true,\"ticks\":\"\",\"zerolinecolor\":\"#C8D4E3\",\"gridwidth\":2},\"zaxis\":{\"backgroundcolor\":\"rgb(17,17,17)\",\"gridcolor\":\"#506784\",\"linecolor\":\"#506784\",\"showbackground\":true,\"ticks\":\"\",\"zerolinecolor\":\"#C8D4E3\",\"gridwidth\":2}},\"shapedefaults\":{\"line\":{\"color\":\"#f2f5fa\"}},\"annotationdefaults\":{\"arrowcolor\":\"#f2f5fa\",\"arrowhead\":0,\"arrowwidth\":1},\"geo\":{\"bgcolor\":\"rgb(17,17,17)\",\"landcolor\":\"rgb(17,17,17)\",\"subunitcolor\":\"#506784\",\"showland\":true,\"showlakes\":true,\"lakecolor\":\"rgb(17,17,17)\"},\"title\":{\"x\":0.05},\"updatemenudefaults\":{\"bgcolor\":\"#506784\",\"borderwidth\":0},\"sliderdefaults\":{\"bgcolor\":\"#C8D4E3\",\"borderwidth\":1,\"bordercolor\":\"rgb(17,17,17)\",\"tickwidth\":0},\"mapbox\":{\"style\":\"dark\"}}},\"legend\":{\"tracegroupgap\":0},\"margin\":{\"t\":60},\"font\":{\"color\":\"black\"},\"paper_bgcolor\":\"white\",\"plot_bgcolor\":\"white\"},                        {\"responsive\": true}                    ).then(function(){\n                            \nvar gd = document.getElementById('c8e24868-8703-4a2e-9cfd-3b64797261b6');\nvar x = new MutationObserver(function (mutations, observer) {{\n        var display = window.getComputedStyle(gd).display;\n        if (!display || display === 'none') {{\n            console.log([gd, 'removed!']);\n            Plotly.purge(gd);\n            observer.disconnect();\n        }}\n}});\n\n// Listen for the removal of the full notebook cells\nvar notebookContainer = gd.closest('#notebook-container');\nif (notebookContainer) {{\n    x.observe(notebookContainer, {childList: true});\n}}\n\n// Listen for the clearing of the current output cell\nvar outputEl = gd.closest('.output');\nif (outputEl) {{\n    x.observe(outputEl, {childList: true});\n}}\n\n                        })                };                });            </script>        </div>"
     },
     "metadata": {},
     "output_type": "display_data"
    }
   ],
   "source": [
    "value = [18.8, 17.1]\n",
    "fig = px.pie(values=value, names=['Czech Republic','Italy'])\n",
    "fig.update_traces(\n",
    "    hole=.5, marker_colors=['lightgrey', 'crimson'],\n",
    "    textinfo = 'text + value', marker_line_color= \"black\",marker_line_width = 1\n",
    ")\n",
    "\n",
    "fig.update_layout(\n",
    "    paper_bgcolor='white',  plot_bgcolor='white', font=dict(color='black')\n",
    ")\n",
    "\n",
    "fig.show()"
   ],
   "metadata": {
    "collapsed": false
   }
  },
  {
   "cell_type": "code",
   "execution_count": 87,
   "outputs": [
    {
     "data": {
      "text/plain": "Index(['Unnamed: 0.1', 'Unnamed: 0', 'eventType', 'outcome', 'cross',\n       'keyPass', 'assist', 'subEventType', 'bodyPart', 'xG', 'eventTypes',\n       'eventId', 'eventPeriod', 'eventTime', 'teamId', 'playerId', 'x', 'y',\n       'relativeEvent_eventId', 'relativeEvent_playerId', 'relativeEvent_x',\n       'relativeEvent_y', 'ballPosition_x', 'ballPosition_y', 'playerName',\n       'playerLastName', 'time_sec', 'time_min', 'relative_real_x',\n       'relative_real_y', 'real_x', 'real_y', 'passDistance', 'passAngle',\n       'Angle', 'Distance', 'teamName', 'Name'],\n      dtype='object')"
     },
     "execution_count": 87,
     "metadata": {},
     "output_type": "execute_result"
    }
   ],
   "source": [
    "df.keys()"
   ],
   "metadata": {
    "collapsed": false
   }
  },
  {
   "cell_type": "code",
   "execution_count": 105,
   "outputs": [
    {
     "data": {
      "text/plain": "<Figure size 640x480 with 1 Axes>",
      "image/png": "[encoded data removed]"
     },
     "metadata": {},
     "output_type": "display_data"
    }
   ],
   "source": [
    "# 패스 길이 별 시각화\n",
    "\n",
    "pitch = VerticalPitch(pitch_type='uefa', pitch_length=105, pitch_width=68,\n",
    "              axis=False, label=False, corner_arcs=True,\n",
    "              pitch_color='white', line_color='black', linewidth=1)\n",
    "\n",
    "fig, ax = pitch.draw()\n",
    "\n",
    "for _,rec in df.iterrows():\n",
    "    if rec['Distance'] == 'short' and rec['teamName'] == 'Czech':\n",
    "        # pass type\n",
    "        if rec['outcome'] == 'Successful':\n",
    "            ax.scatter(\n",
    "                rec['real_x'], rec['real_y'], s=15, c='lightgrey'\n",
    "            )\n",
    "            ax.scatter(\n",
    "                rec['relative_real_x'], rec['relative_real_y'], s=15, c='crimson'\n",
    "            )\n",
    "            ax.plot([rec['real_x'], rec['relative_real_x']],\n",
    "                    [rec['real_y'], rec['relative_real_y']],\n",
    "                    color='lightgrey', linestyle='--', alpha=0.5)\n",
    "        elif rec['outcome'] == 'Unsuccessful' :\n",
    "            ax.scatter(\n",
    "                rec['real_x'], rec['real_y'], s=15, c='lightgrey'\n",
    "            )\n",
    "            ax.scatter(\n",
    "                rec['relative_real_x'], rec['relative_real_y'], s=15, c='darkolivegreen'\n",
    "            )\n",
    "            ax.plot([rec['real_x'], rec['relative_real_x']],\n",
    "                    [rec['real_y'], rec['relative_real_y']],\n",
    "                    color='lightgrey', linestyle='--', alpha=0.5)\n",
    "\n",
    "#plt.savefig('Italy_longpass.png')\n",
    "#plt.savefig('Czech_longpass.png')\n",
    "#plt.savefig('Italy_midpass.png')\n",
    "#plt.savefig('Czech_midpass.png')\n",
    "#plt.savefig('Italy_shortpass.png')\n",
    "#plt.savefig('Czech_shortpass.png')"
   ],
   "metadata": {
    "collapsed": false
   }
  },
  {
   "cell_type": "code",
   "execution_count": null,
   "outputs": [],
   "source": [],
   "metadata": {
    "collapsed": false
   }
  }
 ],
 "metadata": {
  "kernelspec": {
   "display_name": "Python 3",
   "language": "python",
   "name": "python3"
  },
  "language_info": {
   "codemirror_mode": {
    "name": "ipython",
    "version": 2
   },
   "file_extension": ".py",
   "mimetype": "text/x-python",
   "name": "python",
   "nbconvert_exporter": "python",
   "pygments_lexer": "ipython2",
   "version": "2.7.6"
  }
 },
 "nbformat": 4,
 "nbformat_minor": 0
}
